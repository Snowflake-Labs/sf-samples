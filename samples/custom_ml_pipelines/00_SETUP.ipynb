{
 "cells": [
  {
   "cell_type": "markdown",
   "id": "f47c1e8d-f9e5-4911-b2aa-f220e0006461",
   "metadata": {},
   "source": [
    "## Set Up Notebook: \n",
    "\n",
    "Run this notebook first to set up the datasets you'll require for the `01_Custom_Preprocessing_Pipeline.ipynb` notebook. "
   ]
  },
  {
   "cell_type": "code",
   "execution_count": 1,
   "id": "7fd52efc-049b-4f91-95d3-f00aeab1b218",
   "metadata": {},
   "outputs": [],
   "source": [
    "#Imports: \n",
    "import json\n",
    "import pandas as pd\n",
    "import numpy as np\n",
    "\n",
    "#Snowflake Imports: \n",
    "from snowflake.snowpark import Session"
   ]
  },
  {
   "cell_type": "code",
   "execution_count": 2,
   "id": "3221010c-80e7-455c-83b0-9c414c76cc44",
   "metadata": {},
   "outputs": [
    {
     "data": {
      "text/plain": [
       "[Row(status='Statement executed successfully.')]"
      ]
     },
     "execution_count": 2,
     "metadata": {},
     "output_type": "execute_result"
    }
   ],
   "source": [
    "#Authenticate to Snowflake, here using a local json file with credentials:\n",
    "conn_params = json.load(open('/Users/hapatel/.config/creds.json'))\n",
    "session = Session.builder.configs(conn_params).create()\n",
    "\n",
    "#Use the appropriate database context (I have created my own Database/Schema ahead of time, this may look different compared to yours)\n",
    "session.sql('USE ROLE ML_ENGINEER').collect()\n",
    "session.sql('USE WAREHOUSE TEST').collect()\n",
    "session.sql('USE DATABASE DEMO').collect()\n",
    "session.sql('USE SCHEMA CUSTOMER_EXAMPLES').collect()"
   ]
  },
  {
   "cell_type": "markdown",
   "id": "60d1949d-fb2a-4aa7-8e4a-de4328dc0c19",
   "metadata": {},
   "source": [
    "### Setup Dataset:\n",
    "\n",
    "We will be making use of the [NYC Taxi Trip Dataset](https://www.nyc.gov/site/tlc/about/tlc-trip-record-data.page). Specificallly, we will be using a sample from January 2016 that records information around each taxi trip. The dataset has been included in this directory for you to be able to experiment with. "
   ]
  },
  {
   "cell_type": "code",
   "execution_count": 4,
   "id": "bfc02564-4a6f-4de4-9d44-52fb4c5e7a5f",
   "metadata": {},
   "outputs": [],
   "source": [
    "taxi_df = pd.read_csv('taxi_sample.csv')"
   ]
  },
  {
   "cell_type": "code",
   "execution_count": 5,
   "id": "641c829c-a34e-4607-88c9-afab33ee0be9",
   "metadata": {},
   "outputs": [
    {
     "data": {
      "text/html": [
       "<div>\n",
       "<style scoped>\n",
       "    .dataframe tbody tr th:only-of-type {\n",
       "        vertical-align: middle;\n",
       "    }\n",
       "\n",
       "    .dataframe tbody tr th {\n",
       "        vertical-align: top;\n",
       "    }\n",
       "\n",
       "    .dataframe thead th {\n",
       "        text-align: right;\n",
       "    }\n",
       "</style>\n",
       "<table border=\"1\" class=\"dataframe\">\n",
       "  <thead>\n",
       "    <tr style=\"text-align: right;\">\n",
       "      <th></th>\n",
       "      <th>VENDORID</th>\n",
       "      <th>PASSENGER_COUNT</th>\n",
       "      <th>TRIP_DISTANCE</th>\n",
       "      <th>RATECODEID</th>\n",
       "      <th>STORE_AND_FWD_FLAG</th>\n",
       "      <th>PULOCATIONID</th>\n",
       "      <th>DOLOCATIONID</th>\n",
       "      <th>PAYMENT_TYPE</th>\n",
       "      <th>FARE_AMOUNT</th>\n",
       "      <th>EXTRA</th>\n",
       "      <th>MTA_TAX</th>\n",
       "      <th>TIP_AMOUNT</th>\n",
       "      <th>TOLLS_AMOUNT</th>\n",
       "      <th>IMPROVEMENT_SURCHARGE</th>\n",
       "      <th>TOTAL_AMOUNT</th>\n",
       "      <th>CONGESTION_SURCHARGE</th>\n",
       "      <th>AIRPORT_FEE</th>\n",
       "      <th>TPEP_PICKUP_DATETIME</th>\n",
       "      <th>TPEP_DROPOFF_DATETIME</th>\n",
       "      <th>TRIP_ID</th>\n",
       "    </tr>\n",
       "  </thead>\n",
       "  <tbody>\n",
       "    <tr>\n",
       "      <th>0</th>\n",
       "      <td>1</td>\n",
       "      <td>1</td>\n",
       "      <td>3.2</td>\n",
       "      <td>1</td>\n",
       "      <td>N</td>\n",
       "      <td>48</td>\n",
       "      <td>262</td>\n",
       "      <td>1</td>\n",
       "      <td>14.0</td>\n",
       "      <td>0.5</td>\n",
       "      <td>0.5</td>\n",
       "      <td>3.06</td>\n",
       "      <td>0.0</td>\n",
       "      <td>0.3</td>\n",
       "      <td>18.36</td>\n",
       "      <td>NaN</td>\n",
       "      <td>NaN</td>\n",
       "      <td>2016-01-01 00:12:22</td>\n",
       "      <td>2016-01-01 00:29:14</td>\n",
       "      <td>0</td>\n",
       "    </tr>\n",
       "    <tr>\n",
       "      <th>1</th>\n",
       "      <td>1</td>\n",
       "      <td>2</td>\n",
       "      <td>1.0</td>\n",
       "      <td>1</td>\n",
       "      <td>N</td>\n",
       "      <td>162</td>\n",
       "      <td>48</td>\n",
       "      <td>2</td>\n",
       "      <td>9.5</td>\n",
       "      <td>0.5</td>\n",
       "      <td>0.5</td>\n",
       "      <td>0.00</td>\n",
       "      <td>0.0</td>\n",
       "      <td>0.3</td>\n",
       "      <td>10.80</td>\n",
       "      <td>NaN</td>\n",
       "      <td>NaN</td>\n",
       "      <td>2016-01-01 00:41:31</td>\n",
       "      <td>2016-01-01 00:55:10</td>\n",
       "      <td>1</td>\n",
       "    </tr>\n",
       "    <tr>\n",
       "      <th>2</th>\n",
       "      <td>1</td>\n",
       "      <td>1</td>\n",
       "      <td>0.9</td>\n",
       "      <td>1</td>\n",
       "      <td>N</td>\n",
       "      <td>246</td>\n",
       "      <td>90</td>\n",
       "      <td>2</td>\n",
       "      <td>6.0</td>\n",
       "      <td>0.5</td>\n",
       "      <td>0.5</td>\n",
       "      <td>0.00</td>\n",
       "      <td>0.0</td>\n",
       "      <td>0.3</td>\n",
       "      <td>7.30</td>\n",
       "      <td>NaN</td>\n",
       "      <td>NaN</td>\n",
       "      <td>2016-01-01 00:53:37</td>\n",
       "      <td>2016-01-01 00:59:57</td>\n",
       "      <td>2</td>\n",
       "    </tr>\n",
       "    <tr>\n",
       "      <th>3</th>\n",
       "      <td>1</td>\n",
       "      <td>1</td>\n",
       "      <td>0.8</td>\n",
       "      <td>1</td>\n",
       "      <td>N</td>\n",
       "      <td>170</td>\n",
       "      <td>162</td>\n",
       "      <td>2</td>\n",
       "      <td>5.0</td>\n",
       "      <td>0.5</td>\n",
       "      <td>0.5</td>\n",
       "      <td>0.00</td>\n",
       "      <td>0.0</td>\n",
       "      <td>0.3</td>\n",
       "      <td>6.30</td>\n",
       "      <td>NaN</td>\n",
       "      <td>NaN</td>\n",
       "      <td>2016-01-01 00:13:28</td>\n",
       "      <td>2016-01-01 00:18:07</td>\n",
       "      <td>3</td>\n",
       "    </tr>\n",
       "    <tr>\n",
       "      <th>4</th>\n",
       "      <td>1</td>\n",
       "      <td>1</td>\n",
       "      <td>1.8</td>\n",
       "      <td>1</td>\n",
       "      <td>N</td>\n",
       "      <td>161</td>\n",
       "      <td>140</td>\n",
       "      <td>2</td>\n",
       "      <td>11.0</td>\n",
       "      <td>0.5</td>\n",
       "      <td>0.5</td>\n",
       "      <td>0.00</td>\n",
       "      <td>0.0</td>\n",
       "      <td>0.3</td>\n",
       "      <td>12.30</td>\n",
       "      <td>NaN</td>\n",
       "      <td>NaN</td>\n",
       "      <td>2016-01-01 00:33:04</td>\n",
       "      <td>2016-01-01 00:47:14</td>\n",
       "      <td>4</td>\n",
       "    </tr>\n",
       "  </tbody>\n",
       "</table>\n",
       "</div>"
      ],
      "text/plain": [
       "   VENDORID  PASSENGER_COUNT  TRIP_DISTANCE  RATECODEID STORE_AND_FWD_FLAG  \\\n",
       "0         1                1            3.2           1                  N   \n",
       "1         1                2            1.0           1                  N   \n",
       "2         1                1            0.9           1                  N   \n",
       "3         1                1            0.8           1                  N   \n",
       "4         1                1            1.8           1                  N   \n",
       "\n",
       "   PULOCATIONID  DOLOCATIONID  PAYMENT_TYPE  FARE_AMOUNT  EXTRA  MTA_TAX  \\\n",
       "0            48           262             1         14.0    0.5      0.5   \n",
       "1           162            48             2          9.5    0.5      0.5   \n",
       "2           246            90             2          6.0    0.5      0.5   \n",
       "3           170           162             2          5.0    0.5      0.5   \n",
       "4           161           140             2         11.0    0.5      0.5   \n",
       "\n",
       "   TIP_AMOUNT  TOLLS_AMOUNT  IMPROVEMENT_SURCHARGE  TOTAL_AMOUNT  \\\n",
       "0        3.06           0.0                    0.3         18.36   \n",
       "1        0.00           0.0                    0.3         10.80   \n",
       "2        0.00           0.0                    0.3          7.30   \n",
       "3        0.00           0.0                    0.3          6.30   \n",
       "4        0.00           0.0                    0.3         12.30   \n",
       "\n",
       "   CONGESTION_SURCHARGE  AIRPORT_FEE TPEP_PICKUP_DATETIME  \\\n",
       "0                   NaN          NaN  2016-01-01 00:12:22   \n",
       "1                   NaN          NaN  2016-01-01 00:41:31   \n",
       "2                   NaN          NaN  2016-01-01 00:53:37   \n",
       "3                   NaN          NaN  2016-01-01 00:13:28   \n",
       "4                   NaN          NaN  2016-01-01 00:33:04   \n",
       "\n",
       "  TPEP_DROPOFF_DATETIME  TRIP_ID  \n",
       "0   2016-01-01 00:29:14        0  \n",
       "1   2016-01-01 00:55:10        1  \n",
       "2   2016-01-01 00:59:57        2  \n",
       "3   2016-01-01 00:18:07        3  \n",
       "4   2016-01-01 00:47:14        4  "
      ]
     },
     "execution_count": 5,
     "metadata": {},
     "output_type": "execute_result"
    }
   ],
   "source": [
    "taxi_df.head()"
   ]
  },
  {
   "cell_type": "code",
   "execution_count": 6,
   "id": "76cc282d-ea37-44f9-8815-efe82922d88f",
   "metadata": {},
   "outputs": [
    {
     "data": {
      "text/plain": [
       "VENDORID                   int64\n",
       "PASSENGER_COUNT            int64\n",
       "TRIP_DISTANCE            float64\n",
       "RATECODEID                 int64\n",
       "STORE_AND_FWD_FLAG        object\n",
       "PULOCATIONID               int64\n",
       "DOLOCATIONID               int64\n",
       "PAYMENT_TYPE               int64\n",
       "FARE_AMOUNT              float64\n",
       "EXTRA                    float64\n",
       "MTA_TAX                  float64\n",
       "TIP_AMOUNT               float64\n",
       "TOLLS_AMOUNT             float64\n",
       "IMPROVEMENT_SURCHARGE    float64\n",
       "TOTAL_AMOUNT             float64\n",
       "CONGESTION_SURCHARGE     float64\n",
       "AIRPORT_FEE              float64\n",
       "TPEP_PICKUP_DATETIME      object\n",
       "TPEP_DROPOFF_DATETIME     object\n",
       "TRIP_ID                    int64\n",
       "dtype: object"
      ]
     },
     "execution_count": 6,
     "metadata": {},
     "output_type": "execute_result"
    }
   ],
   "source": [
    "#confirm datatypes: \n",
    "taxi_df.dtypes"
   ]
  },
  {
   "cell_type": "markdown",
   "id": "231e78ec-597f-42d8-97f7-66e410b0d113",
   "metadata": {},
   "source": [
    "As seen above, each record details information around the pickup/dropoff time, the fare amount calculated by the meter, as well as the total amount charged to the customer. There are some additionally engineered features that measure the rolling averages of the fare amounts in the past 1/10 hours. For more details on the columns and what they mean, refer to the [data dictionary](https://www.nyc.gov/assets/tlc/downloads/pdf/data_dictionary_trip_records_yellow.pdf). \n",
    "\n",
    "We will load this dataset into a Snowflake Table to simulate a realistic example. "
   ]
  },
  {
   "cell_type": "code",
   "execution_count": 7,
   "id": "f5676b93-28e9-41ed-b686-4767a45e2de8",
   "metadata": {},
   "outputs": [
    {
     "data": {
      "text/plain": [
       "[Row(status='Table NYC_YELLOW_TRIPS successfully created.')]"
      ]
     },
     "execution_count": 7,
     "metadata": {},
     "output_type": "execute_result"
    }
   ],
   "source": [
    "#Create the table definition - REPLACE THE FULLY QUALIFIED PATH WITH YOUR OWN DATABASE/SCHEMA! \n",
    "session.sql(\"\"\"\n",
    "create or replace TABLE DEMO.CUSTOMER_EXAMPLES.NYC_YELLOW_TRIPS (\n",
    "\tVENDORID NUMBER(38,0),\n",
    "\tPASSENGER_COUNT NUMBER(38,0),\n",
    "\tTRIP_DISTANCE FLOAT,\n",
    "\tRATECODEID NUMBER(38,0),\n",
    "\tSTORE_AND_FWD_FLAG VARCHAR(16777216),\n",
    "\tPULOCATIONID NUMBER(38,0),\n",
    "\tDOLOCATIONID NUMBER(38,0),\n",
    "\tPAYMENT_TYPE NUMBER(38,0),\n",
    "\tFARE_AMOUNT FLOAT,\n",
    "\tEXTRA FLOAT,\n",
    "\tMTA_TAX FLOAT,\n",
    "\tTIP_AMOUNT FLOAT,\n",
    "\tTOLLS_AMOUNT FLOAT,\n",
    "\tIMPROVEMENT_SURCHARGE FLOAT,\n",
    "\tTOTAL_AMOUNT FLOAT,\n",
    "\tCONGESTION_SURCHARGE NUMBER(38,0),\n",
    "\tAIRPORT_FEE NUMBER(38,0),\n",
    "\tTPEP_PICKUP_DATETIME TIMESTAMP_NTZ(9),\n",
    "\tTPEP_DROPOFF_DATETIME TIMESTAMP_NTZ(9),\n",
    "\tTRIP_ID NUMBER(38,0) NOT NULL\n",
    ");\n",
    "\n",
    "\"\"\").collect()"
   ]
  },
  {
   "cell_type": "code",
   "execution_count": 8,
   "id": "fcd2e240-22da-4ea4-a1d6-79f7319a0370",
   "metadata": {},
   "outputs": [
    {
     "data": {
      "text/plain": [
       "<snowflake.snowpark.table.Table at 0x167f11810>"
      ]
     },
     "execution_count": 8,
     "metadata": {},
     "output_type": "execute_result"
    }
   ],
   "source": [
    "session.write_pandas(taxi_df, table_name = \"NYC_YELLOW_TRIPS\", database = \"DEMO\",\n",
    "                     schema = \"CUSTOMER_EXAMPLES\", quote_identifiers = False, \n",
    "                    overwrite = True)"
   ]
  },
  {
   "cell_type": "code",
   "execution_count": 9,
   "id": "f89a24e9-f5bd-41d2-91f9-8794d306229f",
   "metadata": {},
   "outputs": [
    {
     "name": "stdout",
     "output_type": "stream",
     "text": [
      "----------------------------------------------------------------------------------------------------------------------------------------------------------------------------------------------------------------------------------------------------------------------------------------------------------------------------------------------------------------------\n",
      "|\"VENDORID\"  |\"PASSENGER_COUNT\"  |\"TRIP_DISTANCE\"  |\"RATECODEID\"  |\"STORE_AND_FWD_FLAG\"  |\"PULOCATIONID\"  |\"DOLOCATIONID\"  |\"PAYMENT_TYPE\"  |\"FARE_AMOUNT\"  |\"EXTRA\"  |\"MTA_TAX\"  |\"TIP_AMOUNT\"  |\"TOLLS_AMOUNT\"  |\"IMPROVEMENT_SURCHARGE\"  |\"TOTAL_AMOUNT\"  |\"CONGESTION_SURCHARGE\"  |\"AIRPORT_FEE\"  |\"TPEP_PICKUP_DATETIME\"  |\"TPEP_DROPOFF_DATETIME\"  |\"TRIP_ID\"  |\n",
      "----------------------------------------------------------------------------------------------------------------------------------------------------------------------------------------------------------------------------------------------------------------------------------------------------------------------------------------------------------------------\n",
      "|1           |1                  |3.2              |1             |N                     |48              |262             |1               |14.0           |0.5      |0.5        |3.06          |0.0             |0.3                      |18.36           |NULL                    |NULL           |2016-01-01 00:12:22     |2016-01-01 00:29:14      |0          |\n",
      "|1           |2                  |1.0              |1             |N                     |162             |48              |2               |9.5            |0.5      |0.5        |0.0           |0.0             |0.3                      |10.8            |NULL                    |NULL           |2016-01-01 00:41:31     |2016-01-01 00:55:10      |1          |\n",
      "|1           |1                  |0.9              |1             |N                     |246             |90              |2               |6.0            |0.5      |0.5        |0.0           |0.0             |0.3                      |7.3             |NULL                    |NULL           |2016-01-01 00:53:37     |2016-01-01 00:59:57      |2          |\n",
      "|1           |1                  |0.8              |1             |N                     |170             |162             |2               |5.0            |0.5      |0.5        |0.0           |0.0             |0.3                      |6.3             |NULL                    |NULL           |2016-01-01 00:13:28     |2016-01-01 00:18:07      |3          |\n",
      "|1           |1                  |1.8              |1             |N                     |161             |140             |2               |11.0           |0.5      |0.5        |0.0           |0.0             |0.3                      |12.3            |NULL                    |NULL           |2016-01-01 00:33:04     |2016-01-01 00:47:14      |4          |\n",
      "|1           |1                  |2.3              |1             |N                     |141             |137             |1               |11.0           |0.5      |0.5        |2.45          |0.0             |0.3                      |14.75           |NULL                    |NULL           |2016-01-01 00:49:47     |2016-01-01 01:04:44      |5          |\n",
      "|1           |1                  |13.8             |1             |N                     |100             |53              |2               |43.0           |0.5      |0.5        |0.0           |0.0             |0.3                      |44.3            |NULL                    |NULL           |2016-01-01 00:41:58     |2016-01-01 01:22:06      |6          |\n",
      "|2           |5                  |3.46             |1             |N                     |48              |79              |2               |20.0           |0.5      |0.5        |0.0           |0.0             |0.3                      |21.3            |NULL                    |NULL           |2016-01-01 00:25:28     |2016-01-01 00:55:46      |7          |\n",
      "|2           |4                  |0.83             |1             |N                     |79              |107             |2               |5.5            |0.5      |0.5        |0.0           |0.0             |0.3                      |6.8             |NULL                    |NULL           |2016-01-01 00:56:57     |2016-01-01 01:02:24      |8          |\n",
      "|2           |1                  |0.87             |1             |N                     |164             |164             |2               |7.0            |0.5      |0.5        |0.0           |0.0             |0.3                      |8.3             |NULL                    |NULL           |2016-01-01 00:10:08     |2016-01-01 00:23:05      |9          |\n",
      "----------------------------------------------------------------------------------------------------------------------------------------------------------------------------------------------------------------------------------------------------------------------------------------------------------------------------------------------------------------------\n",
      "\n"
     ]
    }
   ],
   "source": [
    "taxi_sdf = session.table(\"nyc_yellow_trips\")\n",
    "taxi_sdf.show()"
   ]
  },
  {
   "cell_type": "code",
   "execution_count": null,
   "id": "2efefb87-0142-40a0-89eb-e04e48c77e1d",
   "metadata": {},
   "outputs": [],
   "source": []
  }
 ],
 "metadata": {
  "kernelspec": {
   "display_name": "Python 3 (ipykernel)",
   "language": "python",
   "name": "python3"
  },
  "language_info": {
   "codemirror_mode": {
    "name": "ipython",
    "version": 3
   },
   "file_extension": ".py",
   "mimetype": "text/x-python",
   "name": "python",
   "nbconvert_exporter": "python",
   "pygments_lexer": "ipython3",
   "version": "3.10.15"
  }
 },
 "nbformat": 4,
 "nbformat_minor": 5
}
