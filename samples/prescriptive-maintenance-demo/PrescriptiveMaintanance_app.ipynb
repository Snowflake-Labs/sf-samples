{
 "metadata": {
  "kernelspec": {
   "display_name": "Streamlit Notebook",
   "name": "streamlit"
  },
  "lastEditStatus": {
   "notebookId": "n7haaqc24msfl5h7bnlp",
   "authorId": "284292169989",
   "authorName": "ANTTI",
   "authorEmail": "antti.sirkka@snowflake.com",
   "sessionId": "17b946a8-027b-4521-b6b2-7f8874d85a3c",
   "lastEditTime": 1739268008874
  }
 },
 "nbformat_minor": 5,
 "nbformat": 4,
 "cells": [
  {
   "cell_type": "code",
   "id": "1b493086-f314-4511-beed-56b07b1bb6e7",
   "metadata": {
    "language": "sql",
    "name": "CreateDB",
    "resultHeight": 112,
    "collapsed": false
   },
   "outputs": [],
   "source": "CREATE OR REPLACE DATABASE PRESCRIPTIVE_MAINTANANCE;\n\nCREATE OR REPLACE STAGE PUMP_DOCUMENTATION ENCRYPTION = (TYPE = 'SNOWFLAKE_SSE');\n\nCREATE OR REPLACE WAREHOUSE CORTEX_SEARCH_WH WITH WAREHOUSE_SIZE='MEDIUM';",
   "execution_count": null
  },
  {
   "cell_type": "markdown",
   "id": "82b23cf1-377f-42cb-b869-46cb8231283e",
   "metadata": {
    "name": "CopyFiles",
    "collapsed": false
   },
   "source": "COPY Prescriptive Maintanance Files to the PRESCRIPTIVE_MAINTANANCE.PUBLIC.PUMP_DOCUMENTATION Stage"
  },
  {
   "cell_type": "code",
   "id": "3775908f-ca36-4846-8f38-5adca39217f2",
   "metadata": {
    "language": "python",
    "name": "ImportPackages",
    "collapsed": false,
    "resultHeight": 0,
    "codeCollapsed": false
   },
   "source": "# Import python packages\nimport streamlit as st\nimport pandas as pd\nimport numpy as np\nimport pandas as pd\nimport altair as alt\n\n# We can also use Snowpark for our analyses!\nfrom snowflake.snowpark.context import get_active_session\nsession = get_active_session()",
   "execution_count": null,
   "outputs": []
  },
  {
   "cell_type": "code",
   "id": "9d28fe67-5f2d-4448-8dcd-aa5b848e0689",
   "metadata": {
    "language": "sql",
    "name": "CreatePLMData",
    "collapsed": false,
    "codeCollapsed": false
   },
   "outputs": [],
   "source": "CREATE OR REPLACE TABLE PRESCRIPTIVE_MAINTANANCE.PUBLIC.PLM_DATA (\n  EQUIPMENT_ID integer, \n  PUMP_TYPE VARCHAR,\n  SERIAL_NUMBER VARCHAR,\n  INSTALLATION_LOCATION VARCHAR,\n  CUSTOMER_NAME VARCHAR);\n\nINSERT INTO PRESCRIPTIVE_MAINTANANCE.PUBLIC.PLM_DATA \n   VALUES (\n    1,\n    'Centrifugal Pump',\n    'PMP-123456',\n    '123 Main Street, Anytown, USA', \n     'XYZ Manufacturing Inc.');",
   "execution_count": null
  },
  {
   "cell_type": "code",
   "id": "fe53039e-2b78-47b7-8183-894b4d8f7295",
   "metadata": {
    "language": "python",
    "name": "CreateIOTData",
    "collapsed": false,
    "resultHeight": 434,
    "codeCollapsed": false
   },
   "outputs": [],
   "source": "# Constants\nMINUTES_IN_TWO_DAYS = 1 * 24 * 60\nNORMAL_VIBRATION_RANGE = (60, 63)\nNORMAL_TEMPERATURE_RANGE = (90, 100)\n\n# Generate time series data\ntime_series = pd.date_range(start='2025-01-01', periods=MINUTES_IN_TWO_DAYS, freq='min')\n\n# Generate normal operation data\nvibration = np.random.uniform(NORMAL_VIBRATION_RANGE[0], NORMAL_VIBRATION_RANGE[1], MINUTES_IN_TWO_DAYS)\ntemperature = np.random.uniform(NORMAL_TEMPERATURE_RANGE[0], NORMAL_TEMPERATURE_RANGE[1], MINUTES_IN_TWO_DAYS)\n\n# Introduce gradual rise in vibration and temperature at the end of the second day\nrise_start_index = int(MINUTES_IN_TWO_DAYS * 0.7)  # Start rise at 90% of the time series\ntemp_rise_start_index = int(MINUTES_IN_TWO_DAYS * 0.9)  # Start rise at 90% of the time series\nrise_end_index = MINUTES_IN_TWO_DAYS\n\n# Gradual rise in vibration\nvibration[rise_start_index:rise_end_index] = np.linspace(\n    vibration[rise_start_index],\n    vibration[rise_start_index] + 10,\n    rise_end_index - rise_start_index\n) + np.random.normal(0, 1, rise_end_index - rise_start_index)\n\n# Gradual rise in temperature\ntemperature[temp_rise_start_index:rise_end_index] = np.linspace(\n    temperature[temp_rise_start_index],\n    temperature[temp_rise_start_index] + 6,\n    rise_end_index - temp_rise_start_index\n) + np.random.normal(0, 1, rise_end_index - temp_rise_start_index)\n\n# Create DataFrame\ndata = pd.DataFrame({\n    'Time': time_series,\n    'Vibration': vibration,\n    'Temperature': temperature\n})\n\na = alt.Chart(data).mark_line(opacity=1, color='blue').encode(\n    x='Time', y='Vibration')\n\nb = alt.Chart(data).mark_line(opacity=1, color='red').encode(\n    x='Time', y='Temperature')\n\nc = alt.layer(a,b)\n\nst.header(\"Vibration value from the process\")\nst.altair_chart(c, use_container_width=True)\n\n# Plot the data\n\n#font = {'family' : 'normal',\n#        'weight' : 'normal',\n#        'size'   : 6}\n#\n#plt.rc('font', **font)\n#\n#plt.figure(figsize=(6, 3))\n#plt.plot(data['Time'], data['Vibration'], label='Vibration')\n#plt.plot(data['Time'], data['Temperature'], label='Temperature')\n#plt.xlabel('Time')\n#plt.ylabel('Values')\n#plt.title('Pump Vibration and Temperature')\n#plt.legend()\n#plt.show()",
   "execution_count": null
  },
  {
   "cell_type": "code",
   "id": "803df28c-d178-4c2a-ada4-370a3238bb7e",
   "metadata": {
    "language": "python",
    "name": "SaveDataToSnowflake",
    "codeCollapsed": false,
    "collapsed": false,
    "resultHeight": 439
   },
   "outputs": [],
   "source": "session.write_pandas(data, \"IOT_DATA\", auto_create_table=True, use_logical_type=True, overwrite=True)",
   "execution_count": null
  },
  {
   "cell_type": "code",
   "id": "1c627581-c720-4ff8-af2d-e001f1f270ef",
   "metadata": {
    "language": "sql",
    "name": "CreateTrainingAndInferenceViews",
    "codeCollapsed": false,
    "resultHeight": 112,
    "collapsed": false
   },
   "outputs": [],
   "source": "CREATE OR REPLACE VIEW PRESCRIPTIVE_MAINTANANCE.PUBLIC.TRAINING_DATA\nAS\nSELECT \"Time\" AS TIME, \"Vibration\" AS VIBRATION FROM IOT_DATA WHERE \"Time\" <= '2025-01-01 03:00:00';\n\nCREATE OR REPLACE VIEW PRESCRIPTIVE_MAINTANANCE.PUBLIC.INFERENCE_DATA\nAS\nSELECT \"Time\" AS TIME, \"Vibration\" AS VIBRATION FROM IOT_DATA WHERE \"Time\" > '2025-01-01 03:00:00';\n\nALTER WAREHOUSE DEV SET warehouse_size = MEDIUM;",
   "execution_count": null
  },
  {
   "cell_type": "markdown",
   "id": "cf6fe996-40ce-4ded-bcf7-27bee41d5218",
   "metadata": {
    "name": "SnowflakeMLVisu",
    "collapsed": false
   },
   "source": "![text](https://quickstarts.snowflake.com/guide/deploying_custom_models_to_snowflake_model_registry/img/cdfcb92c6d412c69.png)"
  },
  {
   "cell_type": "code",
   "id": "c63e4243-ec47-41d9-bad7-a7034d563572",
   "metadata": {
    "language": "sql",
    "name": "TrainADModel",
    "codeCollapsed": false,
    "resultHeight": 112,
    "collapsed": false
   },
   "outputs": [],
   "source": "CREATE OR REPLACE SNOWFLAKE.ML.ANOMALY_DETECTION vibration_anomaly_prescriptive_maintanance(\n  INPUT_DATA => TABLE(PRESCRIPTIVE_MAINTANANCE.PUBLIC.TRAINING_DATA),\n  TIMESTAMP_COLNAME => 'TIME',\n  TARGET_COLNAME => 'VIBRATION',\n  LABEL_COLNAME => '');",
   "execution_count": null
  },
  {
   "cell_type": "code",
   "id": "735854f9-3540-447b-9061-422e77bbfce8",
   "metadata": {
    "language": "sql",
    "name": "DetectAnomalies",
    "codeCollapsed": false,
    "collapsed": false,
    "resultHeight": 112
   },
   "outputs": [],
   "source": "CREATE OR REPLACE TABLE PRESCRIPTIVE_MAINTANANCE.PUBLIC.VIBRATION_ANOMALY AS\n  SELECT 1 as EQUIPMENT_ID, * FROM TABLE(vibration_anomaly_prescriptive_maintanance!DETECT_ANOMALIES(\n    INPUT_DATA => TABLE(PRESCRIPTIVE_MAINTANANCE.PUBLIC.INFERENCE_DATA),\n    TIMESTAMP_COLNAME => 'TIME',\n    TARGET_COLNAME => 'VIBRATION'\n  ))",
   "execution_count": null
  },
  {
   "cell_type": "code",
   "id": "cfb0a37c-0377-4dc5-9f49-5f12779a9c81",
   "metadata": {
    "language": "sql",
    "name": "ViewAnomalies",
    "collapsed": false,
    "resultHeight": 439
   },
   "outputs": [],
   "source": "SELECT * FROM PRESCRIPTIVE_MAINTANANCE.PUBLIC.VIBRATION_ANOMALY WHERE IS_ANOMALY = True;",
   "execution_count": null
  },
  {
   "cell_type": "code",
   "id": "77a20722-2b31-4d29-bb82-2d776afa1df1",
   "metadata": {
    "language": "python",
    "name": "VisualizeVibrationAndAnomalies",
    "collapsed": false,
    "resultHeight": 609
   },
   "outputs": [],
   "source": "dataframe = session.sql(\"WITH x as (SELECT TS, IS_ANOMALY FROM PRESCRIPTIVE_MAINTANANCE.PUBLIC.VIBRATION_ANOMALY WHERE IS_ANOMALY = TRUE and PERCENTILE > 0.5) select TIME, VIBRATION, IFF(IS_ANOMALY=True, VIBRATION, null) as IS_ANOMALY from PRESCRIPTIVE_MAINTANANCE.PUBLIC.INFERENCE_DATA iot LEFT OUTER JOIN x anomalies on iot.TIME = anomalies.TS;\")\ndf = dataframe.to_pandas()\n\na = alt.Chart(df).mark_line(opacity=1).encode(\n    x='TIME', y='VIBRATION')\n\nb = alt.Chart(df).mark_circle(opacity=1, color=\"red\").encode(\n    x='TIME', y='IS_ANOMALY')\n\nc = alt.layer(a, b)\n\nst.header(\"Vibration Anomalies\")\nst.altair_chart(c, use_container_width=True)",
   "execution_count": null
  },
  {
   "cell_type": "code",
   "id": "15bb6f25-190a-46f1-8334-afc393ac805d",
   "metadata": {
    "language": "sql",
    "name": "ParseServiceReports",
    "collapsed": false,
    "resultHeight": 112,
    "codeCollapsed": false
   },
   "outputs": [],
   "source": "CREATE OR REPLACE TABLE PARSED_TEXT\nAS\nWITH pdf_files AS (\n    SELECT DISTINCT METADATA$FILENAME AS relative_path\n    FROM @PRESCRIPTIVE_MAINTANANCE.PUBLIC.PUMP_DOCUMENTATION\n    WHERE METADATA$FILENAME ILIKE '%.pdf'\n)\nSELECT\n    pdf_files.relative_path,\n    SNOWFLAKE.CORTEX.PARSE_DOCUMENT(\n    '@PRESCRIPTIVE_MAINTANANCE.PUBLIC.PUMP_DOCUMENTATION',\n    pdf_files.relative_path,\n    {'mode': 'LAYOUT'}\n    ):content AS raw_text\nFROM pdf_files;",
   "execution_count": null
  },
  {
   "cell_type": "code",
   "id": "97425b2a-9c67-4825-a91a-c9f73a21cf0b",
   "metadata": {
    "language": "sql",
    "name": "ChunkServiceReportText",
    "collapsed": false,
    "resultHeight": 112
   },
   "outputs": [],
   "source": "CREATE OR REPLACE TABLE CHUNKED_TEXT\nAS\nSELECT\n   relative_path,\n   c.value::varchar as chunked_text\nFROM\n   PRESCRIPTIVE_MAINTANANCE.PUBLIC.PARSED_TEXT,\n   LATERAL FLATTEN( input => SNOWFLAKE.CORTEX.SPLIT_TEXT_RECURSIVE_CHARACTER (\n      raw_text,\n      'markdown',\n      1000,\n      100\n   )) c;",
   "execution_count": null
  },
  {
   "cell_type": "code",
   "id": "155a9f57-8dab-4f97-8903-d6bc6695c385",
   "metadata": {
    "language": "sql",
    "name": "CreateSearchService",
    "collapsed": false,
    "resultHeight": 112
   },
   "outputs": [],
   "source": "CREATE OR REPLACE CORTEX SEARCH SERVICE PRESCRIPTIVE_MAINTANANCE.PUBLIC.PUMP_DOCUMENTATION_SERVICE\n  ON chunked_text\n  WAREHOUSE = cortex_search_wh\n  TARGET_LAG = '1 day'\n  AS (\n    SELECT\n        chunked_text\n    FROM PRESCRIPTIVE_MAINTANANCE.PUBLIC.CHUNKED_TEXT\n);",
   "execution_count": null
  },
  {
   "cell_type": "markdown",
   "id": "504e973a-f886-4df2-b1b2-e274b948f211",
   "metadata": {
    "name": "HybridRetrieval",
    "collapsed": false
   },
   "source": "![text](https://miro.medium.com/v2/resize:fit:720/format:webp/1*g7-pYioCgo8GIDEFstLlNA.png)"
  },
  {
   "cell_type": "code",
   "id": "1af900b6-6b66-4dc2-9050-e24bed3b0455",
   "metadata": {
    "language": "sql",
    "name": "TestSearchService",
    "collapsed": false,
    "resultHeight": 112
   },
   "outputs": [],
   "source": "ALTER WAREHOUSE DEV SET warehouse_size = XSMALL;\n\nSELECT \n  SNOWFLAKE.CORTEX.SEARCH_PREVIEW(\n      'PRESCRIPTIVE_MAINTANANCE.PUBLIC.PUMP_DOCUMENTATION_SERVICE',\n      '{\n        \"query\": \"Descripbe the customer and pump and How to fix the vibration problem for the anomaly\",\n        \"columns\":[\"chunked_text\"],\n        \"limit\":1\n      }'\n  );",
   "execution_count": null
  },
  {
   "cell_type": "code",
   "id": "17a51705-c64e-4c13-bb4e-553342cc88e6",
   "metadata": {
    "language": "python",
    "name": "GetRepairAndTechnicalData",
    "collapsed": false
   },
   "outputs": [],
   "source": "from snowflake.core import Root\nroot = Root(session)\n\n# fetch service\nmy_service = (root\n  .databases[\"PRESCRIPTIVE_MAINTANANCE\"]\n  .schemas[\"PUBLIC\"]\n  .cortex_search_services[\"PUMP_DOCUMENTATION_SERVICE\"]\n)\n\n# query service for instructions how to fix vibration problem\nrepair_data = my_service.search(\n  query=\"how to fix the vibration problem\",\n  columns=[\"chunked_text\"],\n  limit=5\n)\n\n# query service for pump technical spec\ntech_data = my_service.search(\n  query=\"centrifugal pump technical specifications\",\n  columns=[\"chunked_text\"],\n  limit=1\n)",
   "execution_count": null
  },
  {
   "cell_type": "code",
   "id": "6cad36e0-88e8-4a66-9e60-7d5829b70900",
   "metadata": {
    "language": "python",
    "name": "GetAnomalyData",
    "collapsed": false
   },
   "outputs": [],
   "source": "anomaly_df = session.sql(\"with x as (SELECT TS as Timestamp, Y as Vibration_value, FORECAST, LOWER_BOUND, UPPER_BOUND, DISTANCE FROM PRESCRIPTIVE_MAINTANANCE.PUBLIC.VIBRATION_ANOMALY WHERE IS_ANOMALY = TRUE LIMIT 1) select object_construct(*)::varchar as anomaly_data From x\").collect()",
   "execution_count": null
  },
  {
   "cell_type": "code",
   "id": "586337d5-52a2-441e-a248-613de5868efd",
   "metadata": {
    "language": "python",
    "name": "GetEquipmentData",
    "collapsed": false
   },
   "outputs": [],
   "source": "plm_df = session.sql(\"with x as (SELECT * FROM PRESCRIPTIVE_MAINTANANCE.PUBLIC.PLM_DATA) select object_construct(*)::varchar as anomaly_data From x\").collect()",
   "execution_count": null
  },
  {
   "cell_type": "code",
   "id": "7c1dfcd4-9b73-4242-8705-f99cf7440a18",
   "metadata": {
    "language": "python",
    "name": "CreateInstructions",
    "collapsed": false
   },
   "outputs": [],
   "source": "instructions = \"You are a mechanical engineer in energy company. Use following data from the installation location, service reports, pump technical specifications, and from anomaly information to generate a detailed report for service engineer about the pump, its technical specifications, anomaly and what are the procedures to repair and test the pump.\"",
   "execution_count": null
  },
  {
   "cell_type": "code",
   "id": "321738d4-8d51-4826-9ee3-9155150c0e33",
   "metadata": {
    "language": "python",
    "name": "CreatePrompt",
    "collapsed": false
   },
   "outputs": [],
   "source": "prompt = str(plm_df) + instructions + repair_data.to_json() + tech_data.to_json() + str(anomaly_df)\nmodel = 'claude-3-5-sonnet'",
   "execution_count": null
  },
  {
   "cell_type": "code",
   "id": "b230e547-e924-4be8-a06a-db954592211b",
   "metadata": {
    "language": "python",
    "name": "PromptClaudeForRecommendation",
    "codeCollapsed": false,
    "collapsed": false
   },
   "outputs": [],
   "source": "maint_recommendation = session.sql(\"SELECT snowflake.cortex.complete(?,?)\", (model,prompt)).collect()[0][0]\nprint(maint_recommendation)",
   "execution_count": null
  }
 ]
}