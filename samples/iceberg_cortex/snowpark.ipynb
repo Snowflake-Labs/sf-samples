{
 "cells": [
  {
   "cell_type": "markdown",
   "metadata": {},
   "source": [
    "### Import Packages\n",
    "Just like the Python packages we are importing, we will import the Snowpark modules that we need."
   ]
  },
  {
   "cell_type": "code",
   "execution_count": null,
   "metadata": {},
   "outputs": [],
   "source": [
    "import json\n",
    "from snowflake.snowpark import Session\n",
    "import snowflake.snowpark.types as T"
   ]
  },
  {
   "cell_type": "markdown",
   "metadata": {},
   "source": [
    "### Connect to Snowflake\n",
    "Use these parameters and our Snowflake account credentials to connect to Snowflake and create a Snowpark session."
   ]
  },
  {
   "cell_type": "code",
   "execution_count": null,
   "metadata": {},
   "outputs": [],
   "source": [
    "# Get account credentials from a json file\n",
    "with open(\"auth.json\") as f:\n",
    "    data = json.load(f)\n",
    "    username = data[\"username\"]\n",
    "    password = data[\"password\"]\n",
    "    account = data[\"account\"]\n",
    "    f.close()\n",
    "\n",
    "# Specify connection parameters\n",
    "connection_parameters = {\n",
    "    \"account\": account,\n",
    "    \"user\": username,\n",
    "    \"password\": password,\n",
    "    \"role\": \"accountadmin\",\n",
    "    \"warehouse\": \"demo_wh\",\n",
    "    \"database\": \"demo\",\n",
    "    \"schema\": \"public\",\n",
    "}\n",
    "\n",
    "# Create Snowpark session\n",
    "session = Session.builder.configs(connection_parameters).create()"
   ]
  },
  {
   "cell_type": "markdown",
   "metadata": {},
   "source": [
    "### Upload CSVs\n",
    "Upload product review CSVs to Snowflake internal stage."
   ]
  },
  {
   "cell_type": "code",
   "execution_count": null,
   "metadata": {},
   "outputs": [],
   "source": [
    "try:\n",
    "    put_results = session.file.put(\n",
    "        \"product_reviews_*.csv\",\n",
    "        \"@demo.public.files\",\n",
    "        overwrite=False,\n",
    "        auto_compress=False)\n",
    "    for r in put_results:\n",
    "        str_output = (\"File {src}: {status}\").format(src = r.source, status=r.status)\n",
    "        print(str_output)\n",
    "except Exception as e:\n",
    "    print(e)"
   ]
  },
  {
   "cell_type": "markdown",
   "metadata": {},
   "source": [
    "### Create Snowpark DataFrame and write to Iceberg table"
   ]
  },
  {
   "cell_type": "code",
   "execution_count": null,
   "metadata": {},
   "outputs": [],
   "source": [
    "# Define schema for CSV file\n",
    "reviews_schema = T.StructType([T.StructField(\"ID\", T.StringType()),\n",
    "                               T.StructField(\"PRODUCT_NAME\", T.StringType()),\n",
    "                               T.StructField(\"PRODUCT_ID\", T.StringType()),\n",
    "                               T.StructField(\"REVIEWER_NAME\", T.StringType()),\n",
    "                               T.StructField(\"REVIEW_DATE\", T.DateType()),\n",
    "                               T.StructField(\"REVIEW\", T.StringType()),\n",
    "                               T.StructField(\"SENTIMENT\", T.FloatType())])"
   ]
  },
  {
   "cell_type": "code",
   "execution_count": null,
   "metadata": {},
   "outputs": [],
   "source": [
    "# Read January reviews CSV into DataFrame \n",
    "jan_df = session.read \\\n",
    "    .schema(reviews_schema) \\\n",
    "    .option(\"skip_header\", 1) \\\n",
    "    .option(\"field_optionally_enclosed_by\", '\"') \\\n",
    "    .csv(\"@demo.public.files/product_reviews_jan_24.csv\")"
   ]
  },
  {
   "cell_type": "code",
   "execution_count": null,
   "metadata": {},
   "outputs": [],
   "source": [
    "# Preview January DataFrame\n",
    "jan_df.show()"
   ]
  },
  {
   "cell_type": "code",
   "execution_count": null,
   "metadata": {},
   "outputs": [],
   "source": [
    "# Write January product reviews to Snowflake-managed Iceberg Table\n",
    "jan_df.write.mode(\"append\").save_as_table(\"demo.public.product_reviews\")"
   ]
  },
  {
   "cell_type": "code",
   "execution_count": null,
   "metadata": {},
   "outputs": [],
   "source": [
    "# Read February reviews CSV into DataFrame \n",
    "feb_df = session.read \\\n",
    "    .schema(reviews_schema) \\\n",
    "    .option(\"skip_header\", 1) \\\n",
    "    .option(\"field_optionally_enclosed_by\", '\"') \\\n",
    "    .csv(\"@demo.public.files/product_reviews_feb_24.csv\")"
   ]
  },
  {
   "cell_type": "code",
   "execution_count": null,
   "metadata": {},
   "outputs": [],
   "source": [
    "# Write February product reviews to Snowflake-managed Iceberg Table\n",
    "feb_df.write.mode(\"append\").save_as_table(\"demo.public.product_reviews\")"
   ]
  }
 ],
 "metadata": {
  "kernelspec": {
   "display_name": "py38_env_forrester",
   "language": "python",
   "name": "python3"
  },
  "language_info": {
   "codemirror_mode": {
    "name": "ipython",
    "version": 3
   },
   "file_extension": ".py",
   "mimetype": "text/x-python",
   "name": "python",
   "nbconvert_exporter": "python",
   "pygments_lexer": "ipython3",
   "version": "3.8.18"
  }
 },
 "nbformat": 4,
 "nbformat_minor": 2
}
