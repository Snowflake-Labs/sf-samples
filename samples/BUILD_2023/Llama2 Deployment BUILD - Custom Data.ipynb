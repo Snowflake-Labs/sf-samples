{
 "cells": [
  {
   "cell_type": "markdown",
   "id": "d68878a7-ebc2-412f-8476-881e7c876a64",
   "metadata": {},
   "source": [
    "Article for inspiration: https://www.snowflake.com/blog/container-services-llama2-snowpark-ml/"
   ]
  },
  {
   "cell_type": "markdown",
   "id": "03904ddc-c9b8-4540-aa5f-312f3a9a1b4b",
   "metadata": {},
   "source": [
    "# 0.0 Pre-Reqs"
   ]
  },
  {
   "cell_type": "code",
   "execution_count": 2,
   "id": "34f8d9b2-e50a-4b84-ac60-ea6aad4b0e04",
   "metadata": {},
   "outputs": [
    {
     "name": "stdout",
     "output_type": "stream",
     "text": [
      "Found existing installation: snowflake-ml-python 1.0.12\n",
      "Uninstalling snowflake-ml-python-1.0.12:\n",
      "  Successfully uninstalled snowflake-ml-python-1.0.12\n"
     ]
    }
   ],
   "source": [
    "!pip uninstall snowflake-ml-python --y"
   ]
  },
  {
   "cell_type": "code",
   "execution_count": 3,
   "id": "2d1a0b48-cbcd-46c3-8ae9-7dc763e16dbe",
   "metadata": {},
   "outputs": [
    {
     "name": "stdout",
     "output_type": "stream",
     "text": [
      "Collecting snowflake-ml-python\n",
      "  Obtaining dependency information for snowflake-ml-python from https://files.pythonhosted.org/packages/f4/20/aa43e61bf601a06b9b24b501ba9c6ac0bd9ebbc6d3679c6c597583518e25/snowflake_ml_python-1.0.12-py3-none-any.whl.metadata\n",
      "  Downloading snowflake_ml_python-1.0.12-py3-none-any.whl.metadata (24 kB)\n",
      "Requirement already satisfied: absl-py<2,>=0.15 in /Users/skhara/anaconda3/envs/pysnowpark_ml_09_2023/lib/python3.9/site-packages (from snowflake-ml-python) (1.4.0)\n",
      "Requirement already satisfied: anyio<4,>=3.5.0 in /Users/skhara/anaconda3/envs/pysnowpark_ml_09_2023/lib/python3.9/site-packages (from snowflake-ml-python) (3.7.1)\n",
      "Requirement already satisfied: cachetools<5,>=3.1.1 in /Users/skhara/anaconda3/envs/pysnowpark_ml_09_2023/lib/python3.9/site-packages (from snowflake-ml-python) (4.2.4)\n",
      "Requirement already satisfied: cloudpickle>=2.0.0 in /Users/skhara/anaconda3/envs/pysnowpark_ml_09_2023/lib/python3.9/site-packages (from snowflake-ml-python) (2.0.0)\n",
      "Requirement already satisfied: fsspec[http]<2024,>=2022.11 in /Users/skhara/anaconda3/envs/pysnowpark_ml_09_2023/lib/python3.9/site-packages (from snowflake-ml-python) (2023.6.0)\n",
      "Requirement already satisfied: importlib_resources<6,>=5.1.4 in /Users/skhara/anaconda3/envs/pysnowpark_ml_09_2023/lib/python3.9/site-packages (from snowflake-ml-python) (5.13.0)\n",
      "Requirement already satisfied: numpy<2,>=1.23 in /Users/skhara/anaconda3/envs/pysnowpark_ml_09_2023/lib/python3.9/site-packages (from snowflake-ml-python) (1.23.5)\n",
      "Requirement already satisfied: packaging<24,>=20.9 in /Users/skhara/anaconda3/envs/pysnowpark_ml_09_2023/lib/python3.9/site-packages (from snowflake-ml-python) (23.1)\n",
      "Requirement already satisfied: pandas<2,>=1.0.0 in /Users/skhara/anaconda3/envs/pysnowpark_ml_09_2023/lib/python3.9/site-packages (from snowflake-ml-python) (1.5.3)\n",
      "Requirement already satisfied: pytimeparse<2,>=1.1.8 in /Users/skhara/anaconda3/envs/pysnowpark_ml_09_2023/lib/python3.9/site-packages (from snowflake-ml-python) (1.1.8)\n",
      "Requirement already satisfied: pyyaml<7,>=6.0 in /Users/skhara/anaconda3/envs/pysnowpark_ml_09_2023/lib/python3.9/site-packages (from snowflake-ml-python) (6.0.1)\n",
      "Requirement already satisfied: s3fs<2024,>=2022.11 in /Users/skhara/anaconda3/envs/pysnowpark_ml_09_2023/lib/python3.9/site-packages (from snowflake-ml-python) (2023.6.0)\n",
      "Requirement already satisfied: scikit-learn<1.4,>=1.2.1 in /Users/skhara/anaconda3/envs/pysnowpark_ml_09_2023/lib/python3.9/site-packages (from snowflake-ml-python) (1.2.2)\n",
      "Requirement already satisfied: scipy<2,>=1.9 in /Users/skhara/anaconda3/envs/pysnowpark_ml_09_2023/lib/python3.9/site-packages (from snowflake-ml-python) (1.10.1)\n",
      "Requirement already satisfied: snowflake-connector-python[pandas]<4,>=3.0.4 in /Users/skhara/anaconda3/envs/pysnowpark_ml_09_2023/lib/python3.9/site-packages (from snowflake-ml-python) (3.2.0)\n",
      "Requirement already satisfied: snowflake-snowpark-python<2,>=1.5.1 in /Users/skhara/anaconda3/envs/pysnowpark_ml_09_2023/lib/python3.9/site-packages (from snowflake-ml-python) (1.10.0)\n",
      "Requirement already satisfied: sqlparse<1,>=0.4 in /Users/skhara/anaconda3/envs/pysnowpark_ml_09_2023/lib/python3.9/site-packages (from snowflake-ml-python) (0.4.4)\n",
      "Requirement already satisfied: typing-extensions<5,>=4.1.0 in /Users/skhara/anaconda3/envs/pysnowpark_ml_09_2023/lib/python3.9/site-packages (from snowflake-ml-python) (4.5.0)\n",
      "Requirement already satisfied: xgboost<2,>=1.7.3 in /Users/skhara/anaconda3/envs/pysnowpark_ml_09_2023/lib/python3.9/site-packages (from snowflake-ml-python) (1.7.3)\n",
      "Requirement already satisfied: idna>=2.8 in /Users/skhara/anaconda3/envs/pysnowpark_ml_09_2023/lib/python3.9/site-packages (from anyio<4,>=3.5.0->snowflake-ml-python) (3.4)\n",
      "Requirement already satisfied: sniffio>=1.1 in /Users/skhara/anaconda3/envs/pysnowpark_ml_09_2023/lib/python3.9/site-packages (from anyio<4,>=3.5.0->snowflake-ml-python) (1.3.0)\n",
      "Requirement already satisfied: exceptiongroup in /Users/skhara/anaconda3/envs/pysnowpark_ml_09_2023/lib/python3.9/site-packages (from anyio<4,>=3.5.0->snowflake-ml-python) (1.1.3)\n",
      "Requirement already satisfied: requests in /Users/skhara/anaconda3/envs/pysnowpark_ml_09_2023/lib/python3.9/site-packages (from fsspec[http]<2024,>=2022.11->snowflake-ml-python) (2.31.0)\n",
      "Requirement already satisfied: aiohttp!=4.0.0a0,!=4.0.0a1 in /Users/skhara/anaconda3/envs/pysnowpark_ml_09_2023/lib/python3.9/site-packages (from fsspec[http]<2024,>=2022.11->snowflake-ml-python) (3.8.5)\n",
      "Requirement already satisfied: zipp>=3.1.0 in /Users/skhara/anaconda3/envs/pysnowpark_ml_09_2023/lib/python3.9/site-packages (from importlib_resources<6,>=5.1.4->snowflake-ml-python) (3.16.2)\n",
      "Requirement already satisfied: python-dateutil>=2.8.1 in /Users/skhara/anaconda3/envs/pysnowpark_ml_09_2023/lib/python3.9/site-packages (from pandas<2,>=1.0.0->snowflake-ml-python) (2.8.2)\n",
      "Requirement already satisfied: pytz>=2020.1 in /Users/skhara/anaconda3/envs/pysnowpark_ml_09_2023/lib/python3.9/site-packages (from pandas<2,>=1.0.0->snowflake-ml-python) (2023.3)\n",
      "Requirement already satisfied: aiobotocore~=2.5.0 in /Users/skhara/anaconda3/envs/pysnowpark_ml_09_2023/lib/python3.9/site-packages (from s3fs<2024,>=2022.11->snowflake-ml-python) (2.5.4)\n",
      "Requirement already satisfied: joblib>=1.1.1 in /Users/skhara/anaconda3/envs/pysnowpark_ml_09_2023/lib/python3.9/site-packages (from scikit-learn<1.4,>=1.2.1->snowflake-ml-python) (1.3.2)\n",
      "Requirement already satisfied: threadpoolctl>=2.0.0 in /Users/skhara/anaconda3/envs/pysnowpark_ml_09_2023/lib/python3.9/site-packages (from scikit-learn<1.4,>=1.2.1->snowflake-ml-python) (3.2.0)\n",
      "Requirement already satisfied: asn1crypto<2.0.0,>0.24.0 in /Users/skhara/anaconda3/envs/pysnowpark_ml_09_2023/lib/python3.9/site-packages (from snowflake-connector-python[pandas]<4,>=3.0.4->snowflake-ml-python) (1.5.1)\n",
      "Requirement already satisfied: cffi<2.0.0,>=1.9 in /Users/skhara/anaconda3/envs/pysnowpark_ml_09_2023/lib/python3.9/site-packages (from snowflake-connector-python[pandas]<4,>=3.0.4->snowflake-ml-python) (1.15.1)\n",
      "Requirement already satisfied: cryptography<42.0.0,>=3.1.0 in /Users/skhara/anaconda3/envs/pysnowpark_ml_09_2023/lib/python3.9/site-packages (from snowflake-connector-python[pandas]<4,>=3.0.4->snowflake-ml-python) (41.0.3)\n",
      "Requirement already satisfied: oscrypto<2.0.0 in /Users/skhara/anaconda3/envs/pysnowpark_ml_09_2023/lib/python3.9/site-packages (from snowflake-connector-python[pandas]<4,>=3.0.4->snowflake-ml-python) (1.3.0)\n",
      "Requirement already satisfied: pyOpenSSL<24.0.0,>=16.2.0 in /Users/skhara/anaconda3/envs/pysnowpark_ml_09_2023/lib/python3.9/site-packages (from snowflake-connector-python[pandas]<4,>=3.0.4->snowflake-ml-python) (23.2.0)\n",
      "Requirement already satisfied: pycryptodomex!=3.5.0,<4.0.0,>=3.2 in /Users/skhara/anaconda3/envs/pysnowpark_ml_09_2023/lib/python3.9/site-packages (from snowflake-connector-python[pandas]<4,>=3.0.4->snowflake-ml-python) (3.18.0)\n",
      "Requirement already satisfied: pyjwt<3.0.0 in /Users/skhara/anaconda3/envs/pysnowpark_ml_09_2023/lib/python3.9/site-packages (from snowflake-connector-python[pandas]<4,>=3.0.4->snowflake-ml-python) (2.8.0)\n",
      "Requirement already satisfied: charset-normalizer<4,>=2 in /Users/skhara/anaconda3/envs/pysnowpark_ml_09_2023/lib/python3.9/site-packages (from snowflake-connector-python[pandas]<4,>=3.0.4->snowflake-ml-python) (3.2.0)\n",
      "Requirement already satisfied: urllib3<1.27,>=1.21.1 in /Users/skhara/anaconda3/envs/pysnowpark_ml_09_2023/lib/python3.9/site-packages (from snowflake-connector-python[pandas]<4,>=3.0.4->snowflake-ml-python) (1.26.16)\n",
      "Requirement already satisfied: certifi>=2017.4.17 in /Users/skhara/anaconda3/envs/pysnowpark_ml_09_2023/lib/python3.9/site-packages (from snowflake-connector-python[pandas]<4,>=3.0.4->snowflake-ml-python) (2023.7.22)\n",
      "Requirement already satisfied: filelock<4,>=3.5 in /Users/skhara/anaconda3/envs/pysnowpark_ml_09_2023/lib/python3.9/site-packages (from snowflake-connector-python[pandas]<4,>=3.0.4->snowflake-ml-python) (3.12.4)\n",
      "Requirement already satisfied: sortedcontainers>=2.4.0 in /Users/skhara/anaconda3/envs/pysnowpark_ml_09_2023/lib/python3.9/site-packages (from snowflake-connector-python[pandas]<4,>=3.0.4->snowflake-ml-python) (2.4.0)\n",
      "Requirement already satisfied: platformdirs<3.9.0,>=2.6.0 in /Users/skhara/anaconda3/envs/pysnowpark_ml_09_2023/lib/python3.9/site-packages (from snowflake-connector-python[pandas]<4,>=3.0.4->snowflake-ml-python) (3.8.1)\n",
      "Requirement already satisfied: tomlkit in /Users/skhara/anaconda3/envs/pysnowpark_ml_09_2023/lib/python3.9/site-packages (from snowflake-connector-python[pandas]<4,>=3.0.4->snowflake-ml-python) (0.12.1)\n",
      "Requirement already satisfied: pyarrow<10.1.0,>=10.0.1 in /Users/skhara/anaconda3/envs/pysnowpark_ml_09_2023/lib/python3.9/site-packages (from snowflake-connector-python[pandas]<4,>=3.0.4->snowflake-ml-python) (10.0.1)\n",
      "Requirement already satisfied: setuptools>=40.6.0 in /Users/skhara/anaconda3/envs/pysnowpark_ml_09_2023/lib/python3.9/site-packages (from snowflake-snowpark-python<2,>=1.5.1->snowflake-ml-python) (68.0.0)\n",
      "Requirement already satisfied: wheel in /Users/skhara/anaconda3/envs/pysnowpark_ml_09_2023/lib/python3.9/site-packages (from snowflake-snowpark-python<2,>=1.5.1->snowflake-ml-python) (0.38.4)\n",
      "Requirement already satisfied: botocore<1.31.18,>=1.31.17 in /Users/skhara/anaconda3/envs/pysnowpark_ml_09_2023/lib/python3.9/site-packages (from aiobotocore~=2.5.0->s3fs<2024,>=2022.11->snowflake-ml-python) (1.31.17)\n",
      "Requirement already satisfied: wrapt<2.0.0,>=1.10.10 in /Users/skhara/anaconda3/envs/pysnowpark_ml_09_2023/lib/python3.9/site-packages (from aiobotocore~=2.5.0->s3fs<2024,>=2022.11->snowflake-ml-python) (1.15.0)\n",
      "Requirement already satisfied: aioitertools<1.0.0,>=0.5.1 in /Users/skhara/anaconda3/envs/pysnowpark_ml_09_2023/lib/python3.9/site-packages (from aiobotocore~=2.5.0->s3fs<2024,>=2022.11->snowflake-ml-python) (0.11.0)\n",
      "Requirement already satisfied: attrs>=17.3.0 in /Users/skhara/anaconda3/envs/pysnowpark_ml_09_2023/lib/python3.9/site-packages (from aiohttp!=4.0.0a0,!=4.0.0a1->fsspec[http]<2024,>=2022.11->snowflake-ml-python) (23.1.0)\n",
      "Requirement already satisfied: multidict<7.0,>=4.5 in /Users/skhara/anaconda3/envs/pysnowpark_ml_09_2023/lib/python3.9/site-packages (from aiohttp!=4.0.0a0,!=4.0.0a1->fsspec[http]<2024,>=2022.11->snowflake-ml-python) (6.0.4)\n",
      "Requirement already satisfied: async-timeout<5.0,>=4.0.0a3 in /Users/skhara/anaconda3/envs/pysnowpark_ml_09_2023/lib/python3.9/site-packages (from aiohttp!=4.0.0a0,!=4.0.0a1->fsspec[http]<2024,>=2022.11->snowflake-ml-python) (4.0.3)\n",
      "Requirement already satisfied: yarl<2.0,>=1.0 in /Users/skhara/anaconda3/envs/pysnowpark_ml_09_2023/lib/python3.9/site-packages (from aiohttp!=4.0.0a0,!=4.0.0a1->fsspec[http]<2024,>=2022.11->snowflake-ml-python) (1.9.2)\n",
      "Requirement already satisfied: frozenlist>=1.1.1 in /Users/skhara/anaconda3/envs/pysnowpark_ml_09_2023/lib/python3.9/site-packages (from aiohttp!=4.0.0a0,!=4.0.0a1->fsspec[http]<2024,>=2022.11->snowflake-ml-python) (1.4.0)\n",
      "Requirement already satisfied: aiosignal>=1.1.2 in /Users/skhara/anaconda3/envs/pysnowpark_ml_09_2023/lib/python3.9/site-packages (from aiohttp!=4.0.0a0,!=4.0.0a1->fsspec[http]<2024,>=2022.11->snowflake-ml-python) (1.3.1)\n",
      "Requirement already satisfied: pycparser in /Users/skhara/anaconda3/envs/pysnowpark_ml_09_2023/lib/python3.9/site-packages (from cffi<2.0.0,>=1.9->snowflake-connector-python[pandas]<4,>=3.0.4->snowflake-ml-python) (2.21)\n",
      "Requirement already satisfied: six>=1.5 in /Users/skhara/anaconda3/envs/pysnowpark_ml_09_2023/lib/python3.9/site-packages (from python-dateutil>=2.8.1->pandas<2,>=1.0.0->snowflake-ml-python) (1.16.0)\n",
      "Requirement already satisfied: jmespath<2.0.0,>=0.7.1 in /Users/skhara/anaconda3/envs/pysnowpark_ml_09_2023/lib/python3.9/site-packages (from botocore<1.31.18,>=1.31.17->aiobotocore~=2.5.0->s3fs<2024,>=2022.11->snowflake-ml-python) (1.0.1)\n",
      "Downloading snowflake_ml_python-1.0.12-py3-none-any.whl (1.7 MB)\n",
      "\u001b[2K   \u001b[90m━━━━━━━━━━━━━━━━━━━━━━━━━━━━━━━━━━━━━━━━\u001b[0m \u001b[32m1.7/1.7 MB\u001b[0m \u001b[31m3.4 MB/s\u001b[0m eta \u001b[36m0:00:00\u001b[0ma \u001b[36m0:00:01\u001b[0m\n",
      "\u001b[?25hInstalling collected packages: snowflake-ml-python\n",
      "Successfully installed snowflake-ml-python-1.0.12\n"
     ]
    }
   ],
   "source": [
    "!pip install snowflake-ml-python"
   ]
  },
  {
   "cell_type": "code",
   "execution_count": 7,
   "id": "11e6af3e-d311-49ba-ba7e-f379b1c9f776",
   "metadata": {},
   "outputs": [],
   "source": [
    "from snowflake.snowpark.session import Session\n",
    "from snowflake.ml.registry import model_registry\n",
    "from snowflake.ml.model import deploy_platforms\n",
    "\n",
    "import os\n",
    "import json\n",
    "import sys\n",
    "import pandas as pd\n",
    "\n",
    "import warnings\n",
    "warnings.filterwarnings(\"ignore\")"
   ]
  },
  {
   "cell_type": "code",
   "execution_count": 11,
   "id": "9bec7464-87f4-4cb0-bcd4-1dd7654279c2",
   "metadata": {},
   "outputs": [],
   "source": [
    "from snowflake.ml.model.models import llm"
   ]
  },
  {
   "cell_type": "code",
   "execution_count": 19,
   "id": "1ffa8188-4d01-49c1-93bc-58d708b290ca",
   "metadata": {},
   "outputs": [
    {
     "name": "stdout",
     "output_type": "stream",
     "text": [
      "Help on class LLM in module snowflake.ml.model.models.llm:\n",
      "\n",
      "class LLM(builtins.object)\n",
      " |  LLM(model_id_or_path: str, *, options: Optional[snowflake.ml.model.models.llm.LLMOptions] = None) -> None\n",
      " |  \n",
      " |  Methods defined here:\n",
      " |  \n",
      " |  __init__(self, model_id_or_path: str, *, options: Optional[snowflake.ml.model.models.llm.LLMOptions] = None) -> None\n",
      " |      Args:\n",
      " |          model_id_or_path: model_id or local dir to PEFT lora weights.\n",
      " |          options: Options for LLM. Defaults to be None.\n",
      " |      \n",
      " |      Raises:\n",
      " |          ValueError: When unsupported.\n",
      " |  \n",
      " |  ----------------------------------------------------------------------\n",
      " |  Data descriptors defined here:\n",
      " |  \n",
      " |  __dict__\n",
      " |      dictionary for instance variables (if defined)\n",
      " |  \n",
      " |  __weakref__\n",
      " |      list of weak references to the object (if defined)\n",
      " |  \n",
      " |  ----------------------------------------------------------------------\n",
      " |  Data and other attributes defined here:\n",
      " |  \n",
      " |  Mode = <enum 'Mode'>\n",
      " |      An enumeration.\n",
      "\n"
     ]
    }
   ],
   "source": [
    "help(llm.LLM)"
   ]
  },
  {
   "cell_type": "code",
   "execution_count": 5,
   "id": "f421d77c-5053-48dc-b9c6-703801d71b6d",
   "metadata": {},
   "outputs": [],
   "source": [
    "connection_parameters = json.load(open('/Users/skhara/Documents/Code/creds_spcs.json'))\n",
    "session = Session.builder.configs(connection_parameters).create()"
   ]
  },
  {
   "cell_type": "markdown",
   "id": "df5c9d19-c103-4352-8e91-1bb46c80c30b",
   "metadata": {},
   "source": [
    "#### Compute Pool\n",
    "A compute pool is a collection of virtual machines or nodes which can have GPUs.\n",
    "This process takes time.\n",
    "\n",
    "#### Learn More:\n",
    "https://medium.com/snowflake/snowpark-container-services-a-tech-primer-99ff2ca8e741#:~:text=my_image%3Alatest-,Compute%20Pools,-A%20service%20in"
   ]
  },
  {
   "cell_type": "code",
   "execution_count": 6,
   "id": "74d941c3-252d-4fda-bc2e-4d4d2cf3ddb7",
   "metadata": {
    "scrolled": true
   },
   "outputs": [
    {
     "ename": "SnowparkSQLException",
     "evalue": "(1304): 01b05f26-0001-e429-001c-dd8702443856: 002002 (42710): SQL compilation error:\nObject 'SKHARA_COMPUTE_GPU3' already exists.",
     "output_type": "error",
     "traceback": [
      "\u001b[0;31m---------------------------------------------------------------------------\u001b[0m",
      "\u001b[0;31mSnowparkSQLException\u001b[0m                      Traceback (most recent call last)",
      "Cell \u001b[0;32mIn[6], line 1\u001b[0m\n\u001b[0;32m----> 1\u001b[0m \u001b[43msession\u001b[49m\u001b[38;5;241;43m.\u001b[39;49m\u001b[43msql\u001b[49m\u001b[43m(\u001b[49m\u001b[38;5;124;43m'''\u001b[39;49m\u001b[38;5;124;43mCREATE COMPUTE POOL SKHARA_COMPUTE_GPU3\u001b[39;49m\n\u001b[1;32m      2\u001b[0m \u001b[38;5;124;43mMIN_NODES = 1\u001b[39;49m\n\u001b[1;32m      3\u001b[0m \u001b[38;5;124;43mMAX_NODES = 1\u001b[39;49m\n\u001b[1;32m      4\u001b[0m \u001b[38;5;124;43mINSTANCE_FAMILY = \u001b[39;49m\u001b[38;5;124;43m\"\u001b[39;49m\u001b[38;5;124;43mGPU_3\u001b[39;49m\u001b[38;5;124;43m\"\u001b[39;49m\n\u001b[1;32m      5\u001b[0m \u001b[38;5;124;43m'''\u001b[39;49m\u001b[43m)\u001b[49m\u001b[38;5;241;43m.\u001b[39;49m\u001b[43mcollect\u001b[49m\u001b[43m(\u001b[49m\u001b[43m)\u001b[49m\n",
      "File \u001b[0;32m~/anaconda3/envs/pysnowpark_ml_09_2023/lib/python3.9/site-packages/snowflake/snowpark/_internal/telemetry.py:139\u001b[0m, in \u001b[0;36mdf_collect_api_telemetry.<locals>.wrap\u001b[0;34m(*args, **kwargs)\u001b[0m\n\u001b[1;32m    136\u001b[0m \u001b[38;5;129m@functools\u001b[39m\u001b[38;5;241m.\u001b[39mwraps(func)\n\u001b[1;32m    137\u001b[0m \u001b[38;5;28;01mdef\u001b[39;00m \u001b[38;5;21mwrap\u001b[39m(\u001b[38;5;241m*\u001b[39margs, \u001b[38;5;241m*\u001b[39m\u001b[38;5;241m*\u001b[39mkwargs):\n\u001b[1;32m    138\u001b[0m     \u001b[38;5;28;01mwith\u001b[39;00m args[\u001b[38;5;241m0\u001b[39m]\u001b[38;5;241m.\u001b[39m_session\u001b[38;5;241m.\u001b[39mquery_history() \u001b[38;5;28;01mas\u001b[39;00m query_history:\n\u001b[0;32m--> 139\u001b[0m         result \u001b[38;5;241m=\u001b[39m \u001b[43mfunc\u001b[49m\u001b[43m(\u001b[49m\u001b[38;5;241;43m*\u001b[39;49m\u001b[43margs\u001b[49m\u001b[43m,\u001b[49m\u001b[43m \u001b[49m\u001b[38;5;241;43m*\u001b[39;49m\u001b[38;5;241;43m*\u001b[39;49m\u001b[43mkwargs\u001b[49m\u001b[43m)\u001b[49m\n\u001b[1;32m    140\u001b[0m     plan \u001b[38;5;241m=\u001b[39m args[\u001b[38;5;241m0\u001b[39m]\u001b[38;5;241m.\u001b[39m_select_statement \u001b[38;5;129;01mor\u001b[39;00m args[\u001b[38;5;241m0\u001b[39m]\u001b[38;5;241m.\u001b[39m_plan\n\u001b[1;32m    141\u001b[0m     api_calls \u001b[38;5;241m=\u001b[39m [\n\u001b[1;32m    142\u001b[0m         \u001b[38;5;241m*\u001b[39mplan\u001b[38;5;241m.\u001b[39mapi_calls,\n\u001b[1;32m    143\u001b[0m         {TelemetryField\u001b[38;5;241m.\u001b[39mNAME\u001b[38;5;241m.\u001b[39mvalue: \u001b[38;5;124mf\u001b[39m\u001b[38;5;124m\"\u001b[39m\u001b[38;5;124mDataFrame.\u001b[39m\u001b[38;5;132;01m{\u001b[39;00mfunc\u001b[38;5;241m.\u001b[39m\u001b[38;5;18m__name__\u001b[39m\u001b[38;5;132;01m}\u001b[39;00m\u001b[38;5;124m\"\u001b[39m},\n\u001b[1;32m    144\u001b[0m     ]\n",
      "File \u001b[0;32m~/anaconda3/envs/pysnowpark_ml_09_2023/lib/python3.9/site-packages/snowflake/snowpark/dataframe.py:586\u001b[0m, in \u001b[0;36mDataFrame.collect\u001b[0;34m(self, statement_params, block, log_on_exception, case_sensitive)\u001b[0m\n\u001b[1;32m    563\u001b[0m \u001b[38;5;129m@df_collect_api_telemetry\u001b[39m\n\u001b[1;32m    564\u001b[0m \u001b[38;5;28;01mdef\u001b[39;00m \u001b[38;5;21mcollect\u001b[39m(\n\u001b[1;32m    565\u001b[0m     \u001b[38;5;28mself\u001b[39m,\n\u001b[0;32m   (...)\u001b[0m\n\u001b[1;32m    570\u001b[0m     case_sensitive: \u001b[38;5;28mbool\u001b[39m \u001b[38;5;241m=\u001b[39m \u001b[38;5;28;01mTrue\u001b[39;00m,\n\u001b[1;32m    571\u001b[0m ) \u001b[38;5;241m-\u001b[39m\u001b[38;5;241m>\u001b[39m Union[List[Row], AsyncJob]:\n\u001b[1;32m    572\u001b[0m \u001b[38;5;250m    \u001b[39m\u001b[38;5;124;03m\"\"\"Executes the query representing this DataFrame and returns the result as a\u001b[39;00m\n\u001b[1;32m    573\u001b[0m \u001b[38;5;124;03m    list of :class:`Row` objects.\u001b[39;00m\n\u001b[1;32m    574\u001b[0m \n\u001b[0;32m   (...)\u001b[0m\n\u001b[1;32m    584\u001b[0m \u001b[38;5;124;03m        :meth:`collect_nowait()`\u001b[39;00m\n\u001b[1;32m    585\u001b[0m \u001b[38;5;124;03m    \"\"\"\u001b[39;00m\n\u001b[0;32m--> 586\u001b[0m     \u001b[38;5;28;01mreturn\u001b[39;00m \u001b[38;5;28;43mself\u001b[39;49m\u001b[38;5;241;43m.\u001b[39;49m\u001b[43m_internal_collect_with_tag_no_telemetry\u001b[49m\u001b[43m(\u001b[49m\n\u001b[1;32m    587\u001b[0m \u001b[43m        \u001b[49m\u001b[43mstatement_params\u001b[49m\u001b[38;5;241;43m=\u001b[39;49m\u001b[43mstatement_params\u001b[49m\u001b[43m,\u001b[49m\n\u001b[1;32m    588\u001b[0m \u001b[43m        \u001b[49m\u001b[43mblock\u001b[49m\u001b[38;5;241;43m=\u001b[39;49m\u001b[43mblock\u001b[49m\u001b[43m,\u001b[49m\n\u001b[1;32m    589\u001b[0m \u001b[43m        \u001b[49m\u001b[43mlog_on_exception\u001b[49m\u001b[38;5;241;43m=\u001b[39;49m\u001b[43mlog_on_exception\u001b[49m\u001b[43m,\u001b[49m\n\u001b[1;32m    590\u001b[0m \u001b[43m        \u001b[49m\u001b[43mcase_sensitive\u001b[49m\u001b[38;5;241;43m=\u001b[39;49m\u001b[43mcase_sensitive\u001b[49m\u001b[43m,\u001b[49m\n\u001b[1;32m    591\u001b[0m \u001b[43m    \u001b[49m\u001b[43m)\u001b[49m\n",
      "File \u001b[0;32m~/anaconda3/envs/pysnowpark_ml_09_2023/lib/python3.9/site-packages/snowflake/snowpark/dataframe.py:633\u001b[0m, in \u001b[0;36mDataFrame._internal_collect_with_tag_no_telemetry\u001b[0;34m(self, statement_params, block, data_type, log_on_exception, case_sensitive)\u001b[0m\n\u001b[1;32m    621\u001b[0m \u001b[38;5;28;01mdef\u001b[39;00m \u001b[38;5;21m_internal_collect_with_tag_no_telemetry\u001b[39m(\n\u001b[1;32m    622\u001b[0m     \u001b[38;5;28mself\u001b[39m,\n\u001b[1;32m    623\u001b[0m     \u001b[38;5;241m*\u001b[39m,\n\u001b[0;32m   (...)\u001b[0m\n\u001b[1;32m    631\u001b[0m     \u001b[38;5;66;03m# we should always call this method instead of collect(), to make sure the\u001b[39;00m\n\u001b[1;32m    632\u001b[0m     \u001b[38;5;66;03m# query tag is set properly.\u001b[39;00m\n\u001b[0;32m--> 633\u001b[0m     \u001b[38;5;28;01mreturn\u001b[39;00m \u001b[38;5;28;43mself\u001b[39;49m\u001b[38;5;241;43m.\u001b[39;49m\u001b[43m_session\u001b[49m\u001b[38;5;241;43m.\u001b[39;49m\u001b[43m_conn\u001b[49m\u001b[38;5;241;43m.\u001b[39;49m\u001b[43mexecute\u001b[49m\u001b[43m(\u001b[49m\n\u001b[1;32m    634\u001b[0m \u001b[43m        \u001b[49m\u001b[38;5;28;43mself\u001b[39;49m\u001b[38;5;241;43m.\u001b[39;49m\u001b[43m_plan\u001b[49m\u001b[43m,\u001b[49m\n\u001b[1;32m    635\u001b[0m \u001b[43m        \u001b[49m\u001b[43mblock\u001b[49m\u001b[38;5;241;43m=\u001b[39;49m\u001b[43mblock\u001b[49m\u001b[43m,\u001b[49m\n\u001b[1;32m    636\u001b[0m \u001b[43m        \u001b[49m\u001b[43mdata_type\u001b[49m\u001b[38;5;241;43m=\u001b[39;49m\u001b[43mdata_type\u001b[49m\u001b[43m,\u001b[49m\n\u001b[1;32m    637\u001b[0m \u001b[43m        \u001b[49m\u001b[43m_statement_params\u001b[49m\u001b[38;5;241;43m=\u001b[39;49m\u001b[43mcreate_or_update_statement_params_with_query_tag\u001b[49m\u001b[43m(\u001b[49m\n\u001b[1;32m    638\u001b[0m \u001b[43m            \u001b[49m\u001b[43mstatement_params\u001b[49m\u001b[43m \u001b[49m\u001b[38;5;129;43;01mor\u001b[39;49;00m\u001b[43m \u001b[49m\u001b[38;5;28;43mself\u001b[39;49m\u001b[38;5;241;43m.\u001b[39;49m\u001b[43m_statement_params\u001b[49m\u001b[43m,\u001b[49m\n\u001b[1;32m    639\u001b[0m \u001b[43m            \u001b[49m\u001b[38;5;28;43mself\u001b[39;49m\u001b[38;5;241;43m.\u001b[39;49m\u001b[43m_session\u001b[49m\u001b[38;5;241;43m.\u001b[39;49m\u001b[43mquery_tag\u001b[49m\u001b[43m,\u001b[49m\n\u001b[1;32m    640\u001b[0m \u001b[43m            \u001b[49m\u001b[43mSKIP_LEVELS_THREE\u001b[49m\u001b[43m,\u001b[49m\n\u001b[1;32m    641\u001b[0m \u001b[43m        \u001b[49m\u001b[43m)\u001b[49m\u001b[43m,\u001b[49m\n\u001b[1;32m    642\u001b[0m \u001b[43m        \u001b[49m\u001b[43mlog_on_exception\u001b[49m\u001b[38;5;241;43m=\u001b[39;49m\u001b[43mlog_on_exception\u001b[49m\u001b[43m,\u001b[49m\n\u001b[1;32m    643\u001b[0m \u001b[43m        \u001b[49m\u001b[43mcase_sensitive\u001b[49m\u001b[38;5;241;43m=\u001b[39;49m\u001b[43mcase_sensitive\u001b[49m\u001b[43m,\u001b[49m\n\u001b[1;32m    644\u001b[0m \u001b[43m    \u001b[49m\u001b[43m)\u001b[49m\n",
      "File \u001b[0;32m~/anaconda3/envs/pysnowpark_ml_09_2023/lib/python3.9/site-packages/snowflake/snowpark/_internal/server_connection.py:452\u001b[0m, in \u001b[0;36mServerConnection.execute\u001b[0;34m(self, plan, to_pandas, to_iter, block, data_type, log_on_exception, case_sensitive, **kwargs)\u001b[0m\n\u001b[1;32m    442\u001b[0m \u001b[38;5;28;01mif\u001b[39;00m (\n\u001b[1;32m    443\u001b[0m     is_in_stored_procedure()\n\u001b[1;32m    444\u001b[0m     \u001b[38;5;129;01mand\u001b[39;00m \u001b[38;5;129;01mnot\u001b[39;00m block\n\u001b[0;32m   (...)\u001b[0m\n\u001b[1;32m    447\u001b[0m     )\n\u001b[1;32m    448\u001b[0m ):  \u001b[38;5;66;03m# pragma: no cover\u001b[39;00m\n\u001b[1;32m    449\u001b[0m     \u001b[38;5;28;01mraise\u001b[39;00m \u001b[38;5;167;01mNotImplementedError\u001b[39;00m(\n\u001b[1;32m    450\u001b[0m         \u001b[38;5;124m\"\u001b[39m\u001b[38;5;124mAsync query is not supported in stored procedure yet\u001b[39m\u001b[38;5;124m\"\u001b[39m\n\u001b[1;32m    451\u001b[0m     )\n\u001b[0;32m--> 452\u001b[0m result_set, result_meta \u001b[38;5;241m=\u001b[39m \u001b[38;5;28;43mself\u001b[39;49m\u001b[38;5;241;43m.\u001b[39;49m\u001b[43mget_result_set\u001b[49m\u001b[43m(\u001b[49m\n\u001b[1;32m    453\u001b[0m \u001b[43m    \u001b[49m\u001b[43mplan\u001b[49m\u001b[43m,\u001b[49m\n\u001b[1;32m    454\u001b[0m \u001b[43m    \u001b[49m\u001b[43mto_pandas\u001b[49m\u001b[43m,\u001b[49m\n\u001b[1;32m    455\u001b[0m \u001b[43m    \u001b[49m\u001b[43mto_iter\u001b[49m\u001b[43m,\u001b[49m\n\u001b[1;32m    456\u001b[0m \u001b[43m    \u001b[49m\u001b[38;5;241;43m*\u001b[39;49m\u001b[38;5;241;43m*\u001b[39;49m\u001b[43mkwargs\u001b[49m\u001b[43m,\u001b[49m\n\u001b[1;32m    457\u001b[0m \u001b[43m    \u001b[49m\u001b[43mblock\u001b[49m\u001b[38;5;241;43m=\u001b[39;49m\u001b[43mblock\u001b[49m\u001b[43m,\u001b[49m\n\u001b[1;32m    458\u001b[0m \u001b[43m    \u001b[49m\u001b[43mdata_type\u001b[49m\u001b[38;5;241;43m=\u001b[39;49m\u001b[43mdata_type\u001b[49m\u001b[43m,\u001b[49m\n\u001b[1;32m    459\u001b[0m \u001b[43m    \u001b[49m\u001b[43mlog_on_exception\u001b[49m\u001b[38;5;241;43m=\u001b[39;49m\u001b[43mlog_on_exception\u001b[49m\u001b[43m,\u001b[49m\n\u001b[1;32m    460\u001b[0m \u001b[43m    \u001b[49m\u001b[43mcase_sensitive\u001b[49m\u001b[38;5;241;43m=\u001b[39;49m\u001b[43mcase_sensitive\u001b[49m\u001b[43m,\u001b[49m\n\u001b[1;32m    461\u001b[0m \u001b[43m\u001b[49m\u001b[43m)\u001b[49m\n\u001b[1;32m    462\u001b[0m \u001b[38;5;28;01mif\u001b[39;00m \u001b[38;5;129;01mnot\u001b[39;00m block:\n\u001b[1;32m    463\u001b[0m     \u001b[38;5;28;01mreturn\u001b[39;00m result_set\n",
      "File \u001b[0;32m~/anaconda3/envs/pysnowpark_ml_09_2023/lib/python3.9/site-packages/snowflake/snowpark/_internal/analyzer/snowflake_plan.py:187\u001b[0m, in \u001b[0;36mSnowflakePlan.Decorator.wrap_exception.<locals>.wrap\u001b[0;34m(*args, **kwargs)\u001b[0m\n\u001b[1;32m    183\u001b[0m \u001b[38;5;28;01melse\u001b[39;00m:\n\u001b[1;32m    184\u001b[0m     ne \u001b[38;5;241m=\u001b[39m SnowparkClientExceptionMessages\u001b[38;5;241m.\u001b[39mSQL_EXCEPTION_FROM_PROGRAMMING_ERROR(\n\u001b[1;32m    185\u001b[0m         e\n\u001b[1;32m    186\u001b[0m     )\n\u001b[0;32m--> 187\u001b[0m     \u001b[38;5;28;01mraise\u001b[39;00m ne\u001b[38;5;241m.\u001b[39mwith_traceback(tb) \u001b[38;5;28;01mfrom\u001b[39;00m \u001b[38;5;28;01mNone\u001b[39;00m\n",
      "File \u001b[0;32m~/anaconda3/envs/pysnowpark_ml_09_2023/lib/python3.9/site-packages/snowflake/snowpark/_internal/analyzer/snowflake_plan.py:116\u001b[0m, in \u001b[0;36mSnowflakePlan.Decorator.wrap_exception.<locals>.wrap\u001b[0;34m(*args, **kwargs)\u001b[0m\n\u001b[1;32m    114\u001b[0m \u001b[38;5;28;01mdef\u001b[39;00m \u001b[38;5;21mwrap\u001b[39m(\u001b[38;5;241m*\u001b[39margs, \u001b[38;5;241m*\u001b[39m\u001b[38;5;241m*\u001b[39mkwargs):\n\u001b[1;32m    115\u001b[0m     \u001b[38;5;28;01mtry\u001b[39;00m:\n\u001b[0;32m--> 116\u001b[0m         \u001b[38;5;28;01mreturn\u001b[39;00m \u001b[43mfunc\u001b[49m\u001b[43m(\u001b[49m\u001b[38;5;241;43m*\u001b[39;49m\u001b[43margs\u001b[49m\u001b[43m,\u001b[49m\u001b[43m \u001b[49m\u001b[38;5;241;43m*\u001b[39;49m\u001b[38;5;241;43m*\u001b[39;49m\u001b[43mkwargs\u001b[49m\u001b[43m)\u001b[49m\n\u001b[1;32m    117\u001b[0m     \u001b[38;5;28;01mexcept\u001b[39;00m snowflake\u001b[38;5;241m.\u001b[39mconnector\u001b[38;5;241m.\u001b[39merrors\u001b[38;5;241m.\u001b[39mProgrammingError \u001b[38;5;28;01mas\u001b[39;00m e:\n\u001b[1;32m    118\u001b[0m         query \u001b[38;5;241m=\u001b[39m \u001b[38;5;28;01mNone\u001b[39;00m\n",
      "File \u001b[0;32m~/anaconda3/envs/pysnowpark_ml_09_2023/lib/python3.9/site-packages/snowflake/snowpark/_internal/server_connection.py:553\u001b[0m, in \u001b[0;36mServerConnection.get_result_set\u001b[0;34m(self, plan, to_pandas, to_iter, block, data_type, log_on_exception, case_sensitive, **kwargs)\u001b[0m\n\u001b[1;32m    551\u001b[0m \u001b[38;5;28;01mfor\u001b[39;00m holder, id_ \u001b[38;5;129;01min\u001b[39;00m placeholders\u001b[38;5;241m.\u001b[39mitems():\n\u001b[1;32m    552\u001b[0m     final_query \u001b[38;5;241m=\u001b[39m final_query\u001b[38;5;241m.\u001b[39mreplace(holder, id_)\n\u001b[0;32m--> 553\u001b[0m result \u001b[38;5;241m=\u001b[39m \u001b[38;5;28;43mself\u001b[39;49m\u001b[38;5;241;43m.\u001b[39;49m\u001b[43mrun_query\u001b[49m\u001b[43m(\u001b[49m\n\u001b[1;32m    554\u001b[0m \u001b[43m    \u001b[49m\u001b[43mfinal_query\u001b[49m\u001b[43m,\u001b[49m\n\u001b[1;32m    555\u001b[0m \u001b[43m    \u001b[49m\u001b[43mto_pandas\u001b[49m\u001b[43m,\u001b[49m\n\u001b[1;32m    556\u001b[0m \u001b[43m    \u001b[49m\u001b[43mto_iter\u001b[49m\u001b[43m \u001b[49m\u001b[38;5;129;43;01mand\u001b[39;49;00m\u001b[43m \u001b[49m\u001b[43m(\u001b[49m\u001b[43mi\u001b[49m\u001b[43m \u001b[49m\u001b[38;5;241;43m==\u001b[39;49m\u001b[43m \u001b[49m\u001b[38;5;28;43mlen\u001b[39;49m\u001b[43m(\u001b[49m\u001b[43mplan\u001b[49m\u001b[38;5;241;43m.\u001b[39;49m\u001b[43mqueries\u001b[49m\u001b[43m)\u001b[49m\u001b[43m \u001b[49m\u001b[38;5;241;43m-\u001b[39;49m\u001b[43m \u001b[49m\u001b[38;5;241;43m1\u001b[39;49m\u001b[43m)\u001b[49m\u001b[43m,\u001b[49m\n\u001b[1;32m    557\u001b[0m \u001b[43m    \u001b[49m\u001b[43mis_ddl_on_temp_object\u001b[49m\u001b[38;5;241;43m=\u001b[39;49m\u001b[43mquery\u001b[49m\u001b[38;5;241;43m.\u001b[39;49m\u001b[43mis_ddl_on_temp_object\u001b[49m\u001b[43m,\u001b[49m\n\u001b[1;32m    558\u001b[0m \u001b[43m    \u001b[49m\u001b[43mblock\u001b[49m\u001b[38;5;241;43m=\u001b[39;49m\u001b[38;5;129;43;01mnot\u001b[39;49;00m\u001b[43m \u001b[49m\u001b[43mis_last\u001b[49m\u001b[43m,\u001b[49m\n\u001b[1;32m    559\u001b[0m \u001b[43m    \u001b[49m\u001b[43mdata_type\u001b[49m\u001b[38;5;241;43m=\u001b[39;49m\u001b[43mdata_type\u001b[49m\u001b[43m,\u001b[49m\n\u001b[1;32m    560\u001b[0m \u001b[43m    \u001b[49m\u001b[43masync_job_plan\u001b[49m\u001b[38;5;241;43m=\u001b[39;49m\u001b[43mplan\u001b[49m\u001b[43m,\u001b[49m\n\u001b[1;32m    561\u001b[0m \u001b[43m    \u001b[49m\u001b[43mlog_on_exception\u001b[49m\u001b[38;5;241;43m=\u001b[39;49m\u001b[43mlog_on_exception\u001b[49m\u001b[43m,\u001b[49m\n\u001b[1;32m    562\u001b[0m \u001b[43m    \u001b[49m\u001b[43mcase_sensitive\u001b[49m\u001b[38;5;241;43m=\u001b[39;49m\u001b[43mcase_sensitive\u001b[49m\u001b[43m,\u001b[49m\n\u001b[1;32m    563\u001b[0m \u001b[43m    \u001b[49m\u001b[43mparams\u001b[49m\u001b[38;5;241;43m=\u001b[39;49m\u001b[43mquery\u001b[49m\u001b[38;5;241;43m.\u001b[39;49m\u001b[43mparams\u001b[49m\u001b[43m,\u001b[49m\n\u001b[1;32m    564\u001b[0m \u001b[43m    \u001b[49m\u001b[38;5;241;43m*\u001b[39;49m\u001b[38;5;241;43m*\u001b[39;49m\u001b[43mkwargs\u001b[49m\u001b[43m,\u001b[49m\n\u001b[1;32m    565\u001b[0m \u001b[43m\u001b[49m\u001b[43m)\u001b[49m\n\u001b[1;32m    566\u001b[0m placeholders[query\u001b[38;5;241m.\u001b[39mquery_id_place_holder] \u001b[38;5;241m=\u001b[39m (\n\u001b[1;32m    567\u001b[0m     result[\u001b[38;5;124m\"\u001b[39m\u001b[38;5;124msfqid\u001b[39m\u001b[38;5;124m\"\u001b[39m] \u001b[38;5;28;01mif\u001b[39;00m \u001b[38;5;129;01mnot\u001b[39;00m is_last \u001b[38;5;28;01melse\u001b[39;00m result\u001b[38;5;241m.\u001b[39mquery_id\n\u001b[1;32m    568\u001b[0m )\n\u001b[1;32m    569\u001b[0m result_meta \u001b[38;5;241m=\u001b[39m \u001b[38;5;28mself\u001b[39m\u001b[38;5;241m.\u001b[39m_cursor\u001b[38;5;241m.\u001b[39mdescription\n",
      "File \u001b[0;32m~/anaconda3/envs/pysnowpark_ml_09_2023/lib/python3.9/site-packages/snowflake/snowpark/_internal/server_connection.py:103\u001b[0m, in \u001b[0;36mServerConnection._Decorator.wrap_exception.<locals>.wrap\u001b[0;34m(*args, **kwargs)\u001b[0m\n\u001b[1;32m     99\u001b[0m     \u001b[38;5;28;01mraise\u001b[39;00m SnowparkClientExceptionMessages\u001b[38;5;241m.\u001b[39mSERVER_SESSION_EXPIRED(\n\u001b[1;32m    100\u001b[0m         ex\u001b[38;5;241m.\u001b[39mcause\n\u001b[1;32m    101\u001b[0m     )\n\u001b[1;32m    102\u001b[0m \u001b[38;5;28;01mexcept\u001b[39;00m \u001b[38;5;167;01mException\u001b[39;00m \u001b[38;5;28;01mas\u001b[39;00m ex:\n\u001b[0;32m--> 103\u001b[0m     \u001b[38;5;28;01mraise\u001b[39;00m ex\n",
      "File \u001b[0;32m~/anaconda3/envs/pysnowpark_ml_09_2023/lib/python3.9/site-packages/snowflake/snowpark/_internal/server_connection.py:97\u001b[0m, in \u001b[0;36mServerConnection._Decorator.wrap_exception.<locals>.wrap\u001b[0;34m(*args, **kwargs)\u001b[0m\n\u001b[1;32m     95\u001b[0m     \u001b[38;5;28;01mraise\u001b[39;00m SnowparkClientExceptionMessages\u001b[38;5;241m.\u001b[39mSERVER_SESSION_HAS_BEEN_CLOSED()\n\u001b[1;32m     96\u001b[0m \u001b[38;5;28;01mtry\u001b[39;00m:\n\u001b[0;32m---> 97\u001b[0m     \u001b[38;5;28;01mreturn\u001b[39;00m \u001b[43mfunc\u001b[49m\u001b[43m(\u001b[49m\u001b[38;5;241;43m*\u001b[39;49m\u001b[43margs\u001b[49m\u001b[43m,\u001b[49m\u001b[43m \u001b[49m\u001b[38;5;241;43m*\u001b[39;49m\u001b[38;5;241;43m*\u001b[39;49m\u001b[43mkwargs\u001b[49m\u001b[43m)\u001b[49m\n\u001b[1;32m     98\u001b[0m \u001b[38;5;28;01mexcept\u001b[39;00m ReauthenticationRequest \u001b[38;5;28;01mas\u001b[39;00m ex:\n\u001b[1;32m     99\u001b[0m     \u001b[38;5;28;01mraise\u001b[39;00m SnowparkClientExceptionMessages\u001b[38;5;241m.\u001b[39mSERVER_SESSION_EXPIRED(\n\u001b[1;32m    100\u001b[0m         ex\u001b[38;5;241m.\u001b[39mcause\n\u001b[1;32m    101\u001b[0m     )\n",
      "File \u001b[0;32m~/anaconda3/envs/pysnowpark_ml_09_2023/lib/python3.9/site-packages/snowflake/snowpark/_internal/server_connection.py:367\u001b[0m, in \u001b[0;36mServerConnection.run_query\u001b[0;34m(self, query, to_pandas, to_iter, is_ddl_on_temp_object, block, data_type, async_job_plan, log_on_exception, case_sensitive, params, num_statements, **kwargs)\u001b[0m\n\u001b[1;32m    365\u001b[0m         query_id_log \u001b[38;5;241m=\u001b[39m \u001b[38;5;124mf\u001b[39m\u001b[38;5;124m\"\u001b[39m\u001b[38;5;124m [queryID: \u001b[39m\u001b[38;5;132;01m{\u001b[39;00mex\u001b[38;5;241m.\u001b[39msfqid\u001b[38;5;132;01m}\u001b[39;00m\u001b[38;5;124m]\u001b[39m\u001b[38;5;124m\"\u001b[39m \u001b[38;5;28;01mif\u001b[39;00m \u001b[38;5;28mhasattr\u001b[39m(ex, \u001b[38;5;124m\"\u001b[39m\u001b[38;5;124msfqid\u001b[39m\u001b[38;5;124m\"\u001b[39m) \u001b[38;5;28;01melse\u001b[39;00m \u001b[38;5;124m\"\u001b[39m\u001b[38;5;124m\"\u001b[39m\n\u001b[1;32m    366\u001b[0m         logger\u001b[38;5;241m.\u001b[39merror(\u001b[38;5;124mf\u001b[39m\u001b[38;5;124m\"\u001b[39m\u001b[38;5;124mFailed to execute query\u001b[39m\u001b[38;5;132;01m{\u001b[39;00mquery_id_log\u001b[38;5;132;01m}\u001b[39;00m\u001b[38;5;124m \u001b[39m\u001b[38;5;132;01m{\u001b[39;00mquery\u001b[38;5;132;01m}\u001b[39;00m\u001b[38;5;130;01m\\n\u001b[39;00m\u001b[38;5;132;01m{\u001b[39;00mex\u001b[38;5;132;01m}\u001b[39;00m\u001b[38;5;124m\"\u001b[39m)\n\u001b[0;32m--> 367\u001b[0m     \u001b[38;5;28;01mraise\u001b[39;00m ex\n\u001b[1;32m    369\u001b[0m \u001b[38;5;66;03m# fetch_pandas_all/batches() only works for SELECT statements\u001b[39;00m\n\u001b[1;32m    370\u001b[0m \u001b[38;5;66;03m# We call fetchall() if fetch_pandas_all/batches() fails,\u001b[39;00m\n\u001b[1;32m    371\u001b[0m \u001b[38;5;66;03m# because when the query plan has multiple queries, it will\u001b[39;00m\n\u001b[1;32m    372\u001b[0m \u001b[38;5;66;03m# have non-select statements, and it shouldn't fail if the user\u001b[39;00m\n\u001b[1;32m    373\u001b[0m \u001b[38;5;66;03m# calls to_pandas() to execute the query.\u001b[39;00m\n\u001b[1;32m    374\u001b[0m \u001b[38;5;28;01mif\u001b[39;00m block:\n",
      "File \u001b[0;32m~/anaconda3/envs/pysnowpark_ml_09_2023/lib/python3.9/site-packages/snowflake/snowpark/_internal/server_connection.py:348\u001b[0m, in \u001b[0;36mServerConnection.run_query\u001b[0;34m(self, query, to_pandas, to_iter, is_ddl_on_temp_object, block, data_type, async_job_plan, log_on_exception, case_sensitive, params, num_statements, **kwargs)\u001b[0m\n\u001b[1;32m    346\u001b[0m     kwargs[\u001b[38;5;124m\"\u001b[39m\u001b[38;5;124m_statement_params\u001b[39m\u001b[38;5;124m\"\u001b[39m][\u001b[38;5;124m\"\u001b[39m\u001b[38;5;124mSNOWPARK_SKIP_TXN_COMMIT_IN_DDL\u001b[39m\u001b[38;5;124m\"\u001b[39m] \u001b[38;5;241m=\u001b[39m \u001b[38;5;28;01mTrue\u001b[39;00m\n\u001b[1;32m    347\u001b[0m \u001b[38;5;28;01mif\u001b[39;00m block:\n\u001b[0;32m--> 348\u001b[0m     results_cursor \u001b[38;5;241m=\u001b[39m \u001b[38;5;28;43mself\u001b[39;49m\u001b[38;5;241;43m.\u001b[39;49m\u001b[43m_cursor\u001b[49m\u001b[38;5;241;43m.\u001b[39;49m\u001b[43mexecute\u001b[49m\u001b[43m(\u001b[49m\u001b[43mquery\u001b[49m\u001b[43m,\u001b[49m\u001b[43m \u001b[49m\u001b[43mparams\u001b[49m\u001b[38;5;241;43m=\u001b[39;49m\u001b[43mparams\u001b[49m\u001b[43m,\u001b[49m\u001b[43m \u001b[49m\u001b[38;5;241;43m*\u001b[39;49m\u001b[38;5;241;43m*\u001b[39;49m\u001b[43mkwargs\u001b[49m\u001b[43m)\u001b[49m\n\u001b[1;32m    349\u001b[0m     \u001b[38;5;28mself\u001b[39m\u001b[38;5;241m.\u001b[39mnotify_query_listeners(\n\u001b[1;32m    350\u001b[0m         QueryRecord(results_cursor\u001b[38;5;241m.\u001b[39msfqid, results_cursor\u001b[38;5;241m.\u001b[39mquery)\n\u001b[1;32m    351\u001b[0m     )\n\u001b[1;32m    352\u001b[0m     logger\u001b[38;5;241m.\u001b[39mdebug(\u001b[38;5;124mf\u001b[39m\u001b[38;5;124m\"\u001b[39m\u001b[38;5;124mExecute query [queryID: \u001b[39m\u001b[38;5;132;01m{\u001b[39;00mresults_cursor\u001b[38;5;241m.\u001b[39msfqid\u001b[38;5;132;01m}\u001b[39;00m\u001b[38;5;124m] \u001b[39m\u001b[38;5;132;01m{\u001b[39;00mquery\u001b[38;5;132;01m}\u001b[39;00m\u001b[38;5;124m\"\u001b[39m)\n",
      "File \u001b[0;32m~/anaconda3/envs/pysnowpark_ml_09_2023/lib/python3.9/site-packages/snowflake/connector/cursor.py:908\u001b[0m, in \u001b[0;36mSnowflakeCursor.execute\u001b[0;34m(self, command, params, _bind_stage, timeout, _exec_async, _no_retry, _do_reset, _put_callback, _put_azure_callback, _put_callback_output_stream, _get_callback, _get_azure_callback, _get_callback_output_stream, _show_progress_bar, _statement_params, _is_internal, _describe_only, _no_results, _is_put_get, _raise_put_get_error, _force_put_overwrite, _skip_upload_on_content_match, file_stream, num_statements)\u001b[0m\n\u001b[1;32m    904\u001b[0m     is_integrity_error \u001b[38;5;241m=\u001b[39m (\n\u001b[1;32m    905\u001b[0m         code \u001b[38;5;241m==\u001b[39m \u001b[38;5;124m\"\u001b[39m\u001b[38;5;124m100072\u001b[39m\u001b[38;5;124m\"\u001b[39m\n\u001b[1;32m    906\u001b[0m     )  \u001b[38;5;66;03m# NULL result in a non-nullable column\u001b[39;00m\n\u001b[1;32m    907\u001b[0m     error_class \u001b[38;5;241m=\u001b[39m IntegrityError \u001b[38;5;28;01mif\u001b[39;00m is_integrity_error \u001b[38;5;28;01melse\u001b[39;00m ProgrammingError\n\u001b[0;32m--> 908\u001b[0m     \u001b[43mError\u001b[49m\u001b[38;5;241;43m.\u001b[39;49m\u001b[43merrorhandler_wrapper\u001b[49m\u001b[43m(\u001b[49m\u001b[38;5;28;43mself\u001b[39;49m\u001b[38;5;241;43m.\u001b[39;49m\u001b[43mconnection\u001b[49m\u001b[43m,\u001b[49m\u001b[43m \u001b[49m\u001b[38;5;28;43mself\u001b[39;49m\u001b[43m,\u001b[49m\u001b[43m \u001b[49m\u001b[43merror_class\u001b[49m\u001b[43m,\u001b[49m\u001b[43m \u001b[49m\u001b[43merrvalue\u001b[49m\u001b[43m)\u001b[49m\n\u001b[1;32m    909\u001b[0m \u001b[38;5;28;01mreturn\u001b[39;00m \u001b[38;5;28mself\u001b[39m\n",
      "File \u001b[0;32m~/anaconda3/envs/pysnowpark_ml_09_2023/lib/python3.9/site-packages/snowflake/connector/errors.py:290\u001b[0m, in \u001b[0;36mError.errorhandler_wrapper\u001b[0;34m(connection, cursor, error_class, error_value)\u001b[0m\n\u001b[1;32m    267\u001b[0m \u001b[38;5;129m@staticmethod\u001b[39m\n\u001b[1;32m    268\u001b[0m \u001b[38;5;28;01mdef\u001b[39;00m \u001b[38;5;21merrorhandler_wrapper\u001b[39m(\n\u001b[1;32m    269\u001b[0m     connection: SnowflakeConnection \u001b[38;5;241m|\u001b[39m \u001b[38;5;28;01mNone\u001b[39;00m,\n\u001b[0;32m   (...)\u001b[0m\n\u001b[1;32m    272\u001b[0m     error_value: \u001b[38;5;28mdict\u001b[39m[\u001b[38;5;28mstr\u001b[39m, Any],\n\u001b[1;32m    273\u001b[0m ) \u001b[38;5;241m-\u001b[39m\u001b[38;5;241m>\u001b[39m \u001b[38;5;28;01mNone\u001b[39;00m:\n\u001b[1;32m    274\u001b[0m \u001b[38;5;250m    \u001b[39m\u001b[38;5;124;03m\"\"\"Error handler wrapper that calls the errorhandler method.\u001b[39;00m\n\u001b[1;32m    275\u001b[0m \n\u001b[1;32m    276\u001b[0m \u001b[38;5;124;03m    Args:\u001b[39;00m\n\u001b[0;32m   (...)\u001b[0m\n\u001b[1;32m    287\u001b[0m \u001b[38;5;124;03m        exception to the first handler in that order.\u001b[39;00m\n\u001b[1;32m    288\u001b[0m \u001b[38;5;124;03m    \"\"\"\u001b[39;00m\n\u001b[0;32m--> 290\u001b[0m     handed_over \u001b[38;5;241m=\u001b[39m \u001b[43mError\u001b[49m\u001b[38;5;241;43m.\u001b[39;49m\u001b[43mhand_to_other_handler\u001b[49m\u001b[43m(\u001b[49m\n\u001b[1;32m    291\u001b[0m \u001b[43m        \u001b[49m\u001b[43mconnection\u001b[49m\u001b[43m,\u001b[49m\n\u001b[1;32m    292\u001b[0m \u001b[43m        \u001b[49m\u001b[43mcursor\u001b[49m\u001b[43m,\u001b[49m\n\u001b[1;32m    293\u001b[0m \u001b[43m        \u001b[49m\u001b[43merror_class\u001b[49m\u001b[43m,\u001b[49m\n\u001b[1;32m    294\u001b[0m \u001b[43m        \u001b[49m\u001b[43merror_value\u001b[49m\u001b[43m,\u001b[49m\n\u001b[1;32m    295\u001b[0m \u001b[43m    \u001b[49m\u001b[43m)\u001b[49m\n\u001b[1;32m    296\u001b[0m     \u001b[38;5;28;01mif\u001b[39;00m \u001b[38;5;129;01mnot\u001b[39;00m handed_over:\n\u001b[1;32m    297\u001b[0m         \u001b[38;5;28;01mraise\u001b[39;00m Error\u001b[38;5;241m.\u001b[39merrorhandler_make_exception(\n\u001b[1;32m    298\u001b[0m             error_class,\n\u001b[1;32m    299\u001b[0m             error_value,\n\u001b[1;32m    300\u001b[0m         )\n",
      "File \u001b[0;32m~/anaconda3/envs/pysnowpark_ml_09_2023/lib/python3.9/site-packages/snowflake/connector/errors.py:345\u001b[0m, in \u001b[0;36mError.hand_to_other_handler\u001b[0;34m(connection, cursor, error_class, error_value)\u001b[0m\n\u001b[1;32m    343\u001b[0m \u001b[38;5;28;01mif\u001b[39;00m cursor \u001b[38;5;129;01mis\u001b[39;00m \u001b[38;5;129;01mnot\u001b[39;00m \u001b[38;5;28;01mNone\u001b[39;00m:\n\u001b[1;32m    344\u001b[0m     cursor\u001b[38;5;241m.\u001b[39mmessages\u001b[38;5;241m.\u001b[39mappend((error_class, error_value))\n\u001b[0;32m--> 345\u001b[0m     \u001b[43mcursor\u001b[49m\u001b[38;5;241;43m.\u001b[39;49m\u001b[43merrorhandler\u001b[49m\u001b[43m(\u001b[49m\u001b[43mconnection\u001b[49m\u001b[43m,\u001b[49m\u001b[43m \u001b[49m\u001b[43mcursor\u001b[49m\u001b[43m,\u001b[49m\u001b[43m \u001b[49m\u001b[43merror_class\u001b[49m\u001b[43m,\u001b[49m\u001b[43m \u001b[49m\u001b[43merror_value\u001b[49m\u001b[43m)\u001b[49m\n\u001b[1;32m    346\u001b[0m     \u001b[38;5;28;01mreturn\u001b[39;00m \u001b[38;5;28;01mTrue\u001b[39;00m\n\u001b[1;32m    347\u001b[0m \u001b[38;5;28;01melif\u001b[39;00m connection \u001b[38;5;129;01mis\u001b[39;00m \u001b[38;5;129;01mnot\u001b[39;00m \u001b[38;5;28;01mNone\u001b[39;00m:\n",
      "File \u001b[0;32m~/anaconda3/envs/pysnowpark_ml_09_2023/lib/python3.9/site-packages/snowflake/connector/errors.py:221\u001b[0m, in \u001b[0;36mError.default_errorhandler\u001b[0;34m(connection, cursor, error_class, error_value)\u001b[0m\n\u001b[1;32m    219\u001b[0m errno \u001b[38;5;241m=\u001b[39m error_value\u001b[38;5;241m.\u001b[39mget(\u001b[38;5;124m\"\u001b[39m\u001b[38;5;124merrno\u001b[39m\u001b[38;5;124m\"\u001b[39m)\n\u001b[1;32m    220\u001b[0m done_format_msg \u001b[38;5;241m=\u001b[39m error_value\u001b[38;5;241m.\u001b[39mget(\u001b[38;5;124m\"\u001b[39m\u001b[38;5;124mdone_format_msg\u001b[39m\u001b[38;5;124m\"\u001b[39m)\n\u001b[0;32m--> 221\u001b[0m \u001b[38;5;28;01mraise\u001b[39;00m error_class(\n\u001b[1;32m    222\u001b[0m     msg\u001b[38;5;241m=\u001b[39merror_value\u001b[38;5;241m.\u001b[39mget(\u001b[38;5;124m\"\u001b[39m\u001b[38;5;124mmsg\u001b[39m\u001b[38;5;124m\"\u001b[39m),\n\u001b[1;32m    223\u001b[0m     errno\u001b[38;5;241m=\u001b[39m\u001b[38;5;28;01mNone\u001b[39;00m \u001b[38;5;28;01mif\u001b[39;00m errno \u001b[38;5;129;01mis\u001b[39;00m \u001b[38;5;28;01mNone\u001b[39;00m \u001b[38;5;28;01melse\u001b[39;00m \u001b[38;5;28mint\u001b[39m(errno),\n\u001b[1;32m    224\u001b[0m     sqlstate\u001b[38;5;241m=\u001b[39merror_value\u001b[38;5;241m.\u001b[39mget(\u001b[38;5;124m\"\u001b[39m\u001b[38;5;124msqlstate\u001b[39m\u001b[38;5;124m\"\u001b[39m),\n\u001b[1;32m    225\u001b[0m     sfqid\u001b[38;5;241m=\u001b[39merror_value\u001b[38;5;241m.\u001b[39mget(\u001b[38;5;124m\"\u001b[39m\u001b[38;5;124msfqid\u001b[39m\u001b[38;5;124m\"\u001b[39m),\n\u001b[1;32m    226\u001b[0m     query\u001b[38;5;241m=\u001b[39merror_value\u001b[38;5;241m.\u001b[39mget(\u001b[38;5;124m\"\u001b[39m\u001b[38;5;124mquery\u001b[39m\u001b[38;5;124m\"\u001b[39m),\n\u001b[1;32m    227\u001b[0m     done_format_msg\u001b[38;5;241m=\u001b[39m(\n\u001b[1;32m    228\u001b[0m         \u001b[38;5;28;01mNone\u001b[39;00m \u001b[38;5;28;01mif\u001b[39;00m done_format_msg \u001b[38;5;129;01mis\u001b[39;00m \u001b[38;5;28;01mNone\u001b[39;00m \u001b[38;5;28;01melse\u001b[39;00m \u001b[38;5;28mbool\u001b[39m(done_format_msg)\n\u001b[1;32m    229\u001b[0m     ),\n\u001b[1;32m    230\u001b[0m     connection\u001b[38;5;241m=\u001b[39mconnection,\n\u001b[1;32m    231\u001b[0m     cursor\u001b[38;5;241m=\u001b[39mcursor,\n\u001b[1;32m    232\u001b[0m )\n",
      "\u001b[0;31mSnowparkSQLException\u001b[0m: (1304): 01b05f26-0001-e429-001c-dd8702443856: 002002 (42710): SQL compilation error:\nObject 'SKHARA_COMPUTE_GPU3' already exists."
     ]
    }
   ],
   "source": [
    "session.sql('''CREATE COMPUTE POOL SKHARA_COMPUTE_GPU3\n",
    "MIN_NODES = 1\n",
    "MAX_NODES = 1\n",
    "INSTANCE_FAMILY = \"GPU_3\"\n",
    "''').collect()"
   ]
  },
  {
   "cell_type": "code",
   "execution_count": null,
   "id": "9f6d609d-279a-400b-bffb-db76f659baed",
   "metadata": {},
   "outputs": [],
   "source": [
    "session.sql(''"
   ]
  },
  {
   "cell_type": "markdown",
   "id": "0ab3957c-b5a2-4f0b-ba38-c017efba4ecd",
   "metadata": {},
   "source": [
    "# 1.0 LLAMA Model Setup"
   ]
  },
  {
   "cell_type": "markdown",
   "id": "44cbe0fe-4b01-48a0-9224-6bb607dc4d0a",
   "metadata": {},
   "source": [
    "## 1.1 Load LLAMA Model"
   ]
  },
  {
   "cell_type": "code",
   "execution_count": 6,
   "id": "91d1f137-c1f7-41ce-92c2-45aead415145",
   "metadata": {},
   "outputs": [],
   "source": [
    "HF_AUTH_TOKEN = \"\" #Your token from Hugging Face"
   ]
  },
  {
   "cell_type": "code",
   "execution_count": 7,
   "id": "3f79b171-c59a-48a6-9132-2d9f94f2869b",
   "metadata": {},
   "outputs": [],
   "source": [
    "# from transformers import pipeline\n",
    "from snowflake.ml.model.models import huggingface_pipeline\n",
    "\n",
    "llama_model = huggingface_pipeline.HuggingFacePipelineModel(task=\"text-generation\",\n",
    "                                                            model=\"meta-llama/Llama-2-7b-chat-hf\",\n",
    "                                                            token=HF_AUTH_TOKEN,\n",
    "                                                            return_full_text=False,\n",
    "                                                            max_new_tokens=100)"
   ]
  },
  {
   "cell_type": "code",
   "execution_count": 8,
   "id": "9441ff24-d65b-4678-bdd6-0956b31d6788",
   "metadata": {},
   "outputs": [
    {
     "data": {
      "text/plain": [
       "48"
      ]
     },
     "execution_count": 8,
     "metadata": {},
     "output_type": "execute_result"
    }
   ],
   "source": [
    "sys.getsizeof(llama_model)"
   ]
  },
  {
   "cell_type": "markdown",
   "id": "498b5b02-ee82-4203-90b1-729082c9b9d3",
   "metadata": {},
   "source": [
    "## 1.2 Register the model"
   ]
  },
  {
   "cell_type": "code",
   "execution_count": 9,
   "id": "be126725-457c-45b8-8888-c3a0e1c80ba1",
   "metadata": {},
   "outputs": [
    {
     "name": "stderr",
     "output_type": "stream",
     "text": [
      "create_model_registry() is in private preview since 0.2.0. Do not use it in production. \n",
      "WARNING:absl:The database SKHARA already exists. Skipping creation.\n",
      "WARNING:absl:The schema SKHARA.BUILD_REGISTRY already exists. Skipping creation.\n"
     ]
    }
   ],
   "source": [
    "registry_name = 'SKHARA' #Replace this with the name of a database that you have access to\n",
    "schema_name = 'BUILD_REGISTRY'\n",
    "\n",
    "model_registry.create_model_registry(session= session,\n",
    "                                     database_name= registry_name,\n",
    "                                     schema_name= schema_name)\n",
    "\n",
    "registry = model_registry.ModelRegistry(session= session,\n",
    "                                        database_name= registry_name,\n",
    "                                        schema_name= schema_name)"
   ]
  },
  {
   "cell_type": "code",
   "execution_count": 21,
   "id": "54bbce04-1567-4d4f-b014-31306cdbad08",
   "metadata": {},
   "outputs": [
    {
     "ename": "DataError",
     "evalue": "(0000) Model LLAMA2_MODEL_7b_CHAT/12 already exists. Unable to log the model.",
     "output_type": "error",
     "traceback": [
      "\u001b[0;31m---------------------------------------------------------------------------\u001b[0m",
      "\u001b[0;31mSnowflakeMLException\u001b[0m                      Traceback (most recent call last)",
      "\u001b[0;31mSnowflakeMLException\u001b[0m: (0000) Model LLAMA2_MODEL_7b_CHAT/12 already exists. Unable to log the model.",
      "\nThe above exception was the direct cause of the following exception:\n",
      "\u001b[0;31mDataError\u001b[0m                                 Traceback (most recent call last)",
      "Cell \u001b[0;32mIn[21], line 4\u001b[0m\n\u001b[1;32m      1\u001b[0m MODEL_NAME \u001b[38;5;241m=\u001b[39m \u001b[38;5;124m\"\u001b[39m\u001b[38;5;124mLLAMA2_MODEL_7b_CHAT\u001b[39m\u001b[38;5;124m\"\u001b[39m\n\u001b[1;32m      2\u001b[0m MODEL_VERSION \u001b[38;5;241m=\u001b[39m \u001b[38;5;124m\"\u001b[39m\u001b[38;5;124m12\u001b[39m\u001b[38;5;124m\"\u001b[39m\n\u001b[0;32m----> 4\u001b[0m llama_model_ref\u001b[38;5;241m=\u001b[39m \u001b[43mregistry\u001b[49m\u001b[38;5;241;43m.\u001b[39;49m\u001b[43mlog_model\u001b[49m\u001b[43m(\u001b[49m\n\u001b[1;32m      5\u001b[0m \u001b[43m    \u001b[49m\u001b[43mmodel_name\u001b[49m\u001b[38;5;241;43m=\u001b[39;49m\u001b[43mMODEL_NAME\u001b[49m\u001b[43m,\u001b[49m\n\u001b[1;32m      6\u001b[0m \u001b[43m    \u001b[49m\u001b[43mmodel_version\u001b[49m\u001b[38;5;241;43m=\u001b[39;49m\u001b[43mMODEL_VERSION\u001b[49m\u001b[43m,\u001b[49m\n\u001b[1;32m      7\u001b[0m \u001b[43m    \u001b[49m\u001b[43mmodel\u001b[49m\u001b[38;5;241;43m=\u001b[39;49m\u001b[43mllama_model\u001b[49m\n\u001b[1;32m      8\u001b[0m \u001b[43m)\u001b[49m\n\u001b[1;32m     10\u001b[0m llama_model_ref\n",
      "File \u001b[0;32m~/anaconda3/envs/pysnowpark_ml_09_2023/lib/python3.9/site-packages/snowflake/ml/_internal/telemetry.py:330\u001b[0m, in \u001b[0;36msend_api_usage_telemetry.<locals>.decorator.<locals>.wrap\u001b[0;34m(*args, **kwargs)\u001b[0m\n\u001b[1;32m    328\u001b[0m         \u001b[38;5;28;01mraise\u001b[39;00m e\u001b[38;5;241m.\u001b[39moriginal_exception \u001b[38;5;28;01mfrom\u001b[39;00m \u001b[38;5;28;01mNone\u001b[39;00m\n\u001b[1;32m    329\u001b[0m     \u001b[38;5;28;01melse\u001b[39;00m:\n\u001b[0;32m--> 330\u001b[0m         \u001b[38;5;28;01mraise\u001b[39;00m e\u001b[38;5;241m.\u001b[39moriginal_exception \u001b[38;5;28;01mfrom\u001b[39;00m \u001b[38;5;21;01me\u001b[39;00m\n\u001b[1;32m    331\u001b[0m \u001b[38;5;28;01melse\u001b[39;00m:\n\u001b[1;32m    332\u001b[0m     \u001b[38;5;28;01mreturn\u001b[39;00m res\n",
      "\u001b[0;31mDataError\u001b[0m: (0000) Model LLAMA2_MODEL_7b_CHAT/12 already exists. Unable to log the model."
     ]
    }
   ],
   "source": [
    "MODEL_NAME = \"LLAMA2_MODEL_7b_CHAT\"\n",
    "MODEL_VERSION = \"12\"\n",
    "\n",
    "llama_model_ref= registry.log_model(\n",
    "    model_name=MODEL_NAME,\n",
    "    model_version=MODEL_VERSION,\n",
    "    model=llama_model\n",
    ")\n",
    "\n",
    "llama_model_ref"
   ]
  },
  {
   "cell_type": "markdown",
   "id": "ca777a9d-b01a-4a5f-b547-2e6661780a0b",
   "metadata": {},
   "source": [
    "## 1.3 Deploy Model\n",
    "\n",
    "Pre-req: create a GPU compute pool"
   ]
  },
  {
   "cell_type": "code",
   "execution_count": 19,
   "id": "01eee5d7-a159-4c8f-a882-60455526b4d8",
   "metadata": {},
   "outputs": [
    {
     "data": {
      "text/plain": [
       "[Row(name='SKHARA_COMPUTE_GPU3', state='ACTIVE', min_nodes=1, max_nodes=1, instance_family='GPU_3', num_services=1, num_jobs=0, auto_suspend_secs=3600, auto_resume='true', active_nodes=1, idle_nodes=0, created_on=datetime.datetime(2023, 10, 31, 13, 28, 56, 790000, tzinfo=<DstTzInfo 'America/Los_Angeles' PDT-1 day, 17:00:00 DST>), resumed_on=datetime.datetime(2023, 11, 13, 8, 52, 44, 225000, tzinfo=<DstTzInfo 'America/Los_Angeles' PST-1 day, 16:00:00 STD>), updated_on=datetime.datetime(2023, 11, 13, 9, 47, 41, 209000, tzinfo=<DstTzInfo 'America/Los_Angeles' PST-1 day, 16:00:00 STD>), owner='SPC_USER_ROLE', comment=None),\n",
       " Row(name='SKHARA_COMPUTE_GPU5', state='SUSPENDED', min_nodes=1, max_nodes=1, instance_family='GPU_5', num_services=1, num_jobs=0, auto_suspend_secs=3600, auto_resume='true', active_nodes=0, idle_nodes=0, created_on=datetime.datetime(2023, 11, 1, 15, 20, 23, 967000, tzinfo=<DstTzInfo 'America/Los_Angeles' PDT-1 day, 17:00:00 DST>), resumed_on=datetime.datetime(2023, 11, 6, 6, 45, 9, 142000, tzinfo=<DstTzInfo 'America/Los_Angeles' PST-1 day, 16:00:00 STD>), updated_on=datetime.datetime(2023, 11, 13, 9, 26, 48, 993000, tzinfo=<DstTzInfo 'America/Los_Angeles' PST-1 day, 16:00:00 STD>), owner='SPC_USER_ROLE', comment=None),\n",
       " Row(name='SKHARA_COMPUTE_GPU7', state='SUSPENDED', min_nodes=1, max_nodes=1, instance_family='GPU_7', num_services=0, num_jobs=0, auto_suspend_secs=0, auto_resume='true', active_nodes=0, idle_nodes=0, created_on=datetime.datetime(2023, 10, 16, 13, 42, 37, 390000, tzinfo=<DstTzInfo 'America/Los_Angeles' PDT-1 day, 17:00:00 DST>), resumed_on=datetime.datetime(2023, 11, 1, 9, 17, 55, 791000, tzinfo=<DstTzInfo 'America/Los_Angeles' PDT-1 day, 17:00:00 DST>), updated_on=datetime.datetime(2023, 11, 13, 9, 32, 48, 516000, tzinfo=<DstTzInfo 'America/Los_Angeles' PST-1 day, 16:00:00 STD>), owner='SPC_USER_ROLE', comment=None)]"
      ]
     },
     "execution_count": 19,
     "metadata": {},
     "output_type": "execute_result"
    }
   ],
   "source": [
    "# Check if compute pool is ready. It may take some time for the compute resource to be ready.\n",
    "session.sql('''Show compute pools like 'SKHARA_%';''').collect()"
   ]
  },
  {
   "cell_type": "code",
   "execution_count": 20,
   "id": "236dee2f-1d53-4e63-868b-1533e3d1d06a",
   "metadata": {},
   "outputs": [
    {
     "ename": "TypeError",
     "evalue": "(0000) deploy() got an unexpected keyword argument 'force_image_build'",
     "output_type": "error",
     "traceback": [
      "\u001b[0;31m---------------------------------------------------------------------------\u001b[0m",
      "\u001b[0;31mSnowflakeMLException\u001b[0m                      Traceback (most recent call last)",
      "\u001b[0;31mSnowflakeMLException\u001b[0m: TypeError(\"(0000) deploy() got an unexpected keyword argument 'force_image_build'\")",
      "\nThe above exception was the direct cause of the following exception:\n",
      "\u001b[0;31mTypeError\u001b[0m                                 Traceback (most recent call last)",
      "File \u001b[0;32m<timed eval>:1\u001b[0m\n",
      "File \u001b[0;32m~/anaconda3/envs/pysnowpark_ml_09_2023/lib/python3.9/site-packages/snowflake/ml/registry/model_registry.py:1861\u001b[0m, in \u001b[0;36mModelReference.__init__.<locals>.build_method.<locals>.<lambda>\u001b[0;34m(self, *args, **kwargs)\u001b[0m\n\u001b[1;32m   1860\u001b[0m \u001b[38;5;28;01mdef\u001b[39;00m \u001b[38;5;21mbuild_method\u001b[39m(m: Callable[\u001b[38;5;241m.\u001b[39m\u001b[38;5;241m.\u001b[39m\u001b[38;5;241m.\u001b[39m, Any]) \u001b[38;5;241m-\u001b[39m\u001b[38;5;241m>\u001b[39m Callable[\u001b[38;5;241m.\u001b[39m\u001b[38;5;241m.\u001b[39m\u001b[38;5;241m.\u001b[39m, Any]:\n\u001b[0;32m-> 1861\u001b[0m     \u001b[38;5;28;01mreturn\u001b[39;00m \u001b[38;5;28;01mlambda\u001b[39;00m \u001b[38;5;28mself\u001b[39m, \u001b[38;5;241m*\u001b[39margs, \u001b[38;5;241m*\u001b[39m\u001b[38;5;241m*\u001b[39mkwargs: \u001b[43mm\u001b[49m\u001b[43m(\u001b[49m\n\u001b[1;32m   1862\u001b[0m \u001b[43m        \u001b[49m\u001b[38;5;28;43mself\u001b[39;49m\u001b[38;5;241;43m.\u001b[39;49m\u001b[43m_registry\u001b[49m\u001b[43m,\u001b[49m\u001b[43m \u001b[49m\u001b[38;5;28;43mself\u001b[39;49m\u001b[38;5;241;43m.\u001b[39;49m\u001b[43m_model_name\u001b[49m\u001b[43m,\u001b[49m\u001b[43m \u001b[49m\u001b[38;5;28;43mself\u001b[39;49m\u001b[38;5;241;43m.\u001b[39;49m\u001b[43m_model_version\u001b[49m\u001b[43m,\u001b[49m\u001b[43m \u001b[49m\u001b[38;5;241;43m*\u001b[39;49m\u001b[43margs\u001b[49m\u001b[43m,\u001b[49m\u001b[43m \u001b[49m\u001b[38;5;241;43m*\u001b[39;49m\u001b[38;5;241;43m*\u001b[39;49m\u001b[43mkwargs\u001b[49m\n\u001b[1;32m   1863\u001b[0m \u001b[43m    \u001b[49m\u001b[43m)\u001b[49m\n",
      "File \u001b[0;32m~/anaconda3/envs/pysnowpark_ml_09_2023/lib/python3.9/site-packages/snowflake/ml/_internal/telemetry.py:330\u001b[0m, in \u001b[0;36msend_api_usage_telemetry.<locals>.decorator.<locals>.wrap\u001b[0;34m(*args, **kwargs)\u001b[0m\n\u001b[1;32m    328\u001b[0m         \u001b[38;5;28;01mraise\u001b[39;00m e\u001b[38;5;241m.\u001b[39moriginal_exception \u001b[38;5;28;01mfrom\u001b[39;00m \u001b[38;5;28;01mNone\u001b[39;00m\n\u001b[1;32m    329\u001b[0m     \u001b[38;5;28;01melse\u001b[39;00m:\n\u001b[0;32m--> 330\u001b[0m         \u001b[38;5;28;01mraise\u001b[39;00m e\u001b[38;5;241m.\u001b[39moriginal_exception \u001b[38;5;28;01mfrom\u001b[39;00m \u001b[38;5;21;01me\u001b[39;00m\n\u001b[1;32m    331\u001b[0m \u001b[38;5;28;01melse\u001b[39;00m:\n\u001b[1;32m    332\u001b[0m     \u001b[38;5;28;01mreturn\u001b[39;00m res\n",
      "\u001b[0;31mTypeError\u001b[0m: (0000) deploy() got an unexpected keyword argument 'force_image_build'"
     ]
    }
   ],
   "source": [
    "%%time\n",
    "llama_model_ref.deploy(\n",
    "    deployment_name=\"llama_predict\",\n",
    "    platform= deploy_platforms.TargetPlatform.SNOWPARK_CONTAINER_SERVICES,\n",
    "    options={\"compute_pool\": \"SKHARA_COMPUTE_GPU3\",\n",
    "             \"num_gpus\": 1\n",
    "            },\n",
    "    permanent = True,\n",
    ")"
   ]
  },
  {
   "cell_type": "code",
   "execution_count": 23,
   "id": "3c255931-9e47-43e8-b3be-81f47fb44112",
   "metadata": {},
   "outputs": [
    {
     "data": {
      "text/plain": [
       "[]"
      ]
     },
     "execution_count": 23,
     "metadata": {},
     "output_type": "execute_result"
    }
   ],
   "source": [
    "session.sql('show services').collect()"
   ]
  },
  {
   "attachments": {},
   "cell_type": "markdown",
   "id": "b3c4148d-7a15-46be-aa49-2915999b06d9",
   "metadata": {},
   "source": [
    "# 2.0 Data Processing\n",
    "\n",
    "We will load a JSON file to a Snowflake Table. For prediction purposes, we have two options - use Snowpark DataFrame or use Local Pandas DataFrame.\n",
    "\n",
    "Snowpark dataframes allow us to work at scale and enable us to keep the data on server side without ever bringing data locally."
   ]
  },
  {
   "cell_type": "markdown",
   "id": "672a5f2b-872d-401f-b665-f12dbf67f333",
   "metadata": {},
   "source": [
    "## 2.1 Load Data\n",
    "\n",
    "In this lab, you do not have the required data in Snowflake so we will load a local .csv file to Snowflake using snowflake-snowpark library."
   ]
  },
  {
   "cell_type": "code",
   "execution_count": null,
   "id": "130484b8-0d6f-4ca7-ab4a-b3cacfdd9f7e",
   "metadata": {},
   "outputs": [],
   "source": [
    "json_dataset = pd.read_json(\"data/frosty_transcripts_all.jsonl\", lines=True).convert_dtypes()\n",
    "json_dataset.head()"
   ]
  },
  {
   "cell_type": "code",
   "execution_count": null,
   "id": "205abcb5-a356-4f5f-aa86-621993957db7",
   "metadata": {},
   "outputs": [],
   "source": [
    "dict(json_dataset.iloc[0])"
   ]
  },
  {
   "cell_type": "code",
   "execution_count": null,
   "id": "825f7214-f405-4748-bf24-51e4910e777a",
   "metadata": {},
   "outputs": [],
   "source": [
    "TABLE_NAME = \"BUILD_HOL_DATA\"\n",
    "session.write_pandas(json_dataset, table_name=TABLE_NAME, auto_create_table=True, overwrite=True)"
   ]
  },
  {
   "cell_type": "markdown",
   "id": "265cfa22-b448-483e-a6f1-9577217a92bd",
   "metadata": {},
   "source": [
    "## 2.2 Input: Prompt Engineering"
   ]
  },
  {
   "cell_type": "code",
   "execution_count": null,
   "id": "56c11758-a3c9-44d2-976b-7619526359f1",
   "metadata": {
    "scrolled": true
   },
   "outputs": [],
   "source": [
    "# I am going to bring 2 rows from the data to my local machine to create the prompt examples.\n",
    "sdf_input = session.table('BUILD_HOL_DATA')\n",
    "df_local = sdf_input.limit(2).to_pandas()\n",
    "df_local.head()"
   ]
  },
  {
   "cell_type": "code",
   "execution_count": null,
   "id": "ce4a2e10-6854-4a88-aac9-a88f767a1b9b",
   "metadata": {},
   "outputs": [],
   "source": [
    "prompt_prefix = f'''[INST] <<SYS>>\n",
    "Your output will be parsed by a computer program as a JSON object. Please respond ONLY with valid json that conforms to this JSON schema:\n",
    "{{\n",
    "  \"name\": {{\n",
    "    \"type\": \"string\",\n",
    "    \"description\": \"The name of the person calling\"\n",
    "  }},\n",
    "  \"location\": {{\n",
    "    \"type\": \"string\",\n",
    "    \"description\": \"The name of the location where the person is calling from.\"\n",
    "  }},\n",
    "  \"toy_list\": {{\n",
    "    \"type\": \"array\",\n",
    "    \"description\": \"The list of toys requested by the person calling.\"\n",
    "  }},\n",
    "  \"required\": [\"name\", \"location\", \"toy_list\"]\n",
    "}}\n",
    "\n",
    "Example 1:\n",
    "Input: \"{df_local['transcript'].iloc[0]}\"\n",
    "Output: {{\"name\": {df_local['name'].iloc[0]}, \"location\": {df_local['location'].iloc[0]}, \"toy_list\": {df_local['toy_list'].iloc[0]}}}\n",
    "\n",
    "Example 2:\n",
    "Input: \"{df_local['transcript'].iloc[1]}\"\n",
    "Output: {{\"name\": {df_local['name'].iloc[1]}, \"location\": {df_local['location'].iloc[1]}, \"toy_list\": {df_local['toy_list'].iloc[1]}}}\n",
    "<</SYS>>\n",
    "\n",
    "Input:\n",
    "\n",
    "'''\n",
    "\n",
    "prompt_suffix = \" [/INST]\""
   ]
  },
  {
   "cell_type": "code",
   "execution_count": null,
   "id": "b67c44a4-def1-4f7e-a347-0993d46a39eb",
   "metadata": {},
   "outputs": [],
   "source": [
    "import snowflake.snowpark.functions as F\n",
    "\n",
    "input_df = sdf_input.with_column(\n",
    "    '\"inputs\"',\n",
    "    F.concat_ws(\n",
    "        F.lit(\" \"), F.lit(prompt_prefix), F.col('\"transcript\"'), F.lit(prompt_suffix)\n",
    "    ),\n",
    ")"
   ]
  },
  {
   "cell_type": "code",
   "execution_count": null,
   "id": "0f98f90d-8904-4f84-b96f-d12ea0ce8ad8",
   "metadata": {},
   "outputs": [],
   "source": [
    "input_df.write.mode(\"overwrite\").save_as_table(\"DATA_WITH_PROMPT\")"
   ]
  },
  {
   "cell_type": "code",
   "execution_count": null,
   "id": "f34bb6b5-10b1-4987-b0ad-36fa3fb1e161",
   "metadata": {},
   "outputs": [],
   "source": [
    "# df_local['inputs'] = df_local['transcript'].apply(add_prompt)\n",
    "# print(df_local['inputs'].iloc[3])"
   ]
  },
  {
   "cell_type": "markdown",
   "id": "cf85c1c9-1300-46db-982f-071fc3f7900c",
   "metadata": {},
   "source": [
    "# 3.0 LLM Inference"
   ]
  },
  {
   "cell_type": "markdown",
   "id": "a4ddb75b-0726-4625-b82e-31a3eb0dc891",
   "metadata": {},
   "source": [
    "## 3.1 Get Deployed Model"
   ]
  },
  {
   "cell_type": "code",
   "execution_count": null,
   "id": "ca1c6631-8dd5-4e1f-841e-4af9cd1feb47",
   "metadata": {},
   "outputs": [],
   "source": [
    "REGISTRY_NAME = 'SKHARA'\n",
    "SCHEMA_NAME = 'BUILD_REGISTRY'\n",
    "MODEL_NAME = 'LLAMA2_MODEL_7b_CHAT'\n",
    "MODEL_VERSION = '7'\n",
    "DEPLOYMENT_NAME = 'llama_predict'"
   ]
  },
  {
   "cell_type": "code",
   "execution_count": null,
   "id": "7fb7f9f2",
   "metadata": {},
   "outputs": [],
   "source": [
    "registry = model_registry.ModelRegistry(session= session,\n",
    "                                        database_name= REGISTRY_NAME,\n",
    "                                        schema_name= SCHEMA_NAME)"
   ]
  },
  {
   "cell_type": "code",
   "execution_count": null,
   "id": "c94b5689-c8d3-4950-ae1a-6f21a43f3ac6",
   "metadata": {},
   "outputs": [],
   "source": [
    "model_list = registry.list_models()\n",
    "model_list.to_pandas()"
   ]
  },
  {
   "cell_type": "code",
   "execution_count": null,
   "id": "9003c94f-6954-4449-bdbf-697e25add6fe",
   "metadata": {},
   "outputs": [],
   "source": [
    "model_list = registry.list_deployments(model_name = MODEL_NAME, model_version = MODEL_VERSION)\n",
    "model_list.to_pandas()"
   ]
  },
  {
   "cell_type": "code",
   "execution_count": null,
   "id": "65793fa7-e3d0-4f48-b472-666a36ebc802",
   "metadata": {},
   "outputs": [],
   "source": [
    "model = model_registry.ModelReference(registry=registry, model_name=MODEL_NAME, model_version=MODEL_VERSION)"
   ]
  },
  {
   "cell_type": "markdown",
   "id": "0419ae9d-dcd4-4137-8948-611d7315e351",
   "metadata": {},
   "source": [
    "## 3.2 Inference using LLMs"
   ]
  },
  {
   "cell_type": "code",
   "execution_count": null,
   "id": "19840f05-c7db-4f57-b6dd-c581f5d1bc45",
   "metadata": {},
   "outputs": [],
   "source": [
    "sdf_data_prompt = session.table('DATA_WITH_PROMPT')\n",
    "sdf_data_prompt.limit(2).to_pandas()"
   ]
  },
  {
   "cell_type": "code",
   "execution_count": null,
   "id": "b12d55c0-565c-4988-94d1-49f8f88bf32a",
   "metadata": {},
   "outputs": [],
   "source": [
    "session.sql('SHOW COMPUTE POOLS').collect()"
   ]
  },
  {
   "cell_type": "code",
   "execution_count": null,
   "id": "d97059d4-bd1c-4eb7-83b9-c2221fabfb7e",
   "metadata": {},
   "outputs": [],
   "source": [
    "res = model.predict(\n",
    "    deployment_name= DEPLOYMENT_NAME,\n",
    "    data= sdf_data_prompt\n",
    ")"
   ]
  },
  {
   "cell_type": "code",
   "execution_count": null,
   "id": "1c2dc47e-6ea8-4b7b-b0be-9ec6e897bcef",
   "metadata": {},
   "outputs": [],
   "source": [
    "df_local = res.limit(5).to_pandas() #bring 5 rows locally"
   ]
  },
  {
   "cell_type": "markdown",
   "id": "95a5d0c1-c080-4f65-84e1-51f6e1cd1c78",
   "metadata": {},
   "source": [
    "## 3.3 Output Processing\n",
    "Ensure that processing code conforms to the JSON Structure provided during Prompt Engineering."
   ]
  },
  {
   "cell_type": "code",
   "execution_count": null,
   "id": "6ffb8d94-2f4e-40ef-b18e-cc53ad388f54",
   "metadata": {},
   "outputs": [],
   "source": [
    "import json\n",
    "\n",
    "def format_output(output_string):\n",
    "    try:\n",
    "        # Step 1: Parse the outer string to convert it to a list of dictionaries\n",
    "        outer_list = json.loads(output_string)\n",
    "        \n",
    "        # Step 2: Extract the 'generated_text' value from the first dictionary in the list\n",
    "        generated_text_str = outer_list[0]['generated_text']\n",
    "        \n",
    "        # Step 3: Locate the JSON object within the 'generated_text' value\n",
    "        start_pos = generated_text_str.find('{')\n",
    "        end_pos = generated_text_str.rfind('}')\n",
    "        if start_pos == -1 or end_pos == -1:\n",
    "            raise ValueError(\"No JSON object found in generated_text\")\n",
    "        json_str = generated_text_str[start_pos:end_pos + 1]\n",
    "        \n",
    "        # Step 4: Parse the JSON object to convert it to a dictionary\n",
    "        json_obj = json.loads(json_str)\n",
    "        \n",
    "        return json_obj\n",
    "    except:\n",
    "        return 'Could not parse output'"
   ]
  },
  {
   "cell_type": "code",
   "execution_count": null,
   "id": "a4fe9654-f53b-4864-9c65-c6477f3f2d1a",
   "metadata": {},
   "outputs": [],
   "source": [
    "for i in range(len(df_local)):\n",
    "    print(f'\\n\\n **** Transcript # {i} ****')\n",
    "    print(df_local['transcript'].iloc[i])\n",
    "    print('\\n')\n",
    "    print(format_output(df_local['outputs'].iloc[i]))"
   ]
  },
  {
   "cell_type": "markdown",
   "id": "0f363428-d07a-40cd-9235-a5dbfa88f056",
   "metadata": {},
   "source": [
    "# 4.0 Clean Up"
   ]
  },
  {
   "cell_type": "code",
   "execution_count": null,
   "id": "ca145dcd-db7e-4296-8153-8678f2d42256",
   "metadata": {},
   "outputs": [],
   "source": [
    "model.delete_deployment(deployment_name=DEPLOYMENT_NAME)"
   ]
  },
  {
   "cell_type": "code",
   "execution_count": null,
   "id": "a5a07b0c-4e6a-4f94-82e5-c9de5a5d169f",
   "metadata": {},
   "outputs": [],
   "source": [
    "session.sql(\"ALTER COMPUTE POOL IF EXISTS SKHARA_COMPUTE_GPU3 STOP ALL\").collect()"
   ]
  }
 ],
 "metadata": {
  "kernelspec": {
   "display_name": "Python 3 (ipykernel)",
   "language": "python",
   "name": "python3"
  },
  "language_info": {
   "codemirror_mode": {
    "name": "ipython",
    "version": 3
   },
   "file_extension": ".py",
   "mimetype": "text/x-python",
   "name": "python",
   "nbconvert_exporter": "python",
   "pygments_lexer": "ipython3",
   "version": "3.9.17"
  }
 },
 "nbformat": 4,
 "nbformat_minor": 5
}
