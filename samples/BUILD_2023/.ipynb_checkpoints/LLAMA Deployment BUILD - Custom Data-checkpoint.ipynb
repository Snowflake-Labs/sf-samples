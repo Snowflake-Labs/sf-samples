{
 "cells": [
  {
   "cell_type": "markdown",
   "id": "d68878a7-ebc2-412f-8476-881e7c876a64",
   "metadata": {},
   "source": [
    "Article for inspiration: https://www.snowflake.com/blog/container-services-llama2-snowpark-ml/"
   ]
  },
  {
   "cell_type": "markdown",
   "id": "03904ddc-c9b8-4540-aa5f-312f3a9a1b4b",
   "metadata": {},
   "source": [
    "# 0.0 Pre-Reqs"
   ]
  },
  {
   "cell_type": "code",
   "execution_count": null,
   "id": "11e6af3e-d311-49ba-ba7e-f379b1c9f776",
   "metadata": {},
   "outputs": [],
   "source": [
    "from snowflake.snowpark.session import Session\n",
    "from snowflake.ml.registry import model_registry\n",
    "from snowflake.ml.model import deploy_platforms\n",
    "\n",
    "import os\n",
    "import json\n",
    "import sys\n",
    "import pandas as pd\n",
    "\n",
    "import warnings\n",
    "warnings.filterwarnings(\"ignore\")"
   ]
  },
  {
   "cell_type": "code",
   "execution_count": null,
   "id": "f421d77c-5053-48dc-b9c6-703801d71b6d",
   "metadata": {},
   "outputs": [],
   "source": [
    "connection_parameters = json.load(open('/Users/skhara/Documents/Code/creds_spcs.json'))\n",
    "session = Session.builder.configs(connection_parameters).create()"
   ]
  },
  {
   "cell_type": "markdown",
   "id": "df5c9d19-c103-4352-8e91-1bb46c80c30b",
   "metadata": {},
   "source": [
    "#### Compute Pool\n",
    "A compute pool is a collection of virtual machines or nodes which can have GPUs.\n",
    "This process takes time.\n",
    "\n",
    "#### Learn More:\n",
    "https://medium.com/snowflake/snowpark-container-services-a-tech-primer-99ff2ca8e741#:~:text=my_image%3Alatest-,Compute%20Pools,-A%20service%20in"
   ]
  },
  {
   "cell_type": "code",
   "execution_count": null,
   "id": "74d941c3-252d-4fda-bc2e-4d4d2cf3ddb7",
   "metadata": {
    "scrolled": true
   },
   "outputs": [],
   "source": [
    "session.sql('''CREATE COMPUTE POOL SKHARA_COMPUTE_GPU3\n",
    "MIN_NODES = 1\n",
    "MAX_NODES = 1\n",
    "INSTANCE_FAMILY = \"GPU_3\"\n",
    "''').collect()"
   ]
  },
  {
   "cell_type": "markdown",
   "id": "0ab3957c-b5a2-4f0b-ba38-c017efba4ecd",
   "metadata": {},
   "source": [
    "# 1.0 LLAMA Model Setup"
   ]
  },
  {
   "cell_type": "markdown",
   "id": "44cbe0fe-4b01-48a0-9224-6bb607dc4d0a",
   "metadata": {},
   "source": [
    "## 1.1 Load LLAMA Model"
   ]
  },
  {
   "cell_type": "code",
   "execution_count": null,
   "id": "91d1f137-c1f7-41ce-92c2-45aead415145",
   "metadata": {},
   "outputs": [],
   "source": [
    "HF_AUTH_TOKEN = \"\" #Your token from Hugging Face"
   ]
  },
  {
   "cell_type": "code",
   "execution_count": null,
   "id": "3f79b171-c59a-48a6-9132-2d9f94f2869b",
   "metadata": {},
   "outputs": [],
   "source": [
    "# from transformers import pipeline\n",
    "from snowflake.ml.model.models import huggingface_pipeline\n",
    "\n",
    "llama_model = huggingface_pipeline.HuggingFacePipelineModel(task=\"text-generation\",\n",
    "                                                            model=\"meta-llama/Llama-2-7b-chat-hf\",\n",
    "                                                            token=HF_AUTH_TOKEN,\n",
    "                                                            return_full_text=False,\n",
    "                                                            max_new_tokens=100)"
   ]
  },
  {
   "cell_type": "code",
   "execution_count": null,
   "id": "9441ff24-d65b-4678-bdd6-0956b31d6788",
   "metadata": {},
   "outputs": [],
   "source": [
    "sys.getsizeof(llama_model)"
   ]
  },
  {
   "cell_type": "markdown",
   "id": "498b5b02-ee82-4203-90b1-729082c9b9d3",
   "metadata": {},
   "source": [
    "## 1.2 Register the model"
   ]
  },
  {
   "cell_type": "code",
   "execution_count": null,
   "id": "be126725-457c-45b8-8888-c3a0e1c80ba1",
   "metadata": {},
   "outputs": [],
   "source": [
    "registry_name = 'SKHARA' #Replace this with the name of a database that you have access to\n",
    "schema_name = 'BUILD_REGISTRY'\n",
    "\n",
    "model_registry.create_model_registry(session= session,\n",
    "                                     database_name= registry_name,\n",
    "                                     schema_name= schema_name)\n",
    "\n",
    "registry = model_registry.ModelRegistry(session= session,\n",
    "                                        database_name= registry_name,\n",
    "                                        schema_name= schema_name)"
   ]
  },
  {
   "cell_type": "code",
   "execution_count": null,
   "id": "54bbce04-1567-4d4f-b014-31306cdbad08",
   "metadata": {},
   "outputs": [],
   "source": [
    "MODEL_NAME = \"LLAMA2_MODEL_7b_CHAT\"\n",
    "MODEL_VERSION = \"1\"\n",
    "\n",
    "llama_model_ref= registry.log_model(\n",
    "    model_name=MODEL_NAME,\n",
    "    model_version=MODEL_VERSION,\n",
    "    model=llama_model\n",
    ")\n",
    "\n",
    "llama_model_ref"
   ]
  },
  {
   "cell_type": "markdown",
   "id": "ca777a9d-b01a-4a5f-b547-2e6661780a0b",
   "metadata": {},
   "source": [
    "## 1.3 Deploy Model\n",
    "\n",
    "Pre-req: create a GPU compute pool"
   ]
  },
  {
   "cell_type": "code",
   "execution_count": null,
   "id": "01eee5d7-a159-4c8f-a882-60455526b4d8",
   "metadata": {},
   "outputs": [],
   "source": [
    "# Check if compute pool is ready. It may take some time for the compute resource to be ready.\n",
    "session.sql('''Show compute pools like 'SKHARA_%';''').collect()"
   ]
  },
  {
   "cell_type": "code",
   "execution_count": null,
   "id": "236dee2f-1d53-4e63-868b-1533e3d1d06a",
   "metadata": {},
   "outputs": [],
   "source": [
    "llama_model_ref.deploy(\n",
    "    deployment_name=\"llama_predict\",\n",
    "    platform= deploy_platforms.TargetPlatform.SNOWPARK_CONTAINER_SERVICES,\n",
    "    options={\"compute_pool\": \"SKHARA_COMPUTE_GPU3\",\n",
    "             \"num_gpus\": 1\n",
    "            },\n",
    "    permanent = True\n",
    ")"
   ]
  },
  {
   "attachments": {},
   "cell_type": "markdown",
   "id": "b3c4148d-7a15-46be-aa49-2915999b06d9",
   "metadata": {},
   "source": [
    "# 2.0 Data Processing\n",
    "\n",
    "We will load a JSON file to a Snowflake Table. For prediction purposes, we have two options - use Snowpark DataFrame or use Local Pandas DataFrame.\n",
    "\n",
    "Snowpark dataframes allow us to work at scale and enable us to keep the data on server side without ever bringing data locally."
   ]
  },
  {
   "cell_type": "markdown",
   "id": "672a5f2b-872d-401f-b665-f12dbf67f333",
   "metadata": {},
   "source": [
    "## 2.1 Load Data\n",
    "\n",
    "In this lab, you do not have the required data in Snowflake so we will load a local .csv file to Snowflake using snowflake-snowpark library."
   ]
  },
  {
   "cell_type": "code",
   "execution_count": null,
   "id": "130484b8-0d6f-4ca7-ab4a-b3cacfdd9f7e",
   "metadata": {},
   "outputs": [],
   "source": [
    "json_dataset = pd.read_json(\"data/frosty_transcripts_all.jsonl\", lines=True).convert_dtypes()\n",
    "json_dataset.head()"
   ]
  },
  {
   "cell_type": "code",
   "execution_count": null,
   "id": "205abcb5-a356-4f5f-aa86-621993957db7",
   "metadata": {},
   "outputs": [],
   "source": [
    "dict(json_dataset.iloc[0])"
   ]
  },
  {
   "cell_type": "code",
   "execution_count": null,
   "id": "825f7214-f405-4748-bf24-51e4910e777a",
   "metadata": {},
   "outputs": [],
   "source": [
    "TABLE_NAME = \"BUILD_HOL_DATA\"\n",
    "session.write_pandas(json_dataset, table_name=TABLE_NAME, auto_create_table=True, overwrite=True)"
   ]
  },
  {
   "cell_type": "markdown",
   "id": "265cfa22-b448-483e-a6f1-9577217a92bd",
   "metadata": {},
   "source": [
    "## 2.2 Input: Prompt Engineering"
   ]
  },
  {
   "cell_type": "code",
   "execution_count": null,
   "id": "56c11758-a3c9-44d2-976b-7619526359f1",
   "metadata": {
    "scrolled": true
   },
   "outputs": [],
   "source": [
    "# I am going to bring 2 rows from the data to my local machine to create the prompt examples.\n",
    "sdf_input = session.table('BUILD_HOL_DATA')\n",
    "df_local = sdf_input.limit(2).to_pandas()\n",
    "df_local.head()"
   ]
  },
  {
   "cell_type": "code",
   "execution_count": null,
   "id": "ce4a2e10-6854-4a88-aac9-a88f767a1b9b",
   "metadata": {},
   "outputs": [],
   "source": [
    "prompt_prefix = f'''[INST] <<SYS>>\n",
    "Your output will be parsed by a computer program as a JSON object. Please respond ONLY with valid json that conforms to this JSON schema:\n",
    "{{\n",
    "  \"name\": {{\n",
    "    \"type\": \"string\",\n",
    "    \"description\": \"The name of the person calling\"\n",
    "  }},\n",
    "  \"location\": {{\n",
    "    \"type\": \"string\",\n",
    "    \"description\": \"The name of the location where the person is calling from.\"\n",
    "  }},\n",
    "  \"toy_list\": {{\n",
    "    \"type\": \"array\",\n",
    "    \"description\": \"The list of toys requested by the person calling.\"\n",
    "  }},\n",
    "  \"required\": [\"name\", \"location\", \"toy_list\"]\n",
    "}}\n",
    "\n",
    "Example 1:\n",
    "Input: \"{df_local['transcript'].iloc[0]}\"\n",
    "Output: {{\"name\": {df_local['name'].iloc[0]}, \"location\": {df_local['location'].iloc[0]}, \"toy_list\": {df_local['toy_list'].iloc[0]}}}\n",
    "\n",
    "Example 2:\n",
    "Input: \"{df_local['transcript'].iloc[1]}\"\n",
    "Output: {{\"name\": {df_local['name'].iloc[1]}, \"location\": {df_local['location'].iloc[1]}, \"toy_list\": {df_local['toy_list'].iloc[1]}}}\n",
    "<</SYS>>\n",
    "\n",
    "Input:\n",
    "\n",
    "'''\n",
    "\n",
    "prompt_suffix = \" [/INST]\""
   ]
  },
  {
   "cell_type": "code",
   "execution_count": null,
   "id": "b67c44a4-def1-4f7e-a347-0993d46a39eb",
   "metadata": {},
   "outputs": [],
   "source": [
    "import snowflake.snowpark.functions as F\n",
    "\n",
    "input_df = sdf_input.with_column(\n",
    "    '\"inputs\"',\n",
    "    F.concat_ws(\n",
    "        F.lit(\" \"), F.lit(prompt_prefix), F.col('\"transcript\"'), F.lit(prompt_suffix)\n",
    "    ),\n",
    ")"
   ]
  },
  {
   "cell_type": "code",
   "execution_count": null,
   "id": "0f98f90d-8904-4f84-b96f-d12ea0ce8ad8",
   "metadata": {},
   "outputs": [],
   "source": [
    "input_df.write.mode(\"overwrite\").save_as_table(\"DATA_WITH_PROMPT\")"
   ]
  },
  {
   "cell_type": "code",
   "execution_count": null,
   "id": "f34bb6b5-10b1-4987-b0ad-36fa3fb1e161",
   "metadata": {},
   "outputs": [],
   "source": [
    "# df_local['inputs'] = df_local['transcript'].apply(add_prompt)\n",
    "# print(df_local['inputs'].iloc[3])"
   ]
  },
  {
   "cell_type": "markdown",
   "id": "cf85c1c9-1300-46db-982f-071fc3f7900c",
   "metadata": {},
   "source": [
    "# 3.0 LLM Inference"
   ]
  },
  {
   "cell_type": "markdown",
   "id": "a4ddb75b-0726-4625-b82e-31a3eb0dc891",
   "metadata": {},
   "source": [
    "## 3.1 Get Deployed Model"
   ]
  },
  {
   "cell_type": "code",
   "execution_count": null,
   "id": "ca1c6631-8dd5-4e1f-841e-4af9cd1feb47",
   "metadata": {},
   "outputs": [],
   "source": [
    "REGISTRY_NAME = 'SKHARA'\n",
    "SCHEMA_NAME = 'BUILD_REGISTRY'\n",
    "MODEL_NAME = 'LLAMA2_MODEL_7b_CHAT'\n",
    "MODEL_VERSION = '7'\n",
    "DEPLOYMENT_NAME = 'llama_predict'"
   ]
  },
  {
   "cell_type": "code",
   "execution_count": null,
   "id": "7fb7f9f2",
   "metadata": {},
   "outputs": [],
   "source": [
    "registry = model_registry.ModelRegistry(session= session,\n",
    "                                        database_name= REGISTRY_NAME,\n",
    "                                        schema_name= SCHEMA_NAME)"
   ]
  },
  {
   "cell_type": "code",
   "execution_count": null,
   "id": "c94b5689-c8d3-4950-ae1a-6f21a43f3ac6",
   "metadata": {},
   "outputs": [],
   "source": [
    "model_list = registry.list_models()\n",
    "model_list.to_pandas()"
   ]
  },
  {
   "cell_type": "code",
   "execution_count": null,
   "id": "9003c94f-6954-4449-bdbf-697e25add6fe",
   "metadata": {},
   "outputs": [],
   "source": [
    "model_list = registry.list_deployments(model_name = MODEL_NAME, model_version = MODEL_VERSION)\n",
    "model_list.to_pandas()"
   ]
  },
  {
   "cell_type": "code",
   "execution_count": null,
   "id": "65793fa7-e3d0-4f48-b472-666a36ebc802",
   "metadata": {},
   "outputs": [],
   "source": [
    "model = model_registry.ModelReference(registry=registry, model_name=MODEL_NAME, model_version=MODEL_VERSION)"
   ]
  },
  {
   "cell_type": "markdown",
   "id": "0419ae9d-dcd4-4137-8948-611d7315e351",
   "metadata": {},
   "source": [
    "## 3.2 Inference using LLMs"
   ]
  },
  {
   "cell_type": "code",
   "execution_count": null,
   "id": "19840f05-c7db-4f57-b6dd-c581f5d1bc45",
   "metadata": {},
   "outputs": [],
   "source": [
    "sdf_data_prompt = session.table('DATA_WITH_PROMPT')\n",
    "sdf_data_prompt.limit(2).to_pandas()"
   ]
  },
  {
   "cell_type": "code",
   "execution_count": null,
   "id": "b12d55c0-565c-4988-94d1-49f8f88bf32a",
   "metadata": {},
   "outputs": [],
   "source": [
    "session.sql('SHOW COMPUTE POOLS').collect()"
   ]
  },
  {
   "cell_type": "code",
   "execution_count": null,
   "id": "d97059d4-bd1c-4eb7-83b9-c2221fabfb7e",
   "metadata": {},
   "outputs": [],
   "source": [
    "res = model.predict(\n",
    "    deployment_name= DEPLOYMENT_NAME,\n",
    "    data= sdf_data_prompt\n",
    ")"
   ]
  },
  {
   "cell_type": "code",
   "execution_count": null,
   "id": "1c2dc47e-6ea8-4b7b-b0be-9ec6e897bcef",
   "metadata": {},
   "outputs": [],
   "source": [
    "df_local = res.limit(5).to_pandas() #bring 5 rows locally"
   ]
  },
  {
   "cell_type": "markdown",
   "id": "95a5d0c1-c080-4f65-84e1-51f6e1cd1c78",
   "metadata": {},
   "source": [
    "## 3.3 Output Processing\n",
    "Ensure that processing code conforms to the JSON Structure provided during Prompt Engineering."
   ]
  },
  {
   "cell_type": "code",
   "execution_count": null,
   "id": "6ffb8d94-2f4e-40ef-b18e-cc53ad388f54",
   "metadata": {},
   "outputs": [],
   "source": [
    "import json\n",
    "\n",
    "def format_output(output_string):\n",
    "    try:\n",
    "        # Step 1: Parse the outer string to convert it to a list of dictionaries\n",
    "        outer_list = json.loads(output_string)\n",
    "        \n",
    "        # Step 2: Extract the 'generated_text' value from the first dictionary in the list\n",
    "        generated_text_str = outer_list[0]['generated_text']\n",
    "        \n",
    "        # Step 3: Locate the JSON object within the 'generated_text' value\n",
    "        start_pos = generated_text_str.find('{')\n",
    "        end_pos = generated_text_str.rfind('}')\n",
    "        if start_pos == -1 or end_pos == -1:\n",
    "            raise ValueError(\"No JSON object found in generated_text\")\n",
    "        json_str = generated_text_str[start_pos:end_pos + 1]\n",
    "        \n",
    "        # Step 4: Parse the JSON object to convert it to a dictionary\n",
    "        json_obj = json.loads(json_str)\n",
    "        \n",
    "        return json_obj\n",
    "    except:\n",
    "        return 'Could not parse output'"
   ]
  },
  {
   "cell_type": "code",
   "execution_count": null,
   "id": "a4fe9654-f53b-4864-9c65-c6477f3f2d1a",
   "metadata": {},
   "outputs": [],
   "source": [
    "for i in range(len(df_local)):\n",
    "    print(f'\\n\\n **** Transcript # {i} ****')\n",
    "    print(df_local['transcript'].iloc[i])\n",
    "    print('\\n')\n",
    "    print(format_output(df_local['outputs'].iloc[i]))"
   ]
  },
  {
   "cell_type": "markdown",
   "id": "0f363428-d07a-40cd-9235-a5dbfa88f056",
   "metadata": {},
   "source": [
    "# 4.0 Clean Up"
   ]
  },
  {
   "cell_type": "code",
   "execution_count": null,
   "id": "a5a07b0c-4e6a-4f94-82e5-c9de5a5d169f",
   "metadata": {},
   "outputs": [],
   "source": [
    "session.sql(\"ALTER COMPUTE POOL IF EXISTS SKHARA_COMPUTE_GPU3 STOP ALL\").collect()"
   ]
  }
 ],
 "metadata": {
  "kernelspec": {
   "display_name": "Python 3 (ipykernel)",
   "language": "python",
   "name": "python3"
  },
  "language_info": {
   "codemirror_mode": {
    "name": "ipython",
    "version": 3
   },
   "file_extension": ".py",
   "mimetype": "text/x-python",
   "name": "python",
   "nbconvert_exporter": "python",
   "pygments_lexer": "ipython3",
   "version": "3.9.17"
  }
 },
 "nbformat": 4,
 "nbformat_minor": 5
}
