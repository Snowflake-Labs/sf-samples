{
 "cells": [
  {
   "cell_type": "markdown",
   "id": "a90dbf7a-f7e9-4b6d-b056-0d1711b7e54c",
   "metadata": {
    "collapsed": false,
    "jupyter": {
     "outputs_hidden": false
    },
    "name": "CELL6"
   },
   "source": [
    "This tutorial shows you have you can download data from a public endpoint and transform it into a Snowpark Dataframe and save the results into a table in Snowflake.\n",
    "\n",
    "**Note:** Running this notebook require that you have ACCOUNTADMIN or SECURITYADMIN roles to create new network rules."
   ]
  },
  {
   "cell_type": "code",
   "execution_count": null,
   "id": "f719f3fe-5979-4409-829c-0a8389d8c10f",
   "metadata": {
    "codeCollapsed": false,
    "jupyter": {
     "source_hidden": true
    },
    "language": "sql",
    "name": "CELL7"
   },
   "outputs": [],
   "source": [
    "CREATE or replace TABLE bike_riders (\n",
    "  timestamp STRING,\n",
    "  northbound NUMBER,\n",
    "  southbound NUMBER\n",
    ");"
   ]
  },
  {
   "cell_type": "markdown",
   "id": "6d5ac106-138f-41c0-98f6-819a7bd5ee51",
   "metadata": {
    "collapsed": false,
    "jupyter": {
     "outputs_hidden": false
    },
    "name": "CELL14"
   },
   "source": [
    "By default, Snowflake restricts network traffic from requests from public IP addresses. In order to access data from externally, we first need to create an external access integration to add `data.seattle.gov` as an allowed endpoint."
   ]
  },
  {
   "cell_type": "code",
   "execution_count": null,
   "id": "e726bdb1-6d15-43e5-b148-76a77d053de0",
   "metadata": {
    "codeCollapsed": false,
    "collapsed": false,
    "jupyter": {
     "outputs_hidden": false
    },
    "language": "sql",
    "name": "CELL2"
   },
   "outputs": [],
   "source": [
    "CREATE OR REPLACE NETWORK RULE SEATTLE_OPEN_DATA_RULE\n",
    "MODE = EGRESS\n",
    "TYPE = HOST_PORT\n",
    "VALUE_LIST = ('DATA.SEATTLE.GOV');"
   ]
  },
  {
   "cell_type": "code",
   "execution_count": null,
   "id": "17477268-b8de-4f7d-93f5-38991ffc505c",
   "metadata": {
    "collapsed": false,
    "jupyter": {
     "outputs_hidden": false
    },
    "language": "sql",
    "name": "CELL3"
   },
   "outputs": [],
   "source": [
    "CREATE OR REPLACE EXTERNAL ACCESS INTEGRATION SEATTLE_OPEN_DATA_INTEGRATION\n",
    "ALLOWED_NETWORK_RULES = (SEATTLE_OPEN_DATA_RULE)\n",
    "ENABLED=TRUE;"
   ]
  },
  {
   "cell_type": "markdown",
   "id": "dfd1e275-2eb2-4600-9cde-ffccd0dc7571",
   "metadata": {
    "collapsed": false,
    "jupyter": {
     "outputs_hidden": false
    },
    "name": "CELL16"
   },
   "source": [
    "Next, we create an external function that allows users to connect outside of Snowflake and fetch the data from the remote endpoint. We attach the external access object that we created earlier to the external function so that it has permission to access the allowed network. The external function uses the `requests` library in Python to get the JSON response from the URL."
   ]
  },
  {
   "cell_type": "code",
   "execution_count": null,
   "id": "676448b8-e8d8-4976-8291-7a04f7f6f96e",
   "metadata": {
    "codeCollapsed": false,
    "collapsed": false,
    "jupyter": {
     "outputs_hidden": false
    },
    "language": "sql",
    "name": "CELL4"
   },
   "outputs": [],
   "source": [
    "CREATE OR REPLACE FUNCTION FETCH_ENDPOINT(URL STRING)\n",
    "returns string\n",
    "language python\n",
    "runtime_version=3.8\n",
    "handler = 'fetch_and_transform_data'\n",
    "external_access_integrations=(SEATTLE_OPEN_DATA_INTEGRATION)\n",
    "packages = ('requests')\n",
    "as\n",
    "$$\n",
    "import requests\n",
    "import _snowflake\n",
    "session = requests.Session()\n",
    "def fetch_and_transform_data(url):\n",
    "    response = requests.get(url)\n",
    "    data = response.json()\n",
    "    # Perform data transformation here\n",
    "    return data\n",
    "$$;"
   ]
  },
  {
   "cell_type": "markdown",
   "id": "c1ef6835-5950-4496-bb50-53aa12728ccb",
   "metadata": {
    "collapsed": false,
    "jupyter": {
     "outputs_hidden": false
    },
    "name": "CELL15"
   },
   "source": [
    "Now we can call the external function on [this URL](https://data.seattle.gov/resource/65db-xm6k.json), we see that the data is a JSON list, so we use Snowflake's [`PARSE_JSON`](https://docs.snowflake.com/en/sql-reference/functions/parse_json) function to process the data. "
   ]
  },
  {
   "cell_type": "code",
   "execution_count": null,
   "id": "e7021122-f635-490c-aac9-5364e80228f1",
   "metadata": {
    "codeCollapsed": false,
    "collapsed": false,
    "jupyter": {
     "outputs_hidden": false
    },
    "language": "sql",
    "name": "CELL10"
   },
   "outputs": [],
   "source": [
    "select fetch_endpoint('https://data.seattle.gov/resource/65db-xm6k.json')"
   ]
  },
  {
   "cell_type": "code",
   "execution_count": null,
   "id": "8f54b6b8-2256-4f14-830a-aeb87bef9122",
   "metadata": {
    "codeCollapsed": false,
    "collapsed": false,
    "jupyter": {
     "outputs_hidden": false
    },
    "language": "sql",
    "name": "CELL17"
   },
   "outputs": [],
   "source": [
    "select PARSE_JSON(fetch_endpoint('https://data.seattle.gov/resource/65db-xm6k.json'))"
   ]
  },
  {
   "cell_type": "markdown",
   "id": "16dab11c-9230-407e-83af-f4dbaa77ad00",
   "metadata": {
    "collapsed": false,
    "jupyter": {
     "outputs_hidden": false
    },
    "name": "CELL11"
   },
   "source": [
    "Now we wanted to get the demo output of the query. What we learn is that we have an extraneous column of \"total\", so we'll get rid of that before inserting the data"
   ]
  },
  {
   "cell_type": "code",
   "execution_count": null,
   "id": "4f4c17eb-2a9a-4ec8-8ffa-8a4582848743",
   "metadata": {
    "collapsed": false,
    "jupyter": {
     "outputs_hidden": false
    },
    "language": "sql",
    "name": "CELL9"
   },
   "outputs": [],
   "source": [
    "insert into bike_riders\n",
    "with json_blob as \n",
    "(select parse_json(fetch_endpoint('https://data.seattle.gov/resource/65db-xm6k.json')) AS json_arr)\n",
    "select \n",
    "   value:date::STRING AS date,\n",
    "   value:fremont_bridge_nb::NUMBER AS northbound,\n",
    "   value:fremont_bridge_sb::NUMBER AS southbound\n",
    "from json_blob, TABLE(FLATTEN(input => json_arr))"
   ]
  },
  {
   "cell_type": "code",
   "execution_count": null,
   "id": "1fcfc6ae-666a-4547-8eee-9ef02a62d097",
   "metadata": {
    "collapsed": false,
    "jupyter": {
     "outputs_hidden": false
    },
    "language": "sql",
    "name": "CELL8"
   },
   "outputs": [],
   "source": [
    "select * from bike_riders"
   ]
  },
  {
   "cell_type": "code",
   "execution_count": null,
   "id": "0972d7a0-fd70-494c-87a6-040a6058d41d",
   "metadata": {
    "collapsed": false,
    "jupyter": {
     "outputs_hidden": false
    },
    "language": "python",
    "name": "CELL12"
   },
   "outputs": [],
   "source": [
    "from snowflake.snowpark.context import get_active_session\n",
    "\n",
    "session = get_active_session()\n",
    "df = session.table(\"bike_riders\")\n",
    "df"
   ]
  },
  {
   "cell_type": "markdown",
   "id": "7ccb7d06-94d0-4afa-8cd3-12dcdc97f83e",
   "metadata": {
    "collapsed": false,
    "jupyter": {
     "outputs_hidden": false
    },
    "name": "CELL25"
   },
   "source": [
    "Now you can use this Snowpark Dataframe to work with your data in Python!"
   ]
  },
  {
   "cell_type": "code",
   "execution_count": null,
   "id": "b7f5d1a5-40c7-46d7-9ef4-18939c639cf5",
   "metadata": {
    "codeCollapsed": false,
    "language": "python",
    "name": "CELL1"
   },
   "outputs": [],
   "source": [
    "df.describe()"
   ]
  }
 ],
 "metadata": {
  "kernelspec": {
   "display_name": "Python 3 (ipykernel)",
   "language": "python",
   "name": "python3"
  },
  "language_info": {
   "codemirror_mode": {
    "name": "ipython",
    "version": 3
   },
   "file_extension": ".py",
   "mimetype": "text/x-python",
   "name": "python",
   "nbconvert_exporter": "python",
   "pygments_lexer": "ipython3",
   "version": "3.11.5"
  }
 },
 "nbformat": 4,
 "nbformat_minor": 5
}
