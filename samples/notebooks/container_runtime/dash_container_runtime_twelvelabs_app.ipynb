{
 "cells": [
  {
   "cell_type": "markdown",
   "id": "f9ab3d0d-8bca-422e-ace6-ae19aded5148",
   "metadata": {
    "collapsed": false,
    "name": "cell1"
   },
   "source": [
    "# Multimodal AI app for videos using Twelve Labs\n",
    "\n",
    "In three easy steps:\n",
    "\n",
    "1) pip install twelvelabs\n",
    "2) Create twelvelabs client to generate video embeddings\n",
    "3) Use Snowflake's VECTOR_COSINE_SIMILARITY function to find (similar) videos based on text query\n",
    "\n",
    "Prerequisites: \n",
    "> *Create [network rule](https://docs.snowflake.com/en/sql-reference/sql/create-network-rule) and [external access integration](https://docs.snowflake.com/en/sql-reference/sql/create-external-access-integration) (EAI) for installing `twelvelabs` Python packages* and [enable](https://docs.snowflake.com/en/user-guide/ui-snowsight/notebooks-external-access#enable-existing-external-access-integrations-eai) it for this notebook.\n",
    "\n",
    "> *Obtain a [Twelve Labs API key](https://api.twelvelabs.io).*\n",
    "\n",
    "\n",
    "## What is Container Runtime? \n",
    "\n",
    "It provides a flexible environment to build and operationalize a variety of workloads, especially hashtag#ML that require Python packages from multiple sources and powerful compute — both CPUs and GPUs. With this Snowflake-native experience, you can also train models, perform hyperparameter tuning as well as batch inference.\n",
    "\n",
    "Here are some resources for you to get started:\n",
    "\n",
    "👉 [Documentation](https://docs.snowflake.com/en/user-guide/ui-snowsight/notebooks-on-spcs) includes quickstart guides\n",
    "\n",
    "👉 [Github repo](https://github.com/Snowflake-Labs/snowflake-demo-notebooks) of tutorials and example notebooks\n",
    "\n",
    "👉 [YouTube](https://www.youtube.com/playlist?list=PLavJpcg8cl1Efw8x_fBKmfA2AMwjUaeBI) demo playlist"
   ]
  },
  {
   "cell_type": "code",
   "execution_count": null,
   "id": "3775908f-ca36-4846-8f38-5adca39217f2",
   "metadata": {
    "collapsed": false,
    "language": "python",
    "name": "Install_twelvelabs"
   },
   "outputs": [],
   "source": [
    "!pip install twelvelabs"
   ]
  },
  {
   "cell_type": "code",
   "execution_count": null,
   "id": "2dee16f1-240c-4424-905a-e4d45569596f",
   "metadata": {
    "codeCollapsed": false,
    "collapsed": false,
    "language": "python",
    "name": "Generate_video_embeddings"
   },
   "outputs": [],
   "source": [
    "from twelvelabs import TwelveLabs\n",
    "from twelvelabs.models.embed import EmbeddingsTask\n",
    "from snowflake.snowpark.context import get_active_session\n",
    "session = get_active_session()\n",
    "TWELVE_LABS_API_KEY =\"tlk_2VAE3AA2XGRHKXXXXXXXXXXXX\"\n",
    "# Initialize the Twelve Labs client\n",
    "twelvelabs_client = TwelveLabs(api_key=TWELVE_LABS_API_KEY)\n",
    "def get_video_embeddings(url: str) -> float:\n",
    "    twelvelabs_client = TwelveLabs(api_key=TWELVE_LABS_API_KEY)\n",
    "    task = twelvelabs_client.embed.task.create(\n",
    "        engine_name=\"Marengo-retrieval-2.6\",\n",
    "        video_url=url)\n",
    "    task.wait_for_done()\n",
    "    task_result = twelvelabs_client.embed.task.retrieve(task.id)\n",
    "    embeddings = []\n",
    "    for v in task_result.video_embeddings:\n",
    "        embeddings.append({\n",
    "            'embedding': v.embedding.float,\n",
    "            'start_offset_sec': v.start_offset_sec,\n",
    "            'end_offset_sec': v.end_offset_sec,\n",
    "            'embedding_scope': v.embedding_scope\n",
    "        })\n",
    "    return embeddings if embeddings else None\n",
    "\n",
    "video_url = 'https://videos.s3.us-west-1.amazonaws.com/misc/videos/demo.mp4'\n",
    "embeddings = get_video_embeddings(video_url)"
   ]
  },
  {
   "cell_type": "code",
   "execution_count": null,
   "id": "73487b72-beb7-4542-b29b-e0b3fd51a1ff",
   "metadata": {
    "collapsed": false,
    "language": "python",
    "name": "Find_text_to_video_similarity_score"
   },
   "outputs": [],
   "source": [
    "def get_similar_videos(text_query):\n",
    "    # Twelve Labs Embed API supports text-to-embedding  \n",
    "    twelvelabs_response = twelvelabs_client.embed.create(\n",
    "      engine_name=\"Marengo-retrieval-2.6\",\n",
    "      text=text_query,\n",
    "      text_truncate=\"start\"\n",
    "    )\n",
    "\n",
    "    text_query_embeddings = None\n",
    "    if twelvelabs_response.text_embedding is not None and twelvelabs_response.text_embedding.segments is not None:\n",
    "        text_query_embeddings = twelvelabs_response.text_embedding.segments[0].embeddings_float\n",
    "\n",
    "    if text_query_embeddings:\n",
    "      return session.sql(f\"\"\"SELECT \n",
    "          round(VECTOR_COSINE_SIMILARITY({embeddings[0]['embedding']}::VECTOR(FLOAT, 1024),\n",
    "          {text_query_embeddings}::VECTOR(FLOAT, 1024)),2) as similarity\"\"\") \\\n",
    "      .to_pandas().iloc[0]['SIMILARITY']\n",
    "    else:\n",
    "      return \"N/A\"\n",
    "\n",
    "get_similar_videos('snowflake notebooks')"
   ]
  }
 ],
 "metadata": {
  "kernelspec": {
   "display_name": "Streamlit Notebook",
   "name": "streamlit"
  }
 },
 "nbformat": 4,
 "nbformat_minor": 5
}
