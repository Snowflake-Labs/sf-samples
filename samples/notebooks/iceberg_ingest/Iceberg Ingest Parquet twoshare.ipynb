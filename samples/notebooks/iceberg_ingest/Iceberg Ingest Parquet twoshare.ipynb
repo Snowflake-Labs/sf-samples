{
 "metadata": {
  "kernelspec": {
   "display_name": "Streamlit Notebook",
   "name": "streamlit"
  },
  "lastEditStatus": {
   "notebookId": "mu3pctxbpkmw3fbcugj5",
   "authorId": "276939183693",
   "authorName": "XHUANG",
   "authorEmail": "xin.huang@snowflake.com",
   "sessionId": "dc4ac59c-20c9-46bd-b03f-7c4179c8419d",
   "lastEditTime": 1738312692356
  }
 },
 "nbformat_minor": 5,
 "nbformat": 4,
 "cells": [
  {
   "cell_type": "code",
   "id": "0249e61d-5b41-4f01-beec-deb86ef30286",
   "metadata": {
    "language": "sql",
    "name": "create_external_volume"
   },
   "outputs": [],
   "source": "-- Setup your external volume where your Iceberg data and metadata files will be stored. Replace values with your details.\nCREATE OR REPLACE EXTERNAL VOLUME iceberg_ext_vol\n  STORAGE_LOCATIONS =\n      (\n        (\n            NAME = 'my-s3-us-west-2'\n            STORAGE_PROVIDER = 'S3'\n            STORAGE_BASE_URL = 's3://MY_EXAMPLE_BUCKET/ICEBERG/'\n            STORAGE_AWS_ROLE_ARN = 'arn:aws:iam::123456789012:role/myrole'\n            ENCRYPTION=(TYPE='AWS_SSE_KMS' KMS_KEY_ID='1234abcd-12ab-34cd-56ef-1234567890ab')\n        )\n      )\n  ALLOW_WRITES = TRUE;",
   "execution_count": null
  },
  {
   "cell_type": "code",
   "id": "0365b01b-16e7-43a0-ad31-8c85cc4b628b",
   "metadata": {
    "language": "sql",
    "name": "create_stage"
   },
   "outputs": [],
   "source": "-- For demo purposes, use Snowflake’s read-only quickstart bucket\nCREATE or replace STAGE SFQUICKSTARTS \nurl = 's3://sfquickstarts/';",
   "execution_count": null
  },
  {
   "cell_type": "code",
   "id": "be37d58d-a415-40e3-8d38-37cb993b8ba4",
   "metadata": {
    "language": "sql",
    "name": "check_file_list",
    "resultHeight": 0
   },
   "outputs": [],
   "source": "-- Confirm there are 193 files totaling 10891.13 MB for the parquet data sharing dataset.\nls @SFQUICKSTARTS/two_way_data_share PATTERN='.*parquet.*';\n\nSELECT count(\"name\") as numb_files, round(sum(\"size\")/1024/1024, 2) as sum_filesize_mb, array_agg(\"name\") as array_files from table(result_scan(LAST_QUERY_ID()));",
   "execution_count": null
  },
  {
   "cell_type": "code",
   "id": "3f81441a-89de-4ca7-83bc-bfa54c07358b",
   "metadata": {
    "language": "sql",
    "name": "create_file_format"
   },
   "outputs": [],
   "source": "-- Create a file format; USE_VECTORIZED_SCANNER is necessary and recommended for all table types for performance. Learn more about this vectorized scanner for Parquet here: https://medium.com/snowflake/faster-parquet-data-ingestion-with-snowflake-use-vectorized-scanner-28679bcff450\nCREATE OR REPLACE FILE FORMAT PARQUET_SCHEMA_DETECTION\n  TYPE = PARQUET\n  USE_VECTORIZED_SCANNER=TRUE;",
   "execution_count": null
  },
  {
   "cell_type": "code",
   "id": "0c056a6e-be39-4760-ac28-36e7aeb10dae",
   "metadata": {
    "language": "sql",
    "name": "INFER_SCHEMA",
    "codeCollapsed": false,
    "resultHeight": 0
   },
   "outputs": [],
   "source": "-- Get the schema, but be cautious here. Some Parquet data types aren’t supported by Iceberg and improvements are coming to INFER_SCHEMA for this. For this demo, the columns are all compatible.\nSELECT *\n  FROM TABLE(\n    INFER_SCHEMA(\n      LOCATION=>'@SFQUICKSTARTS/two_way_data_share'\n      , FILE_FORMAT=>'PARQUET_SCHEMA_DETECTION',\n      MAX_FILE_COUNT=>10\n      )\n    );",
   "execution_count": null
  },
  {
   "cell_type": "code",
   "id": "7d1ab0cc-4f0c-4f46-9d52-34a6cd36c368",
   "metadata": {
    "language": "sql",
    "name": "GET_SCHEMA_FOR_ICEBERG_TABLE",
    "resultHeight": 0
   },
   "outputs": [],
   "source": "-- Get the schema, but be cautious here. Some Parquet data types aren’t supported by Iceberg and improvements are coming to INFER_SCHEMA for this. For this demo, the columns are all compatible.\n\nSELECT GENERATE_COLUMN_DESCRIPTION(\n    ARRAY_AGG(OBJECT_CONSTRUCT(*)) WITHIN GROUP (ORDER BY ORDER_ID asc), 'table') AS COLUMNS\n      FROM TABLE (\n        INFER_SCHEMA(\n          LOCATION=>'@SFQUICKSTARTS/two_way_data_share'\n          , FILE_FORMAT=>'PARQUET_SCHEMA_DETECTION'\n        )\n      );",
   "execution_count": null
  },
  {
   "cell_type": "code",
   "id": "159c9545-75b7-42bf-9501-78e432d88bf9",
   "metadata": {
    "language": "sql",
    "name": "create_iceberg_table_add_files",
    "resultHeight": 0
   },
   "outputs": [],
   "source": "-- Create the Iceberg table using previously detected schema.\nCREATE OR REPLACE ICEBERG TABLE twoshare_add_files_copy (  \n\"S_2\" NUMBER(38,0),\"P_2\" REAL,\"D_39\" REAL,\"B_1\" REAL,\"B_2\" REAL,\"R_1\" REAL,\"S_3\" REAL,\"D_41\" REAL,\"B_3\" REAL,\"D_42\" REAL,\"D_43\" REAL,\"D_44\" REAL,\"B_4\" REAL,\"D_45\" REAL,\"B_5\" REAL,\"R_2\" NUMBER(38,0),\"D_46\" REAL,\"D_47\" REAL,\"D_48\" REAL,\"D_49\" REAL,\"B_6\" REAL,\"B_7\" REAL,\"B_8\" NUMBER(38,0),\"D_50\" REAL,\"D_51\" REAL,\"B_9\" REAL,\"R_3\" REAL,\"D_52\" REAL,\"P_3\" REAL,\"B_10\" REAL,\"D_53\" REAL,\"S_5\" REAL,\"B_11\" REAL,\"S_6\" NUMBER(38,0),\"D_54\" NUMBER(38,0),\"R_4\" NUMBER(38,0),\"S_7\" REAL,\"B_12\" REAL,\"S_8\" REAL,\"D_55\" REAL,\"D_56\" REAL,\"B_13\" REAL,\"R_5\" REAL,\"D_58\" REAL,\"S_9\" REAL,\"B_14\" REAL,\"D_59\" REAL,\"D_60\" REAL,\"D_61\" REAL,\"B_15\" REAL,\"S_11\" REAL,\"D_62\" REAL,\"D_63\" NUMBER(38,0),\"D_64\" NUMBER(38,0),\"D_65\" REAL,\"B_16\" REAL,\"B_17\" REAL,\"B_18\" REAL,\"B_19\" REAL,\"D_66\" NUMBER(38,0),\"B_20\" REAL,\"D_68\" NUMBER(38,0),\"S_12\" REAL,\"R_6\" REAL,\"S_13\" REAL,\"B_21\" REAL,\"D_69\" REAL,\"B_22\" REAL,\"D_70\" REAL,\"D_71\" REAL,\"D_72\" REAL,\"S_15\" REAL,\"B_23\" REAL,\"D_73\" REAL,\"P_4\" REAL,\"D_74\" REAL,\"D_75\" REAL,\"D_76\" REAL,\"B_24\" REAL,\"R_7\" REAL,\"D_77\" REAL,\"B_25\" REAL,\"B_26\" REAL,\"D_78\" REAL,\"D_79\" REAL,\"R_8\" REAL,\"R_9\" REAL,\"S_16\" REAL,\"D_80\" REAL,\"R_10\" REAL,\"R_11\" REAL,\"B_27\" NUMBER(38,0),\"D_81\" REAL,\"D_82\" REAL,\"S_17\" REAL,\"R_12\" REAL,\"B_28\" REAL,\"R_13\" NUMBER(38,0),\"D_83\" REAL,\"R_14\" REAL,\"R_15\" NUMBER(38,0),\"D_84\" REAL,\"R_16\" REAL,\"B_29\" REAL,\"B_30\" NUMBER(38,0),\"S_18\" NUMBER(38,0),\"D_86\" NUMBER(38,0),\"D_87\" NUMBER(38,0),\"R_17\" NUMBER(38,0),\"R_18\" NUMBER(38,0),\"D_88\" REAL,\"B_31\" NUMBER(38,0),\"S_19\" NUMBER(38,0),\"R_19\" NUMBER(38,0),\"B_32\" NUMBER(38,0),\"S_20\" NUMBER(38,0),\"R_20\" REAL,\"R_21\" NUMBER(38,0),\"B_33\" NUMBER(38,0),\"D_89\" NUMBER(38,0),\"R_22\" NUMBER(38,0),\"R_23\" NUMBER(38,0),\"D_91\" REAL,\"D_92\" REAL,\"D_93\" NUMBER(38,0),\"D_94\" NUMBER(38,0),\"R_24\" NUMBER(38,0),\"R_25\" NUMBER(38,0),\"D_96\" NUMBER(38,0),\"S_22\" REAL,\"S_23\" REAL,\"S_24\" REAL,\"S_25\" REAL,\"S_26\" REAL,\"D_102\" REAL,\"D_103\" NUMBER(38,0),\"D_104\" REAL,\"D_105\" REAL,\"D_106\" REAL,\"D_107\" REAL,\"B_36\" NUMBER(38,0),\"B_37\" REAL,\"R_26\" REAL,\"R_27\" NUMBER(38,0),\"B_38\" NUMBER(38,0),\"D_108\" REAL,\"D_109\" NUMBER(38,0),\"D_110\" REAL,\"D_111\" REAL,\"B_39\" REAL,\"D_112\" NUMBER(38,0),\"B_40\" REAL,\"S_27\" REAL,\"D_113\" REAL,\"D_114\" NUMBER(38,0),\"D_115\" REAL,\"D_116\" NUMBER(38,0),\"D_117\" NUMBER(38,0),\"D_118\" REAL,\"D_119\" REAL,\"D_120\" NUMBER(38,0),\"D_121\" REAL,\"D_122\" REAL,\"D_123\" REAL,\"D_124\" REAL,\"D_125\" REAL,\"D_126\" NUMBER(38,0),\"D_127\" NUMBER(38,0),\"D_128\" NUMBER(38,0),\"D_129\" NUMBER(38,0),\"B_41\" REAL,\"B_42\" REAL,\"D_130\" NUMBER(38,0),\"D_131\" REAL,\"D_132\" REAL,\"D_133\" REAL,\"R_28\" NUMBER(38,0),\"D_134\" REAL,\"D_135\" NUMBER(38,0),\"D_136\" REAL,\"D_137\" NUMBER(38,0),\"D_138\" REAL,\"D_139\" NUMBER(38,0),\"D_140\" NUMBER(38,0),\"D_141\" REAL,\"D_142\" REAL,\"D_143\" NUMBER(38,0),\"D_144\" REAL,\"D_145\" REAL,\"target\" NUMBER(38,0),\"customer_ID\" TEXT\n)\n  CATALOG='SNOWFLAKE'\n  EXTERNAL_VOLUME='ICEBERG_EXT_VOL'\n  BASE_LOCATION='iceberg_demo/add_files_copy_parquet/';",
   "execution_count": null
  },
  {
   "cell_type": "code",
   "id": "b8067455-fb2d-4706-a777-538743888aa3",
   "metadata": {
    "language": "sql",
    "name": "ADD_FILES_COPY",
    "resultHeight": 0
   },
   "outputs": [],
   "source": "-- Load the data, it should take under 30 seconds as it’s doing a binary copy of ~10GB; the PURGE = TRUE option is available but this source demo bucket is read-only. \nCOPY INTO twoshare_add_files_copy\nFROM @SFQUICKSTARTS/two_way_data_share\nFILE_FORMAT = PARQUET_SCHEMA_DETECTION \nMATCH_BY_COLUMN_NAME = 'case_sensitive' \nLOAD_MODE = ADD_FILES_COPY\n--PURGE = TRUE\nPATTERN='.*parquet.*';",
   "execution_count": null
  },
  {
   "cell_type": "code",
   "id": "2539a10c-3efe-4e06-b999-f31d228a32aa",
   "metadata": {
    "language": "sql",
    "name": "create_iceberg_table_full_ingest"
   },
   "outputs": [],
   "source": "-- Create the a new Iceberg table using previously detected schema without any data to compare FULL_INGEST.\nCREATE OR REPLACE ICEBERG TABLE twoshare_full_ingest LIKE twoshare_add_files_copy\n  CATALOG='SNOWFLAKE'\n  EXTERNAL_VOLUME='ICEBERG_EXT_VOL'\n  BASE_LOCATION='iceberg_demo/full_ingest_parquet/';",
   "execution_count": null
  },
  {
   "cell_type": "code",
   "id": "7a3178b8-93e2-4a70-b4eb-d113e11d8b08",
   "metadata": {
    "language": "sql",
    "name": "full_ingest",
    "collapsed": false,
    "resultHeight": 0,
    "codeCollapsed": false
   },
   "outputs": [],
   "source": "-- Copy with FULL_INGEST takes a bit longer to do a full read, validation, and rewrite new parquet files.\nCOPY INTO twoshare_full_ingest\nFROM @SFQUICKSTARTS/two_way_data_share\nFILE_FORMAT = PARQUET_SCHEMA_DETECTION \nMATCH_BY_COLUMN_NAME = 'case_sensitive' \nLOAD_MODE = FULL_INGEST\nPATTERN='.*parquet.*';",
   "execution_count": null
  },
  {
   "cell_type": "code",
   "id": "8537c18c-7a21-4ba3-a83b-b02e8641ef10",
   "metadata": {
    "language": "sql",
    "name": "Select_perf_add_files_copy",
    "resultHeight": 0,
    "collapsed": false
   },
   "outputs": [],
   "source": "-- Select a random sample from the add_files_copy table.\nselect * from twoshare_add_files_copy SAMPLE BERNOULLI (5.3) limit 2500;",
   "execution_count": null
  },
  {
   "cell_type": "code",
   "id": "4cfdb180-553b-4302-b023-db8261c1f0c8",
   "metadata": {
    "language": "sql",
    "name": "select_perf_full_ingest",
    "collapsed": false
   },
   "outputs": [],
   "source": "-- Select a random sample from the full_ingest table.\nselect * from twoshare_full_ingest SAMPLE BERNOULLI (5.3) limit 2500;",
   "execution_count": null
  },
  {
   "cell_type": "code",
   "id": "3141655f-ca1d-4a69-8484-84194d4bf8eb",
   "metadata": {
    "language": "sql",
    "name": "check_table_sizes"
   },
   "outputs": [],
   "source": "-- The size of TWOSHARE_ADD_FILES_COPY Iceberg table is the exact same as the source parquet files because all it did was a binary copy as is. \n-- The size of TWOSHARE_FULL_INGEST Iceberg table is smaller than the staged Parquet files because a full read and rewrite optimized the data storage.\nselect table_schema,\n       table_name,\n       round(bytes/1024/1024, 2) as table_size_mb\nfrom information_schema.tables\nwhere table_name like 'TWOSHARE_%'\norder by table_size_mb desc;",
   "execution_count": null
  }
 ]
}
