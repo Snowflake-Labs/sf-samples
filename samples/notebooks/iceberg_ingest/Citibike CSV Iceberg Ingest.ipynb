{
 "metadata": {
  "kernelspec": {
   "display_name": "Streamlit Notebook",
   "name": "streamlit"
  },
  "lastEditStatus": {
   "notebookId": "pappp3hcxkitrcgkgp3z",
   "authorId": "276939183693",
   "authorName": "XHUANG",
   "authorEmail": "xin.huang@snowflake.com",
   "sessionId": "8682f0f3-9a99-475a-9867-fb1c69bbdce0",
   "lastEditTime": 1738310795093
  }
 },
 "nbformat_minor": 5,
 "nbformat": 4,
 "cells": [
  {
   "cell_type": "code",
   "id": "3775908f-ca36-4846-8f38-5adca39217f2",
   "metadata": {
    "language": "sql",
    "name": "Create_external_volume"
   },
   "source": "-- Setup your external volume where your Iceberg data and metadata files will be stored. Replace values with your details.\nCREATE OR REPLACE EXTERNAL VOLUME iceberg_ext_vol\n  STORAGE_LOCATIONS =\n      (\n        (\n            NAME = 'my-s3-us-west-2'\n            STORAGE_PROVIDER = 'S3'\n            STORAGE_BASE_URL = 's3://MY_EXAMPLE_BUCKET/ICEBERG/'\n            STORAGE_AWS_ROLE_ARN = 'arn:aws:iam::123456789012:role/myrole'\n            ENCRYPTION=(TYPE='AWS_SSE_KMS' KMS_KEY_ID='1234abcd-12ab-34cd-56ef-1234567890ab')\n        )\n      )\n  ALLOW_WRITES = TRUE;\n",
   "execution_count": null,
   "outputs": []
  },
  {
   "cell_type": "code",
   "id": "0b70ac8c-e9c4-40bd-97c2-d1386bcbf54b",
   "metadata": {
    "language": "sql",
    "name": "create_stage"
   },
   "outputs": [],
   "source": "-- For demo purposes, use Snowflake’s read-only quickstart bucket.\nCREATE or replace STAGE SFQUICKSTARTS \nurl = 's3://sfquickstarts/';",
   "execution_count": null
  },
  {
   "cell_type": "code",
   "id": "8d50cbf4-0c8d-4950-86cb-114990437ac9",
   "metadata": {
    "language": "sql",
    "name": "list_files"
   },
   "source": "-- Confirm there are 12 files totaling 444.77 MB for the CSV Citibike dataset for 2016.\nls @SFQUICKSTARTS/vhol_citibike_ml_snowpark_python/data/schema1/2016;\n\nSELECT count(\"name\") as numb_files, round(sum(\"size\")/1024/1024, 2) as sum_filesize_mb, array_agg(\"name\") as array_files from table(result_scan(LAST_QUERY_ID()));",
   "execution_count": null,
   "outputs": []
  },
  {
   "cell_type": "code",
   "id": "c695373e-ac74-4b62-a1f1-08206cbd5c81",
   "metadata": {
    "language": "sql",
    "name": "create_file_format"
   },
   "source": "-- Create a file format with some convenience options set.\nCREATE OR REPLACE FILE FORMAT my_csv\n  TYPE = CSV\n  PARSE_HEADER = TRUE\n  FIELD_OPTIONALLY_ENCLOSED_BY = '\"'\n  ERROR_ON_COLUMN_COUNT_MISMATCH = FALSE\n  REPLACE_INVALID_CHARACTERS= TRUE\n  SKIP_BLANK_LINES = TRUE;\n",
   "execution_count": null,
   "outputs": []
  },
  {
   "cell_type": "code",
   "id": "2dbecc20-5520-4faa-ac37-35f0140d4ad9",
   "metadata": {
    "language": "sql",
    "name": "infer_schema"
   },
   "outputs": [],
   "source": "-- Get the schema of the CSV files by looking at 2 files and 1000 rows each.\nSELECT GENERATE_COLUMN_DESCRIPTION(\n    ARRAY_AGG(OBJECT_CONSTRUCT(*)) WITHIN GROUP (ORDER BY ORDER_ID asc), 'table') AS COLUMNS\n      FROM TABLE (\n        INFER_SCHEMA(          LOCATION=>'@SFQUICKSTARTS/vhol_citibike_ml_snowpark_python/data/schema1/2016',\n          FILE_FORMAT=>'MY_CSV',\n          IGNORE_CASE => FALSE,\n          MAX_FILE_COUNT => 2\n          ,MAX_RECORDS_PER_FILE => 1000\n        )\n      );",
   "execution_count": null
  },
  {
   "cell_type": "code",
   "id": "a3a55224-4097-47e4-9ed9-c843b940604a",
   "metadata": {
    "language": "sql",
    "name": "create_iceberg_table",
    "codeCollapsed": false
   },
   "outputs": [],
   "source": "-- Create the Iceberg table using the detected schema.\nCREATE OR REPLACE ICEBERG TABLE citibike (  \n\"tripduration\" NUMBER(9, 0),\n\"starttime\" TIMESTAMP_NTZ,\n\"stoptime\" TIMESTAMP_NTZ,\n\"start station id\" NUMBER(4, 0),\n\"start station name\" TEXT,\n\"start station latitude\" NUMBER(17, 15),\n\"start station longitude\" NUMBER(16, 14),\n\"end station id\" NUMBER(4, 0),\n\"end station name\" TEXT,\n\"end station latitude\" NUMBER(17, 15),\n\"end station longitude\" NUMBER(16, 14),\n\"bikeid\" NUMBER(5, 0),\n\"usertype\" TEXT,\n\"birth year\" TEXT,\n\"gender\" NUMBER(1, 0)\n)\n  CATALOG='SNOWFLAKE'\n  EXTERNAL_VOLUME='ICEBERG_EXT_VOL'\n  BASE_LOCATION='iceberg_demo/citibike/';",
   "execution_count": null
  },
  {
   "cell_type": "code",
   "id": "d07c9d82-ae6a-4aac-b57c-4331de36caf0",
   "metadata": {
    "language": "sql",
    "name": "COPY_INTO_TABLE"
   },
   "outputs": [],
   "source": "-- Load the CSV files and Snowflake will create Parquet data and metadata files in your specified base_location.\nCOPY INTO CITIBIKE\nFROM @SFQUICKSTARTS/vhol_citibike_ml_snowpark_python/data/schema1/2016\nFILE_FORMAT = my_csv \nMATCH_BY_COLUMN_NAME = 'case_sensitive' \nON_ERROR = CONTINUE\nLOAD_MODE = FULL_INGEST;",
   "execution_count": null
  },
  {
   "cell_type": "code",
   "id": "491c2ef8-1b07-43cf-a3a8-d74f5f590efa",
   "metadata": {
    "language": "sql",
    "name": "select_rows"
   },
   "outputs": [],
   "source": "-- Query the Iceberg table and optionally check your s3 bucket if you want to confirm magic happened.\nselect * from citibike where \"tripduration\" > 0 limit 100;",
   "execution_count": null
  },
  {
   "cell_type": "code",
   "id": "fd2a95a0-150d-4e62-b821-909a745bff24",
   "metadata": {
    "language": "sql",
    "name": "get_table_size"
   },
   "outputs": [],
   "source": "-- Check the size of the Iceberg table, look it’s only 274.81MB because we compressed and created Parquet files from the original CSV files.\nselect table_schema,\n       table_name,\n       round(bytes/1024/1024, 2) as table_size_mb\nfrom information_schema.tables\nwhere table_name = 'CITIBIKE'\norder by table_size_mb desc;",
   "execution_count": null
  }
 ]
}