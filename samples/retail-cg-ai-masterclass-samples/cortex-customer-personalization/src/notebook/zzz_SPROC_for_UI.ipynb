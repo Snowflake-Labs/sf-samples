{
 "cells": [
  {
   "cell_type": "code",
   "execution_count": 2,
   "id": "b5349f1b-0b33-41b1-bf5e-2abf92be1edd",
   "metadata": {
    "tags": []
   },
   "outputs": [
    {
     "data": {
      "text/markdown": [
       "### Initialization"
      ],
      "text/plain": [
       "<IPython.core.display.Markdown object>"
      ]
     },
     "metadata": {},
     "output_type": "display_data"
    },
    {
     "data": {
      "text/html": [
       "<div>\n",
       "<style scoped>\n",
       "    .dataframe tbody tr th:only-of-type {\n",
       "        vertical-align: middle;\n",
       "    }\n",
       "\n",
       "    .dataframe tbody tr th {\n",
       "        vertical-align: top;\n",
       "    }\n",
       "\n",
       "    .dataframe thead th {\n",
       "        text-align: right;\n",
       "    }\n",
       "</style>\n",
       "<table border=\"1\" class=\"dataframe\">\n",
       "  <thead>\n",
       "    <tr style=\"text-align: right;\">\n",
       "      <th></th>\n",
       "      <th>CURRENT_ACCOUNT()</th>\n",
       "      <th>CURRENT_USER()</th>\n",
       "      <th>CURRENT_ROLE()</th>\n",
       "      <th>CURRENT_DATABASE()</th>\n",
       "      <th>CURRENT_SCHEMA()</th>\n",
       "    </tr>\n",
       "  </thead>\n",
       "  <tbody>\n",
       "    <tr>\n",
       "      <th>0</th>\n",
       "      <td>ANA95816</td>\n",
       "      <td>JPRUSA</td>\n",
       "      <td>SYSADMIN</td>\n",
       "      <td>FASHION</td>\n",
       "      <td>PUBLIC</td>\n",
       "    </tr>\n",
       "  </tbody>\n",
       "</table>\n",
       "</div>"
      ],
      "text/plain": [
       "  CURRENT_ACCOUNT() CURRENT_USER() CURRENT_ROLE() CURRENT_DATABASE()  \\\n",
       "0          ANA95816         JPRUSA       SYSADMIN            FASHION   \n",
       "\n",
       "  CURRENT_SCHEMA()  \n",
       "0           PUBLIC  "
      ]
     },
     "metadata": {},
     "output_type": "display_data"
    }
   ],
   "source": [
    "from IPython.display import display, HTML , Markdown\n",
    "from snowflake.snowpark.session import Session\n",
    "from snowflake.snowpark.functions import udf, col, pandas_udf\n",
    "import snowflake.snowpark.types as T\n",
    "from sklearn.metrics.pairwise import cosine_similarity, euclidean_distances\n",
    "from io import BytesIO\n",
    "from PIL import Image\n",
    "import pandas as pd\n",
    "import numpy as np\n",
    "from cachetools import cached\n",
    "import base64, json ,logging\n",
    "from tqdm import tqdm\n",
    "import sklearn.metrics\n",
    "# Import the commonly defined utility scripts using\n",
    "# dynamic path include\n",
    "import sys\n",
    "sys.path.append('../python/lutils')\n",
    "import sflk_base as L\n",
    "\n",
    "display(Markdown(\"### Initialization\"))\n",
    "logging.basicConfig(stream=sys.stdout, level=logging.ERROR)\n",
    "\n",
    "# Source various helper functions\n",
    "%run ./scripts/notebook_helpers.py\n",
    "\n",
    "# Define the project home directory, this is used for locating the config.ini file\n",
    "PROJECT_HOME_DIR = '../..'\n",
    "config = L.get_config(PROJECT_HOME_DIR)\n",
    "session = L.connect_to_snowflake(PROJECT_HOME_DIR)\n",
    "\n",
    "if(session == None):\n",
    "   raise Exception(f'Unable to connect to snowflake. Validate connection information ')\n",
    "\n",
    "session.use_role(f'''{config['APP_DB']['role']}''')\n",
    "session.use_schema(f'''{config['APP_DB']['database']}.{config['APP_DB']['schema']}''')\n",
    "session.use_warehouse(f'''{config['SNOW_CONN']['warehouse']}''')\n",
    "\n",
    "df1 = session.sql('select current_account(), current_user() ,current_role() ,current_database() ,current_schema();').to_pandas()\n",
    "display(df1)"
   ]
  },
  {
   "cell_type": "code",
   "execution_count": 3,
   "id": "e1e4e52e-ed15-4e11-8fea-c0e56bd21568",
   "metadata": {
    "tags": []
   },
   "outputs": [
    {
     "data": {
      "text/html": [
       "<div>\n",
       "<style scoped>\n",
       "    .dataframe tbody tr th:only-of-type {\n",
       "        vertical-align: middle;\n",
       "    }\n",
       "\n",
       "    .dataframe tbody tr th {\n",
       "        vertical-align: top;\n",
       "    }\n",
       "\n",
       "    .dataframe thead th {\n",
       "        text-align: right;\n",
       "    }\n",
       "</style>\n",
       "<table border=\"1\" class=\"dataframe\">\n",
       "  <thead>\n",
       "    <tr style=\"text-align: right;\">\n",
       "      <th></th>\n",
       "      <th>created_on</th>\n",
       "      <th>name</th>\n",
       "      <th>database_name</th>\n",
       "      <th>schema_name</th>\n",
       "      <th>url</th>\n",
       "      <th>has_credentials</th>\n",
       "      <th>has_encryption_key</th>\n",
       "      <th>owner</th>\n",
       "      <th>comment</th>\n",
       "      <th>region</th>\n",
       "      <th>type</th>\n",
       "      <th>cloud</th>\n",
       "      <th>notification_channel</th>\n",
       "      <th>storage_integration</th>\n",
       "      <th>owner_role_type</th>\n",
       "    </tr>\n",
       "  </thead>\n",
       "  <tbody>\n",
       "    <tr>\n",
       "      <th>0</th>\n",
       "      <td>2023-05-26 09:00:39.684000-07:00</td>\n",
       "      <td>MODEL_STG</td>\n",
       "      <td>FASHION</td>\n",
       "      <td>PUBLIC</td>\n",
       "      <td></td>\n",
       "      <td>N</td>\n",
       "      <td>N</td>\n",
       "      <td>SYSADMIN</td>\n",
       "      <td>used for holding ml models.</td>\n",
       "      <td>None</td>\n",
       "      <td>INTERNAL</td>\n",
       "      <td>None</td>\n",
       "      <td>None</td>\n",
       "      <td>None</td>\n",
       "      <td>ROLE</td>\n",
       "    </tr>\n",
       "    <tr>\n",
       "      <th>1</th>\n",
       "      <td>2023-05-26 09:00:39.996000-07:00</td>\n",
       "      <td>UDF_STG</td>\n",
       "      <td>FASHION</td>\n",
       "      <td>PUBLIC</td>\n",
       "      <td></td>\n",
       "      <td>N</td>\n",
       "      <td>N</td>\n",
       "      <td>SYSADMIN</td>\n",
       "      <td></td>\n",
       "      <td>None</td>\n",
       "      <td>INTERNAL</td>\n",
       "      <td>None</td>\n",
       "      <td>None</td>\n",
       "      <td>None</td>\n",
       "      <td>ROLE</td>\n",
       "    </tr>\n",
       "  </tbody>\n",
       "</table>\n",
       "</div>"
      ],
      "text/plain": [
       "                        created_on       name database_name schema_name url  \\\n",
       "0 2023-05-26 09:00:39.684000-07:00  MODEL_STG       FASHION      PUBLIC       \n",
       "1 2023-05-26 09:00:39.996000-07:00    UDF_STG       FASHION      PUBLIC       \n",
       "\n",
       "  has_credentials has_encryption_key     owner                      comment  \\\n",
       "0               N                  N  SYSADMIN  used for holding ml models.   \n",
       "1               N                  N  SYSADMIN                                \n",
       "\n",
       "  region      type cloud notification_channel storage_integration  \\\n",
       "0   None  INTERNAL  None                 None                None   \n",
       "1   None  INTERNAL  None                 None                None   \n",
       "\n",
       "  owner_role_type  \n",
       "0            ROLE  \n",
       "1            ROLE  "
      ]
     },
     "execution_count": 3,
     "metadata": {},
     "output_type": "execute_result"
    }
   ],
   "source": [
    "output = session.sql('SHOW STAGES;').collect()\n",
    "pd.DataFrame(output)"
   ]
  },
  {
   "cell_type": "markdown",
   "id": "a8ec8b38-efa2-4157-ad21-cb8cc5827bf7",
   "metadata": {
    "tags": []
   },
   "source": [
    "## Top n most similar images from a new input\n",
    "\n",
    "This sproc returns the image names for the top n most similar images to an input that can be new.\n",
    "\n",
    "Input is transformed and passed to the embedding model, which is loaded from staging. the SPROC returns a list of the top n most similar images to the provided input.\n",
    "\n",
    "The sproc requires that the input image is already b64 encoded, e.g.\n",
    "\n",
    "`with open(img_path, \"rb\") as img_file:`\n",
    "\n",
    "`    img = base64.b64encode(img_file.read()).decode(\"utf-8\")`\n",
    "\n",
    "\n",
    "\n",
    "already encoded images can be found in the `DATA` column of the table `IMAGES_ENCODED`"
   ]
  },
  {
   "cell_type": "code",
   "execution_count": 318,
   "id": "3e5e8f48-b066-4179-9144-35ac2adbee73",
   "metadata": {
    "tags": []
   },
   "outputs": [],
   "source": [
    "def load_transform() -> object:\n",
    "    from torchvision import transforms\n",
    "    data_transforms = transforms.Compose([\n",
    "        transforms.Resize(256),\n",
    "        transforms.CenterCrop(224),\n",
    "        transforms.ToTensor(),\n",
    "        transforms.Normalize([0.485, 0.456, 0.406], [0.229, 0.224, 0.225])\n",
    "    ])\n",
    "    return data_transforms\n",
    "\n",
    "def load_model(model_path: str) -> object:\n",
    "    # Load pytorch model\n",
    "    import torch \n",
    "    model = torch.load(model_path)\n",
    "    model.eval()\n",
    "    return model\n",
    "\n",
    "\n",
    "def top_n_new(sim_df, n=10):\n",
    "    return sim_df[['NEW']].sort_values('NEW', ascending=False)[1:].head(n) # top n\n",
    "\n",
    "def sproc_recommender_model(session: Session, \n",
    "                            image: str,\n",
    "                            table: str,\n",
    "                            n: int,\n",
    "                            ) -> T.Variant:\n",
    "    import sys\n",
    "    import json\n",
    "    import base64\n",
    "    from io import BytesIO\n",
    "    from PIL import Image\n",
    "    import numpy as np\n",
    "    import torch\n",
    "    from sklearn.metrics.pairwise import cosine_similarity\n",
    "    \n",
    "    \n",
    "    # get embedding for new image\n",
    "    IMPORT_DIRECTORY_NAME = \"snowflake_import_directory\"\n",
    "    import_dir = sys._xoptions[IMPORT_DIRECTORY_NAME]\n",
    "    model_name = 'embedding_model.pt'\n",
    "    model = load_model(import_dir+model_name)\n",
    "    transform = load_transform()\n",
    "    img = Image.open(BytesIO(base64.b64decode(image)))\n",
    "    img = transform(img).unsqueeze(0)\n",
    "    #\n",
    "    \n",
    "    with torch.no_grad():\n",
    "        embedding = model(img)#.squeeze()\n",
    "        embedding = embedding['features'][0].squeeze().numpy().astype('float')\n",
    "    # get most similar images\n",
    "    \n",
    "    # get prior embeddings\n",
    "    sdf = session.table(table)\n",
    "    embeddings = sdf.select('EMBEDDING', 'NAME').to_pandas()\n",
    "    embeddings.loc[embeddings.shape[0]]=[json.dumps(list(embedding)), 'NEW']\n",
    "    embeddings_np = list(embeddings['EMBEDDING'].apply(lambda x: np.array(json.loads(x))))\n",
    "    # compute similarities\n",
    "    #input_ = embeddings_np[0]\n",
    "    similarity = cosine_similarity(embeddings_np)\n",
    "    sim_df = pd.DataFrame(similarity, \n",
    "                      columns=embeddings.NAME, \n",
    "                      index=embeddings.NAME)\n",
    "    #assert False, embeddings.index\n",
    "    return list(top_n_new(sim_df, n=n).index)\n",
    "\n",
    "# Registering the function as a Stored Procedure\n",
    "sproc_recommender_model = session.sproc.register(func=sproc_recommender_model, \n",
    "                                                      name='sproc_recommender_model', \n",
    "                                                      is_permanent=True, \n",
    "                                                      replace=True,\n",
    "                                                      stage_location='@MODEL_STG', \n",
    "                                                      packages=['snowflake-snowpark-python',\n",
    "                                                                'numpy',\n",
    "                                                                'pandas',\n",
    "                                                                'scikit-learn',\n",
    "                                                                'pillow', \n",
    "                                                                'torchvision', \n",
    "                                                               ], \n",
    "                                                      imports=['@MODEL_STG/embedding_model.pt'])"
   ]
  },
  {
   "cell_type": "code",
   "execution_count": 319,
   "id": "70c07062-7eda-4759-a704-9cbc537eb423",
   "metadata": {
    "tags": []
   },
   "outputs": [],
   "source": [
    "# to get an image for testing purposes\n",
    "data_table = \"IMAGES_ENCODED\"\n",
    "sdf = session.table(data_table)"
   ]
  },
  {
   "cell_type": "code",
   "execution_count": 320,
   "id": "96b46a6f-34b0-4a58-a798-a3f3787feb90",
   "metadata": {
    "tags": []
   },
   "outputs": [],
   "source": [
    "test_images = sdf.select('DATA').limit(5).to_pandas()"
   ]
  },
  {
   "cell_type": "code",
   "execution_count": 321,
   "id": "6e57fd04-1d9b-47c0-9bc6-da50e873d668",
   "metadata": {
    "tags": []
   },
   "outputs": [],
   "source": [
    "output = sproc_recommender_model(test_images.DATA[1], 'IMAGES_ENCODED', 5, session=session,)"
   ]
  },
  {
   "cell_type": "code",
   "execution_count": 322,
   "id": "9eea1bd4-b449-4140-8dc7-c579be254047",
   "metadata": {
    "tags": []
   },
   "outputs": [
    {
     "data": {
      "text/plain": [
       "['undershirt_9bdac063-6c07-4bfc-a04a-e45224c503df.jpg',\n",
       " 'undershirt_8a95a682-4a51-461e-9ad6-8783acee3034.jpg',\n",
       " 'undershirt_34e679bc-137f-4cde-a732-9dba70a8fbae.jpg',\n",
       " 'undershirt_0f58b637-b85c-4082-ba14-64c4dc120b93.jpg',\n",
       " 'dress_4114a9c0-eea0-442c-af14-8df6c586a016.jpg']"
      ]
     },
     "execution_count": 322,
     "metadata": {},
     "output_type": "execute_result"
    }
   ],
   "source": [
    "eval(output)"
   ]
  },
  {
   "cell_type": "markdown",
   "id": "c467df67-461f-4a0a-99e6-343576c93c50",
   "metadata": {},
   "source": [
    "## Top n most similar images to an already seen image\n",
    "\n",
    "similar to above; however, the input image has already been seen and encoded into the table `IMAGES_ENCODED`.\n",
    "\n",
    "Instead of providing the data for the input image only the name of the image needs to be provided. Since we already have the associated embedding for the image, we do not need to load or use the embedding model in this sproc.\n"
   ]
  },
  {
   "cell_type": "code",
   "execution_count": 304,
   "id": "33cc2c96-958b-4904-ad25-9728f612fa8e",
   "metadata": {
    "tags": []
   },
   "outputs": [],
   "source": [
    "def top_n(sim_df, item, n=10, best=True):\n",
    "    return sim_df[[item]].sort_values(item, ascending=False)[1:].head(n) # top n\n",
    "\n",
    "def sproc_existing_recommender_model(session: Session, \n",
    "                            item: str,\n",
    "                            table: str,\n",
    "                            n: int,\n",
    "                            ) -> T.Variant:\n",
    "    import json\n",
    "    import numpy as np\n",
    "    from sklearn.metrics.pairwise import cosine_similarity\n",
    "    \n",
    "    # get prior embeddings\n",
    "    sdf = session.table(table)\n",
    "    embeddings = sdf.select('EMBEDDING', 'NAME').to_pandas()\n",
    "    embeddings_np = list(embeddings['EMBEDDING'].apply(lambda x: np.array(json.loads(x))))\n",
    "    # compute similarities\n",
    "    similarity=cosine_similarity(embeddings_np)\n",
    "\n",
    "    sim_df = pd.DataFrame(similarity, \n",
    "                      columns=embeddings.NAME, \n",
    "                      index=embeddings.NAME)\n",
    "    \n",
    "    return list(top_n(sim_df, item, n=n).index)\n",
    "\n",
    "# Registering the function as a Stored Procedure\n",
    "sproc_existing_recommender_model = session.sproc.register(func=sproc_existing_recommender_model, \n",
    "                                                      name='sproc_existing_recommender_model', \n",
    "                                                      is_permanent=True, \n",
    "                                                      replace=True,\n",
    "                                                      stage_location='@MODEL_STG', \n",
    "                                                      packages=['snowflake-snowpark-python',\n",
    "                                                                'numpy',\n",
    "                                                                'pandas',\n",
    "                                                                'scikit-learn'], \n",
    "                                                      imports=['@MODEL_STG/model.onnx'])"
   ]
  },
  {
   "cell_type": "code",
   "execution_count": 305,
   "id": "bc6f0cc1-d453-4bec-9b57-1086e825ef3c",
   "metadata": {
    "tags": []
   },
   "outputs": [],
   "source": [
    "test_image_names = sdf.select('NAME').limit(5).to_pandas()"
   ]
  },
  {
   "cell_type": "code",
   "execution_count": 306,
   "id": "3241b677-4489-4e63-93c3-922bca23ba23",
   "metadata": {
    "tags": []
   },
   "outputs": [
    {
     "data": {
      "text/html": [
       "<div>\n",
       "<style scoped>\n",
       "    .dataframe tbody tr th:only-of-type {\n",
       "        vertical-align: middle;\n",
       "    }\n",
       "\n",
       "    .dataframe tbody tr th {\n",
       "        vertical-align: top;\n",
       "    }\n",
       "\n",
       "    .dataframe thead th {\n",
       "        text-align: right;\n",
       "    }\n",
       "</style>\n",
       "<table border=\"1\" class=\"dataframe\">\n",
       "  <thead>\n",
       "    <tr style=\"text-align: right;\">\n",
       "      <th></th>\n",
       "      <th>NAME</th>\n",
       "    </tr>\n",
       "  </thead>\n",
       "  <tbody>\n",
       "    <tr>\n",
       "      <th>0</th>\n",
       "      <td>dress_bac70656-a50a-4a13-8c3f-63e3a0a28338.jpg</td>\n",
       "    </tr>\n",
       "    <tr>\n",
       "      <th>1</th>\n",
       "      <td>shirt_3d20c462-34a4-4501-9c91-f6d3a9684715.jpg</td>\n",
       "    </tr>\n",
       "    <tr>\n",
       "      <th>2</th>\n",
       "      <td>body_ff1b1bd2-1248-4863-b486-cf0fe8b3d210.jpg</td>\n",
       "    </tr>\n",
       "    <tr>\n",
       "      <th>3</th>\n",
       "      <td>hoodie_27895f13-d204-4cd0-9c05-816692747854.jpg</td>\n",
       "    </tr>\n",
       "    <tr>\n",
       "      <th>4</th>\n",
       "      <td>images_original_f77a41f0-e774-40a5-8442-2b7a02...</td>\n",
       "    </tr>\n",
       "  </tbody>\n",
       "</table>\n",
       "</div>"
      ],
      "text/plain": [
       "                                                NAME\n",
       "0     dress_bac70656-a50a-4a13-8c3f-63e3a0a28338.jpg\n",
       "1     shirt_3d20c462-34a4-4501-9c91-f6d3a9684715.jpg\n",
       "2      body_ff1b1bd2-1248-4863-b486-cf0fe8b3d210.jpg\n",
       "3    hoodie_27895f13-d204-4cd0-9c05-816692747854.jpg\n",
       "4  images_original_f77a41f0-e774-40a5-8442-2b7a02..."
      ]
     },
     "execution_count": 306,
     "metadata": {},
     "output_type": "execute_result"
    }
   ],
   "source": [
    "test_image_names"
   ]
  },
  {
   "cell_type": "code",
   "execution_count": 307,
   "id": "4fe4da88-08d8-4392-88d3-61ef130f844e",
   "metadata": {
    "tags": []
   },
   "outputs": [],
   "source": [
    "output = sproc_existing_recommender_model(test_image_names.NAME[0], 'IMAGES_ENCODED', 5, session=session)"
   ]
  },
  {
   "cell_type": "code",
   "execution_count": 308,
   "id": "513f03cd-4a9e-4044-a9c2-ed84e9c1695c",
   "metadata": {
    "tags": []
   },
   "outputs": [
    {
     "data": {
      "text/plain": [
       "['dress_cbf45350-1a65-4cec-abad-0f64a4a459eb.jpg',\n",
       " 'dress_e4f8a796-8963-4a43-8e20-de6430d33780.jpg',\n",
       " 'dress_cc66ab14-3372-4c9a-9171-9007d7154538.jpg',\n",
       " 'dress_15eb72dd-9ab6-4c31-8b87-17f56e9f1290.jpg',\n",
       " 'dress_f1c78283-2da0-45fc-8f20-4f874519d415.jpg']"
      ]
     },
     "execution_count": 308,
     "metadata": {},
     "output_type": "execute_result"
    }
   ],
   "source": [
    "eval(output)"
   ]
  },
  {
   "cell_type": "code",
   "execution_count": null,
   "id": "abf767a8-b3d8-43ba-8ad6-7dab545f03e2",
   "metadata": {},
   "outputs": [],
   "source": []
  }
 ],
 "metadata": {
  "kernelspec": {
   "display_name": "snowpark",
   "language": "python",
   "name": "snowpark"
  },
  "language_info": {
   "codemirror_mode": {
    "name": "ipython",
    "version": 3
   },
   "file_extension": ".py",
   "mimetype": "text/x-python",
   "name": "python",
   "nbconvert_exporter": "python",
   "pygments_lexer": "ipython3",
   "version": "3.8.16"
  }
 },
 "nbformat": 4,
 "nbformat_minor": 5
}
