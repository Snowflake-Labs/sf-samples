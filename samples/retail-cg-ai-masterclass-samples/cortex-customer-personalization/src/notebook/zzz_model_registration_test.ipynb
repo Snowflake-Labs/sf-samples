{
 "cells": [
  {
   "cell_type": "code",
   "execution_count": 4,
   "id": "09c709e3-28d7-49d8-bc01-c3b3fd586df6",
   "metadata": {
    "tags": []
   },
   "outputs": [
    {
     "data": {
      "text/markdown": [
       "### Initialization"
      ],
      "text/plain": [
       "<IPython.core.display.Markdown object>"
      ]
     },
     "metadata": {},
     "output_type": "display_data"
    },
    {
     "data": {
      "text/html": [
       "<div>\n",
       "<style scoped>\n",
       "    .dataframe tbody tr th:only-of-type {\n",
       "        vertical-align: middle;\n",
       "    }\n",
       "\n",
       "    .dataframe tbody tr th {\n",
       "        vertical-align: top;\n",
       "    }\n",
       "\n",
       "    .dataframe thead th {\n",
       "        text-align: right;\n",
       "    }\n",
       "</style>\n",
       "<table border=\"1\" class=\"dataframe\">\n",
       "  <thead>\n",
       "    <tr style=\"text-align: right;\">\n",
       "      <th></th>\n",
       "      <th>CURRENT_ACCOUNT()</th>\n",
       "      <th>CURRENT_USER()</th>\n",
       "      <th>CURRENT_ROLE()</th>\n",
       "      <th>CURRENT_DATABASE()</th>\n",
       "      <th>CURRENT_SCHEMA()</th>\n",
       "    </tr>\n",
       "  </thead>\n",
       "  <tbody>\n",
       "    <tr>\n",
       "      <th>0</th>\n",
       "      <td>CIB92733</td>\n",
       "      <td>JPRUSA</td>\n",
       "      <td>SERVICESNOW_USER_ROLE</td>\n",
       "      <td>FASHION</td>\n",
       "      <td>PUBLIC</td>\n",
       "    </tr>\n",
       "  </tbody>\n",
       "</table>\n",
       "</div>"
      ],
      "text/plain": [
       "  CURRENT_ACCOUNT() CURRENT_USER()         CURRENT_ROLE() CURRENT_DATABASE()  \\\n",
       "0          CIB92733         JPRUSA  SERVICESNOW_USER_ROLE            FASHION   \n",
       "\n",
       "  CURRENT_SCHEMA()  \n",
       "0           PUBLIC  "
      ]
     },
     "metadata": {},
     "output_type": "display_data"
    }
   ],
   "source": [
    "from IPython.display import display, HTML , Markdown\n",
    "from snowflake.snowpark.session import Session\n",
    "import snowflake.snowpark.types as T\n",
    "from io import BytesIO\n",
    "import matplotlib.pyplot as plt\n",
    "from numpy import random\n",
    "import pandas as pd\n",
    "import numpy as np\n",
    "import logging\n",
    "\n",
    "# Import the commonly defined utility scripts using\n",
    "# dynamic path include\n",
    "import sys\n",
    "sys.path.append('../src/python/lutils')\n",
    "import sflk_base as L\n",
    "\n",
    "display(Markdown(\"### Initialization\"))\n",
    "logging.basicConfig(stream=sys.stdout, level=logging.ERROR)\n",
    "\n",
    "# Source various helper functions\n",
    "%run ./scripts/notebook_helpers.py\n",
    "\n",
    "# Define the project home directory, this is used for locating the config.ini file\n",
    "PROJECT_HOME_DIR = '../'\n",
    "config = L.get_config(PROJECT_HOME_DIR)\n",
    "session = L.connect_to_snowflake(PROJECT_HOME_DIR)\n",
    "\n",
    "if(session == None):\n",
    "   raise Exception(f'Unable to connect to snowflake. Validate connection information ')\n",
    "\n",
    "session.use_role(f'''{config['APP_DB']['role']}''')\n",
    "session.use_schema(f'''{config['APP_DB']['database']}.{config['APP_DB']['schema']}''')\n",
    "session.use_warehouse(f'''{config['SNOW_CONN']['warehouse']}''')\n",
    "\n",
    "df1 = session.sql('select current_account(), current_user() ,current_role() ,current_database() ,current_schema();').to_pandas()\n",
    "display(df1)"
   ]
  },
  {
   "cell_type": "code",
   "execution_count": 5,
   "id": "0cd9a6d5-e8b4-4f89-b8d0-6cbb1cd67540",
   "metadata": {
    "tags": []
   },
   "outputs": [],
   "source": [
    "from sklearn.ensemble import RandomForestClassifier\n",
    "from sklearn.datasets import load_iris"
   ]
  },
  {
   "cell_type": "code",
   "execution_count": 6,
   "id": "e09453bd-7bb2-4dc8-b0eb-c90739803b5c",
   "metadata": {
    "tags": []
   },
   "outputs": [],
   "source": [
    "X, y = load_iris(return_X_y=True)"
   ]
  },
  {
   "cell_type": "code",
   "execution_count": 7,
   "id": "176e2582-70d4-4c47-8a4e-9c71bee4824b",
   "metadata": {
    "tags": []
   },
   "outputs": [
    {
     "data": {
      "text/html": [
       "<style>#sk-container-id-1 {color: black;background-color: white;}#sk-container-id-1 pre{padding: 0;}#sk-container-id-1 div.sk-toggleable {background-color: white;}#sk-container-id-1 label.sk-toggleable__label {cursor: pointer;display: block;width: 100%;margin-bottom: 0;padding: 0.3em;box-sizing: border-box;text-align: center;}#sk-container-id-1 label.sk-toggleable__label-arrow:before {content: \"▸\";float: left;margin-right: 0.25em;color: #696969;}#sk-container-id-1 label.sk-toggleable__label-arrow:hover:before {color: black;}#sk-container-id-1 div.sk-estimator:hover label.sk-toggleable__label-arrow:before {color: black;}#sk-container-id-1 div.sk-toggleable__content {max-height: 0;max-width: 0;overflow: hidden;text-align: left;background-color: #f0f8ff;}#sk-container-id-1 div.sk-toggleable__content pre {margin: 0.2em;color: black;border-radius: 0.25em;background-color: #f0f8ff;}#sk-container-id-1 input.sk-toggleable__control:checked~div.sk-toggleable__content {max-height: 200px;max-width: 100%;overflow: auto;}#sk-container-id-1 input.sk-toggleable__control:checked~label.sk-toggleable__label-arrow:before {content: \"▾\";}#sk-container-id-1 div.sk-estimator input.sk-toggleable__control:checked~label.sk-toggleable__label {background-color: #d4ebff;}#sk-container-id-1 div.sk-label input.sk-toggleable__control:checked~label.sk-toggleable__label {background-color: #d4ebff;}#sk-container-id-1 input.sk-hidden--visually {border: 0;clip: rect(1px 1px 1px 1px);clip: rect(1px, 1px, 1px, 1px);height: 1px;margin: -1px;overflow: hidden;padding: 0;position: absolute;width: 1px;}#sk-container-id-1 div.sk-estimator {font-family: monospace;background-color: #f0f8ff;border: 1px dotted black;border-radius: 0.25em;box-sizing: border-box;margin-bottom: 0.5em;}#sk-container-id-1 div.sk-estimator:hover {background-color: #d4ebff;}#sk-container-id-1 div.sk-parallel-item::after {content: \"\";width: 100%;border-bottom: 1px solid gray;flex-grow: 1;}#sk-container-id-1 div.sk-label:hover label.sk-toggleable__label {background-color: #d4ebff;}#sk-container-id-1 div.sk-serial::before {content: \"\";position: absolute;border-left: 1px solid gray;box-sizing: border-box;top: 0;bottom: 0;left: 50%;z-index: 0;}#sk-container-id-1 div.sk-serial {display: flex;flex-direction: column;align-items: center;background-color: white;padding-right: 0.2em;padding-left: 0.2em;position: relative;}#sk-container-id-1 div.sk-item {position: relative;z-index: 1;}#sk-container-id-1 div.sk-parallel {display: flex;align-items: stretch;justify-content: center;background-color: white;position: relative;}#sk-container-id-1 div.sk-item::before, #sk-container-id-1 div.sk-parallel-item::before {content: \"\";position: absolute;border-left: 1px solid gray;box-sizing: border-box;top: 0;bottom: 0;left: 50%;z-index: -1;}#sk-container-id-1 div.sk-parallel-item {display: flex;flex-direction: column;z-index: 1;position: relative;background-color: white;}#sk-container-id-1 div.sk-parallel-item:first-child::after {align-self: flex-end;width: 50%;}#sk-container-id-1 div.sk-parallel-item:last-child::after {align-self: flex-start;width: 50%;}#sk-container-id-1 div.sk-parallel-item:only-child::after {width: 0;}#sk-container-id-1 div.sk-dashed-wrapped {border: 1px dashed gray;margin: 0 0.4em 0.5em 0.4em;box-sizing: border-box;padding-bottom: 0.4em;background-color: white;}#sk-container-id-1 div.sk-label label {font-family: monospace;font-weight: bold;display: inline-block;line-height: 1.2em;}#sk-container-id-1 div.sk-label-container {text-align: center;}#sk-container-id-1 div.sk-container {/* jupyter's `normalize.less` sets `[hidden] { display: none; }` but bootstrap.min.css set `[hidden] { display: none !important; }` so we also need the `!important` here to be able to override the default hidden behavior on the sphinx rendered scikit-learn.org. See: https://github.com/scikit-learn/scikit-learn/issues/21755 */display: inline-block !important;position: relative;}#sk-container-id-1 div.sk-text-repr-fallback {display: none;}</style><div id=\"sk-container-id-1\" class=\"sk-top-container\"><div class=\"sk-text-repr-fallback\"><pre>RandomForestClassifier()</pre><b>In a Jupyter environment, please rerun this cell to show the HTML representation or trust the notebook. <br />On GitHub, the HTML representation is unable to render, please try loading this page with nbviewer.org.</b></div><div class=\"sk-container\" hidden><div class=\"sk-item\"><div class=\"sk-estimator sk-toggleable\"><input class=\"sk-toggleable__control sk-hidden--visually\" id=\"sk-estimator-id-1\" type=\"checkbox\" checked><label for=\"sk-estimator-id-1\" class=\"sk-toggleable__label sk-toggleable__label-arrow\">RandomForestClassifier</label><div class=\"sk-toggleable__content\"><pre>RandomForestClassifier()</pre></div></div></div></div></div>"
      ],
      "text/plain": [
       "RandomForestClassifier()"
      ]
     },
     "execution_count": 7,
     "metadata": {},
     "output_type": "execute_result"
    }
   ],
   "source": [
    "clf = RandomForestClassifier()\n",
    "clf.fit(X, y)"
   ]
  },
  {
   "cell_type": "code",
   "execution_count": 8,
   "id": "fabbddeb-6624-49d6-b58a-e2b67f94678a",
   "metadata": {
    "tags": []
   },
   "outputs": [],
   "source": [
    "import importlib\n",
    "from snowflake.ml.registry import model_registry"
   ]
  },
  {
   "cell_type": "code",
   "execution_count": 10,
   "id": "c18ae2dd-90a9-4c74-86c9-34d5b378c2a5",
   "metadata": {
    "tags": []
   },
   "outputs": [],
   "source": [
    "importlib.reload(model_registry)\n",
    "registry_name = \"model_registry_jprusa\""
   ]
  },
  {
   "cell_type": "code",
   "execution_count": 14,
   "id": "0ce7f240-0427-4f18-b376-7bd093a15eeb",
   "metadata": {},
   "outputs": [],
   "source": [
    "# Create a new model registry. This will be a no-op if the registry already exists.\n",
    "create_result = model_registry.create_model_registry(session=session)"
   ]
  },
  {
   "cell_type": "code",
   "execution_count": 18,
   "id": "2567e5a2-ded0-40fc-af27-a74e65e4856e",
   "metadata": {},
   "outputs": [],
   "source": [
    "registry = model_registry.ModelRegistry(session=session)"
   ]
  },
  {
   "cell_type": "code",
   "execution_count": 19,
   "id": "d8c58390-347f-41ff-893b-52856dc37375",
   "metadata": {
    "tags": []
   },
   "outputs": [
    {
     "data": {
      "text/plain": [
       "<snowflake.ml.registry.model_registry.ModelRegistry at 0x139589b40>"
      ]
     },
     "execution_count": 19,
     "metadata": {},
     "output_type": "execute_result"
    }
   ],
   "source": [
    "registry"
   ]
  },
  {
   "cell_type": "code",
   "execution_count": 20,
   "id": "0198b357-87f0-48af-8a4b-e7651a464017",
   "metadata": {
    "collapsed": true,
    "jupyter": {
     "outputs_hidden": true
    },
    "tags": []
   },
   "outputs": [
    {
     "name": "stdout",
     "output_type": "stream",
     "text": [
      "Help on method log_model in module snowflake.ml.registry.model_registry:\n",
      "\n",
      "log_model(model_name: str, model_version: str, *, model: Any, description: Optional[str] = None, tags: Optional[Dict[str, str]] = None, conda_dependencies: Optional[List[str]] = None, pip_requirements: Optional[List[str]] = None, signatures: Optional[Dict[str, snowflake.ml.model._signatures.core.ModelSignature]] = None, sample_input_data: Optional[Any] = None, code_paths: Optional[List[str]] = None, options: Optional[snowflake.ml.model.type_hints.BaseModelSaveOption] = None) -> str method of snowflake.ml.registry.model_registry.ModelRegistry instance\n",
      "    Uploads and register a model to the Model Registry.\n",
      "    \n",
      "    Args:\n",
      "        model_name: The given name for the model. The combination (name + version) must be unique for each model.\n",
      "        model_version: Version string to be set for the model. The combination (name + version) must be unique for\n",
      "            each model.\n",
      "        model: Local model object in a supported format.\n",
      "        description: A desription for the model. The description can be changed later.\n",
      "        tags: string-to-string dictonary of tag names and values to be set for the model.\n",
      "        conda_dependencies: List of Conda package specs. Use \"[channel::]package [operator version]\" syntax to\n",
      "            specify a dependency. It is a recommended way to specify your dependencies using conda. When channel is\n",
      "            not specified, defaults channel will be used. When deploying to Snowflake Warehouse, defaults channel\n",
      "            would be replaced with the Snowflake Anaconda channel.\n",
      "        pip_requirements: List of PIP package specs. Model will not be able to deploy to the warehouse if there is\n",
      "            pip requirements.\n",
      "        signatures: Signatures of the model, which is a mapping from target method name to signatures of input and\n",
      "            output, which could be inferred by calling `infer_signature` method with sample input data.\n",
      "        sample_input_data: Sample of the input data for the model.\n",
      "        code_paths: Directory of code to import when loading and deploying the model.\n",
      "        options: Additional options when saving the model.\n",
      "    \n",
      "    Raises:\n",
      "        TypeError: Raised when both signatures and sample_input_data is not presented. Will be captured locally.\n",
      "        DataError: Raised when the given model exists.\n",
      "    \n",
      "    Returns:\n",
      "        String of the auto-generate unique model identifier. None if failed.\n",
      "    \n",
      "    \n",
      "    This function or method is in private preview since 0.2.0.\n",
      "\n"
     ]
    }
   ],
   "source": [
    "help(registry.log_model)"
   ]
  },
  {
   "cell_type": "code",
   "execution_count": 52,
   "id": "fbe3e219-ab92-43b8-b67f-e1aa3ac50080",
   "metadata": {
    "tags": []
   },
   "outputs": [
    {
     "data": {
      "text/plain": [
       "'12:28:58__8_22_2023'"
      ]
     },
     "execution_count": 52,
     "metadata": {},
     "output_type": "execute_result"
    }
   ],
   "source": [
    "get_current_date()"
   ]
  },
  {
   "cell_type": "code",
   "execution_count": 53,
   "id": "b12ea34f-63fc-48fa-93ca-81feebe08566",
   "metadata": {},
   "outputs": [
    {
     "name": "stderr",
     "output_type": "stream",
     "text": [
      "/Users/jprusa/miniconda3/snowpark-ml/lib/python3.10/site-packages/snowflake/ml/model/model_signature.py:48: UserWarning: The sample input has 150 rows, thus a truncation happened before inferring signature. This might cause inaccurate signature inference. If that happens, consider specifying signature manually.\n",
      "  warnings.warn(\n",
      "/Users/jprusa/miniconda3/snowpark-ml/lib/python3.10/site-packages/sklearn/ensemble/_forest.py:910: RuntimeWarning: divide by zero encountered in log\n",
      "  return np.log(proba)\n"
     ]
    }
   ],
   "source": [
    "registry = model_registry.ModelRegistry(session=session)\n",
    "model_id = registry.log_model(model=clf, model_name=\"test_model\", model_version=\"12:28:58__8_22_2023\", tags={\n",
    "\"stage\": \"testing\", \"classifier_type\": \"RandomForestClassifer\"}, sample_input_data=X)"
   ]
  },
  {
   "cell_type": "code",
   "execution_count": 54,
   "id": "de8ca629-1de4-4868-b040-9748567709f1",
   "metadata": {},
   "outputs": [
    {
     "name": "stdout",
     "output_type": "stream",
     "text": [
      "Registered new model: c8be0ccc411911ee913646c0d41e10b8\n"
     ]
    }
   ],
   "source": [
    "# The object API can be used to reference a model after creation.\n",
    "model = model_registry.ModelReference(\n",
    "    registry=registry, \n",
    "    model_name=\"test_model\", \n",
    "    model_version=\"12:28:58__8_22_2023\"\n",
    ")\n",
    "print(\"Registered new model:\", model_id)"
   ]
  },
  {
   "cell_type": "code",
   "execution_count": 57,
   "id": "200b7b9e-8852-4434-8c0e-0d253e8b20df",
   "metadata": {
    "tags": []
   },
   "outputs": [
    {
     "name": "stdout",
     "output_type": "stream",
     "text": [
      "--------------------------------------------------------------------------------------------------------------------\n",
      "|\"NAME\"                          |\"VERSION\"            |\"TAGS\"                                         |\"METRICS\"  |\n",
      "--------------------------------------------------------------------------------------------------------------------\n",
      "|test_model                      |101                  |{                                              |NULL       |\n",
      "|                                |                     |  \"classifier_type\": \"RandomForestClassifer\",  |           |\n",
      "|                                |                     |  \"stage\": \"testing\"                           |           |\n",
      "|                                |                     |}                                              |           |\n",
      "|test_model                      |12:28:58__8_22_2023  |{                                              |NULL       |\n",
      "|                                |                     |  \"classifier_type\": \"RandomForestClassifer\",  |           |\n",
      "|                                |                     |  \"stage\": \"testing\"                           |           |\n",
      "|                                |                     |}                                              |           |\n",
      "|optuna_model_registry_test.sav  |20:53:41__8_22_2023  |{                                              |NULL       |\n",
      "|                                |                     |  \"classifier_type\": \"RandomForestClassifer\",  |           |\n",
      "|                                |                     |  \"stage\": \"testing\"                           |           |\n",
      "|                                |                     |}                                              |           |\n",
      "|optuna_model_registry_test.sav  |20:56:6__8_22_2023   |{                                              |NULL       |\n",
      "|                                |                     |  \"classifier_type\": \"RandomForestClassifer\",  |           |\n",
      "|                                |                     |  \"stage\": \"testing\"                           |           |\n",
      "|                                |                     |}                                              |           |\n",
      "--------------------------------------------------------------------------------------------------------------------\n",
      "\n"
     ]
    }
   ],
   "source": [
    "model_list.select(\"NAME\",\"VERSION\",\"TAGS\",\"METRICS\").show()"
   ]
  },
  {
   "cell_type": "code",
   "execution_count": 31,
   "id": "63afb2d3-406b-4b33-ba04-8e0e34151d3f",
   "metadata": {
    "tags": []
   },
   "outputs": [],
   "source": [
    "import datetime"
   ]
  },
  {
   "cell_type": "code",
   "execution_count": 37,
   "id": "9b1623ca-8db5-47f0-949f-2a003048f7b4",
   "metadata": {
    "tags": []
   },
   "outputs": [],
   "source": []
  },
  {
   "cell_type": "code",
   "execution_count": 50,
   "id": "fe9eeff0-8b07-4ead-b4d1-5f516beaf10e",
   "metadata": {
    "tags": []
   },
   "outputs": [],
   "source": [
    "def get_current_date():\n",
    "    current_date=datetime.datetime.now()\n",
    "    year = current_date.year\n",
    "    month = current_date.month\n",
    "    day = current_date.day\n",
    "    hour = current_date.hour\n",
    "    minute = current_date.minute\n",
    "    second = current_date.second\n",
    "\n",
    "    return f\"{hour}:{minute}:{second}__{month}_{day}_{year}\"\n",
    "    \n",
    "    "
   ]
  },
  {
   "cell_type": "code",
   "execution_count": 49,
   "id": "7e339646-6cc6-4a67-b1d0-62468b7baf73",
   "metadata": {
    "tags": []
   },
   "outputs": [
    {
     "data": {
      "text/plain": [
       "'12:27:35__8_22_2023'"
      ]
     },
     "execution_count": 49,
     "metadata": {},
     "output_type": "execute_result"
    }
   ],
   "source": []
  }
 ],
 "metadata": {
  "kernelspec": {
   "display_name": "snowpark-ml",
   "language": "python",
   "name": "snowpark-ml"
  },
  "language_info": {
   "codemirror_mode": {
    "name": "ipython",
    "version": 3
   },
   "file_extension": ".py",
   "mimetype": "text/x-python",
   "name": "python",
   "nbconvert_exporter": "python",
   "pygments_lexer": "ipython3",
   "version": "3.10.12"
  }
 },
 "nbformat": 4,
 "nbformat_minor": 5
}
