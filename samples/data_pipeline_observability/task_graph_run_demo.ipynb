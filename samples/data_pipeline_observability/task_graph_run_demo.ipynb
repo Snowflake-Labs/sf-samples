{
 "metadata": {
  "kernelspec": {
   "display_name": "Streamlit Notebook",
   "name": "streamlit"
  }
 },
 "nbformat_minor": 5,
 "nbformat": 4,
 "cells": [
  {
   "cell_type": "markdown",
   "id": "3775908f-ca36-4846-8f38-5adca39217f2",
   "metadata": {
    "collapsed": false,
    "name": "title",
    "resultHeight": 359
   },
   "source": "# Task Graph Run - Demo\n\nThis setup creates and runs a Task graph run to demo:\n* DAG structure\n* different run statuses\n* graph config parameter\n* task return value\n* condition on stream\n* condition on predecessor\n* finalizer task\n* retry attempts"
  },
  {
   "cell_type": "code",
   "id": "246135ac-6f81-415d-948e-a17c4393b3eb",
   "metadata": {
    "language": "sql",
    "name": "setup",
    "collapsed": false,
    "resultHeight": 0
   },
   "outputs": [],
   "source": "create warehouse if not exists DEX_WH\n    with \n    warehouse_size = XSMALL\n    auto_suspend = 5;\n\ncreate database if not exists DEX_DB;\ncreate schema if not exists DEX_DB.DEMO;",
   "execution_count": null
  },
  {
   "cell_type": "code",
   "execution_count": null,
   "id": "8d50cbf4-0c8d-4950-86cb-114990437ac9",
   "metadata": {
    "collapsed": false,
    "language": "sql",
    "name": "helper_function_runtime_randomize",
    "resultHeight": 0
   },
   "outputs": [],
   "source": [
    "--- function to randomize runtime with 1/10 as outlier (twice as long)\n",
    "create or replace function RUNTIME_WITH_OUTLIERS(REGULAR_RUNTIME NUMBER(6,0))\n",
    "returns NUMBER(6,0)\n",
    "language SQL\n",
    "comment = 'for input and output as milliseconds'\n",
    "as\n",
    "$$\n",
    "    select\n",
    "        case when uniform(1, 10, random()) = 10 \n",
    "            then cast((REGULAR_RUNTIME * 2 + (uniform(-10, 10, random()))/100 * REGULAR_RUNTIME) as NUMBER(6,0))\n",
    "            else cast((REGULAR_RUNTIME     + (uniform(-10, 10, random()))/100 * REGULAR_RUNTIME) as NUMBER(6,0))\n",
    "        end\n",
    "$$\n",
    ";"
   ]
  },
  {
   "cell_type": "code",
   "execution_count": null,
   "id": "c695373e-ac74-4b62-a1f1-08206cbd5c81",
   "metadata": {
    "collapsed": false,
    "language": "sql",
    "name": "validate_function",
    "resultHeight": 0
   },
   "outputs": [],
   "source": [
    "--- test randomized value around 5000 miliseconds\n",
    "select RUNTIME_WITH_OUTLIERS(5000);"
   ]
  },
  {
   "cell_type": "code",
   "execution_count": null,
   "id": "c655ef4b-e6cd-4094-84c5-6d93bade9016",
   "metadata": {
    "collapsed": false,
    "language": "sql",
    "name": "demo_proc_1",
    "resultHeight": 0
   },
   "outputs": [],
   "source": [
    "-- successful procedure 1\n",
    "create or replace procedure DEMO_PROCEDURE_1()        \n",
    "returns VARCHAR(16777216)\n",
    "language SQL\n",
    "execute as OWNER\n",
    "as \n",
    "$$\n",
    "    select system$wait(3);\n",
    "$$;"
   ]
  },
  {
   "cell_type": "code",
   "execution_count": null,
   "id": "b8281862-3722-45e9-995f-50c9cd838659",
   "metadata": {
    "language": "sql",
    "name": "demo_proc_2",
    "resultHeight": 0
   },
   "outputs": [],
   "source": [
    "-- failing procedure at 1/2 attempts\n",
    "create or replace procedure DEMO_PROCEDURE_2()        \n",
    "returns VARCHAR(16777216)\n",
    "language SQL\n",
    "execute as OWNER\n",
    "as \n",
    "$$\n",
    "declare\n",
    "    RANDOM_VALUE number(2,0);\n",
    "begin\n",
    "    RANDOM_VALUE := (select uniform(1, 2, random()));\n",
    "    if (:RANDOM_VALUE = 2) \n",
    "        then select count(*) from OLD_TABLE;\n",
    "    end if;\n",
    "    select SYSTEM$WAIT(2);\n",
    "end\n",
    "$$;"
   ]
  },
  {
   "cell_type": "code",
   "execution_count": null,
   "id": "058d1078-2ebd-4e5b-aceb-cbb8a6c7e5b8",
   "metadata": {
    "collapsed": false,
    "language": "sql",
    "name": "demo_table",
    "resultHeight": 0
   },
   "outputs": [],
   "source": [
    "--- create table for stream condition demo \n",
    "create or replace table TASK_DEMO_TABLE(\n",
    "\tTIME_STAMP TIMESTAMP_NTZ(9),\n",
    "\tID NUMBER(38,0) autoincrement start 1 increment 1 order,\n",
    "\tMESSAGE VARCHAR(16777216),\n",
    "\tCOMMENT VARCHAR(16777216)\n",
    ");"
   ]
  },
  {
   "cell_type": "code",
   "execution_count": null,
   "id": "96aaa5e1-076e-4642-8b0f-f62a58c587a0",
   "metadata": {
    "collapsed": false,
    "language": "sql",
    "name": "demo_stream",
    "resultHeight": 0
   },
   "outputs": [],
   "source": [
    "--- empty stream on table as condition \n",
    "create or replace stream DEMO_STREAM\n",
    "on table TASK_DEMO_TABLE\n",
    "comment = 'empty stream on table as condition for demo task'\n",
    ";"
   ]
  },
  {
   "cell_type": "code",
   "execution_count": null,
   "id": "3431e9d6-04fa-4ead-9103-fbd0dda7fbc0",
   "metadata": {
    "collapsed": false,
    "language": "sql",
    "name": "root_task",
    "resultHeight": 0
   },
   "outputs": [],
   "source": [
    "alter task if exists DEMO_TASK_1 suspend;\n",
    "\n",
    "---- successful root task running every hour during EU business hours \n",
    "create or replace task DEMO_TASK_1 \n",
    "warehouse = 'DEX_WH' \n",
    "comment = 'successful root task with random duration running every hour during EU business hours'\n",
    "schedule = 'USING CRON 15 8-18 * * MON-FRI CET'\n",
    "SUSPEND_TASK_AFTER_NUM_FAILURES = 0\n",
    "TASK_AUTO_RETRY_ATTEMPTS = 2\n",
    "config = $${\"RUNTIME_MULTIPLIER\": 5}$$                 --- adding default config parameter for runtime duration multiplier\n",
    "as\n",
    "    declare\n",
    "        RUNTIME_MULTIPLIER integer := SYSTEM$GET_TASK_GRAPH_CONFIG('RUNTIME_MULTIPLIER');       --- get runtime duration factor from graph config as integer\n",
    "        RANDOM_RUNTIME varchar := RUNTIME_WITH_OUTLIERS(:RUNTIME_MULTIPLIER * 1000);            --- specify the median runtime in milliseconds\n",
    "    begin\n",
    "       select SYSTEM$WAIT(:RANDOM_RUNTIME,'MILLISECONDS');                                      --- task will wait for a random duration with 1/10 being 2x as long\n",
    "       call SYSTEM$SET_RETURN_VALUE('✅ All Stage files scanned');                               --- demo return value to show in the UI\n",
    "    end\n",
    ";"
   ]
  },
  {
   "cell_type": "code",
   "execution_count": null,
   "id": "4358ff86-281b-4ef1-be7e-c46f9fcca4f5",
   "metadata": {
    "collapsed": false,
    "language": "sql",
    "name": "finalizer_task",
    "resultHeight": 0
   },
   "outputs": [],
   "source": [
    "--- Finalizer TASK to check all tables\n",
    "create or replace task DEMO_FINALIZER\n",
    "warehouse = 'DEX_WH'\n",
    "finalize = DEMO_TASK_1\n",
    "as\n",
    "    declare\n",
    "        RUNTIME_MULTIPLIER integer := SYSTEM$GET_TASK_GRAPH_CONFIG('RUNTIME_MULTIPLIER');       --- get runtime duration factor from graph config as integer\n",
    "        RANDOM_RUNTIME varchar := RUNTIME_WITH_OUTLIERS(:RUNTIME_MULTIPLIER * 1000);            --- specify the median runtime in milliseconds\n",
    "    begin\n",
    "       select SYSTEM$WAIT(:RANDOM_RUNTIME,'MILLISECONDS');                                      --- task will wait for a random duration with 1/10 being twice as long\n",
    "       call SYSTEM$SET_RETURN_VALUE('✅ All checks completed.');                                 --- demo return value to show in the UI\n",
    "    end\n",
    ";"
   ]
  },
  {
   "cell_type": "code",
   "execution_count": null,
   "id": "a8e2b983-1d52-4fe1-8ecc-f38b8f21dd68",
   "metadata": {
    "collapsed": false,
    "language": "sql",
    "name": "task_2",
    "resultHeight": 0
   },
   "outputs": [],
   "source": [
    "-- successful task with random duration\n",
    "create or replace task DEMO_TASK_2 \n",
    "warehouse = 'DEX_WH' \n",
    "comment = 'successful task with random duration'\n",
    "after\n",
    "    DEMO_TASK_1 \n",
    "as\n",
    "    declare\n",
    "        RUNTIME_MULTIPLIER integer := SYSTEM$GET_TASK_GRAPH_CONFIG('RUNTIME_MULTIPLIER');\n",
    "        RANDOM_RUNTIME varchar := RUNTIME_WITH_OUTLIERS(:RUNTIME_MULTIPLIER * 3000);            --- specify the median runtime in milliseconds\n",
    "    begin\n",
    "       select SYSTEM$WAIT(:RANDOM_RUNTIME,'MILLISECONDS');       --- task will wait for a random duration with 1/10 being twice as long\n",
    "       \n",
    "       call SYSTEM$SET_RETURN_VALUE(:RANDOM_RUNTIME||' new entries loaded');\n",
    "    end\n",
    ";"
   ]
  },
  {
   "cell_type": "code",
   "execution_count": null,
   "id": "b07d190b-e580-4cc0-9e43-25f6b1e77848",
   "metadata": {
    "collapsed": false,
    "language": "sql",
    "name": "task_3",
    "resultHeight": 0
   },
   "outputs": [],
   "source": [
    "--- successful task with random duration calling 1 procedure \n",
    "create or replace task DEMO_TASK_3 \n",
    "warehouse = 'DEX_WH' \n",
    "comment = 'successful task with random duration calling 1 procedure'\n",
    "after\n",
    "    DEMO_TASK_1\n",
    "as\n",
    "    declare\n",
    "        RUNTIME_MULTIPLIER integer := SYSTEM$GET_TASK_GRAPH_CONFIG('RUNTIME_MULTIPLIER');\n",
    "        RANDOM_RUNTIME varchar := RUNTIME_WITH_OUTLIERS(:RUNTIME_MULTIPLIER * 4000);            --- specify the median runtime in milliseconds\n",
    "    begin\n",
    "        call DEMO_PROCEDURE_1();\n",
    "        \n",
    "        select SYSTEM$WAIT(:RANDOM_RUNTIME,'MILLISECONDS');       --- task will wait for a random duration with 1/10 being twice as long\n",
    "        \n",
    "        call SYSTEM$SET_RETURN_VALUE(:RANDOM_RUNTIME||' new Files processed');\n",
    "    end\n",
    ";"
   ]
  },
  {
   "cell_type": "code",
   "execution_count": null,
   "id": "ccde2424-4b1f-4937-aa3c-b69d45f6b6b2",
   "metadata": {
    "collapsed": false,
    "language": "sql",
    "name": "task_4",
    "resultHeight": 0
   },
   "outputs": [],
   "source": [
    "-- successful task with random duration\n",
    "create or replace task DEMO_TASK_4 \n",
    "warehouse = 'DEX_WH' \n",
    "comment = 'successful task with random duration'\n",
    "after\n",
    "    DEMO_TASK_2 \n",
    "as\n",
    "    declare\n",
    "        RUNTIME_MULTIPLIER integer := SYSTEM$GET_TASK_GRAPH_CONFIG('RUNTIME_MULTIPLIER');\n",
    "        RANDOM_RUNTIME varchar := RUNTIME_WITH_OUTLIERS(:RUNTIME_MULTIPLIER * 1000);            --- specify the median runtime in milliseconds\n",
    "    begin\n",
    "        select SYSTEM$WAIT(:RANDOM_RUNTIME,'MILLISECONDS');       --- task will wait for a random duration with 1/10 being twice as long\n",
    "        \n",
    "        call SYSTEM$SET_RETURN_VALUE('Delay: '||:RANDOM_RUNTIME||' milliseconds');\n",
    "    end\n",
    ";"
   ]
  },
  {
   "cell_type": "code",
   "execution_count": null,
   "id": "00ce6c84-126d-4af2-bcf7-6a08fd60691d",
   "metadata": {
    "collapsed": false,
    "language": "sql",
    "name": "task_5",
    "resultHeight": 0
   },
   "outputs": [],
   "source": [
    "create or replace task DEMO_TASK_5 \n",
    "comment = 'serverless task'\n",
    "after\n",
    "    DEMO_TASK_1, DEMO_TASK_4 \n",
    "as\n",
    "    declare\n",
    "        RUNTIME_MULTIPLIER integer := SYSTEM$GET_TASK_GRAPH_CONFIG('RUNTIME_MULTIPLIER');\n",
    "        RANDOM_RUNTIME varchar := RUNTIME_WITH_OUTLIERS(:RUNTIME_MULTIPLIER * 200);            --- specify the median runtime in milliseconds\n",
    "    begin\n",
    "        select SYSTEM$WAIT(:RANDOM_RUNTIME,'MILLISECONDS');       --- task will wait for a random duration with 1/10 being twice as long\n",
    "        \n",
    "        call SYSTEM$SET_RETURN_VALUE('Delay: '||:RANDOM_RUNTIME||' milliseconds');\n",
    "    end\n",
    ";"
   ]
  },
  {
   "cell_type": "code",
   "execution_count": null,
   "id": "a53957c2-5823-45a9-9ef4-3c2df96d02f7",
   "metadata": {
    "collapsed": false,
    "language": "sql",
    "name": "task_6",
    "resultHeight": 0
   },
   "outputs": [],
   "source": [
    "--- successful task calling 1 system function to send a random return value 1/2/3\n",
    "\n",
    "create or replace task DEMO_TASK_6 \n",
    "warehouse = 'DEX_WH' \n",
    "comment = 'successful task calling 1 system function to send a random return value 1/2/3'\n",
    "after\n",
    "    DEMO_TASK_3 \n",
    "as\n",
    "    declare\n",
    "        RANDOM_VALUE varchar;\n",
    "    begin\n",
    "        RANDOM_VALUE := (select UNIFORM(1, 3, RANDOM()));\n",
    "        case when :RANDOM_VALUE = 1\n",
    "        then\n",
    "            call SYSTEM$SET_RETURN_VALUE('✅ Quality Check Passed');\n",
    "        else\n",
    "            call SYSTEM$SET_RETURN_VALUE('⚠️ Quality Check Failed');\n",
    "        end;\n",
    "    end;\n",
    ";"
   ]
  },
  {
   "cell_type": "code",
   "execution_count": null,
   "id": "a972a7c8-f7cd-4815-83c1-152edaebd13b",
   "metadata": {
    "collapsed": false,
    "language": "sql",
    "name": "task_7",
    "resultHeight": 0
   },
   "outputs": [],
   "source": [
    "--- successful task calling system function \n",
    "\n",
    "create or replace task DEMO_TASK_7 \n",
    "warehouse = 'DEX_WH' \n",
    "comment = 'successful task calling 1 system function'\n",
    "after\n",
    "    DEMO_TASK_6 \n",
    "as\n",
    "    declare\n",
    "        RUNTIME_MULTIPLIER integer := SYSTEM$GET_TASK_GRAPH_CONFIG('RUNTIME_MULTIPLIER');\n",
    "        RANDOM_RUNTIME varchar := RUNTIME_WITH_OUTLIERS(:RUNTIME_MULTIPLIER * 4000);            --- specify the median runtime in milliseconds\n",
    "    begin\n",
    "        RANDOM_RUNTIME := RUNTIME_WITH_OUTLIERS(:RUNTIME_MULTIPLIER * 5000);            --- specify the median runtime in milliseconds\n",
    "       \n",
    "        call SYSTEM$WAIT(:RANDOM_RUNTIME,'MILLISECONDS');       --- task will wait for a random duration with 1/20 being twice as long\n",
    "       \n",
    "        call SYSTEM$SET_RETURN_VALUE('https://app.snowflake.com/pm/dex_demo/logging-and-alerting-demo-dCHJfecoR');\n",
    "    end\n",
    ";"
   ]
  },
  {
   "cell_type": "code",
   "execution_count": null,
   "id": "ca403c49-b916-4a00-9562-53a38619a719",
   "metadata": {
    "collapsed": false,
    "language": "sql",
    "name": "task_8",
    "resultHeight": 0
   },
   "outputs": [],
   "source": [
    "--- skipped task because stream condition is not met\n",
    "\n",
    "create or replace task DEMO_TASK_8 \n",
    "warehouse = 'DEX_WH' \n",
    "comment ='skipped task because stream condition is not met'\n",
    "after\n",
    "    DEMO_TASK_7 \n",
    "when \n",
    "    SYSTEM$STREAM_HAS_DATA('DEMO_STREAM') \n",
    "as\n",
    "    select SYSTEM$WAIT(4)\n",
    ";"
   ]
  },
  {
   "cell_type": "code",
   "execution_count": null,
   "id": "aa399d58-8ac4-453d-830f-b5613eab48f5",
   "metadata": {
    "collapsed": false,
    "language": "sql",
    "name": "task_9",
    "resultHeight": 0
   },
   "outputs": [],
   "source": [
    "--- failing task with first procedure succeeding and second procedure failing 1/4 cases\n",
    "\n",
    "create or replace task DEMO_TASK_9 \n",
    "warehouse = 'DEX_WH' \n",
    "comment = 'failing task with first procedure succeeding and second procedure failing 1/4 cases'\n",
    "after\n",
    "    DEMO_TASK_4 \n",
    "as\n",
    "    begin\n",
    "        call DEMO_PROCEDURE_1();\n",
    "                \n",
    "        select SYSTEM$WAIT(3);\n",
    "        \n",
    "        call DEMO_PROCEDURE_2();\n",
    "    end\n",
    ";"
   ]
  },
  {
   "cell_type": "code",
   "execution_count": null,
   "id": "61a0197c-55d8-4d50-9a87-9cdb510b169b",
   "metadata": {
    "collapsed": false,
    "language": "sql",
    "name": "task_10",
    "resultHeight": 0
   },
   "outputs": [],
   "source": [
    "--- task does not run after failing task 9\n",
    "\n",
    "create or replace task DEMO_TASK_10 \n",
    "warehouse = 'DEX_WH' \n",
    "comment = 'task does not run after failing task 9'\n",
    "after\n",
    "    DEMO_TASK_9 \n",
    "as\n",
    "    declare\n",
    "        RUNTIME_MULTIPLIER integer := SYSTEM$GET_TASK_GRAPH_CONFIG('RUNTIME_MULTIPLIER');\n",
    "        RANDOM_RUNTIME varchar := RUNTIME_WITH_OUTLIERS(:RUNTIME_MULTIPLIER * 4000);            --- specify the median runtime in milliseconds\n",
    "    begin\n",
    "        RANDOM_RUNTIME := RUNTIME_WITH_OUTLIERS(:RUNTIME_MULTIPLIER * 2000);            --- specify the median runtime in milliseconds\n",
    "        select SYSTEM$WAIT(:RANDOM_RUNTIME,'MILLISECONDS');       --- task will wait for a random duration with 1/10 being twice as long\n",
    "        \n",
    "        return 'Delay: '||:RANDOM_RUNTIME||' milliseconds';\n",
    "    end\n",
    ";"
   ]
  },
  {
   "cell_type": "code",
   "execution_count": null,
   "id": "818a6514-2beb-4d6e-a6cb-feca3d625bfb",
   "metadata": {
    "collapsed": false,
    "language": "sql",
    "name": "task_11",
    "resultHeight": 0
   },
   "outputs": [],
   "source": [
    "--- task skipped 1/3 times, if TASK_6 returns '3' \n",
    "\n",
    "create or replace task DEMO_TASK_11 \n",
    "warehouse = 'DEX_WH'\n",
    "comment = 'task skipped 1/3 times, if TASK_6 returns passed'\n",
    "after\n",
    "    DEMO_TASK_6\n",
    "when \n",
    "    SYSTEM$GET_PREDECESSOR_RETURN_VALUE('DEMO_TASK_6') = 'Quality Check Passed'\n",
    "as\n",
    "    declare\n",
    "        RUNTIME_MULTIPLIER integer := SYSTEM$GET_TASK_GRAPH_CONFIG('RUNTIME_MULTIPLIER');\n",
    "        RANDOM_RUNTIME varchar := RUNTIME_WITH_OUTLIERS(:RUNTIME_MULTIPLIER * 4000);            --- specify the median runtime in milliseconds\n",
    "    begin\n",
    "        RANDOM_RUNTIME := RUNTIME_WITH_OUTLIERS(:RUNTIME_MULTIPLIER * 3000);            --- specify the median runtime in milliseconds\n",
    "        select SYSTEM$WAIT(:RANDOM_RUNTIME,'MILLISECONDS');       --- task will wait for a random duration with 1/20 being twice as long\n",
    "        \n",
    "        return 'Delay: '||:RANDOM_RUNTIME||' milliseconds';\n",
    "    end\n",
    ";"
   ]
  },
  {
   "cell_type": "code",
   "execution_count": null,
   "id": "8627d03f-8d38-4535-bffa-9c53762c2e07",
   "metadata": {
    "collapsed": false,
    "language": "sql",
    "name": "task_12",
    "resultHeight": 0
   },
   "outputs": [],
   "source": [
    "--- task self-cancelling 1/10 times after long run\n",
    "create or replace task DEMO_TASK_12 \n",
    "warehouse = 'DEX_WH'\n",
    "comment = 'task self-cancelling 1/10 times after long run'\n",
    "after\n",
    "    DEMO_TASK_3 \n",
    "as\n",
    "    declare\n",
    "        RANDOM_VALUE number(2,0);\n",
    "    begin\n",
    "        RANDOM_VALUE := (select UNIFORM(1, 10, RANDOM()));\n",
    "        if (:RANDOM_VALUE = 10) then\n",
    "            select SYSTEM$WAIT(12);\n",
    "            select SYSTEM$USER_TASK_CANCEL_ONGOING_EXECUTIONS('DEMO_TASK_12');\n",
    "        end if;\n",
    "        \n",
    "        select SYSTEM$WAIT(2);\n",
    "    end\n",
    ";"
   ]
  },
  {
   "cell_type": "code",
   "execution_count": null,
   "id": "ff516ff4-7111-43e9-abee-9516f7d0b1c4",
   "metadata": {
    "collapsed": false,
    "language": "sql",
    "name": "task_13",
    "resultHeight": 0
   },
   "outputs": [],
   "source": [
    "--- successful task with 2 predecessors\n",
    "create or replace task DEMO_TASK_13 \n",
    "warehouse = 'DEX_WH'\n",
    "comment = 'successful task with 2 predecessors'\n",
    "after\n",
    "    DEMO_TASK_12,\n",
    "    DEMO_TASK_2\n",
    "as\n",
    "    select SYSTEM$WAIT(3)\n",
    ";"
   ]
  },
  {
   "cell_type": "code",
   "execution_count": null,
   "id": "c58e3560-e754-4a9d-bcf5-7294f88ab701",
   "metadata": {
    "collapsed": false,
    "language": "sql",
    "name": "task_14",
    "resultHeight": 0
   },
   "outputs": [],
   "source": [
    "--- always suspended task\n",
    "create or replace task DEMO_TASK_14 \n",
    "warehouse = 'DEX_WH'\n",
    "comment = 'always suspended task'\n",
    "after\n",
    "    DEMO_TASK_9 \n",
    "as\n",
    "    select SYSTEM$WAIT(3)\n",
    ";"
   ]
  },
  {
   "cell_type": "code",
   "execution_count": null,
   "id": "5e615dce-b99e-497c-9e78-5e4b2adea78e",
   "metadata": {
    "language": "sql",
    "name": "task_15",
    "resultHeight": 0
   },
   "outputs": [],
   "source": [
    "--- always suspended task\n",
    "create or replace task DEMO_TASK_15 \n",
    "warehouse = 'DEX_WH'\n",
    "comment = 'never runs because predecessor is suspended'\n",
    "after\n",
    "    DEMO_TASK_14 \n",
    "as\n",
    "    select 1\n",
    ";"
   ]
  },
  {
   "cell_type": "code",
   "execution_count": null,
   "id": "42b7f489-2777-4071-8fdf-b2abc8a7cc9d",
   "metadata": {
    "language": "sql",
    "name": "resume_and_run",
    "collapsed": false,
    "resultHeight": 0
   },
   "outputs": [],
   "source": "--- resume all, suspend 1 to suspend 14. then resume 1 and execute\nselect SYSTEM$TASK_DEPENDENTS_ENABLE('DEMO_TASK_1');\nalter task DEMO_TASK_1 suspend;\nalter task DEMO_TASK_14 suspend;\nalter task DEMO_TASK_1 resume;\n\nexecute task DEMO_TASK_1;"
  },
  {
   "cell_type": "markdown",
   "id": "7c058854-09a8-405c-b66d-5c12b4f30323",
   "metadata": {
    "name": "next_steps",
    "collapsed": false,
    "resultHeight": 41
   },
   "source": "... now navigate to your Root Task under \"Data\" to review the graph structure and run history."
  }
 ]
}