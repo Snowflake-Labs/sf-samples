{
 "metadata": {
  "kernelspec": {
   "display_name": "Streamlit Notebook",
   "name": "streamlit"
  }
 },
 "nbformat_minor": 5,
 "nbformat": 4,
 "cells": [
  {
   "cell_type": "markdown",
   "id": "3775908f-ca36-4846-8f38-5adca39217f2",
   "metadata": {
    "name": "TITLE",
    "collapsed": false,
    "resultHeight": 154
   },
   "source": "# How to set up data pipeline notifications using the new Finalizer Task\n\nSee the corresponding blog post on Medium: https://medium.com/p/077885531aad \n\n"
  },
  {
   "cell_type": "markdown",
   "id": "d2298069-3290-433e-9612-56ef75d588d4",
   "metadata": {
    "name": "STEP_1",
    "collapsed": false,
    "resultHeight": 46
   },
   "source": "### Step 1: Create a notification integration for sending emails"
  },
  {
   "cell_type": "code",
   "id": "333fd0cc-9489-4c56-9327-d31b96979d0d",
   "metadata": {
    "language": "sql",
    "name": "create_notification_integration"
   },
   "outputs": [],
   "source": "create or replace notification integration MY_EMAIL_NOTIFICATION\n  type=email\n  enabled=true\n;",
   "execution_count": null
  },
  {
   "cell_type": "code",
   "id": "90aed096-1e1a-4281-85da-9e4eb138638c",
   "metadata": {
    "language": "sql",
    "name": "show_integrations"
   },
   "outputs": [],
   "source": "show integrations;",
   "execution_count": null
  },
  {
   "cell_type": "code",
   "id": "c0fec9ec-b5c6-4324-8a88-10bc375922e9",
   "metadata": {
    "language": "sql",
    "name": "grant_usage"
   },
   "outputs": [],
   "source": "grant usage on integration MY_EMAIL_NOTIFICATION to role <YOUR_ROLE>;",
   "execution_count": null
  },
  {
   "cell_type": "code",
   "id": "1fd2f0f0-6e97-4f85-b1c9-068c2b2f9218",
   "metadata": {
    "language": "sql",
    "name": "test_integration"
   },
   "outputs": [],
   "source": "--- test the integration\ncall SYSTEM$SEND_EMAIL(\n  'MY_EMAIL_NOTIFICATION',\n  '<your_email_here>',\n  'Test',\n  'Hello!',\n  'text/html'\n);",
   "execution_count": null
  },
  {
   "cell_type": "markdown",
   "id": "7bd4472a-e94f-492b-bc64-b31193443f7c",
   "metadata": {
    "name": "STEP_2",
    "collapsed": false,
    "resultHeight": 143
   },
   "source": "## Step 2. Check the information we want to get\n\nKeep in mind that all following objects will be created in the Schema of this notebook.\n\n(you can also just add your database or schema to the object names below)"
  },
  {
   "cell_type": "code",
   "id": "21fdbc49-90b9-4387-8aca-3a0622d8a4c9",
   "metadata": {
    "language": "sql",
    "name": "show_schema_context"
   },
   "outputs": [],
   "source": "-- schema context for creating new objects\n\nselect \n    current_database(), \n    current_schema();",
   "execution_count": null
  },
  {
   "cell_type": "code",
   "id": "c8661b2c-c3e9-4cf1-926a-f64b52bf2c2e",
   "metadata": {
    "language": "sql",
    "name": "test_graph_summary"
   },
   "outputs": [],
   "source": "select\n  NAME,\n  STATE,\n  RETURN_VALUE,\n  to_varchar(QUERY_START_TIME, 'YYYY-MM-DD HH24:MI:SS') as QUERY_START_TIME,\n  timestampdiff('seconds', QUERY_START_TIME, COMPLETED_TIME) as DURATION_IN_S,\n  ERROR_MESSAGE\nfrom\n  table(INFORMATION_SCHEMA.TASK_HISTORY(\n    ROOT_TASK_ID => '<your_root_task_id>',\n    SCHEDULED_TIME_RANGE_START => '<your_task_history_timestamp>'::timestamp_ltz,\n    SCHEDULED_TIME_RANGE_END => current_timestamp()\n  ))\norder by\n  SCHEDULED_TIME\n;",
   "execution_count": null
  },
  {
   "cell_type": "markdown",
   "id": "7c62849f-8e76-4b49-93a0-c498184567d9",
   "metadata": {
    "name": "STEP_3",
    "collapsed": false,
    "resultHeight": 60
   },
   "source": "## Step 3. Create function to get json string from graph run"
  },
  {
   "cell_type": "code",
   "id": "d7ea0009-4ffe-4c88-b1da-a92a485c7cd4",
   "metadata": {
    "language": "sql",
    "name": "create_function_get_graph_summary",
    "collapsed": false
   },
   "outputs": [],
   "source": "create or replace function GET_TASK_GRAPH_RUN_SUMMARY(MY_ROOT_TASK_ID string, MY_START_TIME timestamp_ltz)\nreturns string\nas\n$$\n  (select\n      ARRAY_AGG(OBJECT_CONSTRUCT(\n        'TASK_NAME', NAME,\n        'RUN_STATUS', STATE,\n        'RETURN_VALUE', RETURN_VALUE,\n        'STARTED', QUERY_START_TIME,\n        'DURATION', DURATION,\n        'ERROR_MESSAGE', ERROR_MESSAGE\n      )) as GRAPH_RUN_SUMMARY\n  from\n    (select\n        NAME,\n        case when STATE = 'SUCCEEDED' then '🟢 SUCCEEDED'\n             when STATE = 'FAILED' then '🔴 FAILED'\n             when STATE = 'SKIPPED' then '🔵 SKIPPED'\n             when STATE = 'CANCELLED' then '🔘 CANCELLED'\n        end as STATE,\n        RETURN_VALUE,\n        to_varchar(QUERY_START_TIME, 'YYYY-MM-DD HH24:MI:SS') as QUERY_START_TIME,\n        concat(timestampdiff('seconds', QUERY_START_TIME, COMPLETED_TIME), ' s') as DURATION,\n        ERROR_MESSAGE\n    from\n        table(INFORMATION_SCHEMA.TASK_HISTORY(\n              ROOT_TASK_ID => MY_ROOT_TASK_ID ::string,\n              SCHEDULED_TIME_RANGE_START => MY_START_TIME,\n              SCHEDULED_TIME_RANGE_END => current_timestamp()\n      ))\n    order by\n        SCHEDULED_TIME)\n  )::string\n$$\n;",
   "execution_count": null
  },
  {
   "cell_type": "code",
   "id": "7999241a-0f66-478d-9f25-c3d599cd1f83",
   "metadata": {
    "language": "sql",
    "name": "test_function"
   },
   "outputs": [],
   "source": "--- test the function with your values from step 1\nselect GET_TASK_GRAPH_RUN_SUMMARY(\n    '<your_root_task_id>', \n    '<your_task_history_timestamp>'\n);",
   "execution_count": null
  },
  {
   "cell_type": "markdown",
   "id": "80db8199-6642-4183-bbac-3465297dffec",
   "metadata": {
    "name": "STEP_4",
    "collapsed": false,
    "resultHeight": 60
   },
   "source": "## Step 4. Create function to turn json into html table for our email body"
  },
  {
   "cell_type": "code",
   "id": "15648bc2-8292-4885-b6d3-fa3400672d89",
   "metadata": {
    "language": "sql",
    "name": "create_json_to_html_function",
    "collapsed": false
   },
   "outputs": [],
   "source": "create or replace function HTML_FROM_JSON_TASK_RUNS(JSON_DATA string)\nreturns string\nlanguage python\nruntime_version = '3.8'\nhandler = 'GENERATE_HTML_TABLE'\nas\n$$\nimport json\n  \ndef GENERATE_HTML_TABLE(JSON_DATA):\n    column_widths = [\"320px\", \"120px\", \"400px\", \"160px\", \"80px\", \"480px\"]\n    \n    DATA = json.loads(JSON_DATA)\n    \n    HTML = f\"\"\"\n        <img src=\"https://s26.q4cdn.com/463892824/files/doc_multimedia/HI_RES-_Snowflake_Logo_Blue_1800x550.jpg\" alt=\"Snowflake logo\" height=\"72\">\n        <p><strong>Task Graph Run Summary</strong>\n        <br>Log in to Snowsight to see more details.</p>\n        <table border=\"1\" style=\"border-color:#DEE3EA\" cellpadding=\"5\" cellspacing=\"0\">\n            <thead>\n                <tr>\n    \"\"\"\n    headers = [\"Task name\", \"Run Status\", \"Return Value\", \"Started\", \"Duration\", \"Error Message\"]\n    for i, header in enumerate(headers):\n        HTML += f'<th scope=\"col\" style=\"text-align:left; width: {column_widths[i]}\">{header.capitalize()}</th>'\n    \n    HTML +=\"\"\"\n        </tr>\n        </thead>\n        <tbody>\n    \"\"\"\n\n    for ROW_DATA in DATA:\n        HTML += \"<tr>\"\n        for header in headers:\n            key = header.replace(\" \", \"_\").upper()\n            CELL_DATA = ROW_DATA.get(key, \"\")\n            HTML += f'<td style=\"text-align:left; width: {column_widths[headers.index(header)]}\">{CELL_DATA}</td>'\n        HTML += \"</tr>\"\n\n    HTML +=\"\"\"\n        </tbody>\n        </table>\n    \"\"\"\n\n    return HTML\n$$\n;",
   "execution_count": null
  },
  {
   "cell_type": "markdown",
   "id": "8c515cf8-3ee3-4d00-9437-75b3e12357b7",
   "metadata": {
    "name": "STEP_5",
    "collapsed": false,
    "resultHeight": 60
   },
   "source": "## Step 5: Add finalizer Task to your graph"
  },
  {
   "cell_type": "code",
   "id": "25067c94-bee7-4400-8642-f43c61319227",
   "metadata": {
    "language": "sql",
    "name": "suspend_root_task"
   },
   "outputs": [],
   "source": "-- suspend the root task to add finalizer\nalter task <YOUR_ROOT_TASK> suspend;",
   "execution_count": null
  },
  {
   "cell_type": "code",
   "id": "7e30b56b-91f8-42b6-8711-58785d9c5268",
   "metadata": {
    "language": "sql",
    "name": "create_finalizer"
   },
   "outputs": [],
   "source": "-- create finalizer task\ncreate or replace task SEND_SUMMARY\nwarehouse = '<YOUR_WAREHOUSE>'\nfinalize = <YOUR_ROOT_TASK>\nas\n  declare\n    MY_ROOT_TASK_ID string;\n    MY_START_TIME timestamp_ltz;\n    SUMMARY_JSON string;\n    SUMMARY_HTML string;\n  begin\n    -- get root task ID\n    MY_ROOT_TASK_ID := (call SYSTEM$TASK_RUNTIME_INFO('CURRENT_ROOT_TASK_UUID'));\n   \n    -- get root task scheduled time\n    MY_START_TIME := (call SYSTEM$TASK_RUNTIME_INFO('CURRENT_TASK_GRAPH_ORIGINAL_SCHEDULED_TIMESTAMP'));\n    \n    -- combine all task run infos into one json string\n    SUMMARY_JSON := (select GET_TASK_GRAPH_RUN_SUMMARY(:MY_ROOT_TASK_ID, :MY_START_TIME));\n   \n    -- convert json into html table\n    SUMMARY_HTML := (select HTML_FROM_JSON_TASK_RUNS(:SUMMARY_JSON));\n   \n    -- send html to email\n    call SYSTEM$SEND_EMAIL(\n      'MY_EMAIL_NOTIFICATION',\n      '<your_email_address>',\n      'DAG run summary for <YOUR_ROOT_TASK>',\n      :SUMMARY_HTML,\n      'text/html');\n  \n    -- set return value for finalizer\n    call SYSTEM$SET_RETURN_VALUE('✅ Graph run summary sent to <YOUR_NAME_HERE>.');\n  end;\n;",
   "execution_count": null
  },
  {
   "cell_type": "code",
   "id": "1b91bfdb-fa61-4d55-8cb7-5f50e69f3fa8",
   "metadata": {
    "language": "sql",
    "name": "resume_graph"
   },
   "outputs": [],
   "source": "alter task SEND_SUMMARY resume;\nalter task <YOUR_ROOT_TASK> resume;",
   "execution_count": null
  },
  {
   "cell_type": "code",
   "id": "49ef07db-70d0-4e01-8b45-7afb3593daf4",
   "metadata": {
    "language": "sql",
    "name": "run_graph"
   },
   "outputs": [],
   "source": "--- test by running the graph\nexecute task <YOUR_ROOT_TASK>;",
   "execution_count": null
  },
  {
   "cell_type": "markdown",
   "id": "8d50cbf4-0c8d-4950-86cb-114990437ac9",
   "metadata": {
    "name": "next_steps",
    "collapsed": false,
    "resultHeight": 88
   },
   "source": "### ...wait for the task graph run to complete and check your inbox :) \n\n\ncreated by: Jan Sommerfeld, Snowflake Inc."
  }
 ]
}