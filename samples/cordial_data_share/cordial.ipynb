{
 "metadata": {
  "kernelspec": {
   "display_name": "Streamlit Notebook",
   "name": "streamlit"
  }
 },
 "nbformat_minor": 5,
 "nbformat": 4,
 "cells": [
  {
   "cell_type": "markdown",
   "id": "4e59d99e-f0d4-4e75-aca2-3bf32960783b",
   "metadata": {
    "name": "md1",
    "collapsed": false
   },
   "source": "#### Setup\n\nThis notebook is intended to run within Snowflake. In the sql query below, update the database name to the one you created when you accepted the Coridal Secure Data Share."
  },
  {
   "cell_type": "code",
   "id": "8d50cbf4-0c8d-4950-86cb-114990437ac9",
   "metadata": {
    "language": "sql",
    "name": "setup",
    "collapsed": false
   },
   "source": "-- choose the database for the Coridal Secure Data Share\nuse database messaging_data_personalized_user_profiles__events;",
   "execution_count": null,
   "outputs": []
  },
  {
   "cell_type": "markdown",
   "id": "6be36403-0648-4686-995a-e766456f6499",
   "metadata": {
    "name": "md2",
    "collapsed": false
   },
   "source": "#### Contacts per Channel\n\nIn this query we will determine the number of contacts for each channel. The defined channels for each contact are stored in a object keyed by the channel name. We will use the `FLATTEN()` function to query the channel object."
  },
  {
   "cell_type": "code",
   "id": "3fcda211-d1c2-47c1-8077-838fb4f3d318",
   "metadata": {
    "language": "sql",
    "name": "channel_contacts",
    "collapsed": false
   },
   "outputs": [],
   "source": "SELECT\n  f.key as channels,\n  count(*) as number_contacts\nFROM\n  public.contacts c\nJOIN\n  lateral flatten(input => c.channels) f\nGROUP BY\n  f.key\nORDER BY\n  number_contacts DESC",
   "execution_count": null
  },
  {
   "cell_type": "markdown",
   "id": "24efe5fd-c0f8-4f11-a76b-5a17d3eb44f4",
   "metadata": {
    "name": "md3",
    "collapsed": false
   },
   "source": "#### Daily Message Stats\n\nIn this query we will determine the high-level message stats per day, including sends, opens, clicks, and bounces. We will use the `PIVOT()` function to display each stat as its own column."
  },
  {
   "cell_type": "code",
   "id": "c280fae7-bc4f-4bbe-98b9-148faebd6d40",
   "metadata": {
    "language": "sql",
    "name": "event_counts",
    "collapsed": false
   },
   "outputs": [],
   "source": "WITH action_totals AS (\n  SELECT \n    to_date(action_date) as action_date,\n    action\n  FROM\n    public.contactactivity\n  WHERE\n    action_date BETWEEN '2023-07-01' AND '2023-07-07'\n    AND action IN ('message-sent', 'open', 'click', 'bounce')\n)\nSELECT\n *\nFROM\n action_totals\nPIVOT (\n count(action) FOR action IN ('message-sent', 'open', 'click', 'bounce')\n) as p\nORDER BY\n  action_date",
   "execution_count": null
  },
  {
   "cell_type": "markdown",
   "id": "03c5d876-ffdd-4727-b1c9-f034b21f3506",
   "metadata": {
    "name": "md4",
    "collapsed": false
   },
   "source": "#### Daily Orders Stats\n\nIn this query we will determine a summary of orders data aggregated per day for a given date range."
  },
  {
   "cell_type": "code",
   "id": "ff90fb65-9432-4c11-b7c4-2cfc87c6232e",
   "metadata": {
    "language": "sql",
    "name": "order_counts",
    "collapsed": false,
    "codeCollapsed": false
   },
   "outputs": [],
   "source": "SELECT\n  to_date(purchase_date) as purchase_date,\n  count(*) as number_orders,\n  count(distinct cid) as number_customers,\n  round(sum(total_amount),2) as total_revenue,\n  round(avg(total_amount),2) as average_order_amount,\n  round(avg(array_size(items))) as average_number_items\nFROM\n  public.orders\nWHERE\n  purchase_date BETWEEN '2023-07-01' and '2023-07-07'\nGROUP BY\n  to_date(purchase_date)\nORDER BY\n  to_date(purchase_date);",
   "execution_count": null
  },
  {
   "cell_type": "markdown",
   "id": "dfcb9d8a-24c6-4995-a84a-8079edbd5c54",
   "metadata": {
    "name": "md5",
    "collapsed": false
   },
   "source": "#### Emails Sent per Day\n\nIn this query we will find the total number of emails sent per day for a month. We will also include the number of unique contacts that were sent an email each day. The results of this query will be used to produce a bar chart."
  },
  {
   "cell_type": "code",
   "id": "9d3a2b53-5590-47f9-b4af-a18a0fff5803",
   "metadata": {
    "language": "sql",
    "name": "emails_sent",
    "collapsed": false
   },
   "outputs": [],
   "source": "SELECT \n  to_date(action_date) as send_date,\n  count(*) as emails_sent,\n  count(DISTINCT cid) as unique_contacts\nFROM\n  public.contactactivity\nWHERE\n  send_date BETWEEN '2023-07-01' AND '2023-07-31'\n  and action = 'message-sent'\n  and channel_type = 'email'\nGROUP BY\n  send_date\nORDER BY\n  send_date ASC",
   "execution_count": null
  },
  {
   "cell_type": "code",
   "id": "c695373e-ac74-4b62-a1f1-08206cbd5c81",
   "metadata": {
    "language": "python",
    "name": "emails_sent_chart",
    "collapsed": false
   },
   "source": "# Import python packages\nimport streamlit as st\nimport pandas as pd\n\n# We can also use Snowpark for our analyses!\n#from snowflake.snowpark.context import get_active_session\n#session = get_active_session()\n\n# Turn the `emails_sent` cell into a Pandas dataframe\nmy_df = emails_sent.to_pandas()\n\n# Chart the data\nst.subheader(\"Emails Sent per Day\")\nst.bar_chart(my_df, x='SEND_DATE', y='EMAILS_SENT')",
   "execution_count": null,
   "outputs": []
  }
 ]
}