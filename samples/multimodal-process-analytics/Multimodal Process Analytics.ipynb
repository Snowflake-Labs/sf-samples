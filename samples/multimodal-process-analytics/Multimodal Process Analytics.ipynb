{
 "metadata": {
  "kernelspec": {
   "display_name": "Streamlit Notebook",
   "name": "streamlit"
  },
  "lastEditStatus": {
   "notebookId": "3nx4xkx63j3mdknrjw36",
   "authorId": "284292169989",
   "authorName": "ANTTI",
   "authorEmail": "antti.sirkka@snowflake.com",
   "sessionId": "1650a80e-2f9d-46b4-b3ac-2c0eefd4aa79",
   "lastEditTime": 1746170306303
  }
 },
 "nbformat_minor": 5,
 "nbformat": 4,
 "cells": [
  {
   "cell_type": "code",
   "id": "a1b44d2b-c621-4679-b885-231d6355239d",
   "metadata": {
    "language": "sql",
    "name": "SetupDB"
   },
   "outputs": [],
   "source": "CREATE DATABASE IF NOT EXISTS PID_DEMO;\nCREATE OR REPLACE STAGE PID_IMAGES DIRECTORY = (ENABLE = TRUE) ENCRYPTION = (TYPE = 'SNOWFLAKE_SSE');\nCREATE OR REPLACE TABLE images_table(img FILE, pid_description varchar);",
   "execution_count": null
  },
  {
   "cell_type": "markdown",
   "id": "f7f7845e-d748-4f97-82f2-98e4688d0e0f",
   "metadata": {
    "name": "CopyPIDtoSTAGE",
    "collapsed": false
   },
   "source": "Copy PI Diagram from https://en.wikipedia.org/wiki/Piping_and_instrumentation_diagram#/media/File:Pump_with_tank_pid_en.svg to the STAGE PID_IMAGES"
  },
  {
   "cell_type": "code",
   "id": "36d58d5a-e9cd-4651-8d6b-6adbf21e741e",
   "metadata": {
    "language": "sql",
    "name": "AnalysePIDiagram"
   },
   "outputs": [],
   "source": "INSERT INTO images_table\n  SELECT TO_FILE(file_url) as img, '' AS pid_description FROM DIRECTORY(@PID_DEMO.PUBLIC.PID_IMAGES);\n\nUPDATE images_table\nSET pid_description = \n(\nSELECT \n    snowflake.cortex.complete('pixtral-large'\n    ,'You are technical writer, interpret the Piping and instrumentation diagram according to EN ISO 10628 instruments according to EN 62424 and create a technical documentation for the process flow, asset hierarchy and the tag list.'\n    , img)\nFROM images_table\n);\n\nselect * From images_table;",
   "execution_count": null
  },
  {
   "cell_type": "code",
   "id": "3775908f-ca36-4846-8f38-5adca39217f2",
   "metadata": {
    "language": "python",
    "name": "SetupPython",
    "codeCollapsed": false
   },
   "source": "# Import python packages\nimport streamlit as st\nimport pandas as pd\nimport numpy as np\nimport matplotlib.pyplot as plt\nimport seaborn as sns\nfrom sklearn.ensemble import IsolationForest\nfrom datetime import datetime, timedelta\n\nfrom snowflake.snowpark.context import get_active_session\nsession = get_active_session()",
   "execution_count": null,
   "outputs": []
  },
  {
   "cell_type": "code",
   "id": "d0e16376-85ae-40d4-a78a-ffde13355f24",
   "metadata": {
    "language": "python",
    "name": "CreateSimulatedData",
    "codeCollapsed": false
   },
   "outputs": [],
   "source": "# Create timestamp range\nstart_time = datetime(2024, 1, 1, 0, 0)\ntimestamps = [start_time + timedelta(minutes=i) for i in range(1440)]\n\n# Initialize normal operating parameters\nnormal_tank_level = 65  # Normal tank level (%)\nnormal_pressure = 6.0   # Normal pressure (barg)\npump_status = 1        # 1 = running, 0 = stopped\nflow_rate = 6.0        # Normal flow rate (m³/h)\n\n# Create empty lists for data\ndata = []\n\n# Generate data with anomalies\nfor i, timestamp in enumerate(timestamps):\n    # Add normal variation\n    level = normal_tank_level + np.random.normal(0, 0.5)\n    pressure = normal_pressure + np.random.normal(0, 0.1)\n    current_flow = flow_rate + np.random.normal(0, 0.2)\n    \n    # Introduce anomalies\n    \n    # Anomaly 1: Sudden pressure drop (pump cavitation) between 3:00-3:30 AM\n    if 180 <= i < 210:\n        pressure = pressure * 0.7\n        current_flow = current_flow * 0.6\n    \n    # Anomaly 2: High tank level alarm (85-90%) between 10:00-10:30 AM\n    if 600 <= i < 630:\n        level = 88 + np.random.normal(0, 0.5)\n    \n    # Anomaly 3: Pump trip between 15:00-15:30 PM\n    if 900 <= i < 930:\n        pump_status = 0\n        pressure = 0.2 + np.random.normal(0, 0.05)\n        current_flow = 0\n    else:\n        pump_status = 1\n    \n    # Add row to data\n    data.append({\n        'Timestamp': timestamp,\n        'T001_Level': round(level, 2),\n        'P001_Outlet_Pressure': round(pressure, 2),\n        'P001_Flow_Rate': round(current_flow, 2),\n        'P001_Status': pump_status,\n        'L0011_High_Level_Alarm': 1 if level > 85 else 0,\n        'L0012_Low_Level_Alarm': 1 if level < 20 else 0,\n        'PI0013_High_Pressure_Alarm': 1 if pressure > 7 else 0\n    })\n\n# Convert to DataFrame\ndf = pd.DataFrame(data)\n\n# Display first few rows\nprint(df.head())\n\n# Display summary of anomalies\nprint(\"\\nAnomaly Summary:\")\nprint(\"1. Pump Cavitation (3:00-3:30 AM): Pressure drop to ~4.2 barg\")\nprint(\"2. High Tank Level (10:00-10:30 AM): Level ~88%\")\nprint(\"3. Pump Trip (15:00-15:30 PM): Zero pressure and flow\")",
   "execution_count": null
  },
  {
   "cell_type": "code",
   "id": "8aa32064-61c4-41f5-89e6-7718a5aac840",
   "metadata": {
    "language": "python",
    "name": "VisualiseSimulatedData"
   },
   "outputs": [],
   "source": "# Query to fetch data\ndf = session.sql(\"SELECT \\\"Timestamp\\\", \\\"T001_Level\\\", \\\"P001_Outlet_Pressure\\\", \\\"P001_Flow_Rate\\\" FROM PID_IOT_DATA ORDER BY \\\"Timestamp\\\"\").collect()\ndf = pd.DataFrame(df)\n\n# Create the visualization\nfig, (ax1, ax2, ax3) = plt.subplots(3, 1, figsize=(15, 12))\nfig.suptitle('PID IoT Data Time Series', fontsize=16)\n\n# Plot Level\nsns.lineplot(data=df, x='Timestamp', y='T001_Level', ax=ax1, color='blue')\nax1.set_title('Tank Level Over Time')\nax1.set_xlabel('')\nax1.set_ylabel('Level')\nax1.grid(True)\n\n# Plot Outlet Pressure\nsns.lineplot(data=df, x='Timestamp', y='P001_Outlet_Pressure', ax=ax2, color='red')\nax2.set_title('Outlet Pressure Over Time')\nax2.set_xlabel('')\nax2.set_ylabel('Pressure')\nax2.grid(True)\n\n# Plot Flow Rate\nsns.lineplot(data=df, x='Timestamp', y='P001_Flow_Rate', ax=ax3, color='green')\nax3.set_title('Flow Rate Over Time')\nax3.set_xlabel('Timestamp')\nax3.set_ylabel('Flow Rate')\nax3.grid(True)\n\n# Adjust layout to prevent overlap\nplt.tight_layout()\n\n# Save the plot (optional)\nplt.savefig('pid_iot_timeseries.png')\n\n# Show the plot\nplt.show()\n",
   "execution_count": null
  },
  {
   "cell_type": "code",
   "id": "5eb8e817-fd11-41f0-bbd9-2da9f000b2d3",
   "metadata": {
    "language": "python",
    "name": "SaveSimulationData"
   },
   "outputs": [],
   "source": "session.write_pandas(df, \"PID_IOT_DATA\", auto_create_table=True, use_logical_type=True, overwrite=True)",
   "execution_count": null
  },
  {
   "cell_type": "code",
   "id": "0de0de53-aa74-4062-bbd0-6f212a3326bd",
   "metadata": {
    "language": "sql",
    "name": "CreateTableforAnamalies"
   },
   "outputs": [],
   "source": "CREATE OR REPLACE TABLE PID_DEMO.PUBLIC.EVENT_DATA (\n    event_id INTEGER IDENTITY(1,1),\n    timestamp TIMESTAMP_NTZ,\n    sensor_name VARCHAR,\n    anomaly_score FLOAT,\n    description VARCHAR,\n    created_at TIMESTAMP_NTZ DEFAULT CURRENT_TIMESTAMP()\n)",
   "execution_count": null
  },
  {
   "cell_type": "code",
   "id": "96e891ff-c4ef-4687-83a4-2c7667e9339b",
   "metadata": {
    "language": "python",
    "name": "DetectAnomalies"
   },
   "outputs": [],
   "source": "# Function to detect anomalies using Isolation Forest\ndef detect_anomalies(data, sensor_name, contamination=0.1):\n    # Reshape data for Isolation Forest\n    X = data.values.reshape(-1, 1)\n    \n    # Initialize and fit Isolation Forest\n    iso_forest = IsolationForest(contamination=contamination, random_state=42)\n    yhat = iso_forest.fit_predict(X)\n    \n    # Get anomaly scores\n    scores = iso_forest.score_samples(X)\n    \n    # Create mask for anomalies (-1 indicates anomaly)\n    anomalies = yhat == -1\n    \n    return anomalies, scores\n\n\nsensor_data = session.sql(\"SELECT \\\"Timestamp\\\", \\\"T001_Level\\\", \\\"P001_Outlet_Pressure\\\", \\\"P001_Flow_Rate\\\" FROM PID_IOT_DATA ORDER BY \\\"Timestamp\\\"\").collect()\nsensor_data_df = pd.DataFrame(sensor_data)\n\n# List of sensor columns (excluding timestamp)\nsensor_columns = sensor_data_df.columns.drop('Timestamp').tolist()\n\n# Process each sensor\nanomaly_events = []\nfor sensor in sensor_columns:\n    # Detect anomalies\n    anomalies, scores = detect_anomalies(sensor_data_df[sensor], sensor)\n    \n    # Get timestamps where anomalies occurred\n    anomaly_timestamps = sensor_data_df.loc[anomalies, 'Timestamp']\n    anomaly_scores = scores[anomalies]\n    \n    # Create event records\n    for ts, score in zip(anomaly_timestamps, anomaly_scores):\n        event = {\n            'timestamp': ts,\n            'sensor_name': sensor,\n            'anomaly_score': score,\n            'description': f'Anomaly detected in {sensor} with score {score:.3f}'\n        }\n        anomaly_events.append(event)\n\n# Create DataFrame from events and save to database\nif anomaly_events:\n    events_df = pd.DataFrame(anomaly_events)\n    session.write_pandas(events_df, \"EVENT_DATA\", auto_create_table=True, use_logical_type=True, overwrite=True)",
   "execution_count": null
  },
  {
   "cell_type": "code",
   "id": "8e79816a-23b6-4fdd-b1f6-4f3a08ce30ed",
   "metadata": {
    "language": "python",
    "name": "GetIOTData",
    "codeCollapsed": false
   },
   "outputs": [],
   "source": "sensor_data_df = session.sql(\"SELECT * from PID_DEMO.PUBLIC.PID_IOT_DATA\").collect()",
   "execution_count": null
  },
  {
   "cell_type": "code",
   "id": "53477c78-40d3-46af-9e6a-63e88f6acaab",
   "metadata": {
    "language": "python",
    "name": "GetAnomalyData"
   },
   "outputs": [],
   "source": "event_data_df = session.sql(\"SELECT * from PID_DEMO.PUBLIC.EVENT_DATA\").collect()",
   "execution_count": null
  },
  {
   "cell_type": "code",
   "id": "6698d27f-3f54-41d0-86b7-e1f8afd9356d",
   "metadata": {
    "language": "python",
    "name": "GetPIDData"
   },
   "outputs": [],
   "source": "pid_df = session.sql(\"SELECT pid_description FROM PID_DEMO.PUBLIC.images_table\").collect()",
   "execution_count": null
  },
  {
   "cell_type": "code",
   "id": "70a5676c-ddc3-426e-8cd0-2ca7281230ad",
   "metadata": {
    "language": "python",
    "name": "CreateInstructions"
   },
   "outputs": [],
   "source": "instructions = \"You are a mechanical engineer, Use following data from the process instrumentation diagrams and the sensors to analyse the performance and status of the process.\"",
   "execution_count": null
  },
  {
   "cell_type": "code",
   "id": "13340b1d-b2eb-49bc-8e0d-c74ae64e44c4",
   "metadata": {
    "language": "python",
    "name": "CreatePromtAndSelectLLM"
   },
   "outputs": [],
   "source": "prompt = instructions + str(pid_df) + str(event_data_df) + str(sensor_data_df)\nmodel = 'claude-3-5-sonnet'",
   "execution_count": null
  },
  {
   "cell_type": "code",
   "id": "91b30971-5216-4550-a2ed-e0535f29860b",
   "metadata": {
    "language": "python",
    "name": "PromtForProcessAnalysis"
   },
   "outputs": [],
   "source": "performance_analysis = session.sql(\"SELECT snowflake.cortex.complete(?,?)\", (model,prompt)).collect()[0][0]\nprint(performance_analysis)",
   "execution_count": null
  }
 ]
}