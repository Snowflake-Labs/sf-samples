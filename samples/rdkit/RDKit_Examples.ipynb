{
 "cells": [
  {
   "cell_type": "markdown",
   "id": "f242158d",
   "metadata": {},
   "source": [
    "## RDKit in Snowpark\n",
    "\n",
    "The following notebook covers examples of using RDKit with Snowpark. "
   ]
  },
  {
   "cell_type": "code",
   "execution_count": null,
   "id": "d4d0a472",
   "metadata": {},
   "outputs": [],
   "source": [
    "#Standard Imports\n",
    "import json\n",
    "import pandas as pd\n",
    "import numpy as np\n",
    "import cachetools\n",
    "\n",
    "#Snowflake imports: \n",
    "from snowflake.snowpark.session import Session\n",
    "from snowflake.snowpark import functions as F\n",
    "import snowflake.snowpark.types as T\n",
    "\n",
    "#Rdkit specific libraries\n",
    "import rdkit\n",
    "from rdkit import Chem\n",
    "from rdkit.Chem import AllChem\n",
    "from rdkit.ML.Descriptors.MoleculeDescriptors import MolecularDescriptorCalculator"
   ]
  },
  {
   "cell_type": "code",
   "execution_count": null,
   "id": "a64cde14",
   "metadata": {},
   "outputs": [],
   "source": [
    "#Environment Set-Up: Fill in your creds.json file with your corresponding account credentials:  \n",
    "with open('./creds.json') as f:\n",
    "    data = json.load(f)\n",
    "    USERNAME = data['user']\n",
    "    PASSWORD = data['password']\n",
    "    SF_ACCOUNT = data['account']\n",
    "    \n",
    "connection_parameters = {\n",
    "    \"account\": SF_ACCOUNT,\n",
    "    \"user\": USERNAME,\n",
    "    \"password\": PASSWORD,\n",
    "    \"role\": \"ACCOUNTADMIN\"\n",
    "}\n",
    "\n",
    "session = Session.builder.configs(connection_parameters).create()"
   ]
  },
  {
   "cell_type": "markdown",
   "id": "cc571c3b",
   "metadata": {},
   "source": [
    "Set up Database context: "
   ]
  },
  {
   "cell_type": "code",
   "execution_count": null,
   "id": "29ef94f9",
   "metadata": {},
   "outputs": [],
   "source": [
    "session.sql('CREATE OR REPLACE DATABASE RDKIT').collect()\n",
    "session.sql('CREATE OR REPLACE WAREHOUSE RDKIT_WH').collect()\n",
    "session.sql('CREATE OR REPLACE STAGE TMP').collect()"
   ]
  },
  {
   "cell_type": "markdown",
   "id": "9bf873e5",
   "metadata": {},
   "source": [
    "### Loading Data: \n",
    "\n",
    "To run some sample computations, we will be loading our RDKIT databases with some data containing SMILES strings. Note that at the moment, Snowflake does not support arbitrary python objects as a type for a particular column.\n",
    "\n",
    "The first dataset we will load into our database is provided by ChEMBL. Click on the download csv link on the following link: https://www.ebi.ac.uk/chembl/g/#search_results/all. "
   ]
  },
  {
   "cell_type": "code",
   "execution_count": null,
   "id": "42a3422e",
   "metadata": {},
   "outputs": [],
   "source": [
    "df = pd.read_csv('../smiles.csv', delimiter=';')\n",
    "df.head()"
   ]
  },
  {
   "cell_type": "code",
   "execution_count": null,
   "id": "62ce731c",
   "metadata": {},
   "outputs": [],
   "source": [
    "df.columns"
   ]
  },
  {
   "cell_type": "code",
   "execution_count": null,
   "id": "3da2f576",
   "metadata": {},
   "outputs": [],
   "source": [
    "#Select only those columns that are required: \n",
    "cols = ['ChEMBL ID', 'Molecular Formula', 'Smiles']\n",
    "df = df[cols]\n",
    "df.head()"
   ]
  },
  {
   "cell_type": "code",
   "execution_count": null,
   "id": "8dc5d904",
   "metadata": {},
   "outputs": [],
   "source": [
    "df.shape"
   ]
  },
  {
   "cell_type": "code",
   "execution_count": null,
   "id": "ca583c95",
   "metadata": {},
   "outputs": [],
   "source": [
    "#Drop rows with null entries\n",
    "df.dropna(inplace = True)\n",
    "df.shape"
   ]
  },
  {
   "cell_type": "code",
   "execution_count": null,
   "id": "b3b0d850",
   "metadata": {},
   "outputs": [],
   "source": [
    "#upload data to snowflake: \n",
    "session.write_pandas(df, table_name = 'CHEMBL_DATABASE', auto_create_table = True, overwrite = True)"
   ]
  },
  {
   "cell_type": "markdown",
   "id": "406c8557",
   "metadata": {},
   "source": [
    "### Calculating Molecular Descriptors: "
   ]
  },
  {
   "cell_type": "code",
   "execution_count": null,
   "id": "d7b3b599",
   "metadata": {},
   "outputs": [],
   "source": [
    "def udf_compute_molecular_properties(smile_string_col: str) -> dict: \n",
    "    \"\"\"Computes molecular properties of an input smile string, \n",
    "    returns dictionary with descriptor name and its value\"\"\"\n",
    "    \n",
    "    #Load the libraries:\n",
    "    from rdkit import Chem\n",
    "    from rdkit.ML.Descriptors.MoleculeDescriptors import MolecularDescriptorCalculator\n",
    "    \n",
    "    #Descriptors to calculate smiles strings from: \n",
    "    descriptors = ['ExactMolWt', 'FpDensityMorgan1', 'FpDensityMorgan2', 'FpDensityMorgan3', \n",
    "               'FractionCSP3', 'HallKierAlpha', 'HeavyAtomCount', 'HeavyAtomMolWt', 'Ipc', 'Kappa1', \n",
    "               'Kappa2', 'Kappa3', 'LabuteASA', 'MaxAbsEStateIndex', 'MaxAbsPartialCharge', 'MaxEStateIndex', \n",
    "               'MaxPartialCharge', 'MinAbsEStateIndex', 'MinAbsPartialCharge', 'MinEStateIndex', 'MinPartialCharge',\n",
    "               'MolLogP', 'MolMR', 'MolWt']\n",
    "    \n",
    "    #Compute molecular represntation\n",
    "    mol = Chem.MolFromSmiles(smile_string_col)\n",
    "    descriptor_calculator = MolecularDescriptorCalculator(descriptors)\n",
    "    mol_property_vals = descriptor_calculator.CalcDescriptors(mol)\n",
    "    return dict(zip(descriptors, mol_property_vals))"
   ]
  },
  {
   "cell_type": "code",
   "execution_count": null,
   "id": "75061be7",
   "metadata": {},
   "outputs": [],
   "source": [
    "udf_compute_molecular_properties = session.udf.register(func = udf_compute_molecular_properties, \n",
    "                                                        name = 'udf_compute_molecular_properties',\n",
    "                                                        stage_location = '@TMP', \n",
    "                                                        replace = True, \n",
    "                                                        is_permanent = True, \n",
    "                                                        packages = ['cachetools==4.2.2', 'numpy==1.23.5', 'pandas==1.4.3', 'rdkit==2022.09.4'],\n",
    "                                                        session = session\n",
    "                                                       )"
   ]
  },
  {
   "cell_type": "code",
   "execution_count": null,
   "id": "ef7efd6c",
   "metadata": {},
   "outputs": [],
   "source": [
    "session.table('CHEMBL_DATABASE')"
   ]
  },
  {
   "cell_type": "code",
   "execution_count": null,
   "id": "c92cc1db",
   "metadata": {},
   "outputs": [],
   "source": [
    "smiles_df.show()"
   ]
  },
  {
   "cell_type": "code",
   "execution_count": null,
   "id": "3b5880ba",
   "metadata": {},
   "outputs": [],
   "source": [
    "#Call UDF on data: \n",
    "smiles_df.with_column('MOLECULAR_PROPERTIES', \n",
    "                       udf_compute_molecular_properties(F.col('\"Smiles\"'))).limit(10).show()"
   ]
  },
  {
   "cell_type": "markdown",
   "id": "d36f4b82",
   "metadata": {},
   "source": [
    "The above query, when run against the full dataset, takes 46 minutes on an Extra-Small Warehouse on nearly 2 million records. To speed up this process, we will make use of vectorized UDFs. This emans that each call to the UDF receives a set/batch of rows compared to a Scalar UDF which gets one row input at a time. Combined with a larger sized warehouse, we can speed up the query execution time. "
   ]
  },
  {
   "cell_type": "code",
   "execution_count": null,
   "id": "443c813d",
   "metadata": {},
   "outputs": [],
   "source": [
    "@cachetools.cached(cache={})\n",
    "def get_molecular_descriptor_calculator():\n",
    "    \"\"\"Cache call to retreive molecular descriptors function\"\"\"\n",
    "    from rdkit.ML.Descriptors.MoleculeDescriptors import MolecularDescriptorCalculator\n",
    "    \n",
    "    descriptor_vals = ['ExactMolWt', 'FpDensityMorgan1', 'FpDensityMorgan2', 'FpDensityMorgan3', \n",
    "               'FractionCSP3', 'HallKierAlpha', 'HeavyAtomCount', 'HeavyAtomMolWt', 'Ipc', 'Kappa1', \n",
    "               'Kappa2', 'Kappa3', 'LabuteASA', 'MaxAbsEStateIndex', 'MaxAbsPartialCharge', 'MaxEStateIndex', \n",
    "               'MaxPartialCharge', 'MinAbsEStateIndex', 'MinAbsPartialCharge', 'MinEStateIndex', 'MinPartialCharge',\n",
    "               'MolLogP', 'MolMR', 'MolWt']\n",
    "    \n",
    "    return MolecularDescriptorCalculator(descriptor_vals), descriptor_vals\n",
    "\n",
    "\n",
    "def vudf_compute_molecular_properties(smile_string_df: T.PandasDataFrame[str]) -> T.PandasSeries[dict]: \n",
    "    \"\"\"Vectorized implementation of the compute molecular properties, for more efficient processing\"\"\"\n",
    "        \n",
    "    #Load the libraries:\n",
    "    from rdkit import Chem\n",
    "    #from rdkit.ML.Descriptors.MoleculeDescriptors import MolecularDescriptorCalculator\n",
    "    \n",
    "    smile_string_df.columns = ['SMILES']\n",
    "    descriptor_calculator, descriptors = get_molecular_descriptor_calculator()\n",
    "    \n",
    "    def smiles_to_descriptors(smile):\n",
    "        \"\"\"Helper function to apply to batches of rows\"\"\"\n",
    "        mol = Chem.MolFromSmiles(smile)\n",
    "        mol_property_vals = descriptor_calculator.CalcDescriptors(mol)\n",
    "        return dict(zip(descriptors, mol_property_vals))\n",
    "    \n",
    "    #smile_string_df['descriptors'] = smile_string_df.SMILES.apply(smi_to_descriptors)\n",
    "    return smile_string_df.SMILES.apply(smiles_to_descriptors)"
   ]
  },
  {
   "cell_type": "code",
   "execution_count": null,
   "id": "a1f92607",
   "metadata": {},
   "outputs": [],
   "source": [
    "#Register the vectorized udf:\n",
    "vudf_compute_molecular_properties = session.udf.register(func = vudf_compute_molecular_properties, \n",
    "                                                        name = 'vudf_compute_molecular_properties',\n",
    "                                                        stage_location = '@TMP', \n",
    "                                                        replace = True, \n",
    "                                                        is_permanent = True, \n",
    "                                                        packages = ['cachetools==4.2.2', 'numpy==1.23.5', 'pandas==1.4.3', 'rdkit==2022.09.4'],\n",
    "                                                        session = session,\n",
    "                                                        max_batch_size = 500\n",
    "                                                       )"
   ]
  },
  {
   "cell_type": "code",
   "execution_count": null,
   "id": "d241404a",
   "metadata": {},
   "outputs": [],
   "source": [
    "#invoke the vectorized udf\n",
    "smiles_df.with_column('MOLECULAR_PROPERTIES', \n",
    "                       vudf_compute_molecular_properties(F.col('\"Smiles\"'))).limit(10).show()"
   ]
  },
  {
   "cell_type": "markdown",
   "id": "60c1bcbd",
   "metadata": {},
   "source": [
    "### Molecular Similarity with MACCS & Tanimoto Coefficient: \n",
    "\n",
    "The data used for this portion is sourced from: https://github.com/greglandrum/rdkit_blog/blob/master/data/chembl16_25K.pairs.txt.gz. "
   ]
  },
  {
   "cell_type": "code",
   "execution_count": null,
   "id": "166d24bc",
   "metadata": {},
   "outputs": [],
   "source": [
    "#Load the data: \n",
    "pairs_df = pd.read_table('/Users/hapatel/Downloads/chembl16_25K.pairs.txt', delimiter= ' ',\n",
    "              names = ['pair1_id', 'smile_string1', 'pair2_id', 'smile_string2'])\n",
    "\n",
    "pairs_df.head()"
   ]
  },
  {
   "cell_type": "code",
   "execution_count": null,
   "id": "5d2d5d86",
   "metadata": {},
   "outputs": [],
   "source": [
    "session.write_pandas(pairs_df, table_name = \"CHEMBL16_PAIRS\", auto_create_table=True, overwrite=True)"
   ]
  },
  {
   "cell_type": "code",
   "execution_count": null,
   "id": "c779c22b",
   "metadata": {},
   "outputs": [],
   "source": [
    "pairs_sdf = session.table('CHEMBL16_PAIRS')\n",
    "pairs_sdf.show()"
   ]
  },
  {
   "cell_type": "code",
   "execution_count": null,
   "id": "0aab5671",
   "metadata": {},
   "outputs": [],
   "source": [
    "def udf_compute_maccs_tanimoto_similarity(smile_string_col1: str, smile_string_col2: str) -> float:\n",
    "    \"\"\"Computes the tanimoto_similarity of two smile string compounds using the MACCS fingerprint\"\"\"\n",
    "    \n",
    "    #Load libraries\n",
    "    from rdkit import Chem\n",
    "    from rdkit.Chem import MACCSkeys\n",
    "    from rdkit import DataStructs\n",
    "    \n",
    "    #Compute molecular representation\n",
    "    mol1 = Chem.MolFromSmiles(smile_string_col1)\n",
    "    mol2 = Chem.MolFromSmiles(smile_string_col2)\n",
    "    \n",
    "    #Generate the maccs keys for smile string\n",
    "    maccs1 = MACCSkeys.GenMACCSKeys(mol1)\n",
    "    maccs2 = MACCSkeys.GenMACCSKeys(mol2)\n",
    "    \n",
    "    return DataStructs.TanimotoSimilarity(maccs1, maccs2)"
   ]
  },
  {
   "cell_type": "code",
   "execution_count": null,
   "id": "97a0990b",
   "metadata": {},
   "outputs": [],
   "source": [
    "udf_maccs_tanimoto_similarity = session.udf.register(func = udf_compute_maccs_tanimoto_similarity, \n",
    "                                                        name = 'udf_compute_maccs_tanimoto_similarity',\n",
    "                                                        stage_location = '@TMP', \n",
    "                                                        replace = True, \n",
    "                                                        is_permanent = True, \n",
    "                                                        packages = ['cachetools==4.2.2', 'numpy==1.23.5', 'pandas==1.4.3', 'rdkit==2022.09.4'],\n",
    "                                                        session = session\n",
    "                                                       )"
   ]
  },
  {
   "cell_type": "code",
   "execution_count": null,
   "id": "91ab5fa8",
   "metadata": {},
   "outputs": [],
   "source": [
    "pairs_sdf.with_column('MACCS_Tanimoto_similarity', udf_maccs_tanimoto_similarity(F.col('\"smile_string1\"'), \n",
    "                                                                                    F.col('\"smile_string2\"')))\\\n",
    "             .limit(100).show()"
   ]
  },
  {
   "cell_type": "markdown",
   "id": "4f872870",
   "metadata": {},
   "source": [
    "### Substructure Search: "
   ]
  },
  {
   "cell_type": "code",
   "execution_count": null,
   "id": "82789633",
   "metadata": {},
   "outputs": [],
   "source": [
    "def udf_has_substructure_match(smile_string_col: str, pattern: str) -> bool:\n",
    "    \"\"\"Given a molecule represented as a smile string and a user defined pattern, \n",
    "    will return True if pattern is within the input smile string\"\"\"\n",
    "    \n",
    "    #Load libraries\n",
    "    from rdkit import Chem\n",
    "    \n",
    "    #Compute molecular representation\n",
    "    mol = Chem.MolFromSmiles(smile_string_col)\n",
    "    patt = Chem.MolFromSmarts(pattern)\n",
    "    \n",
    "    return mol.HasSubstructMatch(patt)"
   ]
  },
  {
   "cell_type": "code",
   "execution_count": null,
   "id": "d0c8454e",
   "metadata": {},
   "outputs": [],
   "source": [
    "udf_has_substructure_match = session.udf.register(func = udf_has_substructure_match, \n",
    "                                                        name = 'udf_has_substructure_match',\n",
    "                                                        stage_location = '@TMP', \n",
    "                                                        replace = True, \n",
    "                                                        is_permanent = True, \n",
    "                                                        packages = ['cachetools==4.2.2', 'numpy==1.23.5', 'pandas==1.4.3', 'rdkit==2022.09.4'],\n",
    "                                                        session = session\n",
    "                                                       )"
   ]
  },
  {
   "cell_type": "code",
   "execution_count": null,
   "id": "29ded5a9",
   "metadata": {},
   "outputs": [],
   "source": [
    "smiles_df.with_column('has_substructure', \n",
    "                       udf_has_substructure_match(F.col('\"Smiles\"'), F.lit('ccO'))).limit(10).show()"
   ]
  }
 ],
 "metadata": {
  "kernelspec": {
   "display_name": "Python 3 (ipykernel)",
   "language": "python",
   "name": "python3"
  },
  "language_info": {
   "codemirror_mode": {
    "name": "ipython",
    "version": 3
   },
   "file_extension": ".py",
   "mimetype": "text/x-python",
   "name": "python",
   "nbconvert_exporter": "python",
   "pygments_lexer": "ipython3",
   "version": "3.8.16"
  }
 },
 "nbformat": 4,
 "nbformat_minor": 5
}
