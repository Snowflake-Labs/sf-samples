{
 "cells": [
  {
   "cell_type": "markdown",
   "id": "8d50cbf4-0c8d-4950-86cb-114990437ac9",
   "metadata": {
    "collapsed": false,
    "name": "cell2"
   },
   "source": [
    "## AISQL Functions For Equity Research\n",
    "\n",
    "Snowflake's AI powered functions enable column level operations with LLM like traditional database operators. This is handy to use to process unstructured data for any downstream analytics.\n",
    "\n",
    "\n",
    "1. Parse document into text from pdf using [PARSE_DOCUMENT](https://docs.snowflake.com/en/sql-reference/functions/parse_document-snowflake-cortex)\n",
    "2. Extract entities using snowflake [structured output](https://docs.snowflake.com/en/user-guide/snowflake-cortex/complete-structured-outputs)\n",
    "3. Using Top-K join and AI Join to map entities to S&P 500 tickers ([AI_FILTER](https://docs.snowflake.com/LIMITEDACCESS/snowflake-cortex/ai_filter-snowflake-cortex))\n",
    "4. Summarize research insights (using [AI_AGG](https://docs.snowflake.com/LIMITEDACCESS/snowflake-cortex/ai_agg)) across multiple articles upon given ticker\n"
   ]
  },
  {
   "cell_type": "markdown",
   "id": "ac98f83d-16ab-4755-8142-087226e28128",
   "metadata": {
    "collapsed": false,
    "name": "cell1"
   },
   "source": [
    "NOTE: please complete the prerequisites and take note of the DB.Schema.Stage names if you are using names other than the suggested: AI_SQL_TEAM_DB.SE_SAMPLE_DATA.EQUITY_RESEARCH\n",
    "\n",
    "**Step 1**. Parse research doc into text using [PARSE_DOCUMENT](https://docs.snowflake.com/en/sql-reference/functions/parse_document-snowflake-cortex) function from the stage containing the pdfs."
   ]
  },
  {
   "cell_type": "code",
   "execution_count": null,
   "id": "d2c1056d",
   "metadata": {},
   "outputs": [],
   "source": [
    "-- optional list to validate \n",
    "LIST @SI_EVENTS_HOL.EQUITY_RESEARCH.EQUITY_RESEARCH;"
   ]
  },
  {
   "cell_type": "code",
   "execution_count": null,
   "id": "c695373e-ac74-4b62-a1f1-08206cbd5c81",
   "metadata": {
    "codeCollapsed": false,
    "language": "sql",
    "name": "PARSE_DOC"
   },
   "outputs": [],
   "source": [
    "-- This step can take around a minute or so on an XS warehouse compute considering the calls made to the Cortex AI Inference service\n",
    "-- Note: validate prereqs like client side encryption!!\n",
    "\n",
    "\n",
    "CREATE OR REPLACE TABLE raw_docs_text AS SELECT\n",
    "    relative_path, \n",
    "    GET_PRESIGNED_URL(@AI_SQL_TEAM_DB.SE_SAMPLE_DATA.equity_research, relative_path) as scoped_file_url, \n",
    "    TO_VARIANT(SNOWFLAKE.CORTEX.PARSE_DOCUMENT(@AI_SQL_TEAM_DB.SE_SAMPLE_DATA.equity_research, relative_path , {'mode': 'layout'})) as raw_text_dict,\n",
    "    raw_text_dict:content as raw_text\n",
    "FROM DIRECTORY(@AI_SQL_TEAM_DB.SE_SAMPLE_DATA.equity_research);\n"
   ]
  },
  {
   "cell_type": "code",
   "execution_count": null,
   "id": "df410cc5-f72d-4dc7-8c7f-a0c3d933f4ee",
   "metadata": {
    "language": "sql",
    "name": "cell7"
   },
   "outputs": [],
   "source": [
    "select relative_path, raw_text from raw_docs_text;"
   ]
  },
  {
   "cell_type": "markdown",
   "id": "8e8eaf32-c9d8-4c6e-8750-30d2658a5ead",
   "metadata": {
    "collapsed": false,
    "name": "cell3"
   },
   "source": [
    "Step 2. Extract company and sentiment from the document using [STRUCTURED OUTPUT](https://docs.snowflake.com/en/user-guide/snowflake-cortex/complete-structured-outputs)"
   ]
  },
  {
   "cell_type": "code",
   "execution_count": null,
   "id": "8dc63d22-9adb-4c00-bad1-e8b8524f2bae",
   "metadata": {
    "language": "sql",
    "name": "COMPLETE_STRUCTURED_OUTPUT"
   },
   "outputs": [],
   "source": [
    "CREATE OR REPLACE TABLE ENTITY_EXTRACTION_EXAMPLE as \n",
    "select *,\n",
    "    ai_complete(\n",
    "    model => 'claude-3-7-sonnet',\n",
    "    prompt => 'You are tasked with extracting companies from a research article. Extract \"company\" for each company that is identified and the \"sentiment\" which includes a sentiment of how the company was referenced.:\\n\\n'|| RAW_TEXT::text,\n",
    "    response_format => {\n",
    "        'type':'json',\n",
    "        'schema':{'type' : 'object','properties': {'company_sentiment': {\n",
    "            'type': 'array',\n",
    "            'items': {\n",
    "                'type': 'object',\n",
    "                'properties': {\n",
    "                    'company': {'type': 'string'},\n",
    "                    'sentiment': {'type': 'string'}}\n",
    "                    }\n",
    "                }}}\n",
    "        }\n",
    "    ) as extraction,\n",
    "    ai_complete('llama3.1-70b', 'summarize below test: ' || raw_text) as summary\n",
    "    from raw_docs_text;"
   ]
  },
  {
   "cell_type": "code",
   "execution_count": null,
   "id": "b4d95e6d-30a6-4ad8-8fc3-7f9b652251f8",
   "metadata": {
    "language": "sql",
    "name": "cell8"
   },
   "outputs": [],
   "source": [
    "select * from ENTITY_EXTRACTION_EXAMPLE;"
   ]
  },
  {
   "cell_type": "markdown",
   "id": "5dd08ba3-0e7d-461e-a317-c78c98c788e2",
   "metadata": {
    "collapsed": false,
    "name": "cell12"
   },
   "source": [
    "Note, ensure you have completed the Snowflake Marketplace dataset prereq"
   ]
  },
  {
   "cell_type": "code",
   "execution_count": null,
   "id": "44ac10d6-7061-4902-bd02-daa843767ed9",
   "metadata": {
    "language": "sql",
    "name": "cell6"
   },
   "outputs": [],
   "source": [
    "CREATE OR REPLACE TABLE AI_SQL_TEAM_DB.SE_SAMPLE_DATA.TICKERS_LIST as select distinct(company_name), ticker\n",
    "FROM S__P_500_BY_DOMAIN_AND_AGGREGATED_BY_TICKERS_SAMPLE.DATAFEEDS.SP_500\n",
    "group by 1,2;"
   ]
  },
  {
   "cell_type": "markdown",
   "id": "2c3417d9-8cc8-444f-abcd-3c61c86ee6c9",
   "metadata": {
    "collapsed": false,
    "name": "cell4"
   },
   "source": [
    "Step 3. Map extracted company entity to the S&P 500 Ticker using TOP-K Join and [AI_FILTER](https://docs.snowflake.com/LIMITEDACCESS/snowflake-cortex/ai_filter-snowflake-cortex)"
   ]
  },
  {
   "cell_type": "code",
   "execution_count": null,
   "id": "e233e011-a6b3-47ce-9475-600a87a1f8cd",
   "metadata": {
    "language": "sql",
    "name": "FLATTEN_RESULTS"
   },
   "outputs": [],
   "source": [
    "create or replace view flattened_extraction as \n",
    "SELECT \n",
    "    relative_path as file_name,\n",
    "    RAW_TEXT,\n",
    "    summary,\n",
    "    flattened.value:company::STRING AS Company,\n",
    "    flattened.value:sentiment::STRING AS Sentiment,\n",
    "    extraction \n",
    "FROM \n",
    "    entity_extraction_example,\n",
    "    LATERAL FLATTEN(INPUT => extraction:company_sentiment) AS flattened;"
   ]
  },
  {
   "cell_type": "code",
   "execution_count": null,
   "id": "a8e26305-fc6e-4f38-afee-3a14e38e8fda",
   "metadata": {
    "language": "sql",
    "name": "cell9"
   },
   "outputs": [],
   "source": [
    "select company,sentiment, * from flattened_extraction;"
   ]
  },
  {
   "cell_type": "code",
   "execution_count": null,
   "id": "568da2de-b0fe-4a2b-a5d0-c672abf20216",
   "metadata": {
    "language": "sql",
    "name": "TOP_CANDIDATES_TOP_K_JOIN"
   },
   "outputs": [],
   "source": [
    "-- use top k join to filter down company mapping first, then compare it to the ai_filter results\n",
    "-- note, calculating a similarty score is a one approach to a problem, for which there are multiple approaches\n",
    "\n",
    "create or replace table top_candidates as \n",
    "SELECT c.*, d.*, ai_similarity(c.company, d.company_name, {'model':'snowflake-arctic-embed-m-v1.5'}) as sim_score\n",
    "FROM  flattened_extraction c\n",
    "CROSS JOIN TICKERS_LIST d\n",
    "QUALIFY row_number() OVER \n",
    "    (PARTITION BY company, file_name\n",
    "    ORDER BY sim_score DESC) <= 2;"
   ]
  },
  {
   "cell_type": "code",
   "execution_count": null,
   "id": "bac41a2a-ab82-497a-970d-7fd351f21718",
   "metadata": {
    "language": "sql",
    "name": "cell10"
   },
   "outputs": [],
   "source": [
    "-- take a look from top k match - a lot of false positives due to this approach\n",
    "-- is there a better way to approach this problem?\n",
    "select company as extracted, company_name as mapped_company, ticker as mapped_ticker from top_candidates;"
   ]
  },
  {
   "cell_type": "code",
   "execution_count": null,
   "id": "88f05bdb-a873-4907-b79f-362b4e355514",
   "metadata": {
    "language": "sql",
    "name": "AI_JOIN"
   },
   "outputs": [],
   "source": [
    "-- ENTITY DISAMBIGUATION - USING AI FILTER TO further filter down the matched entities.\n",
    "\n",
    "create or replace table matched_candidates as \n",
    "SELECT file_name, raw_text, summary, company as extracted, company_name as mapped_company, ticker as mapped_ticker, \n",
    "    FROM top_candidates\n",
    "WHERE true\n",
    "and AI_FILTER('Does this extracted company:' || company || ' refers to the same company as this S&P 500 company: ' || company_name || '?')\n",
    "ORDER BY FILE_NAME;"
   ]
  },
  {
   "cell_type": "code",
   "execution_count": null,
   "id": "7eb05836-95f3-4079-b34d-e43fb23cc3b4",
   "metadata": {
    "language": "sql",
    "name": "cell11"
   },
   "outputs": [],
   "source": [
    "select extracted, mapped_company, mapped_ticker from matched_candidates;"
   ]
  },
  {
   "cell_type": "markdown",
   "id": "150b474b-cd3b-467f-8e7b-2b20939b734b",
   "metadata": {
    "collapsed": false,
    "name": "cell5"
   },
   "source": [
    "Step 4. Aggregate insights across multiple documents on specific Ticker using [AI_AGG](https://docs.snowflake.com/LIMITEDACCESS/snowflake-cortex/ai_agg)"
   ]
  },
  {
   "cell_type": "code",
   "execution_count": null,
   "id": "8d1519f5-20d4-4894-b025-99de621d53d0",
   "metadata": {
    "language": "sql",
    "name": "AGGREGATED_INSIGHTS"
   },
   "outputs": [],
   "source": [
    "select \n",
    "    mapped_ticker,\n",
    "    count(*) as count_research,\n",
    "    AI_AGG('TICKER: ' || mapped_ticker || '\\n' || raw_text, 'You are provided a couple research articles to the company; Please help me summarize in bullet points on discussions relevant to the company') as aggregated_summary\n",
    "from matched_candidates\n",
    "where mapped_ticker = 'MSFT' -- other tickers you can also check are CRM, NVDA\n",
    "group by mapped_ticker;\n"
   ]
  },
  {
   "cell_type": "code",
   "execution_count": null,
   "id": "89443969-3e68-43bf-bf5a-4d30f0ee1f9d",
   "metadata": {
    "language": "python",
    "name": "cell13"
   },
   "outputs": [],
   "source": [
    "df = AGGREGATED_INSIGHTS.to_pandas()\n",
    "print(df['AGGREGATED_SUMMARY'].iloc[0])"
   ]
  }
 ],
 "metadata": {
  "kernelspec": {
   "display_name": "Streamlit Notebook",
   "name": "streamlit"
  },
  "lastEditStatus": {
   "authorEmail": "renee.huang@snowflake.com",
   "authorId": "442970923975",
   "authorName": "REHUANG",
   "lastEditTime": 1750222890439,
   "notebookId": "v75w52de254kqqoxgame",
   "sessionId": "c7acf58c-b441-4744-b738-68b82eb1352a"
  }
 },
 "nbformat": 4,
 "nbformat_minor": 5
}
