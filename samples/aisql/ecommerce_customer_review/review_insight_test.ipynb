{
 "metadata": {},
 "nbformat_minor": 5,
 "nbformat": 4,
 "cells": [
  {
   "cell_type": "markdown",
   "id": "template-title",
   "metadata": {},
   "source": "# Get Insights from Customer Reviews"
  },
  {
   "cell_type": "markdown",
   "id": "template-overview",
   "metadata": {},
   "source": "## Overview\n\nThis template demonstrates a complete workflow for analyzing customer feedback using Snowflake Cortex AI functions. You'll learn how to go from raw, unstructured reviews to actionable insights by using SQL to perform sentiment analysis, issue extraction, classification, and even automated response generation."
  },
  {
   "cell_type": "markdown",
   "id": "step-1-header",
   "metadata": {},
   "source": "## Step 1: Set up your environment and data\n\nLet's begin by running the query below. It sets the correct role and warehouse for this session and creates a new schema. It also creates and populates two tables, `PRODUCT_REVIEWS` and `PRODUCT_CATALOG`, with sample data for our analysis."
  },
  {
   "cell_type": "code",
   "id": "step-1-code",
   "metadata": {
    "language": "sql"
   },
   "outputs": [],
   "source": "USE ROLE SNOWFLAKE_LEARNING_ROLE;\nUSE DATABASE SNOWFLAKE_LEARNING_DB;\nUSE WAREHOUSE SNOWFLAKE_LEARNING_WH;\n\nCREATE OR REPLACE SCHEMA CORTEX_REVIEWS_DEMO;\nUSE SCHEMA CORTEX_REVIEWS_DEMO;\n\n-- Create sample tables\nCREATE OR REPLACE TABLE product_catalog (product_id INT, product_name VARCHAR, category VARCHAR);\nCREATE OR REPLACE TABLE product_reviews (review_id INT, product_id INT, rating INT, review_text VARCHAR);\n\n-- Insert sample data\nINSERT INTO product_catalog (product_id, product_name, category) VALUES\n(1, 'E-Verse Smartphone', 'Electronics'),\n(2, 'Aura Smartwatch', 'Electronics'),\n(3, 'Comfy-Fit T-Shirt', 'Clothing'),\n(4, 'Trekker Jeans', 'Clothing');\n\nINSERT INTO product_reviews (review_id, product_id, rating, review_text) VALUES\n(101, 1, 1, 'The battery life is terrible, it barely lasts a few hours.'),\n(102, 1, 2, 'Camera quality is not as advertised. Very grainy photos.'),\n(103, 2, 5, 'Love my new watch, the screen is so crisp and bright!'),\n(104, 3, 2, 'I ordered a medium but it feels like a small. The sizing is completely off.'),\n(105, 3, 3, 'The color faded after just one wash. Disappointing quality.'),\n(106, 4, 5, 'These are the best jeans I have ever owned. Perfect fit!');\n\nSELECT 'Setup is complete. You now have sample review data to analyze.' AS note;"
  },
  {
   "cell_type": "markdown",
   "id": "step-2-header",
   "metadata": {},
   "source": "## Step 2: Correlate sentiment with ratings\n\nAs a first step, let's perform a quick sanity check. We'll use the `SNOWFLAKE.CORTEX.SENTIMENT` function to score the sentiment of each review. We can then check its correlation with the user-provided star rating to see if they align."
  },
  {
   "cell_type": "code",
   "id": "step-2-code",
   "metadata": {
    "language": "sql"
   },
   "outputs": [],
   "source": "WITH EXTRACTED_SENTIMENT AS (\n    SELECT \n        RATING,\n        SNOWFLAKE.CORTEX.SENTIMENT(REVIEW_TEXT) AS SENTIMENT\n    FROM PRODUCT_REVIEWS\n)\nSELECT CORR(SENTIMENT, RATING) AS SENTIMENT_RATING_CORRELATION\nFROM EXTRACTED_SENTIMENT;"
  },
  {
   "cell_type": "markdown",
   "id": "step-3-header",
   "metadata": {},
   "source": "## Step 3: Find top issues in a category\n\nNow, let's dig deeper. Suppose you want to know what the biggest complaints are for 'Electronics'. You can use `AI_AGG` to analyze all relevant reviews and aggregate the common themes into a single summary."
  },
  {
   "cell_type": "code",
   "id": "step-3-code",
   "metadata": {
    "language": "sql"
   },
   "outputs": [],
   "source": "SELECT \n  AI_AGG(\n    REVIEW_TEXT, \n    'What are the top 3 most common product issues reported in these reviews?'\n  ) AS TOP_ISSUES\nFROM PRODUCT_REVIEWS pr\nJOIN PRODUCT_CATALOG pc ON pr.product_id = pc.product_id\nWHERE pc.category = 'Electronics';"
  },
  {
   "cell_type": "markdown",
   "id": "step-4-header",
   "metadata": {},
   "source": "## Step 4: Classify reviews by issue type\n\nOnce you've identified common issues like 'Sizing' or 'Color,' you can use `AI_CLASSIFY` to build a pipeline that automatically categorizes new reviews. This helps you systematically track and report on known problems."
  },
  {
   "cell_type": "code",
   "id": "step-4-code",
   "metadata": {
    "language": "sql"
   },
   "outputs": [],
   "source": "WITH CLOTHING_REVIEWS AS (\n  SELECT REVIEW_ID, REVIEW_TEXT\n  FROM PRODUCT_REVIEWS pr\n  JOIN PRODUCT_CATALOG pc ON pr.product_id = pc.product_id\n  WHERE pc.category = 'Clothing'\n)\nSELECT \n    REVIEW_ID,\n    REVIEW_TEXT,\n    AI_CLASSIFY(\n      REVIEW_TEXT, \n      ['Sizing issue', 'Color issue', 'Fabric quality', 'Washing problem']\n    ) :labels[0] ::TEXT AS ISSUE_CATEGORY\n  FROM CLOTHING_REVIEWS;"
  },
  {
   "cell_type": "markdown",
   "id": "step-5-header",
   "metadata": {},
   "source": "## Step 5: Generate responses to customer complaints\n\nFinally, let's close the loop. You can use `AI_COMPLETE` to help your support team draft empathetic and relevant responses to negative reviews, improving customer satisfaction at scale."
  },
  {
   "cell_type": "code",
   "id": "step-5-code",
   "metadata": {
    "language": "sql"
   },
   "outputs": [],
   "source": "WITH NEGATIVE_CLOTHING_REVIEWS AS (\n  SELECT REVIEW_ID, REVIEW_TEXT\n  FROM PRODUCT_REVIEWS pr\n  JOIN PRODUCT_CATALOG pc ON pr.product_id = pc.product_id\n  WHERE pc.category = 'Clothing' AND pr.rating <= 3\n)\nSELECT \n    REVIEW_TEXT,\n    AI_COMPLETE('llama3-8b', 'Draft a concise and apologetic response to the customer complaint below. Only include the draft: ' || REVIEW_TEXT) AS DRAFT_RESPONSE\n  FROM NEGATIVE_CLOTHING_REVIEWS;"
  },
  {
   "cell_type": "markdown",
   "id": "takeaways-header",
   "metadata": {},
   "source": "## Key Takeaways\n\n* **End-to-End Workflow**: You can chain Cortex AI functions together (`SENTIMENT` -> `AI_AGG` -> `AI_CLASSIFY` -> `AI_COMPLETE`) to build a powerful analysis pipeline entirely within Snowflake.\n* **Insight from Unstructured Data**: You don't need complex data science tools to extract valuable insights from text. All of this was done with familiar SQL.\n* **Automate and Scale**: By identifying common issues and creating classifiers, you can automate the process of tracking feedback and responding to customers more efficiently."
  },
  {
   "cell_type": "markdown",
   "id": "resources-header",
   "metadata": {},
   "source": "## Additional Resources\n\n* [Documentation: Cortex AI SQL Functions](https://docs.snowflake.com/en/sql-reference/functions-iceberg)\n* [More Templates](https://app.snowflake.com/templates)"
  }
 ]
}