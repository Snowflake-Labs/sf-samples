{
 "metadata": {
  "kernelspec": {
   "display_name": "Streamlit Notebook",
   "name": "streamlit"
  },
  "lastEditStatus": {
   "notebookId": "r62rvjuiz2n5xwklwcjq",
   "authorId": "8302928186498",
   "authorName": "REHUANG",
   "authorEmail": "renee.huang@snowflake.com",
   "sessionId": "3c77f737-1ebb-45f1-a323-c0964621afc1",
   "lastEditTime": 1752545214636
  }
 },
 "nbformat_minor": 5,
 "nbformat": 4,
 "cells": [
  {
   "cell_type": "markdown",
   "id": "beafe711-0ff7-4aa6-bd2d-d58ffc95bb92",
   "metadata": {
    "collapsed": false,
    "name": "OVERVIEW_MD",
    "resultHeight": 339
   },
   "source": [
    "# Customer review topic understanding using Snowflake Cortex\n",
    "Understanding customer feedback is critical for businesses, but analyzing large volumes of unstructured text can be challenging. In this notebook, you'll use Cortex AISQL to systematically getting insights from unstructured customer feedback.\n",
    "\n",
    "### Context\n",
    "*Tasty Bytes* is a global e-commerce company selling different merchandise. They collect customer reviews to gain insights into the feedback on the product they provide.\n",
    "\n",
    "In this notebook, we will leverage multiple AISQL functions to answer different use case questions upon customer reviews.\n",
    "\n",
    "##"
   ]
  },
  {
   "cell_type": "markdown",
   "id": "4db3f281-4a3d-48a5-b07e-3e967ea5a824",
   "metadata": {
    "collapsed": false,
    "name": "IMPORT_DATA_MD",
    "resultHeight": 134
   },
   "source": [
    "## Step 1: Set up your environment and data\n",
    "\n",
    "Let's begin by running the query below. It sets the correct role and warehouse for this session and creates a new schema. It also creates and populates two tables, `PRODUCT_REVIEWS` and `PRODUCT_CATALOG`, with sample data for our analysis."
   ]
  },
  {
   "cell_type": "code",
   "id": "668e5756-a71b-45c1-9db1-a99fd3fba6a6",
   "metadata": {
    "language": "sql",
    "name": "cell12"
   },
   "outputs": [],
   "source": "USE ROLE SNOWFLAKE_LEARNING_ROLE;\n\n-- use the existing database, schema and warehouse\nUSE DATABASE SNOWFLAKE_LEARNING_DB;\nUSE WAREHOUSE SNOWFLAKE_LEARNING_WH;\n\nSET schema_name = CONCAT(current_user(), '_CUSTOMER_REVIEW_TOPIC_UNDERSTANDING');\nUSE SCHEMA IDENTIFIER($schema_name);\n\n  /*--\n  • file format and stage creation\n  --*/\n\n  CREATE OR REPLACE FILE FORMAT csv_ff \n    TYPE = 'csv'\n    SKIP_HEADER = 1;\n\n  CREATE OR REPLACE STAGE s3load\n    COMMENT = 'Quickstarts S3 Stage Connection'\n    URL = 's3://sfquickstarts/misc/aisql/ecommerce_customer_review/'\n    FILE_FORMAT = csv_ff;\n\n  /*--\n  • raw zone table build \n  --*/\n  CREATE OR REPLACE TABLE customer_data\n  (\n    CUSTOMER_ID\tVARCHAR(16777216),\n    CUSTOMER_SEGMENT\tVARCHAR(16777216),\n    JOIN_DATE\tDATE,\n    LIFETIME_VALUE\tNUMBER(38,2),\n    PREVIOUS_PURCHASES\tNUMBER(38,0),\n    AGE_RANGE\tVARCHAR(16777216),\n    GENDER\tVARCHAR(16777216),\n    PREFERRED_CATEGORY\tVARCHAR(16777216)\n  );\n\n  \n  CREATE OR REPLACE TABLE product_catalog\n  (\n    PRODUCT_ID\tVARCHAR(16777216),\n    PRODUCT_NAME\tVARCHAR(16777216),\n    CATEGORY\tVARCHAR(16777216),\n    SUBCATEGORY\tVARCHAR(16777216),\n    MANUFACTURER\tVARCHAR(16777216),\n    PRICE\tNUMBER(38,2),\n    RELEASE_DATE\tDATE,\n    REVIEW_COUNT\tNUMBER(38,0)\n  );\n\n  CREATE OR REPLACE TABLE product_reviews\n  (\n    REVIEW_ID\tVARCHAR(16777216),\n    PRODUCT_ID\tVARCHAR(16777216),\n    CUSTOMER_ID\tVARCHAR(16777216),\n    REVIEW_TEXT\tVARCHAR(16777216),\n    RATING\tNUMBER(38,0),\n    REVIEW_DATE\tDATE,\n    PURCHASE_DATE\tDATE,\n    VERIFIED_PURCHASE\tBOOLEAN,\n    HELPFUL_VOTES\tNUMBER(38,0)\n  );\n  \n  /*--\n  • raw zone table load \n  --*/\n\n  COPY INTO customer_data\n  FROM @s3load/customer_data.csv\n  ON_ERROR = CONTINUE;\n\n  COPY INTO product_catalog\n  FROM @s3load/product_catalog.csv\n  ON_ERROR = CONTINUE;\n\n  COPY INTO product_reviews\n  FROM @s3load/product_reviews.csv\n  ON_ERROR = CONTINUE;\n\n\n-- setup completion note\nSELECT 'Setup is complete' AS note;  \n",
   "execution_count": null
  },
  {
   "cell_type": "markdown",
   "id": "ba1549f9-f4d0-447d-b447-4927a17e5d56",
   "metadata": {
    "collapsed": false,
    "name": "PREVIEW_TABLE_MD",
    "resultHeight": 41
   },
   "source": [
    "#### Overview across `product_reviews` table"
   ]
  },
  {
   "cell_type": "code",
   "execution_count": null,
   "id": "c7dc6837-6c2a-4aed-820d-6c1ce45ce06e",
   "metadata": {
    "language": "sql",
    "name": "PREVIEW_TABLE"
   },
   "outputs": [],
   "source": "-- Create table with inferred schema\nCREATE\nOR REPLACE TABLE my_table USING TEMPLATE (\n  SELECT\n    ARRAY_AGG(OBJECT_CONSTRUCT(*))\n  FROM\n    TABLE(\n      INFER_SCHEMA(\n        LOCATION => '@s3load/customer_data.csv',\n        FILE_FORMAT => 'csv_ff'\n      )\n    )\n);\n-- Load the data\nCOPY INTO my_table\nFROM\n  @s3load/customer_data.csv FILE_FORMAT = csv_ff;"
  },
  {
   "cell_type": "markdown",
   "id": "0783d166-3227-491d-864b-8e446891873a",
   "metadata": {
    "collapsed": false,
    "name": "cell3"
   },
   "source": [
    "## Step 2: Correlate sentiment with ratings\n",
    "\n",
    "As a first step, let's perform a quick sanity check. We'll use the `SNOWFLAKE.CORTEX.SENTIMENT` function to score the sentiment of each review. We can then check its correlation with the user-provided star rating to see if they align."
   ]
  },
  {
   "cell_type": "code",
   "execution_count": null,
   "id": "d2c8f353-a9d4-401d-96bc-7a771027ac71",
   "metadata": {
    "language": "sql",
    "name": "cell5"
   },
   "outputs": [],
   "source": [
    "WITH EXTRACTED_SENTIMENT AS (\n",
    "    SELECT \n",
    "        RATING,\n",
    "        SNOWFLAKE.CORTEX.SENTIMENT(REVIEW_TEXT) AS SENTIMENT\n",
    "    FROM PRODUCT_REVIEWS\n",
    ")\n",
    "SELECT CORR(SENTIMENT, RATING) AS SENTIMENT_RATING_CORRELATION\n",
    "FROM EXTRACTED_SENTIMENT;"
   ]
  },
  {
   "cell_type": "markdown",
   "id": "20f2093f-dd35-411b-8ede-90556f7e2ccf",
   "metadata": {
    "collapsed": false,
    "name": "IMPORT_PACKAGES_MD"
   },
   "source": [
    "## Step 3: Find top issues in a category\n",
    "\n",
    "Now, let's dig deeper. Suppose you want to know what the biggest complaints are for 'Electronics'. You can use `AI_AGG` to analyze all relevant reviews and aggregate the common themes into a single summary."
   ]
  },
  {
   "cell_type": "code",
   "execution_count": null,
   "id": "3775908f-ca36-4846-8f38-5adca39217f2",
   "metadata": {
    "codeCollapsed": false,
    "collapsed": false,
    "language": "sql",
    "name": "agg_insights",
    "resultHeight": 0
   },
   "outputs": [],
   "source": [
    "SELECT \n",
    "  AI_AGG(\n",
    "    REVIEW_TEXT, \n",
    "    'What are the top 3 most common product issues reported in these reviews?'\n",
    "  ) AS TOP_ISSUES\n",
    "FROM PRODUCT_REVIEWS pr\n",
    "JOIN PRODUCT_CATALOG pc ON pr.product_id = pc.product_id\n",
    "WHERE pc.category = 'Electronics';"
   ]
  },
  {
   "cell_type": "code",
   "execution_count": null,
   "id": "fd619f57-09a5-40ef-84c7-3ea3b2364aa3",
   "metadata": {
    "language": "python",
    "name": "cell1"
   },
   "outputs": [],
   "source": "# to view the result\ndf = agg_insights.to_pandas()\nprint(df['TOP_ISSUES'].iloc[0])"
  },
  {
   "cell_type": "markdown",
   "id": "0e4d7059-4cc1-4682-9a95-e6440d09811f",
   "metadata": {
    "collapsed": false,
    "name": "CORTEX_SUMMARIZE_MD"
   },
   "source": [
    "## Step 4: What percentage of reviews mention product issues? Is it differentiated by category? \n",
    "\n",
    "Once you've identified common issues like 'Sizing' or 'Color,' you can use `AI_CLASSIFY` to build a pipeline that automatically categorizes new reviews. This helps you systematically track and report on known problems."
   ]
  },
  {
   "cell_type": "code",
   "execution_count": null,
   "id": "ff217432-5256-473d-a317-33fa53b01a91",
   "metadata": {
    "codeCollapsed": false,
    "collapsed": false,
    "language": "sql",
    "name": "PYTHON_SUMMARIZE",
    "resultHeight": 412
   },
   "outputs": [],
   "source": [
    "WITH issue_detection AS (\n",
    "  SELECT \n",
    "    pr.review_id,\n",
    "    pc.category,\n",
    "    AI_FILTER(prompt('This review mentions a product issue or complaint: {0}', pr.review_text)) as has_issue\n",
    "  FROM product_reviews pr\n",
    "  JOIN product_catalog pc ON pr.product_id = pc.product_id\n",
    ")\n",
    "\n",
    "-- Overall percentage\n",
    "SELECT \n",
    "  'All Categories' as category,\n",
    "  COUNT(*) as total_reviews,\n",
    "  SUM(CASE WHEN has_issue THEN 1 ELSE 0 END) as issue_reviews,\n",
    "  ROUND(SUM(CASE WHEN has_issue THEN 1 ELSE 0 END) * 100.0 / COUNT(*), 2) as issue_percentage\n",
    "FROM issue_detection\n",
    "\n",
    "UNION ALL\n",
    "\n",
    "-- Percentage by category\n",
    "SELECT \n",
    "  category,\n",
    "  COUNT(*) as total_reviews,\n",
    "  SUM(CASE WHEN has_issue THEN 1 ELSE 0 END) as issue_reviews,\n",
    "  ROUND(SUM(CASE WHEN has_issue THEN 1 ELSE 0 END) * 100.0 / COUNT(*), 2) as issue_percentage\n",
    "FROM issue_detection\n",
    "GROUP BY category\n",
    "ORDER BY category;"
   ]
  },
  {
   "cell_type": "markdown",
   "id": "7ed64d3d-4641-4584-be30-820256af7358",
   "metadata": {
    "collapsed": false,
    "name": "cell2"
   },
   "source": [
    "## Step 5: Identify the most common issue in Clothing category.\n",
    "\n",
    "To answer this question, we start with filtering to Clothing category, and leverage our latest [AI_FILTER](https://docs.snowflake.com/sql-reference/functions/ai_filter) to identify reviews mentioned product issues like above.\n",
    "\n",
    "The next step we use the [AI_AGG](https://docs.snowflake.com/sql-reference/functions/ai_agg) function to get a list of all product issues mentioned."
   ]
  },
  {
   "cell_type": "code",
   "execution_count": null,
   "id": "78f80c7a-d3ba-40fa-ade7-299e5b5ce83c",
   "metadata": {
    "language": "sql",
    "name": "cell8"
   },
   "outputs": [],
   "source": [
    "CREATE OR REPLACE TEMP TABLE filtered_product_reviews AS\n",
    "SELECT *\n",
    "FROM product_reviews\n",
    "WHERE AI_FILTER(PROMPT('This review mentions a product issue or complaint: {0}', review_text));"
   ]
  },
  {
   "cell_type": "code",
   "execution_count": null,
   "id": "abb868bc-519a-44fe-84f3-802fd3300fae",
   "metadata": {
    "language": "sql",
    "name": "SQL_AGG"
   },
   "outputs": [],
   "source": [
    "SELECT\n",
    "  AI_AGG(\n",
    "    review_text, \n",
    "    'Analyze these clothing product reviews and provide a comprehensive list of all product issues mentioned. Format your response as a bulleted list of issues with their approximate frequency in percentage.'\n",
    "  ) as clothing_issues\n",
    "FROM filtered_product_reviews pr\n",
    "JOIN product_catalog pc ON pr.product_id = pc.product_id\n",
    "WHERE pc.category = 'Clothing'"
   ]
  },
  {
   "cell_type": "markdown",
   "id": "e5137071-7b70-44f1-afac-2396cc03833f",
   "metadata": {
    "collapsed": false,
    "name": "CONCLUSION_MD"
   },
   "source": [
    "## Step 6: Productionalize the pipeline:\n",
    "With the issues suggested through the [AI_AGG](https://docs.snowflake.com/sql-reference/functions/ai_agg) function pipeline above, leverage [AI_CLASSIFY](https://docs.snowflake.com/sql-reference/functions/ai_classify) to turn into continuous data pipeline to keep classify the reviews."
   ]
  },
  {
   "cell_type": "code",
   "execution_count": null,
   "id": "3673a6b8-00dd-4465-a946-7be6c9dea5e5",
   "metadata": {
    "language": "sql",
    "name": "cell4"
   },
   "outputs": [],
   "source": [
    "WITH clothing_issue_reviews AS (\n",
    "  SELECT \n",
    "    pr.review_id,\n",
    "    pr.review_text\n",
    "  FROM filtered_product_reviews pr\n",
    "  JOIN product_catalog pc ON pr.product_id = pc.product_id\n",
    "  WHERE pc.category = 'Clothing'\n",
    "),\n",
    "classified_reviews AS (\n",
    "  SELECT \n",
    "    review_id,\n",
    "    review_text,\n",
    "    AI_CLASSIFY(\n",
    "      review_text, \n",
    "      [\n",
    "        'Sizing issue', \n",
    "        'Color issue', \n",
    "        'Fabric quality issue',\n",
    "        'Washing problem',\n",
    "        'Pricing issue'\n",
    "      ]\n",
    "    ) as classification\n",
    "  FROM clothing_issue_reviews\n",
    ")\n",
    "SELECT \n",
    "    review_id,\n",
    "    review_text,\n",
    "    classification:labels[0]::text as issue_category\n",
    "  FROM classified_reviews\n"
   ]
  },
  {
   "cell_type": "markdown",
   "id": "8edb789e-496e-43ca-898c-41754426821d",
   "metadata": {
    "collapsed": false,
    "name": "cell7"
   },
   "source": [
    "## Step 7: Generate responses to customer complaints\n",
    "\n",
    "Finally, let's close the loop. You can use `AI_COMPLETE` to help your support team draft empathetic and relevant responses to negative reviews, improving customer satisfaction at scale."
   ]
  },
  {
   "cell_type": "code",
   "execution_count": null,
   "id": "13a47e0e-f65b-4253-8f15-ad068c9a8687",
   "metadata": {
    "language": "sql",
    "name": "cell6"
   },
   "outputs": [],
   "source": [
    "WITH clothing_issue_reviews AS (\n",
    "  SELECT \n",
    "    pr.review_id,\n",
    "    pr.review_text\n",
    "  FROM filtered_product_reviews pr\n",
    "  JOIN product_catalog pc ON pr.product_id = pc.product_id\n",
    "  WHERE pc.category = 'Clothing'\n",
    ")\n",
    "SELECT \n",
    "    review_id,\n",
    "    review_text,\n",
    "    AI_COMPLETE('llama4-maverick', 'Please help me draft a concise response to the customer complaints below. Please only include the draft and nothing else: ' || review_text) as response\n",
    "  FROM clothing_issue_reviews\n"
   ]
  },
  {
   "cell_type": "markdown",
   "id": "fe28323a-bb53-4d5d-9742-455e1062d07c",
   "metadata": {
    "name": "cell9"
   },
   "source": [
    "## Key Takeaways\n",
    "\n",
    "* **End-to-End Workflow**: You can chain Cortex AI functions together (`SENTIMENT` -> `AI_AGG` -> `AI_CLASSIFY` -> `AI_COMPLETE`) to build a powerful analysis pipeline entirely within Snowflake.\n",
    "* **Insight from Unstructured Data**: You don't need complex data science tools to extract valuable insights from text. All of this was done with familiar SQL.\n",
    "* **Automate and Scale**: By identifying common issues and creating classifiers, you can automate the process of tracking feedback and responding to customers more efficiently."
   ]
  },
  {
   "cell_type": "markdown",
   "id": "c67f685c-af97-43e6-8475-f222a78043d3",
   "metadata": {
    "name": "cell10"
   },
   "source": [
    "## Additional Resources\n",
    "\n",
    "* [Documentation: Cortex AI SQL Functions](https://docs.snowflake.com/en/user-guide/snowflake-cortex/aisql)"
   ]
  }
 ]
}