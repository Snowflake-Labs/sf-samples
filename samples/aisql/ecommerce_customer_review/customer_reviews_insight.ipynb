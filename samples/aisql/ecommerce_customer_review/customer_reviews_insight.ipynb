{
 "cells": [
  {
   "cell_type": "markdown",
   "id": "beafe711-0ff7-4aa6-bd2d-d58ffc95bb92",
   "metadata": {
    "collapsed": false,
    "name": "OVERVIEW_MD",
    "resultHeight": 339
   },
   "source": [
    "# Customer review topic understanding using Snowflake Cortex\n",
    "Understanding customer feedback is critical for businesses, but analyzing large volumes of unstructured text can be challenging. In this notebook, you'll use Cortex AISQL to systematically getting insights from unstructured customer feedback.\n",
    "\n",
    "### Context\n",
    "*Tasty Bytes* is a global e-commerce company selling different merchandise. They collect customer reviews to gain insights into the feedback on the product they provide.\n",
    "\n",
    "In this notebook, we will leverage multiple AISQL functions to answer different use case questions upon customer reviews.\n",
    "\n",
    "##"
   ]
  },
  {
   "cell_type": "markdown",
   "id": "4db3f281-4a3d-48a5-b07e-3e967ea5a824",
   "metadata": {
    "collapsed": false,
    "name": "IMPORT_DATA_MD",
    "resultHeight": 134
   },
   "source": [
    "## Import sample data\n",
    "\n",
    "In this next SQL query, we will populate sample data that is used in this and other templates."
   ]
  },
  {
   "cell_type": "code",
   "execution_count": null,
   "id": "9980dae7-06d9-45b4-85e8-1a5f7c5ff240",
   "metadata": {
    "language": "sql",
    "name": "IMPORT_DATA"
   },
   "outputs": [],
   "source": [
    "USE ROLE SNOWFLAKE_LEARNING_ROLE;\n",
    "\n",
    "-- use the existing database, schema and warehouse\n",
    "USE DATABASE SNOWFLAKE_LEARNING_DB;\n",
    "USE WAREHOUSE SNOWFLAKE_LEARNING_WH;\n",
    "\n",
    "SET schema_name = CONCAT(current_user(), '_SUMMARIZE_UNSTRUCTURED_CUSTOMER_REVIEWS');\n",
    "USE SCHEMA IDENTIFIER($schema_name);\n",
    "\n",
    "\n",
    "/ -- TO ADD TABLE LOADS\n",
    "\n",
    "  \n",
    "-- setup completion note\n",
    "SELECT 'Setup is complete' AS note;\n"
   ]
  },
  {
   "cell_type": "markdown",
   "id": "ba1549f9-f4d0-447d-b447-4927a17e5d56",
   "metadata": {
    "collapsed": false,
    "name": "PREVIEW_TABLE_MD",
    "resultHeight": 41
   },
   "source": [
    "## Overview across `product_reviews` table"
   ]
  },
  {
   "cell_type": "code",
   "execution_count": null,
   "id": "c7dc6837-6c2a-4aed-820d-6c1ce45ce06e",
   "metadata": {
    "language": "sql",
    "name": "PREVIEW_TABLE"
   },
   "outputs": [],
   "source": [
    "SELECT * FROM product_reviews LIMIT 15;"
   ]
  },
  {
   "cell_type": "markdown",
   "id": "0783d166-3227-491d-864b-8e446891873a",
   "metadata": {
    "collapsed": false,
    "name": "cell3"
   },
   "source": [
    "## Warm up: let's see if review texts' sentiment correlates with ratings\n",
    "We can simply leverage Snowflake's [Sentiment](https://docs.snowflake.com/en/sql-reference/functions/sentiment-snowflake-cortex) function to learn the sentiments across all reviews. Here we run a simple correlation check with user ratings for sanity check. "
   ]
  },
  {
   "cell_type": "code",
   "execution_count": null,
   "id": "d2c8f353-a9d4-401d-96bc-7a771027ac71",
   "metadata": {
    "language": "sql",
    "name": "cell5"
   },
   "outputs": [],
   "source": [
    "WITH EXTRACTED_SENTIMENT as (\n",
    "    SELECT \n",
    "        *,\n",
    "        SNOWFLAKE.CORTEX.SENTIMENT(review_text) as sentiment,\n",
    "    FROM product_reviews\n",
    ")\n",
    "\n",
    "SELECT\n",
    "    corr(sentiment, rating) as correlation\n",
    "FROM EXTRACTED_SENTIMENT;"
   ]
  },
  {
   "cell_type": "markdown",
   "id": "20f2093f-dd35-411b-8ede-90556f7e2ccf",
   "metadata": {
    "collapsed": false,
    "name": "IMPORT_PACKAGES_MD"
   },
   "source": [
    "## Q1: What are the top 3 most common product issues reported in Electronics category reviews?\n",
    "\n",
    "To answer the first question, we simply leverage our latest [AI_AGG](https://docs.snowflake.com/sql-reference/functions/ai_agg) function to get aggregated insights across all rows of review within the Electronics category."
   ]
  },
  {
   "cell_type": "code",
   "execution_count": null,
   "id": "3775908f-ca36-4846-8f38-5adca39217f2",
   "metadata": {
    "codeCollapsed": false,
    "collapsed": false,
    "language": "sql",
    "name": "IMPORT_PACKAGES",
    "resultHeight": 0
   },
   "outputs": [],
   "source": [
    "SELECT \n",
    "  AI_AGG(\n",
    "    review_text, \n",
    "    'What are the top 3 most common product issues reported in Electronics category reviews?'\n",
    "  ) as top_issues\n",
    "FROM product_reviews pr\n",
    "JOIN product_catalog pc ON pr.product_id = pc.product_id\n",
    "WHERE pc.category = 'Electronics';"
   ]
  },
  {
   "cell_type": "code",
   "execution_count": null,
   "id": "fd619f57-09a5-40ef-84c7-3ea3b2364aa3",
   "metadata": {
    "language": "sql",
    "name": "cell1"
   },
   "outputs": [],
   "source": [
    "df = cell7.to_pandas()\n",
    "print(df['TOP_ISSUES'].iloc[0])"
   ]
  },
  {
   "cell_type": "markdown",
   "id": "0e4d7059-4cc1-4682-9a95-e6440d09811f",
   "metadata": {
    "collapsed": false,
    "name": "CORTEX_SUMMARIZE_MD"
   },
   "source": [
    "## Q2: What percentage of reviews mention product issues? Is it differentiated by category? \n",
    "\n",
    "To answer this question, we simply leverage our latest [AI_FILTER](https://docs.snowflake.com/sql-reference/functions/ai_filter) to identify reviews mentioned specific product issue, and calculate into % issue complaint ratios via all reviews."
   ]
  },
  {
   "cell_type": "code",
   "execution_count": null,
   "id": "ff217432-5256-473d-a317-33fa53b01a91",
   "metadata": {
    "codeCollapsed": false,
    "collapsed": false,
    "language": "sql",
    "name": "PYTHON_SUMMARIZE",
    "resultHeight": 412
   },
   "outputs": [],
   "source": [
    "WITH issue_detection AS (\n",
    "  SELECT \n",
    "    pr.review_id,\n",
    "    pc.category,\n",
    "    AI_FILTER(prompt('This review mentions a product issue or complaint: {0}', pr.review_text)) as has_issue\n",
    "  FROM product_reviews pr\n",
    "  JOIN product_catalog pc ON pr.product_id = pc.product_id\n",
    ")\n",
    "\n",
    "-- Overall percentage\n",
    "SELECT \n",
    "  'All Categories' as category,\n",
    "  COUNT(*) as total_reviews,\n",
    "  SUM(CASE WHEN has_issue THEN 1 ELSE 0 END) as issue_reviews,\n",
    "  ROUND(SUM(CASE WHEN has_issue THEN 1 ELSE 0 END) * 100.0 / COUNT(*), 2) as issue_percentage\n",
    "FROM issue_detection\n",
    "\n",
    "UNION ALL\n",
    "\n",
    "-- Percentage by category\n",
    "SELECT \n",
    "  category,\n",
    "  COUNT(*) as total_reviews,\n",
    "  SUM(CASE WHEN has_issue THEN 1 ELSE 0 END) as issue_reviews,\n",
    "  ROUND(SUM(CASE WHEN has_issue THEN 1 ELSE 0 END) * 100.0 / COUNT(*), 2) as issue_percentage\n",
    "FROM issue_detection\n",
    "GROUP BY category\n",
    "ORDER BY category;"
   ]
  },
  {
   "cell_type": "markdown",
   "id": "7ed64d3d-4641-4584-be30-820256af7358",
   "metadata": {
    "collapsed": false,
    "name": "cell2"
   },
   "source": [
    "## Q3: Identify the most common issue in Clothing category.\n",
    "\n",
    "To answer this question, we start with filtering to Clothing category, and leverage our latest [AI_FILTER](https://docs.snowflake.com/sql-reference/functions/ai_filter) to identify reviews mentioned product issues like above.\n",
    "\n",
    "The next step we use the [AI_AGG](https://docs.snowflake.com/sql-reference/functions/ai_agg) function to get a list of all product issues mentioned."
   ]
  },
  {
   "cell_type": "code",
   "execution_count": null,
   "id": "78f80c7a-d3ba-40fa-ade7-299e5b5ce83c",
   "metadata": {
    "language": "sql",
    "name": "cell8"
   },
   "outputs": [],
   "source": [
    "create or replace temp table filtered_product_reviews as \n",
    "SELECT *\n",
    "FROM product_reviews\n",
    "WHERE AI_FILTER(prompt('This review mentions a product issue or complaint: {0}', review_text));"
   ]
  },
  {
   "cell_type": "code",
   "execution_count": null,
   "id": "abb868bc-519a-44fe-84f3-802fd3300fae",
   "metadata": {
    "language": "sql",
    "name": "SQL_AGG"
   },
   "outputs": [],
   "source": [
    "SELECT \n",
    "  AI_AGG(\n",
    "    review_text, \n",
    "    'Analyze these clothing product reviews and provide a comprehensive list of all product issues mentioned. Format your response as a bulleted list of issues with their approximate frequency in percentage.'\n",
    "  ) as clothing_issues\n",
    "FROM filtered_product_reviews pr\n",
    "JOIN product_catalog pc ON pr.product_id = pc.product_id\n",
    "WHERE pc.category = 'Clothing'"
   ]
  },
  {
   "cell_type": "markdown",
   "id": "e5137071-7b70-44f1-afac-2396cc03833f",
   "metadata": {
    "collapsed": false,
    "name": "CONCLUSION_MD"
   },
   "source": [
    "### Productionalize the pipeline:\n",
    "With the issues suggested through the [AI_AGG](https://docs.snowflake.com/sql-reference/functions/ai_agg) function pipeline above, leverage [AI_CLASSIFY](https://docs.snowflake.com/sql-reference/functions/ai_classify) to turn into continuous data pipeline to keep classify the reviews."
   ]
  },
  {
   "cell_type": "code",
   "execution_count": null,
   "id": "3673a6b8-00dd-4465-a946-7be6c9dea5e5",
   "metadata": {
    "language": "sql",
    "name": "cell4"
   },
   "outputs": [],
   "source": [
    "WITH clothing_issue_reviews AS (\n",
    "  SELECT \n",
    "    pr.review_id,\n",
    "    pr.review_text\n",
    "  FROM filtered_product_reviews pr\n",
    "  JOIN product_catalog pc ON pr.product_id = pc.product_id\n",
    "  WHERE pc.category = 'Clothing'\n",
    "),\n",
    "classified_reviews AS (\n",
    "  SELECT \n",
    "    review_id,\n",
    "    review_text,\n",
    "    AI_CLASSIFY(\n",
    "      review_text, \n",
    "      [\n",
    "        'Sizing issue', \n",
    "        'Color issue', \n",
    "        'Fabric quality issue',\n",
    "        'Washing problem',\n",
    "        'Pricing issue'\n",
    "      ]\n",
    "    ) as classification\n",
    "  FROM clothing_issue_reviews\n",
    ")\n",
    "SELECT \n",
    "    review_id,\n",
    "    review_text,\n",
    "    classification:labels[0]::text as issue_category\n",
    "  FROM classified_reviews\n"
   ]
  },
  {
   "cell_type": "markdown",
   "id": "8edb789e-496e-43ca-898c-41754426821d",
   "metadata": {
    "collapsed": false,
    "name": "cell7"
   },
   "source": [
    "## Systematically generate response for product complaints\n",
    "\n",
    "We leverage our general [AI_COMPLETE](https://docs.snowflake.com/sql-reference/functions/ai_filter) functionality to construct email message to respond back to certain critical reviews\n"
   ]
  },
  {
   "cell_type": "code",
   "execution_count": null,
   "id": "13a47e0e-f65b-4253-8f15-ad068c9a8687",
   "metadata": {
    "language": "sql",
    "name": "cell6"
   },
   "outputs": [],
   "source": [
    "WITH clothing_issue_reviews AS (\n",
    "  SELECT \n",
    "    pr.review_id,\n",
    "    pr.review_text\n",
    "  FROM filtered_product_reviews pr\n",
    "  JOIN product_catalog pc ON pr.product_id = pc.product_id\n",
    "  WHERE pc.category = 'Clothing'\n",
    ")\n",
    "SELECT \n",
    "    review_id,\n",
    "    review_text,\n",
    "    AI_COMPLETE('llama4-maverick', 'Please help me draft a concise response to the customer complaints below. Please only include the draft and nothing else: ' || review_text) as response\n",
    "  FROM clothing_issue_reviews\n"
   ]
  }
 ],
 "metadata": {
  "kernelspec": {
   "display_name": "Streamlit Notebook",
   "name": "streamlit"
  },
  "lastEditStatus": {
   "authorEmail": "renee.huang@snowflake.com",
   "authorId": "230125868368",
   "authorName": "REHUANG",
   "lastEditTime": 1750221566550,
   "notebookId": "v2tqzpfuk2qefh6iny3b",
   "sessionId": "da0a1c5c-5a07-4254-8b50-8d75dabca7a6"
  }
 },
 "nbformat": 4,
 "nbformat_minor": 5
}
