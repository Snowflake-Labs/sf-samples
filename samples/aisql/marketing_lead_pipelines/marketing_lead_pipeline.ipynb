{
 "cells": [
  {
   "cell_type": "markdown",
   "id": "18826300-a106-4b1c-8e89-3b238b3b963c",
   "metadata": {
    "collapsed": false,
    "name": "cell6"
   },
   "source": [
    "# Snowflake on Snowflake: Automated Marketing Lead Screening Pipelines\n",
    "\n",
    "This is an example of Snowflake's own marketing analytics team leveerages Snowflake's Cortex AISQL to analyze, cleanse, and enrich incoming marketing leads captured from a web form. \n",
    "\n",
    "The process filters out spam and harmful content, scores leads based on their fit with the Ideal Customer Profile (ICP), and categorizes them by job seniority. \n",
    "\n",
    "The primary business value is the creation of a more efficient and intelligent lead management workflow; this automation saves significant manual effort, enables sales and marketing teams to prioritize the highest-potential prospects, and allows for personalized outreach at scale, ultimately accelerating the sales cycle and increasing conversion rates.\n"
   ]
  },
  {
   "cell_type": "code",
   "execution_count": null,
   "id": "3775908f-ca36-4846-8f38-5adca39217f2",
   "metadata": {
    "language": "sql",
    "name": "cell1"
   },
   "outputs": [],
   "source": [
    "select * from ai_sql_demo_db.MARKETING_LEADS.marketing_form_data;"
   ]
  },
  {
   "cell_type": "markdown",
   "id": "0e91779b-b7f1-4c59-b507-7d5e7fe9a06c",
   "metadata": {
    "collapsed": false,
    "name": "cell5"
   },
   "source": [
    "First step, we want to filter out irrelevant or harmful information user filled."
   ]
  },
  {
   "cell_type": "code",
   "execution_count": null,
   "id": "ebfdd4db-d605-467c-b388-83ba8f3c468d",
   "metadata": {
    "language": "sql",
    "name": "cell4"
   },
   "outputs": [],
   "source": [
    "----------------------------------------------------------------------------------------------------\n",
    "--- filter out Spam Records\n",
    "----------------------------------------------------------------------------------------------------\n",
    "\n",
    "CREATE OR REPLACE TEMP TABLE MARKETING_LEADS_FILTERED AS\n",
    "SELECT d.*\n",
    "FROM ai_sql_demo_db.MARKETING_LEADS.marketing_form_data d\n",
    "WHERE AI_FILTER('We are a B2B SAAS company, and this is the text entered to a demand gen form on our website to register for a marketing event. Please confirm if this is a form fill that appears to be legitimate data from a valid persona with a company, without any junk, spam, scams, jokes, or nonsensical entries that cannot be worked by sales. Please do not include students:' || concat_ws(' '\n",
    "            ,'First Name:', d.first_name\n",
    "            ,'Last Name:', d.last_name\n",
    "            ,'Job Title:', d.title\n",
    "            ,'Company:', d.company ))\n",
    "  ;"
   ]
  },
  {
   "cell_type": "markdown",
   "id": "98de1003-d42d-4433-8bf6-15382c20ae41",
   "metadata": {
    "collapsed": false,
    "name": "cell7"
   },
   "source": [
    "Next step, we will classify each entry into \"High\", \"Medium\", \"Low\", \"Poor\" in terms of leads quality to identify ICPs (Ideal Customer Profile)"
   ]
  },
  {
   "cell_type": "code",
   "execution_count": null,
   "id": "8d50cbf4-0c8d-4950-86cb-114990437ac9",
   "metadata": {
    "language": "sql",
    "name": "cell2"
   },
   "outputs": [],
   "source": [
    "----------------------------------------------------------------------------------------------------\n",
    "--- Add Ideal Customer Profile\n",
    "----------------------------------------------------------------------------------------------------\n",
    "\n",
    "CREATE OR REPLACE TEMP TABLE MARKETING_LEADS_W_QUALITY AS\n",
    "\n",
    "select d.*\n",
    "     , AI_CLASSIFY(\n",
    "        concat_ws(' '\n",
    "        ,'Job Title:', d.title\n",
    "        ,'Company:', d.company ),\n",
    "   [{\n",
    "    'label': 'High',\n",
    "    'description': 'The lead has a decision-making role, relevant persona, and comes from a company well-aligned with B2B SAAS target industries and size. They must have a clear business need for data and AI services.'\n",
    "    },{\n",
    "    'label': 'Medium',\n",
    "    'description': 'The lead is a good fit but may lack full decision-making authority or strong company characteristics. However, they should have influence or future potential.'\n",
    "    },{\n",
    "    'label': 'Low',\n",
    "    'description': 'The lead has minimal alignment, lacks decision-making power, or is from a less relevant company. The persona or company factors do not strongly align with B2B SAAS ICP.'\n",
    "    },{\n",
    "    'label': 'Poor',\n",
    "    'description': 'The lead has no alignment with B2B SAAS ICP. Their role and company characteristics are irrelevant. A form fill that appears to contain test accounts, junk, spam, scams, jokes, or nonsensical entries should be labeled as poor.'\n",
    "    }\n",
    "    ],\n",
    "  {'task_description': 'We are a B2B SAAS company. Return a classification the Ideal Customer Profile of this lead based on the text entered to a demand gen form on our website to register for a marketing event.'}\n",
    "  ) as classification_output_raw\n",
    "  , classification_output_raw:labels[0]::text as leads_quality\n",
    "from MARKETING_LEADS_FILTERED d;\n"
   ]
  },
  {
   "cell_type": "code",
   "execution_count": null,
   "id": "05ebd3cd-177a-4d32-ae9a-b94f38a7c49b",
   "metadata": {
    "language": "sql",
    "name": "cell12"
   },
   "outputs": [],
   "source": [
    "select * from MARKETING_LEADS_W_QUALITY;"
   ]
  },
  {
   "cell_type": "markdown",
   "id": "997e0ea3-b10a-4ae6-aa61-7aa34df1d276",
   "metadata": {
    "collapsed": false,
    "name": "cell8"
   },
   "source": [
    "Related, we can also leverage AI_CLASSIFY to add a column upon the lead's persona"
   ]
  },
  {
   "cell_type": "code",
   "execution_count": null,
   "id": "63604927-443d-4869-9305-d98792d98cef",
   "metadata": {
    "language": "sql",
    "name": "cell3"
   },
   "outputs": [],
   "source": [
    "----------------------------------------------------------------------------------------------------\n",
    "--- Add seniority persona field \n",
    "----------------------------------------------------------------------------------------------------\n",
    "\n",
    "select d.*\n",
    "     , AI_CLASSIFY(\n",
    "            concat_ws(' '\n",
    "            ,'Job Title:', d.title\n",
    "            ),\n",
    "       [{\n",
    "        'label': 'CXO',\n",
    "        'description': 'Any title that is a company C-level executive or founder.'\n",
    "        },{\n",
    "        'label': 'VP+',\n",
    "        'description': 'Any title that is a company executive below C-level like a VP, President, or managing director.'\n",
    "        },{\n",
    "        'label': 'Director',\n",
    "        'description': 'Any title that is director level or head of a department.'\n",
    "        },{\n",
    "        'label': 'Manager',\n",
    "        'description': 'Any title that relates to managers or team leads.'\n",
    "        },{\n",
    "        'label': 'IC',\n",
    "        'description': 'Any title that relates to an individual contributor.'\n",
    "        }\n",
    "        ,{\n",
    "        'label': 'Junk',\n",
    "        'description': 'Any title seems like junk, spam, scams, jokes, or nonsensical entries that cannot be worked by sales'\n",
    "        }\n",
    "        ],\n",
    "      {'task_description': 'We are a B2B SAAS company. Use this data to classify job titles into seniority groupings. Consider all parts of the title and be careful of how the meaning changes based on parathesis or other punctuation.'}\n",
    "      ) as classification_output_raw\n",
    "      , classification_output_raw:labels[0]::text as classification_output\n",
    "from MARKETING_LEADS_FILTERED d;\n",
    "\n",
    ";"
   ]
  },
  {
   "cell_type": "markdown",
   "id": "1475cb8e-51cc-48f4-a575-3c7e5860591c",
   "metadata": {
    "collapsed": false,
    "name": "cell9"
   },
   "source": [
    "Lastly, for the high quality leads, I can also join in other company specific information, to help me draft a specific email related to customer's use case to increase the response rate."
   ]
  },
  {
   "cell_type": "code",
   "execution_count": null,
   "id": "c8b0d704-bbe8-413b-b26a-ce48c153adb2",
   "metadata": {
    "language": "sql",
    "name": "cell10"
   },
   "outputs": [],
   "source": [
    "with cte as (\n",
    "    select * from MARKETING_LEADS_W_QUALITY\n",
    "    left join company_info using (company)\n",
    "    where leads_quality = 'High'\n",
    ")\n",
    "select \n",
    "    *, \n",
    "    ai_complete(\n",
    "        'llama4-maverick',\n",
    "        prompt('We are a B2B SAAS company focusing on data and analytics platform. And this is a form filled in by our potential prospect. Can you help me draft an outreach email to ask if any interest in how data and analytics might supercharge their business. Please only return the email draft and nothing else. Here is the filled form: {0}; \\nhere is the company info: {1}',\n",
    "    concat_ws(' '\n",
    "            ,'First Name:', first_name\n",
    "            ,'Last Name:', last_name\n",
    "            ,'Job Title:', title\n",
    "            ,'Company:', company ),\n",
    "            coalesce(description,''))\n",
    "            )\n",
    "from cte;"
   ]
  },
  {
   "cell_type": "markdown",
   "id": "1f8d3981-95f5-452a-833f-9ae3d022629a",
   "metadata": {
    "collapsed": false,
    "name": "cell11"
   },
   "source": [
    "Similarly, we leverage a similar AI-powered prospecting system to revolutionalize proactive outreach, that we leverage AI and combining information from various sources, filter out high quality lead and curate customized outreach message to maximize answer rate.\n",
    "\n",
    "\n",
    "Link to architecture flow chart: [LINK](https://docs.google.com/presentation/d/1WIg--DfZYs2B4_1p4JYcdqBCeppLa91GYC5rK92xS0s/edit?slide=id.g3692edc8cc6_0_175#slide=id.g3692edc8cc6_0_175)"
   ]
  }
 ],
 "metadata": {
  "kernelspec": {
   "display_name": "Streamlit Notebook",
   "name": "streamlit"
  },
  "lastEditStatus": {
   "authorEmail": "renee.huang@snowflake.com",
   "authorId": "8302928186498",
   "authorName": "REHUANG",
   "lastEditTime": 1750457496672,
   "notebookId": "eqk2xyijh3mjmzthfbil",
   "sessionId": "54db6ef7-030e-4c7b-9e3c-e6044eabe495"
  }
 },
 "nbformat": 4,
 "nbformat_minor": 5
}
