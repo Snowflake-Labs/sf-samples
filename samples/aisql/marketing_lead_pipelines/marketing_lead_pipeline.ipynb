{
 "cells": [
  {
   "cell_type": "markdown",
   "id": "18826300-a106-4b1c-8e89-3b238b3b963c",
   "metadata": {
    "collapsed": false,
    "name": "cell6"
   },
   "source": [
    "# Automated Marketing Lead Screening Pipelines using Snowflake Cortex\n",
    "Efficiently managing and qualifying marketing leads is crucial for business growth, but manually processing large volumes of form submissions can be time-consuming and inconsistent. In this notebook, you'll use Cortex AISQL to systematically analyze, cleanse, and enrich incoming marketing leads captured from web forms.\n",
    "\n",
    "### Context\n",
    "This is an example of how Snowflake's own marketing analytics team leverages Snowflake's Cortex AISQL to automate lead qualification processes. The system processes form submissions from marketing events and webinars, filtering out spam content, scoring leads based on their fit with the Ideal Customer Profile (ICP), and categorizing them by job seniority.\n",
    "\n",
    "In this notebook, we will leverage multiple AISQL functions to build an intelligent lead management workflow that:\n",
    "- Filters out spam and irrelevant submissions\n",
    "- Scores lead quality based on ICP alignment\n",
    "- Categorizes leads by seniority level\n",
    "- Generates personalized outreach content\n",
    "\n",
    "The primary business value is creating a more efficient and intelligent lead management workflow that saves manual effort, enables sales and marketing teams to prioritize high-potential prospects, and allows for personalized outreach at scale.\n",
    "\n",
    "##"
   ]
  },
  {
   "cell_type": "markdown",
   "id": "67ba3f8f",
   "metadata": {},
   "source": [
    "## Step 1: Set up your environment and data\n",
    "\n",
    "Let's begin by running the query below. It sets the correct role and warehouse for this session and creates a new schema. It also creates and populates the `MARKETING_FORM_DATA` and `COMPANY_INFO` tables with sample data for our analysis."
   ]
  },
  {
   "cell_type": "code",
   "execution_count": null,
   "id": "123f3db1",
   "metadata": {},
   "outputs": [],
   "source": [
    "USE ROLE SNOWFLAKE_LEARNING_ROLE;\n",
    "\n",
    "-- Use the existing database, schema and warehouse\n",
    "USE DATABASE SNOWFLAKE_LEARNING_DB;\n",
    "USE WAREHOUSE SNOWFLAKE_LEARNING_WH;\n",
    "\n",
    "SET schema_name = CONCAT(current_user(), '_MARKETING_LEAD_PIPELINE');\n",
    "USE SCHEMA IDENTIFIER($schema_name);\n",
    "\n",
    "/*--\n",
    "• File format and stage creation\n",
    "--*/\n",
    "\n",
    "CREATE OR REPLACE FILE FORMAT csv_ff \n",
    "  TYPE = 'csv'\n",
    "  SKIP_HEADER = 1;\n",
    "\n",
    "CREATE OR REPLACE STAGE s3load\n",
    "  COMMENT = 'Quickstarts S3 Stage Connection'\n",
    "  URL = 's3://sfquickstarts/misc/aisql/marketing_lead_pipelines/'\n",
    "  FILE_FORMAT = csv_ff;\n",
    "\n",
    "/*--\n",
    "• Raw zone table build \n",
    "--*/\n",
    "CREATE OR REPLACE TABLE marketing_form_data\n",
    "(\n",
    "  LEAD_ID VARCHAR(16777216),\n",
    "  FIRST_NAME VARCHAR(16777216),\n",
    "  LAST_NAME VARCHAR(16777216),\n",
    "  EMAIL VARCHAR(16777216),\n",
    "  TITLE VARCHAR(16777216),\n",
    "  COMPANY VARCHAR(16777216),\n",
    "  PHONE VARCHAR(16777216),\n",
    "  INDUSTRY VARCHAR(16777216),\n",
    "  COMPANY_SIZE VARCHAR(16777216),\n",
    "  FORM_DATE DATE,\n",
    "  EVENT_NAME VARCHAR(16777216),\n",
    "  UTM_SOURCE VARCHAR(16777216),\n",
    "  UTM_CAMPAIGN VARCHAR(16777216)\n",
    ");\n",
    "\n",
    "CREATE OR REPLACE TABLE company_info\n",
    "(\n",
    "  COMPANY VARCHAR(16777216),\n",
    "  DESCRIPTION VARCHAR(16777216),\n",
    "  INDUSTRY VARCHAR(16777216),\n",
    "  SIZE VARCHAR(16777216),\n",
    "  REVENUE_RANGE VARCHAR(16777216),\n",
    "  HEADQUARTERS VARCHAR(16777216),\n",
    "  WEBSITE VARCHAR(16777216)\n",
    ");\n",
    "\n",
    "/*--\n",
    "• Raw zone table load \n",
    "--*/\n",
    "\n",
    "COPY INTO marketing_form_data\n",
    "FROM @s3load/marketing_form_data.csv\n",
    "ON_ERROR = CONTINUE;\n",
    "\n",
    "COPY INTO company_info\n",
    "FROM @s3load/company_info.csv\n",
    "ON_ERROR = CONTINUE;\n",
    "\n",
    "-- Setup completion note\n",
    "SELECT 'Setup is complete' AS note;"
   ]
  },
  {
   "cell_type": "markdown",
   "id": "c8b8cfd5",
   "metadata": {},
   "source": [
    "#### Overview of `marketing_form_data` table"
   ]
  },
  {
   "cell_type": "code",
   "execution_count": null,
   "id": "3775908f-ca36-4846-8f38-5adca39217f2",
   "metadata": {
    "language": "sql",
    "name": "cell1"
   },
   "outputs": [],
   "source": [
    "SELECT * FROM marketing_form_data LIMIT 10;"
   ]
  },
  {
   "cell_type": "markdown",
   "id": "0e91779b-b7f1-4c59-b507-7d5e7fe9a06c",
   "metadata": {
    "collapsed": false,
    "name": "cell5"
   },
   "source": [
    "## Step 2: Filter out spam and irrelevant submissions\n",
    "\n",
    "As a first step in our lead qualification process, we need to filter out spam, test entries, and irrelevant form submissions. We'll use the `AI_FILTER` function to automatically identify legitimate business leads from valid personas with companies, excluding junk data, spam, jokes, or student submissions."
   ]
  },
  {
   "cell_type": "code",
   "execution_count": null,
   "id": "ebfdd4db-d605-467c-b388-83ba8f3c468d",
   "metadata": {
    "language": "sql",
    "name": "cell4"
   },
   "outputs": [],
   "source": [
    "----------------------------------------------------------------------------------------------------\n",
    "--- filter out Spam Records\n",
    "----------------------------------------------------------------------------------------------------\n",
    "\n",
    "CREATE OR REPLACE TEMP TABLE MARKETING_LEADS_FILTERED AS\n",
    "SELECT d.*\n",
    "FROM marketing_form_data d\n",
    "WHERE AI_FILTER(\n",
    "  'We are a B2B SAAS company, and this is the text entered to a demand gen form on our website to register for a marketing event. Please confirm if this is a form fill that appears to be legitimate data from a valid persona with a company, without any junk, spam, scams, jokes, or nonsensical entries that cannot be worked by sales. Please do not include students:' \n",
    "  || CONCAT_WS(' ',\n",
    "      'First Name:', d.first_name,\n",
    "      'Last Name:', d.last_name,\n",
    "      'Job Title:', d.title,\n",
    "      'Company:', d.company\n",
    "    )\n",
    ");"
   ]
  },
  {
   "cell_type": "markdown",
   "id": "98de1003-d42d-4433-8bf6-15382c20ae41",
   "metadata": {
    "collapsed": false,
    "name": "cell7"
   },
   "source": [
    "## Step 3: Score leads based on Ideal Customer Profile (ICP)\n",
    "\n",
    "Now, let's classify each filtered lead into quality categories: \"High\", \"Medium\", \"Low\", or \"Poor\" based on their alignment with our Ideal Customer Profile. We'll use `AI_CLASSIFY` to systematically evaluate leads based on their decision-making role, company characteristics, and business need for data and AI services."
   ]
  },
  {
   "cell_type": "code",
   "execution_count": null,
   "id": "8d50cbf4-0c8d-4950-86cb-114990437ac9",
   "metadata": {
    "language": "sql",
    "name": "cell2"
   },
   "outputs": [],
   "source": [
    "CREATE OR REPLACE TEMP TABLE MARKETING_LEADS_W_QUALITY AS\n",
    "SELECT \n",
    "  d.*,\n",
    "  AI_CLASSIFY(\n",
    "    CONCAT_WS(' ',\n",
    "      'Job Title:', d.title,\n",
    "      'Company:', d.company\n",
    "    ),\n",
    "    [\n",
    "      {\n",
    "        'label': 'High',\n",
    "        'description': 'The lead has a decision-making role, relevant persona, and comes from a company well-aligned with B2B SAAS target industries and size. They must have a clear business need for data and AI services.'\n",
    "      },\n",
    "      {\n",
    "        'label': 'Medium',\n",
    "        'description': 'The lead is a good fit but may lack full decision-making authority or strong company characteristics. However, they should have influence or future potential.'\n",
    "      },\n",
    "      {\n",
    "        'label': 'Low',\n",
    "        'description': 'The lead has minimal alignment, lacks decision-making power, or is from a less relevant company. The persona or company factors do not strongly align with B2B SAAS ICP.'\n",
    "      },\n",
    "      {\n",
    "        'label': 'Poor',\n",
    "        'description': 'The lead has no alignment with B2B SAAS ICP. Their role and company characteristics are irrelevant. A form fill that appears to contain test accounts, junk, spam, scams, jokes, or nonsensical entries should be labeled as poor.'\n",
    "      }\n",
    "    ],\n",
    "    {\n",
    "      'task_description': 'We are a B2B SAAS company. Return a classification for the Ideal Customer Profile of this lead based on the text entered to a demand gen form on our website to register for a marketing event.'\n",
    "    }\n",
    "  ) AS classification_output_raw,\n",
    "  classification_output_raw:labels[0]::TEXT AS leads_quality\n",
    "FROM MARKETING_LEADS_FILTERED d;"
   ]
  },
  {
   "cell_type": "code",
   "execution_count": null,
   "id": "05ebd3cd-177a-4d32-ae9a-b94f38a7c49b",
   "metadata": {
    "language": "sql",
    "name": "cell12"
   },
   "outputs": [],
   "source": [
    "SELECT * FROM MARKETING_LEADS_W_QUALITY LIMIT 10;"
   ]
  },
  {
   "cell_type": "markdown",
   "id": "997e0ea3-b10a-4ae6-aa61-7aa34df1d276",
   "metadata": {
    "collapsed": false,
    "name": "cell8"
   },
   "source": [
    "## Step 4: Categorize leads by job seniority\n",
    "\n",
    "To further enhance our lead qualification, we can classify leads based on their job seniority level. This helps sales teams understand the decision-making authority and tailor their approach accordingly. We'll use `AI_CLASSIFY` to categorize job titles into seniority groups ranging from C-level executives to individual contributors."
   ]
  },
  {
   "cell_type": "code",
   "execution_count": null,
   "id": "63604927-443d-4869-9305-d98792d98cef",
   "metadata": {
    "language": "sql",
    "name": "cell3"
   },
   "outputs": [],
   "source": [
    "CREATE OR REPLACE TEMP TABLE MARKETING_LEADS_W_SENIORITY AS\n",
    "SELECT \n",
    "  d.*,\n",
    "  AI_CLASSIFY(\n",
    "    CONCAT_WS(' ', 'Job Title:', d.title),\n",
    "    [\n",
    "      {\n",
    "        'label': 'CXO',\n",
    "        'description': 'Any title that is a company C-level executive or founder.'\n",
    "      },\n",
    "      {\n",
    "        'label': 'VP+',\n",
    "        'description': 'Any title that is a company executive below C-level like a VP, President, or managing director.'\n",
    "      },\n",
    "      {\n",
    "        'label': 'Director',\n",
    "        'description': 'Any title that is director level or head of a department.'\n",
    "      },\n",
    "      {\n",
    "        'label': 'Manager',\n",
    "        'description': 'Any title that relates to managers or team leads.'\n",
    "      },\n",
    "      {\n",
    "        'label': 'IC',\n",
    "        'description': 'Any title that relates to an individual contributor.'\n",
    "      },\n",
    "      {\n",
    "        'label': 'Junk',\n",
    "        'description': 'Any title seems like junk, spam, scams, jokes, or nonsensical entries that cannot be worked by sales'\n",
    "      }\n",
    "    ],\n",
    "    {\n",
    "      'task_description': 'We are a B2B SAAS company. Use this data to classify job titles into seniority groupings. Consider all parts of the title and be careful of how the meaning changes based on parentheses or other punctuation.'\n",
    "    }\n",
    "  ) AS seniority_classification_raw,\n",
    "  seniority_classification_raw:labels[0]::TEXT AS seniority_level\n",
    "FROM MARKETING_LEADS_W_QUALITY d;"
   ]
  },
  {
   "cell_type": "markdown",
   "id": "1475cb8e-51cc-48f4-a575-3c7e5860591c",
   "metadata": {
    "collapsed": false,
    "name": "cell9"
   },
   "source": [
    "## Step 5: Generate personalized outreach content\n",
    "\n",
    "For high-quality leads, we can leverage company information to create personalized outreach messages. By joining lead data with company insights, we can use `AI_COMPLETE` to draft customized emails that reference specific company details and use cases, significantly improving response rates."
   ]
  },
  {
   "cell_type": "code",
   "execution_count": null,
   "id": "c8b0d704-bbe8-413b-b26a-ce48c153adb2",
   "metadata": {
    "language": "sql",
    "name": "cell10"
   },
   "outputs": [],
   "source": [
    "WITH high_quality_leads AS (\n",
    "  SELECT \n",
    "    ml.*,\n",
    "    ci.description AS company_description,\n",
    "    ci.industry AS company_industry,\n",
    "    ci.size AS company_size\n",
    "  FROM MARKETING_LEADS_W_SENIORITY ml\n",
    "  LEFT JOIN company_info ci ON ml.company = ci.company\n",
    "  WHERE ml.leads_quality = 'High'\n",
    ")\n",
    "SELECT \n",
    "  lead_id,\n",
    "  first_name,\n",
    "  last_name,\n",
    "  title,\n",
    "  company,\n",
    "  seniority_level,\n",
    "  AI_COMPLETE(\n",
    "    'llama4-maverick',\n",
    "    PROMPT(\n",
    "      'We are a B2B SAAS company focusing on data and analytics platform. This is a form filled by our potential prospect. Can you help me draft an outreach email to ask if they have any interest in how data and analytics might supercharge their business. Please only return the email draft and nothing else. Here is the filled form: {0}; Here is the company info: {1}',\n",
    "      CONCAT_WS(' ',\n",
    "        'First Name:', first_name,\n",
    "        'Last Name:', last_name,\n",
    "        'Job Title:', title,\n",
    "        'Company:', company\n",
    "      ),\n",
    "      COALESCE(company_description, '')\n",
    "    )\n",
    "  ) AS personalized_email\n",
    "FROM high_quality_leads\n",
    "LIMIT 5;"
   ]
  },
  {
   "cell_type": "markdown",
   "id": "1f8d3981-95f5-452a-833f-9ae3d022629a",
   "metadata": {
    "collapsed": false,
    "name": "cell11"
   },
   "source": [
    "## Key Takeaways\n",
    "\n",
    "* **End-to-End Automation**: You can chain Cortex AI functions together (`AI_FILTER` -> `AI_CLASSIFY` -> `AI_COMPLETE`) to build a comprehensive lead qualification pipeline entirely within Snowflake.\n",
    "* **Intelligent Filtering**: AI-powered spam detection eliminates manual review of irrelevant submissions, ensuring your sales team focuses on legitimate prospects.\n",
    "* **ICP Scoring**: Automated lead scoring based on Ideal Customer Profile criteria helps prioritize sales efforts on the highest-potential opportunities.\n",
    "* **Personalized Outreach**: By combining lead data with company intelligence, you can generate customized messaging that significantly improves response rates.\n",
    "* **Scalable Process**: This automated workflow can handle thousands of leads while maintaining consistency and quality in qualification decisions.\n",
    "\n",
    "## Additional Resources\n",
    "\n",
    "* [Documentation: Cortex AI SQL Functions](https://docs.snowflake.com/en/user-guide/snowflake-cortex/aisql)"
   ]
  }
 ],
 "metadata": {
  "kernelspec": {
   "display_name": "Streamlit Notebook",
   "name": "streamlit"
  },
  "lastEditStatus": {
   "authorEmail": "renee.huang@snowflake.com",
   "authorId": "8302928186498",
   "authorName": "REHUANG",
   "lastEditTime": 1750457496672,
   "notebookId": "eqk2xyijh3mjmzthfbil",
   "sessionId": "54db6ef7-030e-4c7b-9e3c-e6044eabe495"
  }
 },
 "nbformat": 4,
 "nbformat_minor": 5
}
