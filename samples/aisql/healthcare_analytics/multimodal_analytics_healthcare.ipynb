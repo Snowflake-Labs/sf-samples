{
 "cells": [
  {
   "cell_type": "markdown",
   "id": "8d50cbf4-0c8d-4950-86cb-114990437ac9",
   "metadata": {
    "collapsed": false,
    "name": "mkdwn_title"
   },
   "source": [
    "## AI-SQL  For Healthcare\n",
    "\n",
    "Snowflake's AI-SQL capabilities listed below simplifies usage of AI on multimodal Healthcare data , for SQL Savvy users\n",
    "1) FILE DATA TYPE\n",
    "2) AI_FILTER\n",
    "3) AI_TRANSCRIBE\n",
    "4) AI_CLASSIFY\n",
    "5) AI_AGG"
   ]
  },
  {
   "cell_type": "code",
   "execution_count": null,
   "id": "a49114a2-1981-42d6-a095-9616de8d529f",
   "metadata": {
    "language": "python",
    "name": "env_config"
   },
   "outputs": [],
   "source": [
    "import streamlit as st\n",
    "import pandas as pd\n",
    "import snowbooks_extras"
   ]
  },
  {
   "cell_type": "markdown",
   "id": "ac98f83d-16ab-4755-8142-087226e28128",
   "metadata": {
    "collapsed": false,
    "name": "mkdwn_file_data_type_usage_example"
   },
   "source": [
    "## Leverage AISQL to process images for Healthcare\n",
    "\n",
    "Pt1: Load Medical Images directly from stage using newly introduced FILE Data Type. Leverage \n",
    "\n",
    "Usefull for multiple usecases for.e.g Identify medical images to the appropriata Data Product pipelines. E.g 'Retinal Scan' images into a Vision Health Data Product."
   ]
  },
  {
   "cell_type": "code",
   "execution_count": null,
   "id": "c695373e-ac74-4b62-a1f1-08206cbd5c81",
   "metadata": {
    "codeCollapsed": false,
    "language": "sql",
    "name": "create_medical_images_table"
   },
   "outputs": [],
   "source": [
    "-- uploaded medical images(jpegs) into stage @AI_SQL_TEAM_DB.HCLS_SE_SAMPLE_DATA.HCLS_SE_SAMPLE_STAGE/MEDICAL_I\n",
    "-- (note: please create stage as client side encryption)\n",
    "\n",
    "create or replace  table medical_images as\n",
    "select TO_FILE(file_url) img_file, * \n",
    "FROM directory(@AI_SQL_DEMO_DB.HEALTHCARE_DEMO.MEDICAL_IMAGES);\n",
    "-- WHERE RELATIVE_PATH LIKE 'MEDICAL_IMAGES/%';\n",
    "\n",
    "select * from medical_images;\n",
    "\n"
   ]
  },
  {
   "cell_type": "code",
   "execution_count": null,
   "id": "8771d83c-b075-4142-b645-004361726b99",
   "metadata": {
    "language": "sql",
    "name": "medical_image_classification"
   },
   "outputs": [],
   "source": [
    "SELECT \n",
    "IMG_FILE,\n",
    "AI_COMPLETE('claude-3-7-sonnet',\n",
    "PROMPT('Classify the input image {0} in no more than 2 words', img_file)) AS image_classification\n",
    "FROM medical_images;"
   ]
  },
  {
   "cell_type": "code",
   "execution_count": null,
   "id": "24ee45b9-a506-40cc-b8d8-a0344a94a1d5",
   "metadata": {
    "language": "sql",
    "name": "ai_filter_medical_images_for_image_category"
   },
   "outputs": [],
   "source": [
    "SELECT \n",
    "IMG_FILE\n",
    "FROM medical_images\n",
    "WHERE AI_FILTER(PROMPT('This medical image {0} is a Chest X-ray', img_file)) ;"
   ]
  },
  {
   "cell_type": "code",
   "execution_count": null,
   "id": "d297fc76-b86e-46f8-be05-fbc18ca56d68",
   "metadata": {
    "language": "sql",
    "name": "ai_classify_scan_modality"
   },
   "outputs": [],
   "source": [
    "SELECT \n",
    "    img_file,\n",
    "    AI_CLASSIFY(PROMPT('please help me classify this medical scan image {0}', img_file),\n",
    "        ['X-ray', 'CT', 'MRI', 'Ultrasound','PET','Other']) as classification\n",
    "from medical_images;\n"
   ]
  },
  {
   "cell_type": "markdown",
   "id": "e7ce5011-2230-4f85-8f77-91cf34ff439b",
   "metadata": {
    "collapsed": false,
    "name": "mkdwn_ai_filter_usage_example"
   },
   "source": [
    "## Working with PDFs via AISQL Functions\n",
    "\n",
    "Use AI_FILTER to:\n",
    " 1) Filter out Medical Transcripts that are related to a specific ICD10 value.\n"
   ]
  },
  {
   "cell_type": "code",
   "execution_count": null,
   "id": "dee7b19b-df71-4f48-ab72-412fbc506068",
   "metadata": {
    "language": "sql",
    "name": "cell1"
   },
   "outputs": [],
   "source": [
    "CREATE OR REPLACE TABLE POP_HEALTH_MEDICAL_TRANSCRIPTS_RAW AS SELECT\n",
    "    relative_path as TRANSCRIPT_NAME, \n",
    "    GET_PRESIGNED_URL(@AI_SQL_DEMO_DB.HEALTHCARE_DEMO.Medical_Transcripts, relative_path) as scoped_file_url, \n",
    "    TO_VARIANT(SNOWFLAKE.CORTEX.PARSE_DOCUMENT(@AI_SQL_DEMO_DB.HEALTHCARE_DEMO.Medical_Transcripts, relative_path , {'mode': 'ocr'})) as raw_text_dict,\n",
    "    raw_text_dict:content as FULL_TEXT\n",
    "FROM DIRECTORY(@AI_SQL_DEMO_DB.HEALTHCARE_DEMO.Medical_Transcripts);\n"
   ]
  },
  {
   "cell_type": "code",
   "execution_count": null,
   "id": "8e8eaf32-c9d8-4c6e-8750-30d2658a5ead",
   "metadata": {
    "codeCollapsed": false,
    "collapsed": false,
    "language": "sql",
    "name": "check_medical_transcripts"
   },
   "outputs": [],
   "source": [
    "--MEDICAL TRANSCRIPTS information is preloaded into a Snowflake STRING column using Parse_Document function.\n",
    "SELECT TRANSCRIPT_NAME, FULL_TEXT FROM POP_HEALTH_MEDICAL_TRANSCRIPTS_RAW"
   ]
  },
  {
   "cell_type": "code",
   "execution_count": null,
   "id": "5cec4f43-9393-4160-b8aa-60cebd1ea326",
   "metadata": {
    "language": "sql",
    "name": "ai_filter_medical_transcripts_for_icd10"
   },
   "outputs": [],
   "source": [
    "--Filtering for medical transcripts which refer to a motor accident\n",
    "\n",
    "SELECT TRANSCRIPT_NAME, FULL_TEXT FROM POP_HEALTH_MEDICAL_TRANSCRIPTS_RAW\n",
    "WHERE AI_FILTER('This medical transcript has references to a motor vehicle accident faced by the member' ||  FULL_TEXT)"
   ]
  },
  {
   "cell_type": "markdown",
   "id": "f4014fa9-2d5d-4188-8127-17845f773023",
   "metadata": {
    "collapsed": false,
    "name": "mkdwn_ai_classify_usage_example"
   },
   "source": [
    "## Leverage AISQL to process audios for Healthcare\n",
    "\n",
    "Load Audio files directly from stage using newly introduced FILE Data Type\n",
    "\n",
    "Leverage AI_TRANSCRIBE function "
   ]
  },
  {
   "cell_type": "code",
   "execution_count": null,
   "id": "5041d699-3642-4c54-b003-eb253f67063b",
   "metadata": {
    "language": "sql",
    "name": "ai_transcribe_ai_classify_call_reason"
   },
   "outputs": [],
   "source": [
    "SELECT  \n",
    "        A.RELATIVE_PATH ,\n",
    "        A.CALL_TRANSCRIPT,\n",
    "        AI_CLASSIFY(CALL_TRANSCRIPT, ['claims related', 'coverage related', 'billing related','other']):labels[0]::text AI_CALL_REASON\n",
    "FROM \n",
    "(SELECT RELATIVE_PATH, AI_TRANSCRIBE(audio_file):text::STRING CALL_TRANSCRIPT FROM\n",
    "    (SELECT \n",
    "        relative_path RELATIVE_PATH,\n",
    "        TO_FILE('@AI_SQL_DEMO_DB.HEALTHCARE_DEMO.Call_Recordings', relative_path) AS audio_file \n",
    "    FROM DIRECTORY(@AI_SQL_DEMO_DB.HEALTHCARE_DEMO.Call_Recordings)\n",
    "    -- WHERE RELATIVE_PATH LIKE  '%CALL_RECORDINGS%'\n",
    "    LIMIT 5\n",
    "    )\n",
    ") A\n",
    "    "
   ]
  },
  {
   "cell_type": "markdown",
   "id": "9f2ce6d4-bdf0-4f5d-80ad-91a740caed6c",
   "metadata": {
    "collapsed": false,
    "name": "mkdwn_ai_agg_usage_example"
   },
   "source": [
    "## Get aggregated insights directly via SQL\n",
    "\n",
    "Use AI_AGG to:\n",
    "\n",
    "Generate Actionable health intervention insights aggregated at population level across multiple medical transcripts"
   ]
  },
  {
   "cell_type": "code",
   "execution_count": null,
   "id": "36d3e4ae-f42d-429a-abdc-4f06e75603d6",
   "metadata": {
    "language": "sql",
    "name": "ai_agg_patient_level_sdoh_insights_1"
   },
   "outputs": [],
   "source": [
    "SELECT AI_AGG(FULL_TEXT, '\n",
    "\n",
    "You are an AI agent helping the physican assigned for a population of patients.And these are the medical transcripts associated to those patients.\n",
    "Evaluate these medical transcripts, and recommend the following.\n",
    "\n",
    "1) Key insights on the overall health of the undertaken population\n",
    "2) What are the specific actions at a population level that they physician can take to improve the health\n",
    "3) Who is the top patient that needs highest level of attention , and what are the proposed next steps in engaging with that patient?\n",
    "\n",
    "') ACTIONABLE_INSIGHTS\n",
    "FROM POP_HEALTH_MEDICAL_TRANSCRIPTS_RAW"
   ]
  },
  {
   "cell_type": "code",
   "execution_count": null,
   "id": "7c636281-7067-4301-9628-e50db1c6215c",
   "metadata": {
    "language": "python",
    "name": "display_patient_level_sdoh_insights"
   },
   "outputs": [],
   "source": [
    "agg_patient_level_sdoh_insights_df = ai_agg_patient_level_sdoh_insights_1.to_df().to_pandas()\n",
    "for insight in agg_patient_level_sdoh_insights_df['ACTIONABLE_INSIGHTS']:\n",
    "    st.write(insight)\n",
    "    # Or using markdown for better formatting potential\n",
    "    # st.markdown(f\"- {insight}\")"
   ]
  }
 ],
 "metadata": {
  "kernelspec": {
   "display_name": "Streamlit Notebook",
   "name": "streamlit"
  },
  "lastEditStatus": {
   "authorEmail": "renee.huang@snowflake.com",
   "authorId": "8302928186498",
   "authorName": "REHUANG",
   "lastEditTime": 1750692925048,
   "notebookId": "t6q6jhudhqu26xcxgkx6",
   "sessionId": "b0b8817c-ad33-4da4-aec7-f0b58a32d36d"
  }
 },
 "nbformat": 4,
 "nbformat_minor": 5
}
