{
 "metadata": {
  "kernelspec": {
   "display_name": "Streamlit Notebook",
   "name": "streamlit"
  },
  "lastEditStatus": {
   "notebookId": "jypcxayx6qid6ypy6voy",
   "authorId": "8302928186498",
   "authorName": "REHUANG",
   "authorEmail": "renee.huang@snowflake.com",
   "sessionId": "570c7898-641e-475c-a745-861842b1d37a",
   "lastEditTime": 1750724960552
  }
 },
 "nbformat_minor": 5,
 "nbformat": 4,
 "cells": [
  {
   "cell_type": "markdown",
   "id": "67b84d2f-c4ad-4a1a-ae78-e225f190d783",
   "metadata": {
    "name": "packages",
    "collapsed": true
   },
   "source": "**Packages to Install**\n\nBe sure to install the following packages before running the notebook: **matplotlib**, **snowflake-snowpark-python**"
  },
  {
   "cell_type": "code",
   "id": "97973e59-fbe5-4f13-82f1-7e4004e4af62",
   "metadata": {
    "language": "sql",
    "name": "create_objects",
    "collapsed": true,
    "codeCollapsed": true
   },
   "outputs": [],
   "source": "/* setup role */\nUSE ROLE accountadmin;\nCREATE ROLE IF NOT EXISTS ai_sql_demo_role;\nGRANT CREATE WAREHOUSE ON ACCOUNT TO ROLE ai_sql_demo_role WITH GRANT OPTION;\nGRANT CREATE DATABASE ON ACCOUNT TO ROLE ai_sql_demo_role WITH GRANT OPTION;\nGRANT ROLE ai_sql_demo_role TO ROLE sysadmin;\n\n/* setup database and schemas */\nUSE ROLE ai_sql_demo_role;\nCREATE WAREHOUSE IF NOT EXISTS ai_sql_demo_wh WITH warehouse_size = SMALL;\nUSE WAREHOUSE ai_sql_demo_wh; \nCREATE DATABASE IF NOT EXISTS ai_sql_demo_db;\nCREATE SCHEMA IF NOT EXISTS ai_sql_demo_db.admin;\nCREATE STAGE IF NOT EXISTS ai_sql_demo_db.admin.ai_sql_stage DIRECTORY=(ENABLE=true) ENCRYPTION=(TYPE='SNOWFLAKE_SSE');\nCREATE SCHEMA IF NOT EXISTS ai_sql_demo_db.impressions;\n\n/* create table where impressions data will be added */\nCREATE OR REPLACE TABLE ai_sql_demo_db.impressions.synthetic_impressions (\n    Impression_ID NUMBER,\n    Customer_ID STRING,\n    Event_Timestamp TIMESTAMP_NTZ,\n    Image_File_Name STRING,\n    Image_Type STRING, \n    Was_Clicked BOOLEAN,\n    IP_Address STRING,\n    Latitude FLOAT,\n    Longitude FLOAT,\n    City STRING,\n    State STRING\n);",
   "execution_count": null
  },
  {
   "cell_type": "markdown",
   "id": "0040ed94-c5c8-4200-b226-14cac64f9be3",
   "metadata": {
    "name": "demo_overview",
    "collapsed": false
   },
   "source": "In this demo, we will cover:\n\n### AI SQL and Multi-Modal (Unstructured) Data Analysis for Ads\n- New FILE data type\n- Using Cortex AI SQL functions on image files\n- New AI SQL functions like AI_FILTER and AI_AGG"
  },
  {
   "cell_type": "markdown",
   "id": "dc142a14-7a59-4fb3-b170-30df4ae88dbb",
   "metadata": {
    "name": "image_upload",
    "collapsed": false
   },
   "source": "First step let's upload your images to the **ai_sql_demo_db.admin.ai_sql_stage** stage, then use \"Run All Below\" for the rest of the notebook."
  },
  {
   "cell_type": "code",
   "id": "bd49c9de-55cb-46bf-a8fd-1bf93c20fc78",
   "metadata": {
    "language": "python",
    "name": "imports",
    "collapsed": false,
    "codeCollapsed": false
   },
   "outputs": [],
   "source": "# Add packages: matplotlib, snowflake-snowpark-python\nimport streamlit as st\nimport pandas as pd\nimport snowbooks_extras",
   "execution_count": null
  },
  {
   "cell_type": "code",
   "id": "dc0d5bd0-8610-4acf-813a-c22f541497d0",
   "metadata": {
    "language": "sql",
    "name": "load_image_table",
    "collapsed": false,
    "codeCollapsed": false
   },
   "outputs": [],
   "source": "USE ROLE AI_SQL_DEMO_ROLE;\n/* create a table where the images will be added */\nCREATE\nOR REPLACE TABLE ai_sql_demo_db.impressions.images AS\nSELECT\n    TO_FILE(FILE_URL) Img_File,\n    *\nfrom\n    directory (@AI_SQL_DEMO_DB.ADMIN.AI_SQL_STAGE)\nWHERE\n    RELATIVE_PATH LIKE '%.png'\n    AND RELATIVE_PATH NOT LIKE '%instructions%';",
   "execution_count": null
  },
  {
   "cell_type": "code",
   "id": "70b5d014-1efd-4409-af9a-c7df5543b4d2",
   "metadata": {
    "language": "sql",
    "name": "show_image_table"
   },
   "outputs": [],
   "source": "SELECT\n    img_file,\n    file_url,\n    last_modified\nFROM ai_sql_demo_db.impressions.images;",
   "execution_count": null
  },
  {
   "cell_type": "code",
   "id": "f14aef18-c77d-439e-9a17-ef7a9dd3f3da",
   "metadata": {
    "language": "sql",
    "name": "describe_images_table"
   },
   "outputs": [],
   "source": "DESCRIBE TABLE ai_sql_demo_db.impressions.images;",
   "execution_count": null
  },
  {
   "cell_type": "markdown",
   "id": "e6c71794-cda2-4d30-91b2-8baa1b36a049",
   "metadata": {
    "name": "cortex_complete_instructions",
    "collapsed": false
   },
   "source": "## Creating taglines using AI_COMPLETE\nUsing the **Complete** function, let's create some fresh taglines for our new campaign's advertisement images."
  },
  {
   "cell_type": "code",
   "id": "1f36ecbe-0ad8-4b40-b78b-b75950e26f1c",
   "metadata": {
    "language": "sql",
    "name": "cortex_complete_tagline"
   },
   "outputs": [],
   "source": "SELECT\n    img_file,\n    ai_complete('pixtral-large', prompt('Extract the text from this image and create an advertising tagline. Just return the tagline itself: {0}', img_file)),\n    file_url,\n    last_modified\nFROM ai_sql_demo_db.impressions.images;\n",
   "execution_count": null
  },
  {
   "cell_type": "markdown",
   "id": "d20ebd10-7183-49c9-965a-fea0faaf33fd",
   "metadata": {
    "name": "ai_filter_instructions",
    "collapsed": false
   },
   "source": "## Filtering Ad images with  **AI_FILTER**\nPast data has suggested that including coffee makers in ads boosts click-through rate. Let's use **AI_FILTER** to make sure we have ads with coffee makers in our ad campaign."
  },
  {
   "cell_type": "code",
   "id": "dba78c3f-1bd6-46b9-b92b-1836bfd670e1",
   "metadata": {
    "language": "sql",
    "name": "ai_filter"
   },
   "outputs": [],
   "source": "SELECT img_file, relative_path, file_url, last_modified FROM ai_sql_demo_db.impressions.images\nWHERE AI_FILTER(prompt('does this image {0} have an espresso machine and/or a coffee pot/french press?', img_file))",
   "execution_count": null
  },
  {
   "cell_type": "markdown",
   "id": "cfd2dac5-3b03-4928-b34a-0f21dd24b316",
   "metadata": {
    "name": "ai_classify_instructions",
    "collapsed": false
   },
   "source": "## Classifying Ad Types with **AI_CLASSIFY**\nNow let's prompt **AI_CLASSIFY** with a list of advertisement type categories so it can help classify the ads for us!"
  },
  {
   "cell_type": "code",
   "id": "9edce883-142d-4ed5-af64-51daa727171d",
   "metadata": {
    "language": "sql",
    "name": "create_images_classified_table",
    "collapsed": false,
    "codeCollapsed": false
   },
   "outputs": [],
   "source": "CREATE OR REPLACE TABLE AI_SQL_DEMO_DB.IMPRESSIONS.IMAGES_CLASSIFIED AS\nSELECT\n    img_file,\n    split_part(relative_path, '/', 2) as file_name,\n    --    relative_path as file_name,\n\n    parse_json(AI_CLASSIFY(prompt('please help me classify the type of advertisement within this coffee image {0}', img_file), ['long text', 'product shot', 'lifestyle', 'promo offer'])):labels[0]::text as classification,\n    \n    file_url, \n    last_modified\nFROM ai_sql_demo_db.impressions.images;\n\nSELECT * FROM AI_SQL_DEMO_DB.IMPRESSIONS.IMAGES_CLASSIFIED;",
   "execution_count": null
  },
  {
   "cell_type": "markdown",
   "id": "43568eee-d1f1-48a6-a837-26b20f89ddc4",
   "metadata": {
    "name": "agg_filter",
    "collapsed": false
   },
   "source": "## Aggregating Reviews\nUsing functions like **AI_AGG()** to distill feedback, we can effectively analyze our 'Fuel Your Rise' ad campaign. This deeper understanding will enable us to craft more targeted advertising and enhance customer reach."
  },
  {
   "cell_type": "code",
   "id": "f2ff8936-9bb4-4174-a3e7-3e7bfe3d67b2",
   "metadata": {
    "language": "sql",
    "name": "impressions_reviews",
    "collapsed": false,
    "codeCollapsed": false
   },
   "outputs": [],
   "source": "SELECT * FROM AI_SQL_DEMO_DB.IMPRESSIONS.IMPRESSIONS_WITH_REVIEWS;",
   "execution_count": null
  },
  {
   "cell_type": "code",
   "id": "9dd3022a-4049-4b0f-9dfb-643b509106b0",
   "metadata": {
    "language": "sql",
    "name": "aggregate_reviews"
   },
   "outputs": [],
   "source": "SELECT\nimage_type,\n\nAI_AGG('Image Type: '|| image_type || '\\n\\nFeedback: ' || impression_review, 'score the sentiment of the feedback on a scale of 1 to 5 where 1 is very negative and 5 is very positive. Just write 1, 2, 3, 4, or 5. Return the average value only') as sentiment,\n\nAI_AGG('Image Type: '|| image_type || '\\n\\nFeedback: ' || impression_review, 'Analyze the feedback from these reviews and summarize the feedback in one sentence') as summary \n    \nFROM AI_SQL_DEMO_DB.IMPRESSIONS.IMPRESSIONS_WITH_REVIEWS\nGROUP BY image_type;",
   "execution_count": null
  },
  {
   "cell_type": "markdown",
   "id": "6cd5810d-9b5a-4b1a-86f9-d87a9e348c59",
   "metadata": {
    "name": "cell3",
    "collapsed": false
   },
   "source": "## In Summary\n\n\n### AI SQL unlocks unstructured Data Analysis, all with the familiarity of SQL\n- New FILE data type\n- Using Cortex AI SQL functions on image files\n- New AI SQL functions like AI_FILTER and AI_AGG\n"
  }
 ]
}