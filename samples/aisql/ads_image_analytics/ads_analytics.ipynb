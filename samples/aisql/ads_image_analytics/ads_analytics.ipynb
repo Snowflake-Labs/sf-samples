{
 "cells": [
  {
   "cell_type": "markdown",
   "id": "67b84d2f-c4ad-4a1a-ae78-e225f190d783",
   "metadata": {
    "collapsed": false,
    "name": "packages"
   },
   "source": [
    "# Multi-Modal Advertisement Analytics using Snowflake Cortex AI SQL\n",
    "Effective advertisement campaign analysis requires understanding both structured data (impressions, clicks, metadata) and unstructured content (images, visual elements). In this notebook, you'll use Cortex AI SQL to systematically analyze advertisement images, extract insights, and optimize campaign performance through intelligent classification and content generation.\n",
    "\n",
    "### Context\n",
    "This demonstrates how modern marketing analytics teams can leverage Snowflake's Cortex AI SQL to analyze multi-modal advertising data. The system processes advertisement images from campaigns, analyzes visual content using AI functions, classifies ad types, and generates insights to optimize future campaigns.\n",
    "\n",
    "In this notebook, we will leverage multiple AI SQL functions to build an intelligent advertisement analytics workflow that:\n",
    "- Filters advertisements based on specific visual criteria using **AI_FILTER**\n",
    "- Classifies advertisement types automatically with **AI_CLASSIFY**\n",
    "- Generates creative taglines and content using **AI_COMPLETE**\n",
    "- Aggregates customer feedback and sentiment analysis with **AI_AGG**\n",
    "- Processes image files using the new **FILE data type**\n",
    "\n",
    "The primary business value is creating a more intelligent and scalable approach to advertisement campaign analysis that enables marketing teams to understand visual content performance, optimize creative assets, and make data-driven decisions about future campaigns.\n",
    "##"
   ]
  },
  {
   "cell_type": "markdown",
   "id": "0040ed94-c5c8-4200-b226-14cac64f9be3",
   "metadata": {
    "collapsed": false,
    "name": "SETUP_MD"
   },
   "source": [
    "## Step 1: Set up your environment and data\n",
    "\n",
    "Let's begin by running the query below. It sets the correct role and warehouse for this session and creates a new schema. It also creates the necessary stage for image storage and sample tables for our advertisement analytics workflow.\n",
    "\n",
    "**Note**: Upload your advertisement images to the **ads_image_stage** stage before proceeding with the rest of the notebook."
   ]
  },
  {
   "cell_type": "code",
   "execution_count": null,
   "id": "bd49c9de-55cb-46bf-a8fd-1bf93c20fc78",
   "metadata": {
    "codeCollapsed": false,
    "collapsed": false,
    "language": "python",
    "name": "imports"
   },
   "outputs": [],
   "source": [
    "import snowbooks_extras"
   ]
  },
  {
   "cell_type": "code",
   "execution_count": null,
   "id": "fb142e7e-31a3-4b4a-8bac-abc86db68ca8",
   "metadata": {
    "language": "sql",
    "name": "SETUP_SQL"
   },
   "outputs": [],
   "source": [
    "USE ROLE SNOWFLAKE_LEARNING_ROLE;\n",
    "\n",
    "-- Use the existing database, schema and warehouse\n",
    "USE DATABASE SNOWFLAKE_LEARNING_DB;\n",
    "USE WAREHOUSE SNOWFLAKE_LEARNING_WH;\n",
    "\n",
    "SET schema_name = CONCAT(current_user(), '_ADS_IMAGE_ANALYTICS');\n",
    "CREATE SCHEMA IF NOT EXISTS IDENTIFIER($schema_name);\n",
    "USE SCHEMA IDENTIFIER($schema_name);\n",
    "\n",
    "\n",
    "CREATE OR REPLACE STAGE s3load\n",
    "COMMENT = 'Quickstarts S3 Stage Connection'\n",
    "URL = 's3://sfquickstarts/misc/aisql/ads_image_analytics/'\n",
    "ENCRYPTION = (TYPE = 'AWS_SSE_S3')\n",
    "DIRECTORY = (ENABLE = TRUE);\n",
    "\n",
    "\n",
    "/*--\n",
    "• Sample data tables creation\n",
    "--*/\n",
    "\n",
    "CREATE OR REPLACE FILE FORMAT csv_ff \n",
    "TYPE = 'csv'\n",
    "SKIP_HEADER = 1\n",
    "FIELD_OPTIONALLY_ENCLOSED_BY='\"';\n",
    "\n",
    "\n",
    "CREATE OR REPLACE TABLE IMPRESSIONS_WITH_REVIEWS (\n",
    "\tIMPRESSION_REVIEW VARCHAR(16777216),\n",
    "\tCUSTOMER_ID VARCHAR(16777216),\n",
    "\tIP_ADDRESS VARCHAR(16777216),\n",
    "\tEVENT_TIMESTAMP TIMESTAMP,\n",
    "\tIMAGE_TYPE VARCHAR(16777216),\n",
    "\tIMPRESSION_ID NUMBER\n",
    ");\n",
    "\n",
    "COPY INTO IMPRESSIONS_WITH_REVIEWS\n",
    "FROM @s3load/IMPRESSIONS_WITH_REVIEWS.csv\n",
    "ON_ERROR = CONTINUE\n",
    "file_format = csv_ff;\n",
    "\n",
    "\n",
    "/*--\n",
    "• Create images table from uploaded files in the stage\n",
    "--*/\n",
    "\n",
    "CREATE OR REPLACE STAGE internal_stage_for_images\n",
    "  COMMENT = 'Internal stage to store copied files from public S3'\n",
    "  ENCRYPTION = (TYPE = 'SNOWFLAKE_SSE')\n",
    "  DIRECTORY = (ENABLE = TRUE);\n",
    "\n",
    "COPY FILES INTO @internal_stage_for_images\n",
    "FROM @s3load\n",
    "PATTERN = '.*\\.png';\n",
    "\n",
    "ALTER STAGE internal_stage_for_images REFRESH;\n",
    "\n",
    "CREATE OR REPLACE TABLE images AS\n",
    "SELECT\n",
    "    TO_FILE(file_url) AS img_file,\n",
    "    file_url,\n",
    "    relative_path,\n",
    "    last_modified\n",
    "FROM\n",
    "    directory(@internal_stage_for_images);\n",
    "    \n",
    "\n",
    "-- Setup completion note\n",
    "SELECT 'Advertisement analytics setup is complete' AS note;"
   ]
  },
  {
   "cell_type": "code",
   "execution_count": null,
   "id": "5efb5741-a6fb-4bce-87e6-adf988af0fcb",
   "metadata": {
    "language": "sql",
    "name": "preview_images"
   },
   "outputs": [],
   "source": [
    "SELECT\n",
    "    img_file,\n",
    "    file_url,\n",
    "    last_modified\n",
    "FROM images;"
   ]
  },
  {
   "cell_type": "code",
   "execution_count": null,
   "id": "f14aef18-c77d-439e-9a17-ef7a9dd3f3da",
   "metadata": {
    "language": "sql",
    "name": "describe_images_table"
   },
   "outputs": [],
   "source": [
    "-- Review the table structure and data types\n",
    "DESCRIBE TABLE images;"
   ]
  },
  {
   "cell_type": "markdown",
   "id": "ebb54e01-47d5-4845-98ec-14b01db33ba3",
   "metadata": {
    "collapsed": false,
    "name": "TAGLINE_MD"
   },
   "source": [
    "## Step 2: Generate creative taglines using AI_COMPLETE\n",
    "\n",
    "Using the **AI_COMPLETE** function, we can analyze advertisement images and create fresh, compelling taglines for our campaigns. This demonstrates how AI can extract visual information and transform it into marketing copy that resonates with target audiences."
   ]
  },
  {
   "cell_type": "code",
   "execution_count": null,
   "id": "1f36ecbe-0ad8-4b40-b78b-b75950e26f1c",
   "metadata": {
    "language": "sql",
    "name": "complete_tagline"
   },
   "outputs": [],
   "source": [
    "SELECT\n",
    "    relative_path AS image_name,\n",
    "    AI_COMPLETE(\n",
    "        'pixtral-large', \n",
    "        PROMPT(\n",
    "            'Extract the text from this image and create an advertising tagline. Just return the tagline itself: {0}', \n",
    "            img_file\n",
    "        )\n",
    "    ) AS generated_tagline,\n",
    "    file_url\n",
    "FROM images\n",
    "ORDER BY relative_path;"
   ]
  },
  {
   "cell_type": "markdown",
   "id": "d20ebd10-7183-49c9-965a-fea0faaf33fd",
   "metadata": {
    "collapsed": false,
    "name": "ai_filter_instructions"
   },
   "source": [
    "## Step 3: Filter advertisements with AI_FILTER\n",
    "\n",
    "Historical campaign data suggests that including coffee-related equipment in advertisements significantly boosts click-through rates. Let's use **AI_FILTER** to identify and isolate advertisements that contain coffee makers, espresso machines, or related brewing equipment for our targeted campaign analysis."
   ]
  },
  {
   "cell_type": "code",
   "execution_count": null,
   "id": "dba78c3f-1bd6-46b9-b92b-1836bfd670e1",
   "metadata": {
    "language": "sql",
    "name": "ai_filter"
   },
   "outputs": [],
   "source": [
    "SELECT \n",
    "    relative_path AS image_name,\n",
    "    img_file, \n",
    "    file_url, \n",
    "    last_modified \n",
    "FROM images\n",
    "WHERE AI_FILTER(\n",
    "    PROMPT(\n",
    "        'Does this image {0} contain an espresso machine, coffee pot, french press, or other coffee brewing equipment?', \n",
    "        img_file\n",
    "    )\n",
    ")\n",
    "ORDER BY relative_path;"
   ]
  },
  {
   "cell_type": "markdown",
   "id": "cfd2dac5-3b03-4928-b34a-0f21dd24b316",
   "metadata": {
    "collapsed": false,
    "name": "ai_classify_instructions"
   },
   "source": [
    "## Step 4: Classify advertisement types with AI_CLASSIFY\n",
    "\n",
    "Now let's use **AI_CLASSIFY** to automatically categorize our advertisements into different types. This classification helps us understand our creative portfolio composition and optimize our campaign mix based on performance data. We'll classify ads into categories like product shots, lifestyle imagery, promotional offers, and text-heavy advertisements."
   ]
  },
  {
   "cell_type": "code",
   "execution_count": null,
   "id": "9edce883-142d-4ed5-af64-51daa727171d",
   "metadata": {
    "codeCollapsed": false,
    "collapsed": false,
    "language": "sql",
    "name": "create_images_classified_table"
   },
   "outputs": [],
   "source": [
    "CREATE OR REPLACE TABLE images_classified AS\n",
    "SELECT\n",
    "    img_file,\n",
    "    SPLIT_PART(relative_path, '/', -1) AS file_name,\n",
    "    AI_CLASSIFY(\n",
    "        PROMPT(\n",
    "            'Please help me classify the type of advertisement within this coffee-related image {0}', \n",
    "            img_file\n",
    "        ), \n",
    "        [\n",
    "            'long text', \n",
    "            'product shot', \n",
    "            'lifestyle', \n",
    "            'promo offer'\n",
    "        ]\n",
    "    ) AS classification_result,\n",
    "    PARSE_JSON(classification_result):labels[0]::TEXT AS ad_type,\n",
    "    file_url, \n",
    "    relative_path,\n",
    "    last_modified\n",
    "FROM images;\n",
    "\n",
    "-- Review the classified advertisements\n",
    "SELECT \n",
    "    file_name,\n",
    "    ad_type,\n",
    "    file_url\n",
    "FROM images_classified\n",
    "ORDER BY ad_type, file_name;"
   ]
  },
  {
   "cell_type": "markdown",
   "id": "43568eee-d1f1-48a6-a837-26b20f89ddc4",
   "metadata": {
    "collapsed": false,
    "name": "agg_filter"
   },
   "source": [
    "## Step 6: Analyze customer feedback with AI_AGG\n",
    "\n",
    "Using **AI_AGG** to aggregate and analyze customer feedback, we can effectively evaluate our advertisement campaign performance. This deeper understanding enables us to craft more targeted advertising and enhance customer engagement for future campaigns based on sentiment analysis and key insights."
   ]
  },
  {
   "cell_type": "code",
   "execution_count": null,
   "id": "f2ff8936-9bb4-4174-a3e7-3e7bfe3d67b2",
   "metadata": {
    "codeCollapsed": false,
    "collapsed": false,
    "language": "sql",
    "name": "impressions_reviews"
   },
   "outputs": [],
   "source": [
    "SELECT\n",
    "    image_type,\n",
    "    AI_AGG(\n",
    "        'Image Type: ' || image_type || '\\n\\nFeedback: ' || impression_review, \n",
    "        'Score the sentiment of the feedback on a scale of 1 to 5 where 1 is very negative and 5 is very positive. Just write 1, 2, 3, 4, or 5. Return the average value only'\n",
    "    ) AS sentiment_score,\n",
    "    AI_AGG(\n",
    "        'Image Type: ' || image_type || '\\n\\nFeedback: ' || impression_review, \n",
    "        'Analyze the feedback from these reviews and summarize the key insights in one concise sentence'\n",
    "    ) AS feedback_summary \n",
    "FROM impressions_with_reviews\n",
    "GROUP BY image_type\n",
    "ORDER BY sentiment_score DESC;"
   ]
  },
  {
   "cell_type": "markdown",
   "id": "6cd5810d-9b5a-4b1a-86f9-d87a9e348c59",
   "metadata": {
    "collapsed": false,
    "name": "take_away_md"
   },
   "source": [
    "## Key Takeaways\n",
    "\n",
    "* **Multi-Modal Data Processing**: You can leverage Snowflake's new FILE data type to work directly with image files in SQL queries, enabling seamless analysis of visual content alongside structured data.\n",
    "* **Intelligent Content Analysis**: AI-powered functions like `AI_FILTER`, `AI_CLASSIFY`, `AI_COMPLETE`, and `AI_AGG` enable comprehensive advertisement analysis from visual content extraction to sentiment analysis.\n",
    "* **Automated Creative Generation**: The `AI_COMPLETE` function can generate marketing taglines and content recommendations based on visual analysis, scaling creative development processes.\n",
    "* **Visual Content Classification**: Automated categorization of advertisement types helps marketing teams understand portfolio composition and optimize campaign strategies.\n",
    "* **Sentiment-Driven Insights**: AI-powered aggregation of customer feedback provides actionable insights for improving advertisement effectiveness and customer engagement.\n",
    "\n",
    "## Additional Resources\n",
    "\n",
    "* [Documentation: Cortex AI SQL Functions](https://docs.snowflake.com/en/user-guide/snowflake-cortex/aisql)\n",
    "* [Documentation: FILE Data Type](https://docs.snowflake.com/en/sql-reference/data-types-file)"
   ]
  }
 ],
 "metadata": {
  "kernelspec": {
   "display_name": "Streamlit Notebook",
   "name": "streamlit"
  },
  "lastEditStatus": {
   "authorEmail": "renee.huang@snowflake.com",
   "authorId": "8302928186498",
   "authorName": "REHUANG",
   "lastEditTime": 1754338640937,
   "notebookId": "5qophcr6qhrqgnqakjbg",
   "sessionId": "f5cf8976-de1f-491a-8943-4e382d0c0122"
  }
 },
 "nbformat": 4,
 "nbformat_minor": 5
}
