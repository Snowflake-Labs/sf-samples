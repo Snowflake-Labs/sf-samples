{
 "cells": [
  {
   "cell_type": "markdown",
   "id": "d97a3274",
   "metadata": {},
   "source": [
    "# Analyze Ad Images with Cortex AI"
   ]
  },
  {
   "cell_type": "markdown",
   "id": "44291626",
   "metadata": {},
   "source": [
    "## Overview\n",
    "\n",
    "This template shows you how to use Snowflake Cortex AI functions to work with unstructured image data. [cite: 32] You'll learn how to store images directly in Snowflake and use familiar SQL to classify them and generate new ad copy in just a few minutes. [cite: 5, 11, 12]"
   ]
  },
  {
   "cell_type": "code",
   "execution_count": null,
   "id": "97973e59-fbe5-4f13-82f1-7e4004e4af62",
   "metadata": {
    "codeCollapsed": true,
    "collapsed": true,
    "language": "sql",
    "name": "create_objects"
   },
   "outputs": [],
   "source": [
    "/* setup role */\n",
    "USE ROLE accountadmin;\n",
    "CREATE ROLE IF NOT EXISTS ai_sql_demo_role;\n",
    "GRANT CREATE WAREHOUSE ON ACCOUNT TO ROLE ai_sql_demo_role WITH GRANT OPTION;\n",
    "GRANT CREATE DATABASE ON ACCOUNT TO ROLE ai_sql_demo_role WITH GRANT OPTION;\n",
    "GRANT ROLE ai_sql_demo_role TO ROLE sysadmin;\n",
    "\n",
    "/* setup database and schemas */\n",
    "USE ROLE ai_sql_demo_role;\n",
    "CREATE WAREHOUSE IF NOT EXISTS ai_sql_demo_wh WITH warehouse_size = SMALL;\n",
    "USE WAREHOUSE ai_sql_demo_wh; \n",
    "CREATE DATABASE IF NOT EXISTS ai_sql_demo_db;\n",
    "CREATE SCHEMA IF NOT EXISTS ai_sql_demo_db.admin;\n",
    "CREATE STAGE IF NOT EXISTS ai_sql_demo_db.admin.ai_sql_stage DIRECTORY=(ENABLE=true) ENCRYPTION=(TYPE='SNOWFLAKE_SSE');\n",
    "CREATE SCHEMA IF NOT EXISTS ai_sql_demo_db.impressions;\n",
    "\n",
    "/* create table where impressions data will be added */\n",
    "CREATE OR REPLACE TABLE ai_sql_demo_db.impressions.synthetic_impressions (\n",
    "    Impression_ID NUMBER,\n",
    "    Customer_ID STRING,\n",
    "    Event_Timestamp TIMESTAMP_NTZ,\n",
    "    Image_File_Name STRING,\n",
    "    Image_Type STRING, \n",
    "    Was_Clicked BOOLEAN,\n",
    "    IP_Address STRING,\n",
    "    Latitude FLOAT,\n",
    "    Longitude FLOAT,\n",
    "    City STRING,\n",
    "    State STRING\n",
    ");"
   ]
  },
  {
   "cell_type": "code",
   "execution_count": null,
   "id": "bd49c9de-55cb-46bf-a8fd-1bf93c20fc78",
   "metadata": {
    "codeCollapsed": false,
    "collapsed": false,
    "language": "python",
    "name": "imports"
   },
   "outputs": [],
   "source": [
    "import streamlit as st\n",
    "import pandas as pd\n",
    "import snowbooks_extras"
   ]
  },
  {
   "cell_type": "markdown",
   "id": "1d9c7f26",
   "metadata": {},
   "source": [
    "## Step 2: Load images into a table\n",
    "\n",
    "Now, let's load our sample ad images into a table. The `TO_FILE` function lets you work with unstructured data, like images, by creating a `FILE` data type. This query finds all PNG files in a public stage and loads their metadata into a table for analysis. "
   ]
  },
  {
   "cell_type": "code",
   "execution_count": null,
   "id": "dc0d5bd0-8610-4acf-813a-c22f541497d0",
   "metadata": {
    "codeCollapsed": false,
    "collapsed": false,
    "language": "sql",
    "name": "load_image_table"
   },
   "outputs": [],
   "source": [
    "/* create a table where the images will be added */\n",
    "CREATE OR REPLACE TABLE CORTEX_AI_IMAGE_DEMO.ADS.IMAGES AS\n",
    "SELECT\n",
    "    TO_FILE(FILE_URL) AS IMG_FILE,\n",
    "    RELATIVE_PATH,\n",
    "    FILE_URL\n",
    "FROM\n",
    "    DIRECTORY (@cortex_ai_image_demo.ads.image_stage)\n",
    "WHERE\n",
    "    RELATIVE_PATH LIKE '%.png'\n",
    "    AND RELATIVE_PATH NOT LIKE '%instructions%';"
   ]
  },
  {
   "cell_type": "markdown",
   "id": "ebe355cd",
   "metadata": {},
   "source": [
    "Check the table & file datatype"
   ]
  },
  {
   "cell_type": "code",
   "execution_count": null,
   "id": "70b5d014-1efd-4409-af9a-c7df5543b4d2",
   "metadata": {
    "language": "sql",
    "name": "show_image_table"
   },
   "outputs": [],
   "source": [
    "SELECT\n",
    "    img_file,\n",
    "    file_url,\n",
    "    last_modified\n",
    "FROM ai_sql_demo_db.impressions.images;"
   ]
  },
  {
   "cell_type": "code",
   "execution_count": null,
   "id": "f14aef18-c77d-439e-9a17-ef7a9dd3f3da",
   "metadata": {
    "language": "sql",
    "name": "describe_images_table"
   },
   "outputs": [],
   "source": [
    "DESCRIBE TABLE ai_sql_demo_db.impressions.images;"
   ]
  },
  {
   "cell_type": "markdown",
   "id": "e6c71794-cda2-4d30-91b2-8baa1b36a049",
   "metadata": {
    "collapsed": false,
    "name": "cortex_complete_instructions"
   },
   "source": [
    "## Step 3: Classify ads with AI_CLASSIFY\n",
    "\n",
    "Let's use `AI_CLASSIFY` to automatically categorize our ads. Provide the function with the image file and a list of categories, and it will return the best fit. This is great for sorting and organizing your unstructured image data."
   ]
  },
  {
   "cell_type": "markdown",
   "id": "1e24b212",
   "metadata": {},
   "source": [
    "SELECT\n",
    "    IMG_FILE,\n",
    "    AI_CLASSIFY(PROMPT('Classify the type of ad in this image {0}', IMG_FILE), ['product shot', 'lifestyle', 'promo offer']) :labels[0] ::TEXT AS CLASSIFICATION\n",
    "FROM CORTEX_AI_IMAGE_DEMO.ADS.IMAGES;"
   ]
  },
  {
   "cell_type": "markdown",
   "id": "b9a5e596",
   "metadata": {},
   "source": [
    "## Step 4: Generate new taglines with AI_COMPLETE\n",
    "\n",
    "Next, run this query to have `AI_COMPLETE` create a fresh advertising tagline for each image. By passing the image file to the `PROMPT` function, you can ask the model to perform tasks related to the image content."
   ]
  },
  {
   "cell_type": "code",
   "execution_count": null,
   "id": "1f36ecbe-0ad8-4b40-b78b-b75950e26f1c",
   "metadata": {
    "language": "sql",
    "name": "cortex_complete_tagline"
   },
   "outputs": [],
   "source": [
    "SELECT\n",
    "    IMG_FILE,\n",
    "    AI_COMPLETE('pixtral-large', PROMPT('Extract the text from this image and create an advertising tagline. Just return the tagline itself: {0}', IMG_FILE)) AS TAGLINE,\n",
    "    FILE_URL,\n",
    "    LAST_MODIFIED\n",
    "FROM CORTEX_AI_IMAGE_DEMO.ADS.IMAGES;"
   ]
  },
  {
   "cell_type": "markdown",
   "id": "d20ebd10-7183-49c9-965a-fea0faaf33fd",
   "metadata": {
    "collapsed": false,
    "name": "ai_filter_instructions"
   },
   "source": [
    "## Step 5: Filter images with AI_FILTER\n",
    "\n",
    "Finally on image, let's use `AI_FILTER` to find specific images. Past data suggests that ads with coffee makers perform well. This query uses `AI_FILTER` to check if an image contains a coffee maker, making it easy to select the right ads for your campaign."
   ]
  },
  {
   "cell_type": "code",
   "execution_count": null,
   "id": "dba78c3f-1bd6-46b9-b92b-1836bfd670e1",
   "metadata": {
    "language": "sql",
    "name": "ai_filter"
   },
   "outputs": [],
   "source": [
    "SELECT \n",
    "    IMG_FILE, \n",
    "    RELATIVE_PATH, \n",
    "    FILE_URL\n",
    "FROM CORTEX_AI_IMAGE_DEMO.ADS.IMAGES\n",
    "WHERE AI_FILTER(PROMPT('Does this image {0} have an espresso machine or a coffee pot?', IMG_FILE));"
   ]
  },
  {
   "cell_type": "markdown",
   "id": "43568eee-d1f1-48a6-a837-26b20f89ddc4",
   "metadata": {
    "collapsed": false,
    "name": "agg_filter"
   },
   "source": [
    "## Step 6: Aggregate Text Reviews\n",
    "\n",
    "Finally, let's use `AI_AGG` functions to get insights from all customer reviews on those ads. We are interested what are the overall sentiment & top themes from those reviews."
   ]
  },
  {
   "cell_type": "code",
   "execution_count": null,
   "id": "f2ff8936-9bb4-4174-a3e7-3e7bfe3d67b2",
   "metadata": {
    "codeCollapsed": false,
    "collapsed": false,
    "language": "sql",
    "name": "impressions_reviews"
   },
   "outputs": [],
   "source": [
    "SELECT * FROM AI_SQL_DEMO_DB.IMPRESSIONS.IMPRESSIONS_WITH_REVIEWS;"
   ]
  },
  {
   "cell_type": "code",
   "execution_count": null,
   "id": "9dd3022a-4049-4b0f-9dfb-643b509106b0",
   "metadata": {
    "language": "sql",
    "name": "aggregate_reviews"
   },
   "outputs": [],
   "source": [
    "SELECT\n",
    "    image_type,\n",
    "\n",
    "    AI_AGG('Image Type: '|| image_type || '\\n\\nFeedback: ' || impression_review, 'score the sentiment of the feedback on a scale of 1 to 5 where 1 is very negative and 5 is very positive. Just write 1, 2, 3, 4, or 5. Return the average value only') as sentiment,\n",
    "\n",
    "    AI_AGG('Image Type: '|| image_type || '\\n\\nFeedback: ' || impression_review, 'Analyze the feedback from these reviews and summarize the feedback in one sentence') as summary \n",
    "        \n",
    "FROM AI_SQL_DEMO_DB.IMPRESSIONS.IMPRESSIONS_WITH_REVIEWS\n",
    "GROUP BY image_type;"
   ]
  },
  {
   "cell_type": "markdown",
   "id": "578f8706",
   "metadata": {},
   "source": [
    "## Key Takeaways\n",
    "\n",
    "* **Analyze Images with SQL**: You can use the `FILE` data type to store images and other unstructured data directly in Snowflake.\n",
    "* **Use Cortex AI Functions**: Functions like `AI_CLASSIFY`, `AI_COMPLETE`, and `AI_FILTER` allow you to classify, generate content for, and filter images using simple SQL commands.\n",
    "* **Simplify Your Workflow**: Analyzing image content can be done in a single, executable notebook without needing complex external tools or setup."
   ]
  },
  {
   "cell_type": "markdown",
   "id": "6cd5810d-9b5a-4b1a-86f9-d87a9e348c59",
   "metadata": {
    "collapsed": false,
    "name": "cell3"
   },
   "source": [
    "## Additional Resources\n",
    "\n",
    "* [Documentation: Cortex AI SQL Functions](https://docs.snowflake.com/)\n"
   ]
  }
 ],
 "metadata": {
  "kernelspec": {
   "display_name": "Streamlit Notebook",
   "name": "streamlit"
  },
  "lastEditStatus": {
   "authorEmail": "renee.huang@snowflake.com",
   "authorId": "8302928186498",
   "authorName": "REHUANG",
   "lastEditTime": 1750724960552,
   "notebookId": "jypcxayx6qid6ypy6voy",
   "sessionId": "570c7898-641e-475c-a745-861842b1d37a"
  }
 },
 "nbformat": 4,
 "nbformat_minor": 5
}
