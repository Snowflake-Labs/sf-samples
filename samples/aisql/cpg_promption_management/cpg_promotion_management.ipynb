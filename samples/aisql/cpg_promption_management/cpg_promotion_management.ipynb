{
 "cells": [
  {
   "cell_type": "markdown",
   "id": "28ea9d8e-dbd8-4df5-8d80-bfaa122a1fec",
   "metadata": {
    "collapsed": false,
    "name": "cell28"
   },
   "source": [
    "# 🚀 Snowflake AISQL for CPG Promotion Management\n",
    "#### 📊 Unlocking ROI from Promotions with Next-Gen Insights\n",
    "\n",
    "---\n",
    "\n",
    "## 🎯 Introduction\n",
    "\n",
    "## 💡 Why Promotion Management Needs a Rethink\n",
    "\n",
    "Consumer Packaged Goods (CPG) brands spend **up to 20% of gross revenue on trade promotions**—but over **50% of promotions fail to deliver positive ROI**.\n",
    "\n",
    "**Why?**\n",
    "- 💡 Most root causes are buried in **unstructured data**: shelf photos, field rep notes, and customer feedback from social posts, surveys, and reviews.\n",
    "- 💡 Siloed, delayed analysis leads to **wasted spend, compliance misses, and lost sales**.\n",
    "\n",
    "### 🔍 The Opportunity with Snowflake AISQL\n",
    "\n",
    "Snowflake’s **AISQL** opens up new ways to extract, aggregate, and act on insights hidden in text, images, and external feeds, all from your data cloud.\n"
   ]
  },
  {
   "cell_type": "markdown",
   "id": "7b5aade2-433d-4f2f-aaca-23c97be2aad0",
   "metadata": {
    "collapsed": false,
    "name": "cell1"
   },
   "source": [
    "## ✅ In this Notebook we will Extract Insights from Customer Feedback\n",
    "\n",
    "* Create synthetic tables for promotions and feedback.\n",
    "* Filter feedback to keep only promotion‑related comments using `AI_FILTER`.\n",
    "* Classify feedback into categories (praise, complaint, suggestion or spam) with `AI_CLASSIFY`.\n",
    "* Analyse sentiment across specific aspects (price, quality, brand perception, redemption and shipping) using `AI_SENTIMENT`.\n",
    "* Summarise feedback per promotion with `AI_AGG`.\n",
    "* Extract targeted answers from feedback using `SNOWFLAKE.CORTEX.EXTRACT_ANSWER`.\n",
    "* Generate improved promotional copy with `AI_COMPLETE`.\n",
    "* Classify promotions by discount type using `AI_CLASSIFY`.\n",
    "\n",
    "Cells prefixed with `--` contain SQL statements that can be run in Snowflake\n",
    "Notebooks (Warehouse Runtime).  Markdown cells explain the purpose of each step.\n"
   ]
  },
  {
   "cell_type": "markdown",
   "id": "72152a62-cdb6-456e-a429-9bfc7636a6f5",
   "metadata": {
    "collapsed": false,
    "name": "cell2"
   },
   "source": [
    "## 🚀 1  Create tables and insert synthetic data\n",
    "\n",
    "To make this demo feel realistic, we simulate a variety of **promotion‑related data sources** for a consumer‑goods retailer.  We will create and populate four tables:\n",
    "\n",
    "* 💡 **PROMOTIONS** – each row is a promotional campaign with descriptive fields like name, product category, channel (email, app, Instagram), discount type (percentage, BOGO, bundle, clearance, loyalty) and start/end dates.\n",
    "* 💡 **FEEDBACK** – free‑form customer comments linked to a promotion.  These could come from post‑purchase surveys, app reviews or email responses.  They include praise, complaints, suggestions and spam.\n",
    "* 💡 **SOCIAL_POSTS** – public social media posts captured by listening tools.  These include remarks about our promotions **and competitor promotions**, as well as unrelated chatter.\n",
    "* 💡 **CALLER_NOTES** – excerpts from call center notes capturing longer, more nuanced feedback.\n",
    "\n",
    "We load these tables with **synthetic data** that intentionally varies tone, mentions coupon codes and refers to competitor offers.  This variety allows us to showcase the capabilities of each AISQL function in a retail context.\n"
   ]
  },
  {
   "cell_type": "code",
   "execution_count": null,
   "id": "2c941320-0599-440f-b3de-7257ad66960c",
   "metadata": {
    "codeCollapsed": true,
    "collapsed": true,
    "language": "sql",
    "name": "cell3"
   },
   "outputs": [],
   "source": [
    "-- Create tables\n",
    "CREATE OR REPLACE TABLE PROMOTIONS (\n",
    "  promo_id         INT AUTOINCREMENT,\n",
    "  name             STRING,\n",
    "  description      STRING,\n",
    "  product_category STRING,\n",
    "  channel          STRING,\n",
    "  discount_type    STRING,\n",
    "  discount_value   NUMERIC,\n",
    "  start_date       DATE,\n",
    "  end_date         DATE\n",
    ");\n",
    "\n",
    "CREATE OR REPLACE TABLE FEEDBACK (\n",
    "  feedback_id    INT AUTOINCREMENT,\n",
    "  promo_id       INT,\n",
    "  channel        STRING,\n",
    "  feedback_txt   STRING,\n",
    "  created_at     TIMESTAMP\n",
    ");\n"
   ]
  },
  {
   "cell_type": "code",
   "execution_count": null,
   "id": "27ff9afe-20d1-436e-9bfd-83ae5a30c65b",
   "metadata": {
    "codeCollapsed": true,
    "collapsed": true,
    "language": "sql",
    "name": "cell4"
   },
   "outputs": [],
   "source": [
    "-- Insert synthetic promotions\n",
    "INSERT INTO PROMOTIONS (name, description, product_category, channel, discount_type, discount_value, start_date, end_date) VALUES\n",
    "('Organic Coffee Sale', '20% off organic coffee', 'beverages', 'email', 'percent', 20, '2025-07-01', '2025-07-15'),\n",
    "('Laundry Pods BOGO', 'Buy 2 Get 1 Free on eco-friendly laundry pods', 'household', 'instagram', 'bogo', NULL, '2025-07-05', '2025-07-20'),\n",
    "('Skin Care Clearance', '50% off summer skin-care sets', 'personal care', 'push', 'clearance', 50, '2025-07-10', '2025-07-30'),\n",
    "('Loyalty Bonus Points', 'Earn 500 bonus points on purchases over $50', 'loyalty', 'app', 'loyalty', 500, '2025-07-01', '2025-07-31'),\n",
    "('Snack Bundle Deal', 'Buy 3 snacks and get 20% off fruit packs', 'snacks', 'website', 'bundle', 20, '2025-07-12', '2025-07-25');\n",
    "\n",
    "-- Insert synthetic feedback\n",
    "INSERT INTO FEEDBACK (promo_id, channel, feedback_txt, created_at) VALUES\n",
    "-- Feedback for Organic Coffee Sale (promo_id=1)\n",
    "(1, 'social', 'Loved the 20% coffee discount! Great taste, but the code didn''t work at first.', CURRENT_TIMESTAMP),\n",
    "(1, 'email',  'Is the 20% coffee discount valid in store as well?', CURRENT_TIMESTAMP),\n",
    "(1, 'social', 'Had to call support because the coffee coupon code \"COFFEE20\" kept failing.', CURRENT_TIMESTAMP),\n",
    "(1, 'social', 'The coffee sale is decent but competitor''s 25% off is better.', CURRENT_TIMESTAMP),\n",
    "(1, 'app',   'The organic coffee tastes great but the bag was half empty.', CURRENT_TIMESTAMP),\n",
    "(1, 'social', 'Would love a bigger discount on the coffee sale next time.', CURRENT_TIMESTAMP),\n",
    "(1, 'social', 'The 20% coffee discount helped me try new flavors; loved it!', CURRENT_TIMESTAMP),\n",
    "(1, 'support', 'Customer support quickly fixed my COFFEE20 code issue.', CURRENT_TIMESTAMP),\n",
    "\n",
    "-- Feedback for Laundry Pods BOGO (promo_id=2)\n",
    "(2, 'social', 'Your BOGO on laundry pods saved me money. Please extend the sale.', CURRENT_TIMESTAMP),\n",
    "(2, 'social', 'The buy-one-get-one laundry promo didn''t apply at checkout. Very frustrating.', CURRENT_TIMESTAMP),\n",
    "(2, 'instagram', 'Thanks for the eco-friendly laundry pods BOGO! Smells amazing.', CURRENT_TIMESTAMP),\n",
    "(2, 'email', 'Happy with BOGO laundry pods but shipping took too long.', CURRENT_TIMESTAMP),\n",
    "(2, 'support', 'Customer service helped me redeem the BOGO after the code didn''t work.', CURRENT_TIMESTAMP),\n",
    "(2, 'social', 'The pods leave residue; nothing to do with promotions though.', CURRENT_TIMESTAMP),\n",
    "(2, 'social', 'Wish the BOGO applied to the lavender-scented pods too.', CURRENT_TIMESTAMP),\n",
    "(2, 'app', 'App kept freezing when I tried to apply the BOGO; please fix.', CURRENT_TIMESTAMP),\n",
    "(2, 'social', 'Laundry pod fragrance too strong; no BOGO could make me buy again.', CURRENT_TIMESTAMP),\n",
    "\n",
    "-- Feedback for Skin Care Clearance (promo_id=3)\n",
    "(3, 'push', '50% off skin care sets is an amazing deal! Can''t wait to try the brand''s new moisturizer.', CURRENT_TIMESTAMP),\n",
    "(3, 'push', 'The clearance sale had limited stock and shipping was slow.', CURRENT_TIMESTAMP),\n",
    "(3, 'push', 'Stop sending me push notifications about skin care deals.', CURRENT_TIMESTAMP),\n",
    "(3, 'push', 'Love the summer clearance sale! Please restock sunscreen.', CURRENT_TIMESTAMP),\n",
    "(3, 'push', 'The skin care discount is great, but packaging arrived damaged.', CURRENT_TIMESTAMP),\n",
    "(3, 'email', 'Why is the skin care sale only online? Love the products though.', CURRENT_TIMESTAMP),\n",
    "(3, 'social', 'The moisturizer is oily; not happy even at 50% off.', CURRENT_TIMESTAMP),\n",
    "(3, 'email', 'Thanks for the 50% off; I purchased two sets and got an extra sample.', CURRENT_TIMESTAMP),\n",
    "\n",
    "-- Feedback for Loyalty Bonus Points (promo_id=4)\n",
    "(4, 'app', 'Earned 500 bonus points! Love the loyalty program.', CURRENT_TIMESTAMP),\n",
    "(4, 'app', 'Why is the app so buggy when I try to get my bonus points?', CURRENT_TIMESTAMP),\n",
    "(4, 'app', 'The loyalty program is a scam, my points expired too soon.', CURRENT_TIMESTAMP),\n",
    "(4, 'social', 'I like the loyalty program but the bonus points expired too soon.', CURRENT_TIMESTAMP),\n",
    "(4, 'email', 'Earning bonus points feels rewarding; love the loyalty program.', CURRENT_TIMESTAMP),\n",
    "(4, 'social', 'My bonus points didn''t show up; had to contact support.', CURRENT_TIMESTAMP),\n",
    "(4, 'email', 'Can I transfer my loyalty points to a friend?', CURRENT_TIMESTAMP),\n",
    "\n",
    "-- Feedback for Snack Bundle Deal (promo_id=5)\n",
    "(5, 'website', 'The snack bundle discount is confusing. How do I redeem it?', CURRENT_TIMESTAMP),\n",
    "(5, 'website', 'Great snack bundle! My kids loved the variety.', CURRENT_TIMESTAMP),\n",
    "(5, 'website', 'Your snack bundle discount should include vegan options.', CURRENT_TIMESTAMP),\n",
    "(5, 'social', 'I got the snack bundle but shipping cost was more than the discount.', CURRENT_TIMESTAMP),\n",
    "(5, 'app', 'The snack bundle offer encourages me to buy more fruits; love it!', CURRENT_TIMESTAMP),\n",
    "(5, 'social', 'Bundle discount should combine with other coupons.', CURRENT_TIMESTAMP),\n",
    "(5, 'email', 'Is the snack bundle deal available in store? I prefer shopping there.', CURRENT_TIMESTAMP),\n",
    "\n",
    "-- General or spam feedback (promo_id=NULL)\n",
    "(NULL, 'social', 'Spam message: Click here for free gift cards.', CURRENT_TIMESTAMP),\n",
    "(NULL, 'social', 'This is irrelevant spam about real estate.', CURRENT_TIMESTAMP),\n",
    "(NULL, 'social', 'Will there be a discount on pet food soon?', CURRENT_TIMESTAMP),\n",
    "(NULL, 'social', 'I don''t care about promotions, just show me new products.', CURRENT_TIMESTAMP),\n",
    "(NULL, 'social', 'The packaging on my order was damaged even though I used no promo.', CURRENT_TIMESTAMP),\n",
    "(NULL, 'email', 'Great customer service, but I wish for more organic options.', CURRENT_TIMESTAMP),\n",
    "(NULL, 'app', 'The app is slow and buggy; please fix.', CURRENT_TIMESTAMP),\n",
    "(NULL, 'social', 'Competitor BrandY has free shipping on snacks; consider matching.', CURRENT_TIMESTAMP),\n",
    "(NULL, 'social', 'Just leaving a review for your new almond milk—no promo used.', CURRENT_TIMESTAMP),\n",
    "(NULL, 'email', 'My order arrived late but customer service compensated me; no promo involvement.', CURRENT_TIMESTAMP),\n",
    "(NULL, 'app', 'I can never find nutrition info easily in the app.', CURRENT_TIMESTAMP),\n",
    "(NULL, 'social', 'Competitor Z has a free gift with purchase—curious if you plan a similar promo.', CURRENT_TIMESTAMP),\n",
    "(NULL, 'social', 'Stop spamming my inbox with promotions; I''m not interested.', CURRENT_TIMESTAMP),\n",
    "(NULL, 'social', 'The website search is slow; please improve user experience.', CURRENT_TIMESTAMP),\n",
    "(NULL, 'social', 'Please bring back the free shipping promotion from last year.', CURRENT_TIMESTAMP),\n",
    "(NULL, 'app', 'Love the new dark mode in the app.', CURRENT_TIMESTAMP);"
   ]
  },
  {
   "cell_type": "code",
   "execution_count": null,
   "id": "9d8c268a-e59b-4451-b2b2-4c2ebd652cac",
   "metadata": {
    "codeCollapsed": true,
    "collapsed": true,
    "language": "sql",
    "name": "cell5"
   },
   "outputs": [],
   "source": [
    "-- Create social_posts table and insert synthetic posts\n",
    "CREATE OR REPLACE TABLE SOCIAL_POSTS (\n",
    "  post_id INT AUTOINCREMENT,\n",
    "  channel STRING,\n",
    "  content STRING,\n",
    "  created_at TIMESTAMP\n",
    ");\n",
    "\n",
    "INSERT INTO SOCIAL_POSTS (channel, content, created_at) VALUES\n",
    "('social', 'Loving the 20% off organic coffee! Anyone else tried it?', CURRENT_TIMESTAMP),\n",
    "('social', 'The BOGO laundry pods deal saved me so much money this week.', CURRENT_TIMESTAMP),\n",
    "('social', 'Skin care clearance sale is legit 50% off – hurry!', CURRENT_TIMESTAMP),\n",
    "('social', 'Loved the 20% coffee sale but shipping costs were high.', CURRENT_TIMESTAMP),\n",
    "('social', 'BrandX just announced 25% off coffee pods – should I switch?', CURRENT_TIMESTAMP),\n",
    "('social', 'Saw a competitor offering buy one snack, get one free on chips.', CURRENT_TIMESTAMP),\n",
    "('social', 'Competitor coffee sale beats this by a mile.', CURRENT_TIMESTAMP),\n",
    "('social', 'Competitor BrandY offers free shipping on all snack orders this week.', CURRENT_TIMESTAMP),\n",
    "('social', 'Just bought a new espresso machine. Any bean recommendations?', CURRENT_TIMESTAMP),\n",
    "('social', 'Just tried the new laundry pods; the scent is amazing!', CURRENT_TIMESTAMP),\n",
    "('social', 'Why is the loyalty app so slow during checkout?', CURRENT_TIMESTAMP),\n",
    "('social', 'Coffee sale is great but the coupon code didn''t work on the mobile site.', CURRENT_TIMESTAMP),\n",
    "('social', 'I prefer competitor BrandZ’s coffee; their discount is better.', CURRENT_TIMESTAMP),\n",
    "('social', 'Anyone know if the laundry pod BOGO applies in-store?', CURRENT_TIMESTAMP),\n",
    "('social', 'The clearance sale on skin care items made my day!', CURRENT_TIMESTAMP),\n",
    "('social', 'Why so many clearance emails? I got three today.', CURRENT_TIMESTAMP),\n",
    "('social', 'Just unboxed my snack bundle—kudos on the sustainable packaging.', CURRENT_TIMESTAMP),\n",
    "('social', 'Competitor Y is offering 30% off snacks; tempted to switch.', CURRENT_TIMESTAMP),\n",
    "('social', 'Love the bonus points on purchases over $50; I got 600 points last week!', CURRENT_TIMESTAMP),\n",
    "('social', 'How do I redeem my loyalty bonus points at checkout?', CURRENT_TIMESTAMP),\n",
    "('social', 'Shipping took ages for my last order. No discount could make up for it.', CURRENT_TIMESTAMP),\n",
    "('social', 'My friend got a coupon but I didn’t—how do you qualify?', CURRENT_TIMESTAMP),\n",
    "('social', 'I spotted your coffee promotion on TikTok; looks fun!', CURRENT_TIMESTAMP),\n",
    "('social', 'The new app update crashed while I was browsing deals.', CURRENT_TIMESTAMP),\n",
    "('social', 'Competitor Q just launched a BOGO on energy drinks.', CURRENT_TIMESTAMP),\n",
    "('social', 'Why isn’t there a promotion on pet food?', CURRENT_TIMESTAMP),\n",
    "('social', 'Got free shipping on my snack bundle—thanks!', CURRENT_TIMESTAMP),\n",
    "('social', 'Coffee pods arrived broken. Really disappointed.', CURRENT_TIMESTAMP),\n",
    "('social', 'Looking forward to next week’s promotion—any hints?', CURRENT_TIMESTAMP),\n",
    "('social', 'Just saw an influencer talk about your skin care sale; had to buy.', CURRENT_TIMESTAMP),\n",
    "('social', 'Competitor’s loyalty program gives triple points this month.', CURRENT_TIMESTAMP),\n",
    "('social', 'No discount but the quality of the coffee is worth it.', CURRENT_TIMESTAMP),\n",
    "('social', 'BOGO deals always make me spend more than I planned!', CURRENT_TIMESTAMP),\n",
    "('social', 'Wishlist: bundle discount on cleaning products.', CURRENT_TIMESTAMP),\n",
    "('social', 'The buy-more-save-more promotion on snacks was confusing.', CURRENT_TIMESTAMP),\n",
    "('social', 'Just received a push notification for 20% off coffee pods; nice!', CURRENT_TIMESTAMP),\n",
    "('social', 'Shipping fee negated my savings from the coupon.', CURRENT_TIMESTAMP),\n",
    "('social', 'Competitor has free shipping plus 20% off this weekend.', CURRENT_TIMESTAMP),\n",
    "('social', 'Why not run promotions on organic teas?', CURRENT_TIMESTAMP),\n",
    "('social', 'I don’t care about promotions; I want faster restocks.', CURRENT_TIMESTAMP),\n",
    "('social', 'Just tried the new loyalty app; smooth and responsive now!', CURRENT_TIMESTAMP),\n",
    "('social', 'My order came with a thank-you note—nice touch.', CURRENT_TIMESTAMP),\n",
    "('social', 'First time hearing about your brand from a promotion; impressed.', CURRENT_TIMESTAMP),\n",
    "('social', 'Competitor’s promotion has fewer restrictions; easier to redeem.', CURRENT_TIMESTAMP),\n",
    "('social', 'More vegan options, please! Promotions or not, that’s important.', CURRENT_TIMESTAMP),\n",
    "('social', 'Waited on hold 20 minutes for support about a promo code.', CURRENT_TIMESTAMP),\n",
    "('social', 'Is the BOGO still active? I can’t find it on the site.', CURRENT_TIMESTAMP),\n",
    "('social', 'Love your environmental messaging in the coffee sale campaign.', CURRENT_TIMESTAMP),\n",
    "('social', 'Got an extra sample in my skin care order; love freebies.', CURRENT_TIMESTAMP),\n",
    "('social', 'Competitor brand''s sale ended early. Hope yours lasts longer.', CURRENT_TIMESTAMP);\n",
    "\n",
    "-- Create caller_notes table and insert synthetic transcripts\n",
    "CREATE OR REPLACE TABLE CALLER_NOTES (\n",
    "  call_id INT AUTOINCREMENT,\n",
    "  note STRING\n",
    ");\n",
    "\n",
    "INSERT INTO CALLER_NOTES (note) VALUES\n",
    "('Customer called about the coffee discount code COFFEE20 not working at checkout and asked for assistance.'),\n",
    "('Caller complained that the laundry pods promotion did not apply and shipping was delayed.'),\n",
    "('Customer praised the skin care clearance but mentioned damaged packaging and slow delivery.'),\n",
    "('Caller asked whether competitor BrandX has a better coffee promotion than ours.'),\n",
    "('Customer expressed confusion about the snack bundle redemption process and asked for clarification.'),\n",
    "('Random call: a wrong number, unrelated to promotions.'),\n",
    "('Customer liked the coffee sale but reported that the bag arrived half empty.'),\n",
    "('Caller praised the loyalty program but was upset that bonus points expired before they could use them.'),\n",
    "('Customer mentioned that competitor BrandY offers free shipping on snacks and asked if we plan to match it.'),\n",
    "('Caller asked how to combine the snack bundle discount with free shipping.'),\n",
    "('Customer praised the organic coffee but said the bag was only half full.'),\n",
    "('Customer reported that the loyalty app crashed during checkout.'),\n",
    "('Caller wanted to know when the next skin care sale will be.'),\n",
    "('Customer complained about late delivery despite paying for expedited shipping.'),\n",
    "('Customer asked if COFFEE20 works on decaf beans.'),\n",
    "('Caller was satisfied with support helping them redeem the laundry pods BOGO.'),\n",
    "('Customer wanted to exchange damaged laundry pods received during the promotion.'),\n",
    "('Caller mentioned competitor BrandX offering a better BOGO on laundry pods.'),\n",
    "('Customer was annoyed that the coupon was only valid online.'),\n",
    "('Caller said the push notifications are too frequent and distracting.'),\n",
    "('Customer noted that the discount didn’t apply due to product exclusions.'),\n",
    "('Caller appreciated the free sample included with their skin care purchase.'),\n",
    "('Customer asked whether loyalty points can be used with promotions.'),\n",
    "('Customer said the coffee tasted burnt and wanted a refund.'),\n",
    "('Caller asked about vegan options in upcoming promotions.'),\n",
    "('Customer reported receiving duplicate orders by mistake during the sale.'),\n",
    "('Caller mentioned their friend got a larger discount for the same product.'),\n",
    "('Customer thanked the team for extending the promotion period.'),\n",
    "('Caller wanted to know if competitor’s free shipping would be matched.'),\n",
    "('Customer suggested a “mix and match” bundle promotion.'),\n",
    "('Caller was confused about how points are calculated in the loyalty program.'),\n",
    "('Customer complained about the lack of promotions on baby products.'),\n",
    "('Caller asked if their expired points could be reinstated.'),\n",
    "('Customer wanted to know when the next BOGO will be.'),\n",
    "('Caller loved the eco-friendly packaging but wanted more discount.'),\n",
    "('Customer reported that the discount code leaked before the official launch.'),\n",
    "('Caller complained that the website crashed on sale day.'),\n",
    "('Customer asked if there was a limit on the number of promo codes per order.'),\n",
    "('Caller inquired about combining the clearance sale with loyalty points.'),\n",
    "('Customer said competitor offers a gift-with-purchase for the same product.'),\n",
    "('Caller asked if shipping fees are waived during promotions.'),\n",
    "('Customer noted that the app still showed an expired promotion.'),\n",
    "('Caller appreciated the clear communication about promotion start and end dates.'),\n",
    "('Customer said the skin care product caused irritation and sought a return.'),\n",
    "('Caller asked for a price match with competitor BrandZ’s promotion.'),\n",
    "('Customer shared that they prefer shopping in-store during promotions for instant gratification.'),\n",
    "('Caller asked how to opt out of promotional emails.'),\n",
    "('Customer wanted information about upcoming holiday promotions.'),\n",
    "('Caller said the checkout cart removed the discount when adding another item.'),\n",
    "('Customer shared positive feedback about the customer service representative who resolved their promo issue.');\n"
   ]
  },
  {
   "cell_type": "markdown",
   "id": "f59aad31-b9f5-4477-a8d6-fb2675892a7b",
   "metadata": {
    "name": "cell6"
   },
   "source": [
    "## 📊 2  Filter promotion‑related feedback with `AI_FILTER`\n",
    "\n",
    "Our customers speak about many topics – not all of them are relevant to marketing promotions.  To focus our analysis, we use **AI_FILTER** to answer the question:\n",
    "\n",
    "> *“Does this comment mention a promotion, coupon, discount code, deal, offer, sale or bundle?”*\n",
    "\n",
    "The function returns `TRUE` or `FALSE` for each feedback record.  We create a view **PROMO_FEEDBACK** containing only rows that mention promotions.  Inspecting this view helps us verify that irrelevant comments (e.g., requests for new products) have been removed.\n"
   ]
  },
  {
   "cell_type": "code",
   "execution_count": null,
   "id": "2c300498-13f1-4975-aa90-0a90f40c5f22",
   "metadata": {
    "language": "sql",
    "name": "cell7"
   },
   "outputs": [],
   "source": [
    "-- Create a view of promotion-related feedback using AI_FILTER\n",
    "CREATE OR REPLACE VIEW PROMO_FEEDBACK AS\n",
    "SELECT *\n",
    "FROM FEEDBACK\n",
    "WHERE AI_FILTER(\n",
    "  PROMPT('In the following text, does the customer mention a promotion, coupon, discount code, deal, offer, sale or bundle? Text: {0}', feedback_txt)\n",
    ");\n",
    "\n",
    "-- Inspect the filtered promo feedback\n",
    "SELECT * FROM PROMO_FEEDBACK ORDER BY feedback_id;"
   ]
  },
  {
   "cell_type": "markdown",
   "id": "9838aead-c07c-486c-8940-b286fc7737f0",
   "metadata": {
    "name": "cell8"
   },
   "source": [
    "## 🎯 3  Remove spam and unrelated comments using `AI_FILTER`\n",
    "\n",
    "Even within promotion‑related feedback, there may be **spam** or unrelated content that can skew our analysis.  We ask the model another question:\n",
    "\n",
    "> *“Is this comment spam, unrelated to retail promotions, or does it mention real estate, gift cards or other scams?”*\n",
    "\n",
    "Comments returning `TRUE` to this predicate are excluded in a cleaned view **PROMO_FEEDBACK_CLEAN**.  This step ensures that downstream classifications and sentiment analysis focus on genuine customer feedback.\n"
   ]
  },
  {
   "cell_type": "code",
   "execution_count": null,
   "id": "5959a7ee-8166-44ce-8206-15f591cf9d4b",
   "metadata": {
    "language": "sql",
    "name": "cell9"
   },
   "outputs": [],
   "source": [
    "-- Create a view that removes obvious spam or irrelevant comments\n",
    "CREATE OR REPLACE VIEW PROMO_FEEDBACK_CLEAN AS\n",
    "SELECT *\n",
    "FROM PROMO_FEEDBACK\n",
    "WHERE NOT AI_FILTER(\n",
    "  PROMPT('Return TRUE if the comment is spam, unrelated to retail promotions or mentions real estate, gift cards or other scams. Comment: {0}', feedback_txt)\n",
    ");\n",
    "\n",
    "-- Inspect the cleaned promo feedback\n",
    "SELECT *\n",
    "FROM PROMO_FEEDBACK_CLEAN\n",
    "ORDER BY feedback_id;"
   ]
  },
  {
   "cell_type": "markdown",
   "id": "0ceb2279-2b91-43de-86ed-787a670dd72c",
   "metadata": {
    "collapsed": false,
    "name": "cell10"
   },
   "source": [
    "## 💡 4  Classify feedback categories with `AI_CLASSIFY`\n",
    "\n",
    "Not all feedback is created equal.  Classifying comments into categories enables targeted action.  We use **AI_CLASSIFY** to label each cleaned comment as one or more of **praise**, **complaint**, **suggestion** or **spam**.  The `output_mode` is set to *multi*, allowing a single comment to be both a complaint and a suggestion.  This categorisation helps marketing teams quickly identify praise to amplify and complaints to address.\n"
   ]
  },
  {
   "cell_type": "code",
   "execution_count": null,
   "id": "db87ec7b-20f0-43ce-a878-3c8ac8e095fd",
   "metadata": {
    "language": "sql",
    "name": "cell11"
   },
   "outputs": [],
   "source": [
    "SELECT feedback_id,\n",
    "       AI_CLASSIFY(\n",
    "         feedback_txt,\n",
    "         ['praise','complaint','suggestion','spam'],\n",
    "         {\n",
    "           'task_description': 'Categorize the retail promotion feedback as praise, complaint, suggestion or spam. Some comments may belong to multiple categories.',\n",
    "           'output_mode': 'multi'\n",
    "         }\n",
    "       ):labels AS category,\n",
    "       feedback_txt\n",
    "FROM PROMO_FEEDBACK_CLEAN\n",
    "ORDER BY feedback_id;"
   ]
  },
  {
   "cell_type": "markdown",
   "id": "a38605df-6d04-48be-ba72-f163c828672f",
   "metadata": {
    "name": "cell12"
   },
   "source": [
    "## 🔍 5  Analyse sentiment across key aspects with `AI_SENTIMENT`\n",
    "\n",
    "Customers may love the product but hate the checkout experience.  To capture this nuance, **AI_SENTIMENT** provides both an **overall sentiment** and aspect‑specific sentiments.  We evaluate five aspects relevant to promotions in retail:\n",
    "\n",
    "* 💡 **price** – Was the discount compelling?\n",
    "* 💡 **quality** – Did the product meet expectations?\n",
    "* 💡 **brand** – How do customers feel about the brand?\n",
    "* 💡 **redemption** – Did coupon codes work smoothly?\n",
    "* 💡 **shipping** – Were delivery times and logistics acceptable?\n",
    "\n",
    "The returned JSON object tells us whether each aspect is positive, negative, neutral, mixed or unknown, enabling data‑driven prioritisation of improvements.\n"
   ]
  },
  {
   "cell_type": "code",
   "execution_count": null,
   "id": "24daeb52-df44-4bd2-8050-064796b471a4",
   "metadata": {
    "language": "sql",
    "name": "cell13"
   },
   "outputs": [],
   "source": [
    "SELECT feedback_id,\n",
    "       AI_SENTIMENT(\n",
    "         feedback_txt,\n",
    "         ['price','quality','brand','redemption','shipping']\n",
    "       ) AS sentiment,\n",
    "       feedback_txt\n",
    "FROM PROMO_FEEDBACK_CLEAN\n",
    "ORDER BY feedback_id;"
   ]
  },
  {
   "cell_type": "markdown",
   "id": "47a7cb90-76be-45e5-9cda-4f119e555781",
   "metadata": {
    "name": "cell14"
   },
   "source": [
    "## ✅ 6  Summarise feedback per promotion using `AI_AGG`\n",
    "\n",
    "Reading through individual comments doesn’t scale.  With **AI_AGG**, we summarise dozens of feedback rows into a concise paragraph per promotion.  The task description instructs the model to highlight key positives and negatives in under 120 words, focusing on price, quality, redemption and shipping.  This provides decision‑makers with an executive summary of each campaign’s reception.\n"
   ]
  },
  {
   "cell_type": "code",
   "execution_count": null,
   "id": "1236e9c7-97df-4e3d-b84e-a367e9d582d8",
   "metadata": {
    "language": "sql",
    "name": "cell15"
   },
   "outputs": [],
   "source": [
    "SELECT promo_id,\n",
    "       AI_AGG(feedback_txt,\n",
    "              'Summarize key positives and negatives in <=120 words for the promotion feedback provided. Focus on price, quality, redemption and shipping experiences.'\n",
    "       ) AS summary\n",
    "FROM PROMO_FEEDBACK_CLEAN\n",
    "GROUP BY promo_id\n",
    "ORDER BY promo_id;"
   ]
  },
  {
   "cell_type": "markdown",
   "id": "31ac6d0d-64a0-4c0b-858d-bccb6a390d68",
   "metadata": {
    "name": "cell16"
   },
   "source": [
    "## 🚀 7  Extract coupon codes and other details with `SNOWFLAKE.CORTEX.EXTRACT_ANSWER`\n",
    "\n",
    "Sometimes we need to pull out a specific piece of information from unstructured text.  **EXTRACT_ANSWER** allows us to ask targeted questions like:\n",
    "\n",
    "> *“What coupon or discount code is mentioned in this feedback?”*\n",
    "\n",
    "The function returns the answer as a string.  You could extend this pattern to extract quantities purchased, competitor names or other facts, turning messy comments into structured columns.\n"
   ]
  },
  {
   "cell_type": "code",
   "execution_count": null,
   "id": "1f573d2b-f8ad-45b7-8020-9365a58abded",
   "metadata": {
    "language": "sql",
    "name": "cell17"
   },
   "outputs": [],
   "source": [
    "SELECT feedback_id,\n",
    "       SNOWFLAKE.CORTEX.EXTRACT_ANSWER(\n",
    "         feedback_txt,\n",
    "         'What coupon or discount code is mentioned in this feedback?'\n",
    "       ) AS code_mentioned,\n",
    "       feedback_txt\n",
    "FROM PROMO_FEEDBACK_CLEAN\n",
    "ORDER BY feedback_id;"
   ]
  },
  {
   "cell_type": "markdown",
   "id": "e7c2845a-3c36-4cb9-93c8-ee499c76ec55",
   "metadata": {
    "name": "cell18"
   },
   "source": [
    "## 📊 8  Generate improved promotional copy with `AI_COMPLETE`\n",
    "\n",
    "After analysing feedback, marketers might decide to refresh a campaign.  **AI_COMPLETE** leverages Snowflake’s LLM to draft new marketing copy directly from SQL.  In this demo we ask for a playful, 25‑word Instagram caption promoting our eco‑friendly laundry pods BOGO offer.  You can experiment with tone (`temperature`), length (`max_tokens`) and even output structured JSON for taglines or call‑to‑action suggestions.\n"
   ]
  },
  {
   "cell_type": "code",
   "execution_count": null,
   "id": "ab7da4cb-0c6c-44eb-b8e7-a7411148232c",
   "metadata": {
    "language": "sql",
    "name": "cell19"
   },
   "outputs": [],
   "source": [
    "SELECT AI_COMPLETE(\n",
    "  model  => 'claude-4-sonnet',\n",
    "  prompt => 'Write a concise 25-word Instagram caption promoting our eco-friendly laundry pods BOGO. Use a playful tone and highlight sustainability.',\n",
    "  model_parameters => {\n",
    "    'temperature': 0.7,\n",
    "    'max_tokens': 60\n",
    "  }\n",
    ");\n"
   ]
  },
  {
   "cell_type": "markdown",
   "id": "39b3f551-36d9-40da-9863-632a5fe2f7eb",
   "metadata": {
    "name": "cell20"
   },
   "source": [
    "## 🎯 9  Detect competitor promotions with `AI_FILTER`\n",
    "\n",
    "Competitor activity can quickly erode the impact of your campaign.  By scanning **SOCIAL_POSTS** with **AI_FILTER**, we flag posts where customers mention a **competitor promotion** for coffee or snacks.  This proactive monitoring helps the marketing team decide whether to respond, match or differentiate against rival offers.\n"
   ]
  },
  {
   "cell_type": "code",
   "execution_count": null,
   "id": "2a2b8c6a-f9f2-410a-a14f-c256c59ba4f3",
   "metadata": {
    "language": "sql",
    "name": "cell21"
   },
   "outputs": [],
   "source": [
    "SELECT post_id, content\n",
    "FROM SOCIAL_POSTS\n",
    "WHERE AI_FILTER(\n",
    "  PROMPT('Does this social media post explicitly mention any specific competitor companies, brands, or products by name? Content: {0}', content)\n",
    ");"
   ]
  },
  {
   "cell_type": "markdown",
   "id": "855e24ef-1435-4188-bd6f-03b165bc0fb7",
   "metadata": {
    "collapsed": false,
    "name": "cell22"
   },
   "source": [
    "## 💡 10  Aggregate themes across call notes with `AI_AGG`\n",
    "\n",
    "Longer form feedback from call center notes often reveal recurring pain points that short comments miss.  We use **AI_AGG** on **CALL_NOTES** with a task description:\n",
    "\n",
    "> *“Identify common issues across these notes and summarise as bullet points.”*\n",
    "\n",
    "The result groups together themes such as “discount code failures” or “shipping delays” so that operations teams can prioritise fixes.\n"
   ]
  },
  {
   "cell_type": "code",
   "execution_count": null,
   "id": "c456364f-9e3b-43cf-b688-e1d79745a07a",
   "metadata": {
    "language": "sql",
    "name": "cell23"
   },
   "outputs": [],
   "source": [
    "SELECT AI_AGG(\n",
    "        'Field note: ' || note,\n",
    "        'Identify common issues across these notes and summarise as bullet points'\n",
    "    ) AS aggregated_themes\n",
    "FROM CALLER_NOTES;"
   ]
  },
  {
   "cell_type": "code",
   "execution_count": null,
   "id": "bfb57188-37e6-4cc2-b8b2-27876ff28e4a",
   "metadata": {
    "language": "sql",
    "name": "cell27"
   },
   "outputs": [],
   "source": [
    "SELECT AI_AGG(\n",
    "    'Field note: ' || note,\n",
    "    'Analyze these customer service notes and categorize the main issues into themes. For each theme, provide: 1) A brief description of the problem, 2) How frequently it occurs, and 3) The potential business impact. Focus on operational issues, technical problems, competitive concerns, and customer experience gaps that require attention.'\n",
    ") AS aggregated_themes\n",
    "FROM CALLER_NOTES;"
   ]
  },
  {
   "cell_type": "markdown",
   "id": "79d62ee6-0f1a-4c12-87d3-9063e1c8358f",
   "metadata": {
    "collapsed": false,
    "name": "cell24"
   },
   "source": [
    "## 🔍 11  Classify promotions by discount type with `AI_CLASSIFY`\n",
    "\n",
    "Here, we classify the **PROMOTIONS** table itself.  Using **AI_CLASSIFY**, we identify whether each campaign is a **percentage discount**, **BOGO**, **bundle**, **clearance** or **loyalty** offer.  This step illustrates that AISQL functions work on structured descriptions too, making it easier to catalogue and search campaigns.\n"
   ]
  },
  {
   "cell_type": "code",
   "execution_count": null,
   "id": "75ce719d-f65e-4b74-9931-d97d52a37cf6",
   "metadata": {
    "language": "sql",
    "name": "cell25"
   },
   "outputs": [],
   "source": [
    "SELECT promo_id,\n",
    "       AI_CLASSIFY(\n",
    "         description,\n",
    "         ['percentage discount','bogo','bundle','clearance','loyalty'],\n",
    "         {\n",
    "           'task_description': 'Identify the type of retail promotion from the description. Choose from percentage discount, bogo, bundle, clearance or loyalty.',\n",
    "           'output_mode': 'single'\n",
    "         }\n",
    "       ):labels AS promo_type,\n",
    "       description\n",
    "FROM PROMOTIONS\n",
    "ORDER BY promo_id;\n"
   ]
  },
  {
   "cell_type": "markdown",
   "id": "2faac58a-42a3-42b4-acb3-8910e7c69681",
   "metadata": {
    "collapsed": false,
    "name": "cell29"
   },
   "source": [
    "# 🚀 Conclusion: Turning Promo Data into Profitable Action\n",
    "\n",
    "By leveraging **Snowflake Cortex AISQL** functions directly inside a notebook, we've built a complete **promotion-management workflow** that covers:\n",
    "\n",
    "- 🧹  Cleaning and classifying feedback \n",
    "- 📊  Analyzing sentiment and summarizing insights\n",
    "- 🕵️‍♀️  Detecting competitor activity  \n",
    "- ✍️  Generating fresh marketing copy\n",
    "\n",
    "This demo illustrates how **retail and consumer goods teams** can harness the power of **large language models without ever leaving SQL**.  \n",
    "\n",
    "- ✅ Unlock hidden insights from images, field notes, and customer feedback —**without data engineering pipeline bottlenecks** \n",
    "- ✅ Boost promotion ROI, compliance, and agility \n",
    "- ✅ Move from reactive “post-mortem” to proactive, real-time promo optimization\n",
    "\n",
    "---\n",
    "\n",
    "## Next Steps:\n",
    "- 💡 Try these queries on your own data (or with the dummy set in this notebook)\n",
    "- 💡 Pilot a live promotion monitoring use case with your Snowflake team\n",
    "- 💡 For advanced AISQL adoption, reach out to your Snowflake rep or visit [Snowflake AISQL documentation](https://docs.snowflake.com/en/user-guide/snowflake-cortex/aisql)\n"
   ]
  }
 ],
 "metadata": {
  "language_info": {
   "name": "python"
  },
  "lastEditStatus": {
   "authorEmail": "rachel.hinkes@snowflake.com",
   "authorId": "468228976004",
   "authorName": "RHINKES",
   "lastEditTime": 1753893122573,
   "notebookId": "yrbtqbh6gvzopqdwoy56",
   "sessionId": "9080ed3b-7e1b-41ab-8d15-d264443bb003"
  }
 },
 "nbformat": 4,
 "nbformat_minor": 5
}
