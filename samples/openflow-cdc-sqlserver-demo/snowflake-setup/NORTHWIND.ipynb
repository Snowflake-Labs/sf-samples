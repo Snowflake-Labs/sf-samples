{
 "metadata": {
  "kernelspec": {
   "display_name": "Streamlit Notebook",
   "name": "streamlit"
  },
  "lastEditStatus": {
   "notebookId": "es2jbktopy6kwd26qlxv",
   "authorId": "486357994195",
   "authorName": "JPUCHALSKI",
   "authorEmail": "jakub.puchalski@snowflake.com",
   "sessionId": "5b0f0deb-6c42-44a4-ab6d-51e910a54664",
   "lastEditTime": 1747328555260
  }
 },
 "nbformat_minor": 5,
 "nbformat": 4,
 "cells": [
  {
   "cell_type": "code",
   "id": "3775908f-ca36-4846-8f38-5adca39217f2",
   "metadata": {
    "language": "python",
    "name": "cell1"
   },
   "source": "# Import python packages\nimport streamlit as st\nimport pandas as pd\nimport altair as alt\nimport snowflake.snowpark as snowpark\nfrom snowflake.snowpark.session import Session\n\n# We can also use Snowpark for our analyses!\nfrom snowflake.snowpark.context import get_active_session\nsession = get_active_session()",
   "execution_count": null,
   "outputs": []
  },
  {
   "cell_type": "code",
   "id": "3ab6dc0c-6341-4550-8535-2c2bb7c06b9f",
   "metadata": {
    "language": "sql",
    "name": "cell3"
   },
   "outputs": [],
   "source": "use database Northwind;\nuse schema \"dbo\";",
   "execution_count": null
  },
  {
   "cell_type": "code",
   "id": "de75d4d5-83a6-4a90-ba6c-6ae423d54a64",
   "metadata": {
    "language": "python",
    "name": "cell2",
    "codeCollapsed": false
   },
   "outputs": [],
   "source": "df_orders = session.sql(\"\"\"\n    SELECT CAST(\"OrderDate\" AS DATE) AS ORDERDATE, COUNT(*) AS ORDERCOUNT\n    FROM \"Orders\"\n    GROUP BY CAST(\"OrderDate\" AS DATE)\n    ORDER BY ORDERDATE\n\"\"\").to_pandas()\n\nst.altair_chart(\n    alt.Chart(df_orders).mark_line(point=True).encode(\n        x=alt.X(\"ORDERDATE:T\", title=\"Date\"),\n        y=alt.Y(\"ORDERCOUNT:Q\", title=\"Total Orders\")\n    ).properties(title=\"📦 Orders per Day\", width=700),\n    use_container_width=True\n)",
   "execution_count": null
  },
  {
   "cell_type": "code",
   "id": "cfc6deb6-dadd-44b2-9d4e-0175eae0aa8f",
   "metadata": {
    "language": "python",
    "name": "cell4"
   },
   "outputs": [],
   "source": "df_top_products = session.sql(\"\"\"\n    SELECT TOP 5 \"P\".\"ProductName\", SUM(\"OD\".\"Quantity\") AS \"TotalSold\"\n    FROM \"OrderDetails\" \"OD\"\n    JOIN \"Products\" \"P\" ON \"OD\".\"ProductID\" = \"P\".\"ProductID\"\n    GROUP BY \"P\".\"ProductName\"\n    ORDER BY \"TotalSold\" DESC\n\"\"\").to_pandas()\n\nst.altair_chart(\n    alt.Chart(df_top_products).mark_bar().encode(\n        x=alt.X(\"TotalSold:Q\", title=\"Units Sold\"),\n        y=alt.Y(\"ProductName:N\", sort='-x')\n    ).properties(title=\"🏆 Top 5 Selling Products\", width=700),\n    use_container_width=True\n)",
   "execution_count": null
  },
  {
   "cell_type": "code",
   "id": "4a041f20-2563-4a03-82a2-683b33872bb1",
   "metadata": {
    "language": "python",
    "name": "cell5"
   },
   "outputs": [],
   "source": "df_waffle = session.sql(\"\"\"\n    SELECT \"O\".\"OrderDate\", \"OD\".\"Quantity\"\n    FROM \"OrderDetails\" \"OD\"\n    JOIN \"Orders\" \"O\" ON \"OD\".\"OrderID\" = \"O\".\"OrderID\"\n    WHERE \"OD\".\"ProductID\" = 78\n    ORDER BY \"O\".\"OrderDate\"\n\"\"\").to_pandas()\n\nst.altair_chart(\n    alt.Chart(df_waffle).mark_bar().encode(\n        x=alt.X(\"OrderDate:T\", title=\"Date\"),\n        y=alt.Y(\"Quantity:Q\", title=\"Waffles Ordered\")\n    ).properties(title=\"🍫 Waffle Order Volume Over Time\", width=700),\n    use_container_width=True\n)",
   "execution_count": null
  },
  {
   "cell_type": "code",
   "id": "1760e450-9178-4872-9582-cae0bbc0ea79",
   "metadata": {
    "language": "python",
    "name": "cell6"
   },
   "outputs": [],
   "source": "df_stock = session.sql(\"\"\"\n    SELECT \"ProductName\", \"UnitsInStock\"\n    FROM \"Products\"\n    WHERE \"ProductID\" = 78\n\"\"\").to_pandas()\n\nst.metric(label=\"🧊 Waffles In Stock\", value=int(df_stock[\"UnitsInStock\"].iloc[0]))",
   "execution_count": null
  },
  {
   "cell_type": "code",
   "id": "8862f0b2-3de4-4b6f-b550-52deb81090d1",
   "metadata": {
    "language": "python",
    "name": "cell7"
   },
   "outputs": [],
   "source": "df_live = session.sql(\"\"\"\n    SELECT TOP 10 \n        \"O\".\"OrderID\", \n        \"O\".\"OrderDate\", \n        \"C\".\"CompanyName\", \n        \"P\".\"ProductName\", \n        \"OD\".\"Quantity\"\n    FROM \"OrderDetails\" \"OD\"\n    JOIN \"Orders\" \"O\" ON \"OD\".\"OrderID\" = \"O\".\"OrderID\"\n    JOIN \"Products\" \"P\" ON \"OD\".\"ProductID\" = \"P\".\"ProductID\"\n    JOIN \"Customers\" \"C\" ON \"O\".\"CustomerID\" = \"C\".\"CustomerID\"\n    WHERE \"O\".\"OrderDate\" >= DATEADD(MINUTE, -5, CURRENT_TIMESTAMP)\n    ORDER BY \"O\".\"OrderDate\" DESC\n\"\"\").to_pandas()\n\nst.dataframe(df_live, use_container_width=True)\n\nst.write(\"🔄 To update, simply re-run this cell to fetch new live orders.\")",
   "execution_count": null
  },
  {
   "cell_type": "code",
   "id": "ac4d2e7d-49b1-48bf-ba26-58fd409bdd43",
   "metadata": {
    "language": "python",
    "name": "cell8"
   },
   "outputs": [],
   "source": "import pandas as pd\nimport streamlit as st\nimport altair as alt\n\n# Query live data (last 5 minutes)\ndf_live_trend = session.sql(\"\"\"\n    SELECT \n        CAST(\"O\".\"OrderDate\" AS DATETIME) AS \"OrderTimestamp\",\n        SUM(\"OD\".\"Quantity\") AS \"Quantity\"\n    FROM \"OrderDetails\" \"OD\"\n    JOIN \"Orders\" \"O\" ON \"OD\".\"OrderID\" = \"O\".\"OrderID\"\n    WHERE \"OD\".\"ProductID\" = 78\n      AND \"O\".\"OrderDate\" >= DATEADD(MINUTE, -5, CURRENT_TIMESTAMP)\n    GROUP BY CAST(\"O\".\"OrderDate\" AS DATETIME)\n    ORDER BY \"OrderTimestamp\"\n\"\"\").to_pandas()\n\n# Calculate cumulative quantity\ndf_live_trend[\"CumulativeQuantity\"] = df_live_trend[\"Quantity\"].cumsum()\n\n# Plot it\nchart = alt.Chart(df_live_trend).mark_line(point=True).encode(\n    x=alt.X(\"OrderTimestamp:T\", title=\"Time\"),\n    y=alt.Y(\"CumulativeQuantity:Q\", title=\"Total Units Ordered\"),\n    tooltip=[\"OrderTimestamp\", \"CumulativeQuantity\"]\n).properties(\n    title=\"📈 Live Cumulative Waffle Orders (Last 5 Min)\",\n    width=800,\n    height=400\n)\n\nst.altair_chart(chart, use_container_width=True)\n\nst.metric(label=\"🧇 Waffles Ordered in Last 5 Min\", value=int(df_live_trend[\"Quantity\"].sum()))\n\nst.write(\"🔁 Re-run this cell to update the live chart.\")",
   "execution_count": null
  }
 ]
}