{
 "metadata": {
  "kernelspec": {
   "display_name": "Streamlit Notebook",
   "name": "streamlit"
  },
  "lastEditStatus": {
   "notebookId": "hoyshmnwsgkxbhq7lobq",
   "authorId": "1814209416937",
   "authorName": "VINOD",
   "authorEmail": "vino.duraisamy@snowflake.com",
   "sessionId": "18413324-0d04-4c7f-9240-898acbc93a1d",
   "lastEditTime": 1746631219926
  }
 },
 "nbformat_minor": 5,
 "nbformat": 4,
 "cells": [
  {
   "cell_type": "markdown",
   "id": "2d8ad35e-7d1c-4aee-9f54-6949d9aa3afe",
   "metadata": {
    "name": "cell1",
    "collapsed": false
   },
   "source": "## Avalanche -- A Fictional Winter Sports Gear Company needs to analyze the order history and shipping data.\n\nLet's use [pandas on Snowflake](https://docs.snowflake.com/en/developer-guide/snowpark/python/pandas-on-snowflake) to run analysis."
  },
  {
   "cell_type": "code",
   "id": "3775908f-ca36-4846-8f38-5adca39217f2",
   "metadata": {
    "language": "python",
    "name": "imports"
   },
   "source": "# Snowpark Pandas API\nimport modin.pandas as spd\n# Import the Snowpark pandas plugin for modin\nimport snowflake.snowpark.modin.plugin\n\nimport snowflake.snowpark.functions as F\nfrom snowflake.snowpark.context import get_active_session",
   "execution_count": null,
   "outputs": []
  },
  {
   "cell_type": "code",
   "id": "8d50cbf4-0c8d-4950-86cb-114990437ac9",
   "metadata": {
    "language": "python",
    "name": "snowpark_session"
   },
   "source": "# Create a snowpark session\nsession = get_active_session()\n# Add a query tag to the session for troubleshooting and monitoring\nsession.query_tag = {\"origin\":\"sf_devrel\", \n                     \"name\":\"de_100_vhol\", \n                     \"version\":{\"major\":1, \"minor\":0},\n                     \"attributes\":{\"is_quickstart\":1, \"source\":\"notebook\", \"vignette\":\"snowpark_pandas\"}}\n",
   "execution_count": null,
   "outputs": []
  },
  {
   "cell_type": "markdown",
   "id": "5109ca7b-e6e2-4fc2-bc33-801e1bebf29f",
   "metadata": {
    "name": "cell2",
    "collapsed": false
   },
   "source": "### TODO: Load shipping logs from local into Notebooks workspace"
  },
  {
   "cell_type": "code",
   "id": "db98d82e-5259-4e73-aabe-79bbb2b59c38",
   "metadata": {
    "language": "python",
    "name": "shipping_logs"
   },
   "outputs": [],
   "source": "shipping_logs_mdf = spd.read_csv('shipping-logs.csv',\n                               parse_dates=['shipping_date'])\nshipping_logs_mdf",
   "execution_count": null
  },
  {
   "cell_type": "markdown",
   "id": "8be0fbae-e6ef-462e-8ddb-e575b59e3b74",
   "metadata": {
    "name": "cell3",
    "collapsed": false
   },
   "source": "### TODO: Load order history from local into notebook workspace"
  },
  {
   "cell_type": "code",
   "id": "17be293e-956d-4781-be26-bbbdd94afc97",
   "metadata": {
    "language": "python",
    "name": "order_history"
   },
   "outputs": [],
   "source": "order_history_mdf = spd.read_csv('order-history.csv',\n                               parse_dates=['Date'])\norder_history_mdf",
   "execution_count": null
  },
  {
   "cell_type": "code",
   "id": "3f87b19c-07ca-4bec-8779-d6396126179b",
   "metadata": {
    "language": "python",
    "name": "rename_columns"
   },
   "outputs": [],
   "source": "order_history_mdf = order_history_mdf.rename(columns = {'Order ID': 'order_id',\n                                                      'Customer ID': 'customer_id',\n                                                      'Product ID': 'product_id',\n                                                      'Product Name': 'product_name',\n                                                      'Quantity Ordered': 'quantity_ordered',\n                                                      'Price': 'price',\n                                                      'Total Price': 'total_price',\n                                                     'Date': 'date'})\n\norder_history_mdf.columns",
   "execution_count": null
  },
  {
   "cell_type": "markdown",
   "id": "36e9f31f-f328-4b33-b567-fb879efa0f9e",
   "metadata": {
    "name": "cell4",
    "collapsed": false
   },
   "source": "### Clean up the price column to remove $ sign in values"
  },
  {
   "cell_type": "code",
   "id": "05b710b6-cee7-478e-9870-c2dd5c3119f8",
   "metadata": {
    "language": "python",
    "name": "clean_price_func"
   },
   "outputs": [],
   "source": "def clean_price(price_str):\n    # Remove $ sign and any whitespace\n    cleaned = price_str.replace('$', '').strip()\n    # Convert to float\n    return float(cleaned)",
   "execution_count": null
  },
  {
   "cell_type": "code",
   "id": "db2da873-f6ed-4e62-9518-845dc99e5ac9",
   "metadata": {
    "language": "python",
    "name": "clean_up_price_values"
   },
   "outputs": [],
   "source": "# Apply cleaning to price columns\norder_history_mdf['price'] = order_history_mdf['price'].apply(clean_price)\norder_history_mdf['total_price'] = order_history_mdf['total_price'].apply(clean_price)\n\n# Verify the cleaning\nprint(\"\\nPrice column data type:\", order_history_mdf['price'].dtype)\nprint(\"Total price column data type:\", order_history_mdf['total_price'].dtype)",
   "execution_count": null
  },
  {
   "cell_type": "markdown",
   "id": "b7d9aaed-ab1c-482f-b87e-fa4c3955fdac",
   "metadata": {
    "name": "cell5",
    "collapsed": false
   },
   "source": "### Calculate product order counts: Join order_history and shipping_logs"
  },
  {
   "cell_type": "code",
   "id": "8ec8cd02-16c1-4999-8870-da25c1281f27",
   "metadata": {
    "language": "python",
    "name": "join_tables"
   },
   "outputs": [],
   "source": "order_shipping_mdf = spd.merge(\n    order_history_mdf,\n    shipping_logs_mdf,\n    on='order_id',\n    how='inner'\n)\norder_shipping_mdf.head(5)",
   "execution_count": null
  },
  {
   "cell_type": "code",
   "id": "1eb33443-f7c3-41a5-acfe-6cbe634ab990",
   "metadata": {
    "language": "python",
    "name": "product_order_counts"
   },
   "outputs": [],
   "source": "# Group by product name and count orders\nproduct_counts_mdf = order_shipping_mdf.groupby('product_name').size().reset_index(name='order_count')\n\n# Sort by order count in descending order\nproduct_counts_mdf = product_counts_mdf.sort_values('order_count', ascending=False)\n\n# Display the results\nprint(\"\\nProduct Order Counts:\")\nprint(product_counts_mdf)",
   "execution_count": null
  },
  {
   "cell_type": "markdown",
   "id": "c92cd23f-deb0-41b3-91f5-7294a6ee6267",
   "metadata": {
    "name": "cell6",
    "collapsed": false
   },
   "source": "### Pivot it by order delivery status"
  },
  {
   "cell_type": "code",
   "id": "d803b11b-55e1-4b44-869f-e67d3c95639c",
   "metadata": {
    "language": "python",
    "name": "product_status_pivot"
   },
   "outputs": [],
   "source": "product_status_pivot_mdf = order_shipping_mdf.pivot_table(\n    index='product_name',\n    columns='status',\n    values='order_id',\n    aggfunc='count',\n    fill_value=0\n)\n\n# Add a total column\nproduct_status_pivot_mdf['Total_Orders'] = product_status_pivot_mdf.sum(axis=1)\n\n# Sort by total orders in descending order\nproduct_status_pivot_mdf = product_status_pivot_mdf.sort_values('Total_Orders', ascending=False)\n\n# Display the results\nprint(\"\\nProduct Orders by Status:\")\nprint(product_status_pivot_mdf)",
   "execution_count": null
  },
  {
   "cell_type": "markdown",
   "id": "62e8654c-416d-4279-8c21-b53987491ca8",
   "metadata": {
    "name": "cell7",
    "collapsed": false
   },
   "source": "## Avalanche is looking to understand the customer reviews for each product as well. \n\nLet's run this analysis using [Snowpark dataframe](https://docs.snowflake.com/en/developer-guide/snowpark/python/working-with-dataframes) APIs."
  },
  {
   "cell_type": "code",
   "id": "700a31fe-3a77-4966-bfef-c29cb3c1fe1a",
   "metadata": {
    "language": "sql",
    "name": "create_snowflake_objects"
   },
   "outputs": [],
   "source": "-- Create the avalanche database and schema: using Snowsight UI\n-- CREATE OR REPLACE DATABASE avalanche_db;\n-- CREATE OR REPLACE SCHEMA avalanche_schema;\n\nUSE DATABASE avalanche_db;\nUSE SCHEMA avalanche_schema;\n\n-- Create the stage for storing our files\nCREATE OR REPLACE STAGE avalanche_stage\n  URL = 's3://sfquickstarts/misc/avalanche/csv/'\n  DIRECTORY = (ENABLE = TRUE AUTO_REFRESH = TRUE);\n\nls @avalanche_stage;\n",
   "execution_count": null
  },
  {
   "cell_type": "markdown",
   "id": "e0f6a184-8c2f-4d54-a606-fd3f2acc1d22",
   "metadata": {
    "name": "cell8",
    "collapsed": false
   },
   "source": "### Load customer reviews into a Snowflake table"
  },
  {
   "cell_type": "code",
   "id": "4903c319-f55a-4773-8e58-daaec82f72d3",
   "metadata": {
    "language": "sql",
    "name": "create_customer_reviews_table"
   },
   "outputs": [],
   "source": "CREATE OR REPLACE TABLE customer_reviews (\n    product VARCHAR,\n    date DATE,\n    summary TEXT,\n    sentiment_score FLOAT\n);\n\n-- Load customer reviews\nCOPY INTO customer_reviews\nFROM @avalanche_stage/customer_reviews.csv\nFILE_FORMAT = (\n    TYPE = CSV\n    FIELD_DELIMITER = ','\n    SKIP_HEADER = 1\n    FIELD_OPTIONALLY_ENCLOSED_BY = '\"'\n    TRIM_SPACE = TRUE\n    NULL_IF = ('NULL', 'null')\n    EMPTY_FIELD_AS_NULL = TRUE\n);",
   "execution_count": null
  },
  {
   "cell_type": "code",
   "id": "d558d8e0-c499-4ae5-9ca0-85497fedc71a",
   "metadata": {
    "language": "python",
    "name": "load_customer_reviews"
   },
   "outputs": [],
   "source": "customer_reviews_sdf = session.table('customer_reviews')\ncustomer_reviews_sdf",
   "execution_count": null
  },
  {
   "cell_type": "markdown",
   "id": "d04445ac-2345-4bf9-a939-f81439e0b5e6",
   "metadata": {
    "name": "cell9",
    "collapsed": false
   },
   "source": "### Calculate product sentiment for every product ordered"
  },
  {
   "cell_type": "code",
   "id": "4b09a69e-dec8-491e-a781-bed814e7ff76",
   "metadata": {
    "language": "python",
    "name": "calc_product_sentiment"
   },
   "outputs": [],
   "source": "product_sentiment_sdf = customer_reviews_sdf.group_by('PRODUCT') \\\n    .agg(F.round(F.avg('SENTIMENT_SCORE'),2).alias('AVG_SENTIMENT_SCORE')) \\\n    .sort(F.col('AVG_SENTIMENT_SCORE').desc())\n\n# Display the results\nprint(\"\\nAverage Sentiment Scores by Product:\")\nproduct_sentiment_sdf.show()",
   "execution_count": null
  },
  {
   "cell_type": "code",
   "id": "6a36c9e6-66e3-4e91-b57b-5f5123680ee3",
   "metadata": {
    "language": "python",
    "name": "save_product_sentiment"
   },
   "outputs": [],
   "source": "product_sentiment_sdf.write.save_as_table('PRODUCT_SENTIMENT_ANALYSIS', mode='overwrite')",
   "execution_count": null
  },
  {
   "cell_type": "markdown",
   "id": "75ee1f78-c831-4cc7-8203-8898e61512e1",
   "metadata": {
    "name": "cell10",
    "collapsed": false
   },
   "source": "## Automate the analysis by scheduling them to run periodically: Using Snowflake Tasks"
  },
  {
   "cell_type": "code",
   "id": "58992757-6c5e-4de7-b8ee-041ff098ec7d",
   "metadata": {
    "language": "sql",
    "name": "create_task"
   },
   "outputs": [],
   "source": "-- Create the task\nCREATE OR REPLACE TASK avalanche_analysis_task\n    WAREHOUSE = COMPUTE_WH\n    SCHEDULE = 'USING CRON 0 0 * * * America/New_York'  -- Runs daily at midnight\n    AS\nBEGIN\n    -- Create database and schema if they don't exist\n    CREATE DATABASE IF NOT EXISTS avalanche_test_db;\n    CREATE SCHEMA IF NOT EXISTS avalanche_test_db.avalanche_test_schema;\n    \n    -- Use the database and schema\n    USE DATABASE avalanche_test_db;\n    USE SCHEMA avalanche_test_schema;\n    \n    -- Create the stage for storing files\n    CREATE OR REPLACE STAGE avalanche_stage\n        URL = 's3://sfquickstarts/misc/avalanche/csv/'\n        DIRECTORY = (ENABLE = TRUE AUTO_REFRESH = TRUE);\n    \n    -- Create and load customer reviews table\n    CREATE OR REPLACE TABLE customer_reviews (\n        product VARCHAR,\n        date DATE,\n        summary TEXT,\n        sentiment_score FLOAT\n    );\n    \n    -- Load customer reviews\n    COPY INTO customer_reviews\n    FROM @avalanche_stage/customer_reviews.csv\n    FILE_FORMAT = (\n        TYPE = CSV\n        FIELD_DELIMITER = ','\n        SKIP_HEADER = 1\n        FIELD_OPTIONALLY_ENCLOSED_BY = '\"'\n        TRIM_SPACE = TRUE\n        NULL_IF = ('NULL', 'null')\n        EMPTY_FIELD_AS_NULL = TRUE\n    );\n    \n    -- Calculate and save product sentiment scores\n    CREATE OR REPLACE TABLE product_sentiment_analysis AS\n    SELECT \n        product,\n        ROUND(AVG(sentiment_score), 2) as avg_sentiment_score\n    FROM customer_reviews\n    GROUP BY product\n    ORDER BY avg_sentiment_score DESC;\nEND;",
   "execution_count": null
  },
  {
   "cell_type": "code",
   "id": "d53f6e6f-1eb2-449a-bf51-fd381aaab217",
   "metadata": {
    "language": "sql",
    "name": "resume_task"
   },
   "outputs": [],
   "source": "-- Enable the task\nALTER TASK avalanche_analysis_task RESUME;",
   "execution_count": null
  },
  {
   "cell_type": "markdown",
   "id": "27c9b439-978c-48e4-b8a6-487a278dc72e",
   "metadata": {
    "name": "cell11",
    "collapsed": false
   },
   "source": "### TODO: Let's review the task history and how you can monitor the scheduled tasks"
  }
 ]
}