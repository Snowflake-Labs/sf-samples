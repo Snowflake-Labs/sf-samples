{
 "cells": [
  {
   "cell_type": "markdown",
   "metadata": {},
   "source": [
    "# Introduction"
   ]
  },
  {
   "cell_type": "markdown",
   "metadata": {},
   "source": [
    "\n",
    "A demo on model registry, adapted from [Quickstart Guide](https://quickstarts.snowflake.com/guide/intro_to_machine_learning_with,_snowpark_ml_for_python/#5), where we trained a model to predict price of a diamond based on its size, color, cut."
   ]
  },
  {
   "cell_type": "markdown",
   "metadata": {},
   "source": [
    "# Environment"
   ]
  },
  {
   "cell_type": "markdown",
   "metadata": {},
   "source": [
    "# Imports"
   ]
  },
  {
   "cell_type": "code",
   "execution_count": 1,
   "metadata": {},
   "outputs": [],
   "source": [
    "import numpy as np\n",
    "import pandas as pd\n",
    "import seaborn as sns\n",
    "\n",
    "from sklearn.metrics import mean_absolute_percentage_error\n",
    "\n",
    "from snowflake.ml import dataset\n",
    "from snowflake.ml.modeling.xgboost import XGBRegressor\n",
    "from snowflake.ml.registry import registry\n",
    "from snowflake.ml.utils.connection_params import SnowflakeLoginOptions\n",
    "from snowflake.snowpark import functions\n",
    "from snowflake.snowpark import Session\n"
   ]
  },
  {
   "cell_type": "code",
   "execution_count": 60,
   "metadata": {},
   "outputs": [],
   "source": [
    "import os\n",
    "from graphviz import Digraph\n",
    "from IPython.display import Image, display\n",
    "\n",
    "def render_graph(df) -> None:\n",
    "    df = df.to_pandas()\n",
    "    graph = Digraph()\n",
    "    \n",
    "    # Track the nodes already added to avoid duplication\n",
    "    added_nodes = set()\n",
    "    \n",
    "    for index, row in df.iterrows():    \n",
    "        source_node = str(row['SOURCE_OBJECT']).replace(':', '-').replace('{', '').replace('}', '')\n",
    "        target_node = str(row['TARGET_OBJECT']).replace(':', '-').replace('{', '').replace('}', '')\n",
    "        \n",
    "        if source_node not in added_nodes:\n",
    "            graph.node(source_node)\n",
    "            added_nodes.add(source_node)\n",
    "\n",
    "        \n",
    "        if target_node not in added_nodes:\n",
    "            graph.node(target_node)\n",
    "            added_nodes.add(target_node)\n",
    "        \n",
    "        graph.edge(source_node, target_node)\n",
    "    \n",
    "    graph.render('graph.png', format='png', cleanup=True)\n",
    "    graph.view()"
   ]
  },
  {
   "cell_type": "markdown",
   "metadata": {},
   "source": [
    "# Setup Variables"
   ]
  },
  {
   "cell_type": "code",
   "execution_count": 2,
   "metadata": {},
   "outputs": [
    {
     "name": "stderr",
     "output_type": "stream",
     "text": [
      "SnowflakeLoginOptions() is in private preview since 0.2.0. Do not use it in production. \n"
     ]
    }
   ],
   "source": [
    "session = Session.builder.configs(SnowflakeLoginOptions(\"ai307_ds\")).create()"
   ]
  },
  {
   "cell_type": "code",
   "execution_count": 3,
   "metadata": {},
   "outputs": [],
   "source": [
    "work_database = session.get_current_database()\n",
    "work_schema = 'DATA'\n",
    "data_table = 'DIAMONDS_DEMO'\n",
    "train_data = 'TRAIN_DATA' \n",
    "test_data = 'TEST_DATA'\n",
    "\n",
    "dataset_name = 'TRAINING_DATASET'\n",
    "\n",
    "REGISTRY_DATABASE_NAME = work_database\n",
    "REGISTRY_SCHEMA_NAME = 'REGISTRY'\n",
    "\n",
    "model_name = 'diamonds_price_predictor'"
   ]
  },
  {
   "cell_type": "markdown",
   "metadata": {},
   "source": [
    "## Bootstrap Data"
   ]
  },
  {
   "cell_type": "code",
   "execution_count": 64,
   "metadata": {},
   "outputs": [],
   "source": [
    "# Read csv of diamonds data to a dataframe, set data_dir to path of your csv download\n",
    "#file = 'diamonds.csv'\n",
    "#df = pd.read_csv(file)\n",
    "\n",
    "# Cleanup - remove row column and force headers to Uppercase\n",
    "#df.columns = df.columns.str.upper()\n",
    "#df.rename(columns={'TABLE': 'TABLE_PCT'}, inplace=True)\n",
    "\n",
    "# write the DF to Snowflake and create a Snowflake DF\n",
    "#session.write_pandas(df, data_table, auto_create_table=True, schema=work_schema)\n",
    "\n",
    "#train_df, test_df = session.table(data_table).drop('ROW').random_split(weights=[0.9, 0.1], seed=0)\n",
    "#session.write_pandas(train_df.to_pandas(), train_data, auto_create_table=True, schema=work_schema)\n",
    "#session.write_pandas(test_df.to_pandas(), test_data, auto_create_table=True, schema=work_schema)"
   ]
  },
  {
   "cell_type": "markdown",
   "metadata": {},
   "source": [
    "# Training"
   ]
  },
  {
   "cell_type": "code",
   "execution_count": 65,
   "metadata": {},
   "outputs": [
    {
     "name": "stdout",
     "output_type": "stream",
     "text": [
      "107880\n",
      "   CARAT        CUT COLOR CLARITY  DEPTH  TABLE_PCT  PRICE     X     Y     Z\n",
      "0   0.23      Ideal     E     SI2   61.5       55.0    326  3.95  3.98  2.43\n",
      "1   0.21    Premium     E     SI1   59.8       61.0    326  3.89  3.84  2.31\n",
      "2   0.23       Good     E     VS1   56.9       65.0    327  4.05  4.07  2.31\n",
      "3   0.29    Premium     I     VS2   62.4       58.0    334  4.20  4.23  2.63\n",
      "4   0.31       Good     J     SI2   63.3       58.0    335  4.34  4.35  2.75\n",
      "5   0.24  Very Good     J    VVS2   62.8       57.0    336  3.94  3.96  2.48\n",
      "6   0.24  Very Good     I    VVS1   62.3       57.0    336  3.95  3.98  2.47\n",
      "7   0.26  Very Good     H     SI1   61.9       55.0    337  4.07  4.11  2.53\n",
      "8   0.22       Fair     E     VS2   65.1       61.0    337  3.87  3.78  2.49\n",
      "9   0.23  Very Good     H     VS1   59.4       61.0    338  4.00  4.05  2.39\n"
     ]
    }
   ],
   "source": [
    "# Diamonds Snowflake Table\n",
    "diamonds_df = session.table(data_table).drop('ROW')\n",
    "print(diamonds_df.count())\n",
    "print(diamonds_df.limit(10).to_pandas())\n",
    "\n",
    "CATEGORICAL_COLUMNS = [\"CUT\", \"COLOR\", \"CLARITY\"]\n",
    "CATEGORICAL_COLUMNS_OE = [\"CUT_OE\", \"COLOR_OE\", \"CLARITY_OE\"]\n",
    "NUMERICAL_COLUMNS = [\"CARAT\", \"DEPTH\", \"TABLE_PCT\", \"X\", \"Y\", \"Z\"]\n",
    "\n",
    "LABEL_COLUMNS = [\"PRICE\"]\n",
    "OUTPUT_COLUMNS = [\"PREDICTED_PRICE\"]\n",
    "\n",
    "diamonds_train_df = session.table(train_data)\n",
    "test_df = session.table(test_data)"
   ]
  },
  {
   "cell_type": "markdown",
   "metadata": {},
   "source": [
    "## Start with a dataset"
   ]
  },
  {
   "cell_type": "code",
   "execution_count": 66,
   "metadata": {},
   "outputs": [],
   "source": [
    "ds = dataset.Dataset.create(session=session, name=dataset_name, exist_ok=True)\n",
    "dsv2 = ds.select_version('v2')"
   ]
  },
  {
   "cell_type": "code",
   "execution_count": 67,
   "metadata": {},
   "outputs": [
    {
     "name": "stdout",
     "output_type": "stream",
     "text": [
      "--------------------------------------------------------------------------------------------------------------------------------------------------------------------\n",
      "|\"CARAT\"              |\"CUT\"      |\"COLOR\"  |\"CLARITY\"  |\"DEPTH\"             |\"TABLE_PCT\"  |\"PRICE\"  |\"X\"                |\"Y\"                 |\"Z\"                 |\n",
      "--------------------------------------------------------------------------------------------------------------------------------------------------------------------\n",
      "|0.23000000417232513  |Ideal      |E        |SI2        |61.5                |55.0         |326      |3.950000047683716  |3.9800000190734863  |2.430000066757202   |\n",
      "|0.20999999344348907  |Premium    |E        |SI1        |59.79999923706055   |61.0         |326      |3.890000104904175  |3.8399999141693115  |2.309999942779541   |\n",
      "|0.23000000417232513  |Good       |E        |VS1        |56.900001525878906  |65.0         |327      |4.050000190734863  |4.070000171661377   |2.309999942779541   |\n",
      "|0.28999999165534973  |Premium    |I        |VS2        |62.400001525878906  |58.0         |334      |4.199999809265137  |4.230000019073486   |2.630000114440918   |\n",
      "|0.3100000023841858   |Good       |J        |SI2        |63.29999923706055   |58.0         |335      |4.340000152587891  |4.349999904632568   |2.75                |\n",
      "|0.23999999463558197  |Very Good  |J        |VVS2       |62.79999923706055   |57.0         |336      |3.940000057220459  |3.9600000381469727  |2.4800000190734863  |\n",
      "|0.23999999463558197  |Very Good  |I        |VVS1       |62.29999923706055   |57.0         |336      |3.950000047683716  |3.9800000190734863  |2.4700000286102295  |\n",
      "|0.25999999046325684  |Very Good  |H        |SI1        |61.900001525878906  |55.0         |337      |4.070000171661377  |4.110000133514404   |2.5299999713897705  |\n",
      "|0.2199999988079071   |Fair       |E        |VS2        |65.0999984741211    |61.0         |337      |3.869999885559082  |3.7799999713897705  |2.490000009536743   |\n",
      "|0.23000000417232513  |Very Good  |H        |VS1        |59.400001525878906  |61.0         |338      |4.0                |4.050000190734863   |2.390000104904175   |\n",
      "--------------------------------------------------------------------------------------------------------------------------------------------------------------------\n",
      "\n"
     ]
    }
   ],
   "source": [
    "training_df = dsv2.read.to_snowpark_dataframe()\n",
    "training_df.show()"
   ]
  },
  {
   "cell_type": "code",
   "execution_count": 68,
   "metadata": {},
   "outputs": [
    {
     "name": "stdout",
     "output_type": "stream",
     "text": [
      "   PRICE  PREDICTED_PRICE\n",
      "0    355       499.601837\n",
      "1   2962      2781.700928\n",
      "2   3228      2172.385498\n",
      "3   3517      2783.982666\n",
      "4   3780      4640.716797\n",
      "Mean absolute percentage error: 0.18624602782995245\n"
     ]
    },
    {
     "data": {
      "text/plain": [
       "<matplotlib.lines.AxLine at 0x350443ac0>"
      ]
     },
     "execution_count": 68,
     "metadata": {},
     "output_type": "execute_result"
    },
    {
     "data": {
      "image/png": "[encoded data removed]",
      "text/plain": [
       "<Figure size 500x500 with 1 Axes>"
      ]
     },
     "metadata": {},
     "output_type": "display_data"
    }
   ],
   "source": [
    "regressor = XGBRegressor(\n",
    "    input_cols=NUMERICAL_COLUMNS,\n",
    "    label_cols=LABEL_COLUMNS,\n",
    "    output_cols=OUTPUT_COLUMNS\n",
    ")\n",
    "\n",
    "# Train\n",
    "regressor.fit(training_df)\n",
    "\n",
    "# Eval\n",
    "result = regressor.predict(test_df)\n",
    "\n",
    "# Analyze results\n",
    "df = result[\"PRICE\", \"PREDICTED_PRICE\"].to_pandas()\n",
    "print(df.head())\n",
    "mean_absolute_pct_error = mean_absolute_percentage_error(df['PRICE'], df['PREDICTED_PRICE'])\n",
    "print(f\"Mean absolute percentage error: {mean_absolute_percentage_error(df['PRICE'], df['PREDICTED_PRICE'])}\")\n",
    "\n",
    "g = sns.relplot(data=df, x=\"PRICE\", y=\"PREDICTED_PRICE\", kind=\"scatter\")\n",
    "g.ax.axline((0,0), slope=1, color=\"r\")"
   ]
  },
  {
   "cell_type": "markdown",
   "metadata": {},
   "source": [
    "# Intialize Model Registry"
   ]
  },
  {
   "cell_type": "code",
   "execution_count": 4,
   "metadata": {},
   "outputs": [],
   "source": [
    "reg = registry.Registry(session=session, database_name=REGISTRY_DATABASE_NAME, schema_name=REGISTRY_SCHEMA_NAME)"
   ]
  },
  {
   "cell_type": "markdown",
   "metadata": {},
   "source": [
    "# Creating Model"
   ]
  },
  {
   "cell_type": "code",
   "execution_count": 70,
   "metadata": {},
   "outputs": [
    {
     "name": "stderr",
     "output_type": "stream",
     "text": [
      "/Users/sdas/miniconda3/envs/pt201whatsnew/lib/python3.9/contextlib.py:119: UserWarning: `relax_version` is not set and therefore defaulted to True. Dependency version constraints relaxed from ==x.y.z to >=x.y, <(x+1). To use specific dependency versions for compatibility, reproducibility, etc., set `options={'relax_version': False}` when logging the model.\n",
      "  return next(self.gen)\n",
      "/tmp/snowml/snowflake/ml/model/_packager/model_packager.py:92: UserWarning: Inferring model signature from sample input or providing model signature for Snowpark ML Modeling model is not required. Model signature will automatically be inferred during fitting. \n",
      "  handler.save_model(\n"
     ]
    }
   ],
   "source": [
    "mv = reg.log_model(regressor,\n",
    "                   model_name=model_name,\n",
    "                   version_name='\"1.0\"',\n",
    "                   sample_input_data=test_df,\n",
    "                   )"
   ]
  },
  {
   "cell_type": "code",
   "execution_count": 71,
   "metadata": {},
   "outputs": [],
   "source": [
    "mv = reg.log_model(regressor,\n",
    "                   model_name=model_name,\n",
    "                   sample_input_data=test_df,\n",
    "                   comment = 'A XGB model trained from dataset v2',\n",
    "                   )"
   ]
  },
  {
   "cell_type": "markdown",
   "metadata": {},
   "source": [
    "# Using Model"
   ]
  },
  {
   "cell_type": "markdown",
   "metadata": {},
   "source": [
    "## Model & Model Version APIs"
   ]
  },
  {
   "cell_type": "code",
   "execution_count": 72,
   "metadata": {},
   "outputs": [
    {
     "data": {
      "text/html": [
       "<div>\n",
       "<style scoped>\n",
       "    .dataframe tbody tr th:only-of-type {\n",
       "        vertical-align: middle;\n",
       "    }\n",
       "\n",
       "    .dataframe tbody tr th {\n",
       "        vertical-align: top;\n",
       "    }\n",
       "\n",
       "    .dataframe thead th {\n",
       "        text-align: right;\n",
       "    }\n",
       "</style>\n",
       "<table border=\"1\" class=\"dataframe\">\n",
       "  <thead>\n",
       "    <tr style=\"text-align: right;\">\n",
       "      <th></th>\n",
       "      <th>created_on</th>\n",
       "      <th>name</th>\n",
       "      <th>model_type</th>\n",
       "      <th>database_name</th>\n",
       "      <th>schema_name</th>\n",
       "      <th>comment</th>\n",
       "      <th>owner</th>\n",
       "      <th>default_version_name</th>\n",
       "      <th>versions</th>\n",
       "      <th>aliases</th>\n",
       "    </tr>\n",
       "  </thead>\n",
       "  <tbody>\n",
       "    <tr>\n",
       "      <th>0</th>\n",
       "      <td>2024-06-03 11:06:38.174000-07:00</td>\n",
       "      <td>DIAMONDS_PRICE_PREDICTOR</td>\n",
       "      <td>USER_MODEL</td>\n",
       "      <td>AI307_DS</td>\n",
       "      <td>REGISTRY</td>\n",
       "      <td>None</td>\n",
       "      <td>TASTY_DATA_SCIENTIST</td>\n",
       "      <td>1.0</td>\n",
       "      <td>[\"1.0\",\"WEAK_PYTHON_1\"]</td>\n",
       "      <td>{\"DEFAULT\":\"1.0\",\"FIRST\":\"1.0\",\"LAST\":\"WEAK_PY...</td>\n",
       "    </tr>\n",
       "  </tbody>\n",
       "</table>\n",
       "</div>"
      ],
      "text/plain": [
       "                        created_on                      name  model_type  \\\n",
       "0 2024-06-03 11:06:38.174000-07:00  DIAMONDS_PRICE_PREDICTOR  USER_MODEL   \n",
       "\n",
       "  database_name schema_name comment                 owner  \\\n",
       "0      AI307_DS    REGISTRY    None  TASTY_DATA_SCIENTIST   \n",
       "\n",
       "  default_version_name                 versions  \\\n",
       "0                  1.0  [\"1.0\",\"WEAK_PYTHON_1\"]   \n",
       "\n",
       "                                             aliases  \n",
       "0  {\"DEFAULT\":\"1.0\",\"FIRST\":\"1.0\",\"LAST\":\"WEAK_PY...  "
      ]
     },
     "execution_count": 72,
     "metadata": {},
     "output_type": "execute_result"
    }
   ],
   "source": [
    "reg.show_models()"
   ]
  },
  {
   "cell_type": "code",
   "execution_count": 5,
   "metadata": {},
   "outputs": [
    {
     "data": {
      "text/plain": [
       "<snowflake.ml.model._client.model.model_impl.Model at 0x11a3c3e50>"
      ]
     },
     "execution_count": 5,
     "metadata": {},
     "output_type": "execute_result"
    }
   ],
   "source": [
    "m = reg.get_model(model_name)\n",
    "m"
   ]
  },
  {
   "cell_type": "code",
   "execution_count": 74,
   "metadata": {},
   "outputs": [],
   "source": [
    "m.description = 'A diamond price prediction model with inputs like size, color & cuts.'"
   ]
  },
  {
   "cell_type": "code",
   "execution_count": 75,
   "metadata": {},
   "outputs": [
    {
     "data": {
      "text/html": [
       "<div>\n",
       "<style scoped>\n",
       "    .dataframe tbody tr th:only-of-type {\n",
       "        vertical-align: middle;\n",
       "    }\n",
       "\n",
       "    .dataframe tbody tr th {\n",
       "        vertical-align: top;\n",
       "    }\n",
       "\n",
       "    .dataframe thead th {\n",
       "        text-align: right;\n",
       "    }\n",
       "</style>\n",
       "<table border=\"1\" class=\"dataframe\">\n",
       "  <thead>\n",
       "    <tr style=\"text-align: right;\">\n",
       "      <th></th>\n",
       "      <th>created_on</th>\n",
       "      <th>name</th>\n",
       "      <th>model_type</th>\n",
       "      <th>database_name</th>\n",
       "      <th>schema_name</th>\n",
       "      <th>comment</th>\n",
       "      <th>owner</th>\n",
       "      <th>default_version_name</th>\n",
       "      <th>versions</th>\n",
       "      <th>aliases</th>\n",
       "    </tr>\n",
       "  </thead>\n",
       "  <tbody>\n",
       "    <tr>\n",
       "      <th>0</th>\n",
       "      <td>2024-06-03 11:06:38.174000-07:00</td>\n",
       "      <td>DIAMONDS_PRICE_PREDICTOR</td>\n",
       "      <td>USER_MODEL</td>\n",
       "      <td>AI307_DS</td>\n",
       "      <td>REGISTRY</td>\n",
       "      <td>A diamond price prediction model with inputs l...</td>\n",
       "      <td>TASTY_DATA_SCIENTIST</td>\n",
       "      <td>1.0</td>\n",
       "      <td>[\"1.0\",\"WEAK_PYTHON_1\"]</td>\n",
       "      <td>{\"DEFAULT\":\"1.0\",\"FIRST\":\"1.0\",\"LAST\":\"WEAK_PY...</td>\n",
       "    </tr>\n",
       "  </tbody>\n",
       "</table>\n",
       "</div>"
      ],
      "text/plain": [
       "                        created_on                      name  model_type  \\\n",
       "0 2024-06-03 11:06:38.174000-07:00  DIAMONDS_PRICE_PREDICTOR  USER_MODEL   \n",
       "\n",
       "  database_name schema_name  \\\n",
       "0      AI307_DS    REGISTRY   \n",
       "\n",
       "                                             comment                 owner  \\\n",
       "0  A diamond price prediction model with inputs l...  TASTY_DATA_SCIENTIST   \n",
       "\n",
       "  default_version_name                 versions  \\\n",
       "0                  1.0  [\"1.0\",\"WEAK_PYTHON_1\"]   \n",
       "\n",
       "                                             aliases  \n",
       "0  {\"DEFAULT\":\"1.0\",\"FIRST\":\"1.0\",\"LAST\":\"WEAK_PY...  "
      ]
     },
     "execution_count": 75,
     "metadata": {},
     "output_type": "execute_result"
    }
   ],
   "source": [
    "reg.show_models()"
   ]
  },
  {
   "cell_type": "code",
   "execution_count": 76,
   "metadata": {},
   "outputs": [
    {
     "data": {
      "text/html": [
       "<div>\n",
       "<style scoped>\n",
       "    .dataframe tbody tr th:only-of-type {\n",
       "        vertical-align: middle;\n",
       "    }\n",
       "\n",
       "    .dataframe tbody tr th {\n",
       "        vertical-align: top;\n",
       "    }\n",
       "\n",
       "    .dataframe thead th {\n",
       "        text-align: right;\n",
       "    }\n",
       "</style>\n",
       "<table border=\"1\" class=\"dataframe\">\n",
       "  <thead>\n",
       "    <tr style=\"text-align: right;\">\n",
       "      <th></th>\n",
       "      <th>created_on</th>\n",
       "      <th>name</th>\n",
       "      <th>aliases</th>\n",
       "      <th>comment</th>\n",
       "      <th>database_name</th>\n",
       "      <th>schema_name</th>\n",
       "      <th>module_name</th>\n",
       "      <th>is_default_version</th>\n",
       "      <th>functions</th>\n",
       "      <th>metadata</th>\n",
       "      <th>user_data</th>\n",
       "    </tr>\n",
       "  </thead>\n",
       "  <tbody>\n",
       "    <tr>\n",
       "      <th>0</th>\n",
       "      <td>2024-06-03 11:06:38.202000-07:00</td>\n",
       "      <td>1.0</td>\n",
       "      <td>[\"DEFAULT\",\"FIRST\"]</td>\n",
       "      <td>None</td>\n",
       "      <td>AI307_DS</td>\n",
       "      <td>REGISTRY</td>\n",
       "      <td>DIAMONDS_PRICE_PREDICTOR</td>\n",
       "      <td>true</td>\n",
       "      <td>[\"PREDICT\"]</td>\n",
       "      <td>{}</td>\n",
       "      <td>{}</td>\n",
       "    </tr>\n",
       "    <tr>\n",
       "      <th>1</th>\n",
       "      <td>2024-06-03 11:06:52.192000-07:00</td>\n",
       "      <td>WEAK_PYTHON_1</td>\n",
       "      <td>[\"LAST\"]</td>\n",
       "      <td>A XGB model trained from dataset v2</td>\n",
       "      <td>AI307_DS</td>\n",
       "      <td>REGISTRY</td>\n",
       "      <td>DIAMONDS_PRICE_PREDICTOR</td>\n",
       "      <td>false</td>\n",
       "      <td>[\"PREDICT\"]</td>\n",
       "      <td>{}</td>\n",
       "      <td>{}</td>\n",
       "    </tr>\n",
       "  </tbody>\n",
       "</table>\n",
       "</div>"
      ],
      "text/plain": [
       "                        created_on           name              aliases  \\\n",
       "0 2024-06-03 11:06:38.202000-07:00            1.0  [\"DEFAULT\",\"FIRST\"]   \n",
       "1 2024-06-03 11:06:52.192000-07:00  WEAK_PYTHON_1             [\"LAST\"]   \n",
       "\n",
       "                               comment database_name schema_name  \\\n",
       "0                                 None      AI307_DS    REGISTRY   \n",
       "1  A XGB model trained from dataset v2      AI307_DS    REGISTRY   \n",
       "\n",
       "                module_name is_default_version    functions metadata user_data  \n",
       "0  DIAMONDS_PRICE_PREDICTOR               true  [\"PREDICT\"]       {}        {}  \n",
       "1  DIAMONDS_PRICE_PREDICTOR              false  [\"PREDICT\"]       {}        {}  "
      ]
     },
     "execution_count": 76,
     "metadata": {},
     "output_type": "execute_result"
    }
   ],
   "source": [
    "m.show_versions()"
   ]
  },
  {
   "cell_type": "code",
   "execution_count": 77,
   "metadata": {},
   "outputs": [],
   "source": [
    "m.default = 'WEAK_PYTHON_1'"
   ]
  },
  {
   "cell_type": "code",
   "execution_count": 78,
   "metadata": {},
   "outputs": [
    {
     "data": {
      "text/html": [
       "<div>\n",
       "<style scoped>\n",
       "    .dataframe tbody tr th:only-of-type {\n",
       "        vertical-align: middle;\n",
       "    }\n",
       "\n",
       "    .dataframe tbody tr th {\n",
       "        vertical-align: top;\n",
       "    }\n",
       "\n",
       "    .dataframe thead th {\n",
       "        text-align: right;\n",
       "    }\n",
       "</style>\n",
       "<table border=\"1\" class=\"dataframe\">\n",
       "  <thead>\n",
       "    <tr style=\"text-align: right;\">\n",
       "      <th></th>\n",
       "      <th>created_on</th>\n",
       "      <th>name</th>\n",
       "      <th>aliases</th>\n",
       "      <th>comment</th>\n",
       "      <th>database_name</th>\n",
       "      <th>schema_name</th>\n",
       "      <th>module_name</th>\n",
       "      <th>is_default_version</th>\n",
       "      <th>functions</th>\n",
       "      <th>metadata</th>\n",
       "      <th>user_data</th>\n",
       "    </tr>\n",
       "  </thead>\n",
       "  <tbody>\n",
       "    <tr>\n",
       "      <th>0</th>\n",
       "      <td>2024-06-03 11:06:38.202000-07:00</td>\n",
       "      <td>1.0</td>\n",
       "      <td>[\"FIRST\"]</td>\n",
       "      <td>None</td>\n",
       "      <td>AI307_DS</td>\n",
       "      <td>REGISTRY</td>\n",
       "      <td>DIAMONDS_PRICE_PREDICTOR</td>\n",
       "      <td>false</td>\n",
       "      <td>[\"PREDICT\"]</td>\n",
       "      <td>{}</td>\n",
       "      <td>{}</td>\n",
       "    </tr>\n",
       "    <tr>\n",
       "      <th>1</th>\n",
       "      <td>2024-06-03 11:06:52.192000-07:00</td>\n",
       "      <td>WEAK_PYTHON_1</td>\n",
       "      <td>[\"DEFAULT\",\"LAST\"]</td>\n",
       "      <td>A XGB model trained from dataset v2</td>\n",
       "      <td>AI307_DS</td>\n",
       "      <td>REGISTRY</td>\n",
       "      <td>DIAMONDS_PRICE_PREDICTOR</td>\n",
       "      <td>true</td>\n",
       "      <td>[\"PREDICT\"]</td>\n",
       "      <td>{}</td>\n",
       "      <td>{}</td>\n",
       "    </tr>\n",
       "  </tbody>\n",
       "</table>\n",
       "</div>"
      ],
      "text/plain": [
       "                        created_on           name             aliases  \\\n",
       "0 2024-06-03 11:06:38.202000-07:00            1.0           [\"FIRST\"]   \n",
       "1 2024-06-03 11:06:52.192000-07:00  WEAK_PYTHON_1  [\"DEFAULT\",\"LAST\"]   \n",
       "\n",
       "                               comment database_name schema_name  \\\n",
       "0                                 None      AI307_DS    REGISTRY   \n",
       "1  A XGB model trained from dataset v2      AI307_DS    REGISTRY   \n",
       "\n",
       "                module_name is_default_version    functions metadata user_data  \n",
       "0  DIAMONDS_PRICE_PREDICTOR              false  [\"PREDICT\"]       {}        {}  \n",
       "1  DIAMONDS_PRICE_PREDICTOR               true  [\"PREDICT\"]       {}        {}  "
      ]
     },
     "execution_count": 78,
     "metadata": {},
     "output_type": "execute_result"
    }
   ],
   "source": [
    "m.show_versions()"
   ]
  },
  {
   "cell_type": "code",
   "execution_count": 6,
   "metadata": {},
   "outputs": [
    {
     "data": {
      "text/plain": [
       "ModelVersion(\n",
       "  name='DIAMONDS_PRICE_PREDICTOR',\n",
       "  version='\"1.0\"',\n",
       ")"
      ]
     },
     "execution_count": 6,
     "metadata": {},
     "output_type": "execute_result"
    }
   ],
   "source": [
    "mv = m.version('\"1.0\"')\n",
    "mv"
   ]
  },
  {
   "cell_type": "code",
   "execution_count": 80,
   "metadata": {},
   "outputs": [],
   "source": [
    "mv.description = 'First version tried with a small dataset'"
   ]
  },
  {
   "cell_type": "code",
   "execution_count": 81,
   "metadata": {},
   "outputs": [
    {
     "data": {
      "text/html": [
       "<div>\n",
       "<style scoped>\n",
       "    .dataframe tbody tr th:only-of-type {\n",
       "        vertical-align: middle;\n",
       "    }\n",
       "\n",
       "    .dataframe tbody tr th {\n",
       "        vertical-align: top;\n",
       "    }\n",
       "\n",
       "    .dataframe thead th {\n",
       "        text-align: right;\n",
       "    }\n",
       "</style>\n",
       "<table border=\"1\" class=\"dataframe\">\n",
       "  <thead>\n",
       "    <tr style=\"text-align: right;\">\n",
       "      <th></th>\n",
       "      <th>created_on</th>\n",
       "      <th>name</th>\n",
       "      <th>aliases</th>\n",
       "      <th>comment</th>\n",
       "      <th>database_name</th>\n",
       "      <th>schema_name</th>\n",
       "      <th>module_name</th>\n",
       "      <th>is_default_version</th>\n",
       "      <th>functions</th>\n",
       "      <th>metadata</th>\n",
       "      <th>user_data</th>\n",
       "    </tr>\n",
       "  </thead>\n",
       "  <tbody>\n",
       "    <tr>\n",
       "      <th>0</th>\n",
       "      <td>2024-06-03 11:06:38.202000-07:00</td>\n",
       "      <td>1.0</td>\n",
       "      <td>[\"FIRST\"]</td>\n",
       "      <td>First version tried with a small dataset</td>\n",
       "      <td>AI307_DS</td>\n",
       "      <td>REGISTRY</td>\n",
       "      <td>DIAMONDS_PRICE_PREDICTOR</td>\n",
       "      <td>false</td>\n",
       "      <td>[\"PREDICT\"]</td>\n",
       "      <td>{}</td>\n",
       "      <td>{}</td>\n",
       "    </tr>\n",
       "    <tr>\n",
       "      <th>1</th>\n",
       "      <td>2024-06-03 11:06:52.192000-07:00</td>\n",
       "      <td>WEAK_PYTHON_1</td>\n",
       "      <td>[\"DEFAULT\",\"LAST\"]</td>\n",
       "      <td>A XGB model trained from dataset v2</td>\n",
       "      <td>AI307_DS</td>\n",
       "      <td>REGISTRY</td>\n",
       "      <td>DIAMONDS_PRICE_PREDICTOR</td>\n",
       "      <td>true</td>\n",
       "      <td>[\"PREDICT\"]</td>\n",
       "      <td>{}</td>\n",
       "      <td>{}</td>\n",
       "    </tr>\n",
       "  </tbody>\n",
       "</table>\n",
       "</div>"
      ],
      "text/plain": [
       "                        created_on           name             aliases  \\\n",
       "0 2024-06-03 11:06:38.202000-07:00            1.0           [\"FIRST\"]   \n",
       "1 2024-06-03 11:06:52.192000-07:00  WEAK_PYTHON_1  [\"DEFAULT\",\"LAST\"]   \n",
       "\n",
       "                                    comment database_name schema_name  \\\n",
       "0  First version tried with a small dataset      AI307_DS    REGISTRY   \n",
       "1       A XGB model trained from dataset v2      AI307_DS    REGISTRY   \n",
       "\n",
       "                module_name is_default_version    functions metadata user_data  \n",
       "0  DIAMONDS_PRICE_PREDICTOR              false  [\"PREDICT\"]       {}        {}  \n",
       "1  DIAMONDS_PRICE_PREDICTOR               true  [\"PREDICT\"]       {}        {}  "
      ]
     },
     "execution_count": 81,
     "metadata": {},
     "output_type": "execute_result"
    }
   ],
   "source": [
    "m.show_versions()"
   ]
  },
  {
   "cell_type": "markdown",
   "metadata": {},
   "source": [
    "## Inference"
   ]
  },
  {
   "cell_type": "code",
   "execution_count": 82,
   "metadata": {},
   "outputs": [
    {
     "data": {
      "text/plain": [
       "[{'name': 'PREDICT',\n",
       "  'target_method': 'predict',\n",
       "  'target_method_function_type': 'FUNCTION',\n",
       "  'signature': ModelSignature(\n",
       "                      inputs=[\n",
       "                          FeatureSpec(dtype=DataType.DOUBLE, name='CARAT'),\n",
       "  \t\tFeatureSpec(dtype=DataType.DOUBLE, name='DEPTH'),\n",
       "  \t\tFeatureSpec(dtype=DataType.DOUBLE, name='TABLE_PCT'),\n",
       "  \t\tFeatureSpec(dtype=DataType.DOUBLE, name='X'),\n",
       "  \t\tFeatureSpec(dtype=DataType.DOUBLE, name='Y'),\n",
       "  \t\tFeatureSpec(dtype=DataType.DOUBLE, name='Z')\n",
       "                      ],\n",
       "                      outputs=[\n",
       "                          FeatureSpec(dtype=DataType.DOUBLE, name='CARAT'),\n",
       "  \t\tFeatureSpec(dtype=DataType.DOUBLE, name='DEPTH'),\n",
       "  \t\tFeatureSpec(dtype=DataType.DOUBLE, name='TABLE_PCT'),\n",
       "  \t\tFeatureSpec(dtype=DataType.DOUBLE, name='X'),\n",
       "  \t\tFeatureSpec(dtype=DataType.DOUBLE, name='Y'),\n",
       "  \t\tFeatureSpec(dtype=DataType.DOUBLE, name='Z'),\n",
       "  \t\tFeatureSpec(dtype=DataType.DOUBLE, name='PREDICTED_PRICE')\n",
       "                      ]\n",
       "                  )}]"
      ]
     },
     "execution_count": 82,
     "metadata": {},
     "output_type": "execute_result"
    }
   ],
   "source": [
    "mv.show_functions()"
   ]
  },
  {
   "cell_type": "code",
   "execution_count": 84,
   "metadata": {},
   "outputs": [
    {
     "name": "stdout",
     "output_type": "stream",
     "text": [
      "------------------------------------------------------------------------------------------------------------------------\n",
      "|\"CUT\"      |\"COLOR\"  |\"CLARITY\"  |\"PRICE\"  |\"CARAT\"  |\"DEPTH\"  |\"TABLE_PCT\"  |\"X\"   |\"Y\"   |\"Z\"   |\"PREDICTED_PRICE\"  |\n",
      "------------------------------------------------------------------------------------------------------------------------\n",
      "|Very Good  |J        |SI1        |351      |0.3      |62.7     |59.0         |4.21  |4.27  |2.66  |591.9641723632812  |\n",
      "|Very Good  |J        |SI1        |353      |0.31     |59.4     |62.0         |4.39  |4.43  |2.62  |621.692626953125   |\n",
      "|Premium    |I        |VS1        |355      |0.24     |62.5     |57.0         |3.97  |3.94  |2.47  |499.6018371582031  |\n",
      "|Very Good  |D        |VS2        |357      |0.23     |60.5     |61.0         |3.96  |3.97  |2.4   |453.6365966796875  |\n",
      "|Premium    |H        |SI1        |554      |0.3      |62.9     |59.0         |4.28  |4.24  |2.68  |717.2132568359375  |\n",
      "|Premium    |H        |VVS2       |554      |0.24     |60.7     |58.0         |4.07  |4.04  |2.46  |537.9039306640625  |\n",
      "|Ideal      |G        |VS2        |2757     |0.7      |61.6     |56.0         |5.7   |5.67  |3.5   |2600.98291015625   |\n",
      "|Very Good  |E        |VS2        |2759     |0.71     |62.4     |57.0         |5.68  |5.73  |3.56  |2785.904296875     |\n",
      "|Fair       |F        |SI2        |2759     |0.96     |66.3     |62.0         |6.27  |5.95  |4.07  |2102.054931640625  |\n",
      "|Ideal      |E        |SI1        |2762     |0.74     |62.3     |54.0         |5.8   |5.83  |3.62  |2989.007080078125  |\n",
      "------------------------------------------------------------------------------------------------------------------------\n",
      "\n"
     ]
    }
   ],
   "source": [
    "remote_prediction = mv.run(test_df, function_name=\"predict\")\n",
    "remote_prediction.show()"
   ]
  },
  {
   "cell_type": "code",
   "execution_count": 85,
   "metadata": {},
   "outputs": [
    {
     "data": {
      "text/html": [
       "<div>\n",
       "<style scoped>\n",
       "    .dataframe tbody tr th:only-of-type {\n",
       "        vertical-align: middle;\n",
       "    }\n",
       "\n",
       "    .dataframe tbody tr th {\n",
       "        vertical-align: top;\n",
       "    }\n",
       "\n",
       "    .dataframe thead th {\n",
       "        text-align: right;\n",
       "    }\n",
       "</style>\n",
       "<table border=\"1\" class=\"dataframe\">\n",
       "  <thead>\n",
       "    <tr style=\"text-align: right;\">\n",
       "      <th></th>\n",
       "      <th>CUT</th>\n",
       "      <th>COLOR</th>\n",
       "      <th>CLARITY</th>\n",
       "      <th>PRICE</th>\n",
       "      <th>CARAT</th>\n",
       "      <th>DEPTH</th>\n",
       "      <th>TABLE_PCT</th>\n",
       "      <th>X</th>\n",
       "      <th>Y</th>\n",
       "      <th>Z</th>\n",
       "      <th>PREDICTED_PRICE</th>\n",
       "    </tr>\n",
       "  </thead>\n",
       "  <tbody>\n",
       "    <tr>\n",
       "      <th>0</th>\n",
       "      <td>Good</td>\n",
       "      <td>E</td>\n",
       "      <td>VS2</td>\n",
       "      <td>2912</td>\n",
       "      <td>0.70</td>\n",
       "      <td>58.7</td>\n",
       "      <td>63.0</td>\n",
       "      <td>5.69</td>\n",
       "      <td>5.73</td>\n",
       "      <td>3.35</td>\n",
       "      <td>2347.635254</td>\n",
       "    </tr>\n",
       "    <tr>\n",
       "      <th>1</th>\n",
       "      <td>Ideal</td>\n",
       "      <td>H</td>\n",
       "      <td>VS2</td>\n",
       "      <td>3122</td>\n",
       "      <td>0.72</td>\n",
       "      <td>61.7</td>\n",
       "      <td>56.0</td>\n",
       "      <td>5.74</td>\n",
       "      <td>5.77</td>\n",
       "      <td>3.56</td>\n",
       "      <td>2988.656006</td>\n",
       "    </tr>\n",
       "    <tr>\n",
       "      <th>2</th>\n",
       "      <td>Premium</td>\n",
       "      <td>F</td>\n",
       "      <td>VS2</td>\n",
       "      <td>3429</td>\n",
       "      <td>0.80</td>\n",
       "      <td>61.6</td>\n",
       "      <td>58.0</td>\n",
       "      <td>5.98</td>\n",
       "      <td>6.03</td>\n",
       "      <td>3.70</td>\n",
       "      <td>3119.060791</td>\n",
       "    </tr>\n",
       "    <tr>\n",
       "      <th>3</th>\n",
       "      <td>Premium</td>\n",
       "      <td>J</td>\n",
       "      <td>VS2</td>\n",
       "      <td>3685</td>\n",
       "      <td>1.00</td>\n",
       "      <td>60.7</td>\n",
       "      <td>61.0</td>\n",
       "      <td>6.50</td>\n",
       "      <td>6.41</td>\n",
       "      <td>3.92</td>\n",
       "      <td>4625.031738</td>\n",
       "    </tr>\n",
       "    <tr>\n",
       "      <th>4</th>\n",
       "      <td>Good</td>\n",
       "      <td>F</td>\n",
       "      <td>SI1</td>\n",
       "      <td>3954</td>\n",
       "      <td>0.90</td>\n",
       "      <td>64.7</td>\n",
       "      <td>54.0</td>\n",
       "      <td>6.04</td>\n",
       "      <td>6.08</td>\n",
       "      <td>3.92</td>\n",
       "      <td>3552.214111</td>\n",
       "    </tr>\n",
       "    <tr>\n",
       "      <th>...</th>\n",
       "      <td>...</td>\n",
       "      <td>...</td>\n",
       "      <td>...</td>\n",
       "      <td>...</td>\n",
       "      <td>...</td>\n",
       "      <td>...</td>\n",
       "      <td>...</td>\n",
       "      <td>...</td>\n",
       "      <td>...</td>\n",
       "      <td>...</td>\n",
       "      <td>...</td>\n",
       "    </tr>\n",
       "    <tr>\n",
       "      <th>21385</th>\n",
       "      <td>Ideal</td>\n",
       "      <td>I</td>\n",
       "      <td>SI1</td>\n",
       "      <td>534</td>\n",
       "      <td>0.39</td>\n",
       "      <td>62.4</td>\n",
       "      <td>54.0</td>\n",
       "      <td>4.67</td>\n",
       "      <td>4.69</td>\n",
       "      <td>2.92</td>\n",
       "      <td>872.492981</td>\n",
       "    </tr>\n",
       "    <tr>\n",
       "      <th>21386</th>\n",
       "      <td>Fair</td>\n",
       "      <td>I</td>\n",
       "      <td>SI2</td>\n",
       "      <td>2129</td>\n",
       "      <td>0.91</td>\n",
       "      <td>65.0</td>\n",
       "      <td>58.0</td>\n",
       "      <td>6.05</td>\n",
       "      <td>6.02</td>\n",
       "      <td>3.92</td>\n",
       "      <td>3380.195068</td>\n",
       "    </tr>\n",
       "    <tr>\n",
       "      <th>21387</th>\n",
       "      <td>Good</td>\n",
       "      <td>D</td>\n",
       "      <td>VS2</td>\n",
       "      <td>2288</td>\n",
       "      <td>0.62</td>\n",
       "      <td>58.9</td>\n",
       "      <td>64.0</td>\n",
       "      <td>5.62</td>\n",
       "      <td>5.55</td>\n",
       "      <td>3.29</td>\n",
       "      <td>1789.939941</td>\n",
       "    </tr>\n",
       "    <tr>\n",
       "      <th>21388</th>\n",
       "      <td>Ideal</td>\n",
       "      <td>H</td>\n",
       "      <td>IF</td>\n",
       "      <td>2461</td>\n",
       "      <td>0.61</td>\n",
       "      <td>59.4</td>\n",
       "      <td>59.0</td>\n",
       "      <td>5.55</td>\n",
       "      <td>5.59</td>\n",
       "      <td>3.31</td>\n",
       "      <td>2059.314209</td>\n",
       "    </tr>\n",
       "    <tr>\n",
       "      <th>21389</th>\n",
       "      <td>Very Good</td>\n",
       "      <td>D</td>\n",
       "      <td>IF</td>\n",
       "      <td>2677</td>\n",
       "      <td>0.48</td>\n",
       "      <td>60.6</td>\n",
       "      <td>55.0</td>\n",
       "      <td>5.08</td>\n",
       "      <td>5.12</td>\n",
       "      <td>3.09</td>\n",
       "      <td>1351.644165</td>\n",
       "    </tr>\n",
       "  </tbody>\n",
       "</table>\n",
       "<p>21390 rows × 11 columns</p>\n",
       "</div>"
      ],
      "text/plain": [
       "             CUT COLOR CLARITY  PRICE  CARAT  DEPTH  TABLE_PCT     X     Y  \\\n",
       "0           Good     E     VS2   2912   0.70   58.7       63.0  5.69  5.73   \n",
       "1          Ideal     H     VS2   3122   0.72   61.7       56.0  5.74  5.77   \n",
       "2        Premium     F     VS2   3429   0.80   61.6       58.0  5.98  6.03   \n",
       "3        Premium     J     VS2   3685   1.00   60.7       61.0  6.50  6.41   \n",
       "4           Good     F     SI1   3954   0.90   64.7       54.0  6.04  6.08   \n",
       "...          ...   ...     ...    ...    ...    ...        ...   ...   ...   \n",
       "21385      Ideal     I     SI1    534   0.39   62.4       54.0  4.67  4.69   \n",
       "21386       Fair     I     SI2   2129   0.91   65.0       58.0  6.05  6.02   \n",
       "21387       Good     D     VS2   2288   0.62   58.9       64.0  5.62  5.55   \n",
       "21388      Ideal     H      IF   2461   0.61   59.4       59.0  5.55  5.59   \n",
       "21389  Very Good     D      IF   2677   0.48   60.6       55.0  5.08  5.12   \n",
       "\n",
       "          Z  PREDICTED_PRICE  \n",
       "0      3.35      2347.635254  \n",
       "1      3.56      2988.656006  \n",
       "2      3.70      3119.060791  \n",
       "3      3.92      4625.031738  \n",
       "4      3.92      3552.214111  \n",
       "...     ...              ...  \n",
       "21385  2.92       872.492981  \n",
       "21386  3.92      3380.195068  \n",
       "21387  3.29      1789.939941  \n",
       "21388  3.31      2059.314209  \n",
       "21389  3.09      1351.644165  \n",
       "\n",
       "[21390 rows x 11 columns]"
      ]
     },
     "execution_count": 85,
     "metadata": {},
     "output_type": "execute_result"
    }
   ],
   "source": [
    "remote_prediction = m.default.run(test_df, function_name=\"predict\")\n",
    "remote_prediction.to_pandas()"
   ]
  },
  {
   "cell_type": "markdown",
   "metadata": {},
   "source": [
    "## Managing metadata"
   ]
  },
  {
   "cell_type": "code",
   "execution_count": 86,
   "metadata": {},
   "outputs": [
    {
     "data": {
      "text/plain": [
       "{}"
      ]
     },
     "execution_count": 86,
     "metadata": {},
     "output_type": "execute_result"
    }
   ],
   "source": [
    "m.show_tags()"
   ]
  },
  {
   "cell_type": "code",
   "execution_count": 87,
   "metadata": {},
   "outputs": [],
   "source": [
    "m.get_tag('best_model')"
   ]
  },
  {
   "cell_type": "code",
   "execution_count": 88,
   "metadata": {},
   "outputs": [],
   "source": [
    "m.set_tag('best_model', '\"1.0\"')"
   ]
  },
  {
   "cell_type": "code",
   "execution_count": 89,
   "metadata": {},
   "outputs": [
    {
     "data": {
      "text/plain": [
       "'\"1.0\"'"
      ]
     },
     "execution_count": 89,
     "metadata": {},
     "output_type": "execute_result"
    }
   ],
   "source": [
    "m.get_tag('best_model')"
   ]
  },
  {
   "cell_type": "code",
   "execution_count": null,
   "metadata": {},
   "outputs": [],
   "source": [
    "m.unset_tag('best_model')"
   ]
  },
  {
   "cell_type": "code",
   "execution_count": 90,
   "metadata": {},
   "outputs": [],
   "source": [
    "mv.version_name\n",
    "mv.set_metric(metric_name=\"mean_absolute_pct_error\", value=mean_absolute_pct_error)"
   ]
  },
  {
   "cell_type": "code",
   "execution_count": 91,
   "metadata": {},
   "outputs": [
    {
     "data": {
      "text/plain": [
       "0.18624602782995245"
      ]
     },
     "execution_count": 91,
     "metadata": {},
     "output_type": "execute_result"
    }
   ],
   "source": [
    "mv.get_metric(metric_name=\"mean_absolute_pct_error\")"
   ]
  },
  {
   "cell_type": "code",
   "execution_count": null,
   "metadata": {},
   "outputs": [],
   "source": [
    "mv.delete_metric(metric_name=\"mean_absolute_pct_error\")"
   ]
  },
  {
   "cell_type": "markdown",
   "metadata": {},
   "source": [
    "# Export or Load"
   ]
  },
  {
   "cell_type": "code",
   "execution_count": 92,
   "metadata": {},
   "outputs": [],
   "source": [
    "!rm -rf /tmp/diamonds && mkdir /tmp/diamonds"
   ]
  },
  {
   "cell_type": "code",
   "execution_count": 93,
   "metadata": {},
   "outputs": [],
   "source": [
    "mv.export('/tmp/diamonds')"
   ]
  },
  {
   "cell_type": "code",
   "execution_count": 94,
   "metadata": {},
   "outputs": [
    {
     "name": "stdout",
     "output_type": "stream",
     "text": [
      "/tmp/diamonds\n",
      "/tmp/diamonds/model\n",
      "/tmp/diamonds/model/model.yaml\n",
      "/tmp/diamonds/model/runtimes\n",
      "/tmp/diamonds/model/runtimes/cpu\n",
      "/tmp/diamonds/model/runtimes/cpu/snowflake-ml-python.zip\n",
      "/tmp/diamonds/model/runtimes/cpu/env\n",
      "/tmp/diamonds/model/runtimes/cpu/env/requirements.txt\n",
      "/tmp/diamonds/model/runtimes/cpu/env/conda.yml\n",
      "/tmp/diamonds/model/models\n",
      "/tmp/diamonds/model/models/DIAMONDS_PRICE_PREDICTOR\n",
      "/tmp/diamonds/model/models/DIAMONDS_PRICE_PREDICTOR/model.pkl\n",
      "/tmp/diamonds/model/env\n",
      "/tmp/diamonds/model/env/requirements.txt\n",
      "/tmp/diamonds/model/env/conda.yml\n"
     ]
    }
   ],
   "source": [
    "!find /tmp/diamonds"
   ]
  },
  {
   "cell_type": "code",
   "execution_count": 95,
   "metadata": {},
   "outputs": [
    {
     "name": "stderr",
     "output_type": "stream",
     "text": [
      "/tmp/snowml/snowflake/ml/_internal/telemetry.py:368: RuntimeWarning: Loading model requires to have the exact the same environment as the one when logging the model, otherwise, the model might be not functional or some other problems might occur.\n",
      "  res = func(*args, **kwargs)\n"
     ]
    },
    {
     "data": {
      "text/plain": [
       "<snowflake.ml.modeling.xgboost.xgb_regressor.XGBRegressor at 0x34fc5a130>"
      ]
     },
     "execution_count": 95,
     "metadata": {},
     "output_type": "execute_result"
    }
   ],
   "source": [
    "r = mv.load()\n",
    "r"
   ]
  },
  {
   "cell_type": "code",
   "execution_count": 96,
   "metadata": {},
   "outputs": [
    {
     "data": {
      "text/plain": [
       "['__class__',\n",
       " '__delattr__',\n",
       " '__dict__',\n",
       " '__dir__',\n",
       " '__doc__',\n",
       " '__eq__',\n",
       " '__format__',\n",
       " '__ge__',\n",
       " '__getattribute__',\n",
       " '__gt__',\n",
       " '__hash__',\n",
       " '__init__',\n",
       " '__init_subclass__',\n",
       " '__le__',\n",
       " '__lt__',\n",
       " '__module__',\n",
       " '__ne__',\n",
       " '__new__',\n",
       " '__reduce__',\n",
       " '__reduce_ex__',\n",
       " '__repr__',\n",
       " '__setattr__',\n",
       " '__sizeof__',\n",
       " '__slotnames__',\n",
       " '__str__',\n",
       " '__subclasshook__',\n",
       " '__weakref__',\n",
       " '_align_expected_output_names',\n",
       " '_autogenerated',\n",
       " '_batch_inference_validate_snowpark',\n",
       " '_batch_size',\n",
       " '_check_dataset_type',\n",
       " '_check_input_cols',\n",
       " '_check_output_cols',\n",
       " '_class_name',\n",
       " '_compute',\n",
       " '_convert_attribute_dict_to_ndarray',\n",
       " '_create_sklearn_object',\n",
       " '_create_unfitted_sklearn_object',\n",
       " '_data_sources',\n",
       " '_deps',\n",
       " '_drop_input_cols',\n",
       " '_drop_input_columns',\n",
       " '_enforce_fit',\n",
       " '_fit',\n",
       " '_generate_model_signatures',\n",
       " '_get_active_columns',\n",
       " '_get_data_sources',\n",
       " '_get_dependencies',\n",
       " '_get_output_column_names',\n",
       " '_get_param_names',\n",
       " '_get_rand_id',\n",
       " '_infer_input_cols',\n",
       " '_infer_input_output_cols',\n",
       " '_infer_output_cols',\n",
       " '_is_fitted',\n",
       " '_model_signature_dict',\n",
       " '_reset',\n",
       " '_sklearn_object',\n",
       " '_snowpark_cols',\n",
       " '_subproject',\n",
       " '_transform_sklearn',\n",
       " '_use_external_memory_version',\n",
       " '_use_input_cols_only',\n",
       " '_validate_data_has_no_nulls',\n",
       " 'custom_states',\n",
       " 'decision_function',\n",
       " 'file_names',\n",
       " 'fit',\n",
       " 'fit_predict',\n",
       " 'fit_transform',\n",
       " 'get_input_cols',\n",
       " 'get_label_cols',\n",
       " 'get_output_cols',\n",
       " 'get_params',\n",
       " 'get_passthrough_cols',\n",
       " 'get_sample_weight_col',\n",
       " 'get_sklearn_args',\n",
       " 'input_cols',\n",
       " 'kneighbors',\n",
       " 'label_cols',\n",
       " 'model_signatures',\n",
       " 'output_cols',\n",
       " 'passthrough_cols',\n",
       " 'predict',\n",
       " 'predict_log_proba',\n",
       " 'predict_proba',\n",
       " 'sample_weight_col',\n",
       " 'score',\n",
       " 'score_samples',\n",
       " 'set_drop_input_cols',\n",
       " 'set_input_cols',\n",
       " 'set_label_cols',\n",
       " 'set_output_cols',\n",
       " 'set_params',\n",
       " 'set_passthrough_cols',\n",
       " 'set_sample_weight_col',\n",
       " 'start_time',\n",
       " 'to_lightgbm',\n",
       " 'to_sklearn',\n",
       " 'to_xgboost',\n",
       " 'transform']"
      ]
     },
     "execution_count": 96,
     "metadata": {},
     "output_type": "execute_result"
    }
   ],
   "source": [
    "dir(r)"
   ]
  },
  {
   "cell_type": "markdown",
   "metadata": {},
   "source": [
    "## Lineage"
   ]
  },
  {
   "cell_type": "code",
   "execution_count": 11,
   "metadata": {},
   "outputs": [
    {
     "data": {
      "text/plain": [
       "ModelVersion(\n",
       "  name='DIAMONDS_PRICE_PREDICTOR',\n",
       "  version='WEAK_PYTHON_1',\n",
       ")"
      ]
     },
     "execution_count": 11,
     "metadata": {},
     "output_type": "execute_result"
    }
   ],
   "source": [
    "mv = m.version('WEAK_PYTHON_1')\n",
    "mv"
   ]
  },
  {
   "cell_type": "code",
   "execution_count": 12,
   "metadata": {},
   "outputs": [
    {
     "data": {
      "text/plain": [
       "[Dataset(\n",
       "   name='AI307_DS.DATA.TRAINING_DATASET',\n",
       "   version='v2',\n",
       " )]"
      ]
     },
     "execution_count": 12,
     "metadata": {},
     "output_type": "execute_result"
    }
   ],
   "source": [
    "lnode = mv.lineage(direction=\"upstream\")\n",
    "lnode"
   ]
  },
  {
   "cell_type": "code",
   "execution_count": 14,
   "metadata": {},
   "outputs": [
    {
     "data": {
      "text/plain": [
       "Dataset(\n",
       "  name='AI307_DS.DATA.TRAINING_DATASET',\n",
       "  version='v2',\n",
       ")"
      ]
     },
     "execution_count": 14,
     "metadata": {},
     "output_type": "execute_result"
    }
   ],
   "source": [
    "dsv = lnode[0]\n",
    "dsv"
   ]
  },
  {
   "cell_type": "code",
   "execution_count": 15,
   "metadata": {},
   "outputs": [
    {
     "name": "stdout",
     "output_type": "stream",
     "text": [
      "--------------------------------------------------------------------------------------------------------------------------------------------------------------------\n",
      "|\"CARAT\"              |\"CUT\"      |\"COLOR\"  |\"CLARITY\"  |\"DEPTH\"             |\"TABLE_PCT\"  |\"PRICE\"  |\"X\"                |\"Y\"                 |\"Z\"                 |\n",
      "--------------------------------------------------------------------------------------------------------------------------------------------------------------------\n",
      "|0.23000000417232513  |Ideal      |E        |SI2        |61.5                |55.0         |326      |3.950000047683716  |3.9800000190734863  |2.430000066757202   |\n",
      "|0.20999999344348907  |Premium    |E        |SI1        |59.79999923706055   |61.0         |326      |3.890000104904175  |3.8399999141693115  |2.309999942779541   |\n",
      "|0.23000000417232513  |Good       |E        |VS1        |56.900001525878906  |65.0         |327      |4.050000190734863  |4.070000171661377   |2.309999942779541   |\n",
      "|0.28999999165534973  |Premium    |I        |VS2        |62.400001525878906  |58.0         |334      |4.199999809265137  |4.230000019073486   |2.630000114440918   |\n",
      "|0.3100000023841858   |Good       |J        |SI2        |63.29999923706055   |58.0         |335      |4.340000152587891  |4.349999904632568   |2.75                |\n",
      "|0.23999999463558197  |Very Good  |J        |VVS2       |62.79999923706055   |57.0         |336      |3.940000057220459  |3.9600000381469727  |2.4800000190734863  |\n",
      "|0.23999999463558197  |Very Good  |I        |VVS1       |62.29999923706055   |57.0         |336      |3.950000047683716  |3.9800000190734863  |2.4700000286102295  |\n",
      "|0.25999999046325684  |Very Good  |H        |SI1        |61.900001525878906  |55.0         |337      |4.070000171661377  |4.110000133514404   |2.5299999713897705  |\n",
      "|0.2199999988079071   |Fair       |E        |VS2        |65.0999984741211    |61.0         |337      |3.869999885559082  |3.7799999713897705  |2.490000009536743   |\n",
      "|0.23000000417232513  |Very Good  |H        |VS1        |59.400001525878906  |61.0         |338      |4.0                |4.050000190734863   |2.390000104904175   |\n",
      "--------------------------------------------------------------------------------------------------------------------------------------------------------------------\n",
      "\n"
     ]
    }
   ],
   "source": [
    "dsv.read.to_snowpark_dataframe().show()"
   ]
  },
  {
   "cell_type": "code",
   "execution_count": 13,
   "metadata": {},
   "outputs": [
    {
     "name": "stderr",
     "output_type": "stream",
     "text": [
      "WARNING:snowflake.snowpark:Lineage.trace() is in private preview since 1.16.0. Do not use it in production. \n"
     ]
    },
    {
     "name": "stdout",
     "output_type": "stream",
     "text": [
      "-------------------------------------------------------------------------------------------------------------------------------\n",
      "|\"SOURCE_OBJECT\"                              |\"TARGET_OBJECT\"                                     |\"DIRECTION\"  |\"DISTANCE\"  |\n",
      "-------------------------------------------------------------------------------------------------------------------------------\n",
      "|{                                            |{                                                   |Downstream   |1           |\n",
      "|  \"createdOn\": \"2024-05-23T18:44:18Z\",       |  \"createdOn\": \"2024-06-06T05:27:04Z\",              |             |            |\n",
      "|  \"domain\": \"DATASET\",                       |  \"domain\": \"MODEL\",                                |             |            |\n",
      "|  \"name\": \"AI307_DS.DATA.TRAINING_DATASET\",  |  \"name\": \"AI307_DS.REGISTRY.DIAMONDS_PRICE_PRE...  |             |            |\n",
      "|  \"status\": \"ACTIVE\",                        |  \"status\": \"ACTIVE\",                               |             |            |\n",
      "|  \"version\": \"v2\"                            |  \"version\": \"\\\"1.0\\\"\"                              |             |            |\n",
      "|}                                            |}                                                   |             |            |\n",
      "|{                                            |{                                                   |Downstream   |1           |\n",
      "|  \"createdOn\": \"2024-05-23T18:44:18Z\",       |  \"createdOn\": \"2024-06-06T05:29:50Z\",              |             |            |\n",
      "|  \"domain\": \"DATASET\",                       |  \"domain\": \"MODEL\",                                |             |            |\n",
      "|  \"name\": \"AI307_DS.DATA.TRAINING_DATASET\",  |  \"name\": \"AI307_DS.REGISTRY.DIAMONDS_PRICE_PRE...  |             |            |\n",
      "|  \"status\": \"ACTIVE\",                        |  \"status\": \"ACTIVE\",                               |             |            |\n",
      "|  \"version\": \"v2\"                            |  \"version\": \"WEAK_PYTHON_1\"                        |             |            |\n",
      "|}                                            |}                                                   |             |            |\n",
      "|{                                            |{                                                   |Downstream   |1           |\n",
      "|  \"createdOn\": \"2024-05-23T18:44:18Z\",       |  \"createdOn\": \"2024-06-06T15:49:52Z\",              |             |            |\n",
      "|  \"domain\": \"DATASET\",                       |  \"domain\": \"MODEL\",                                |             |            |\n",
      "|  \"name\": \"AI307_DS.DATA.TRAINING_DATASET\",  |  \"name\": \"AI307_DS.REGISTRY.DIAMONDS_PRICE_PRE...  |             |            |\n",
      "|  \"status\": \"ACTIVE\",                        |  \"status\": \"ACTIVE\",                               |             |            |\n",
      "|  \"version\": \"v2\"                            |  \"version\": \"\\\"1.0\\\"\"                              |             |            |\n",
      "|}                                            |}                                                   |             |            |\n",
      "|{                                            |{                                                   |Downstream   |1           |\n",
      "|  \"createdOn\": \"2024-05-23T18:44:18Z\",       |  \"createdOn\": \"2024-06-06T15:50:20Z\",              |             |            |\n",
      "|  \"domain\": \"DATASET\",                       |  \"domain\": \"MODEL\",                                |             |            |\n",
      "|  \"name\": \"AI307_DS.DATA.TRAINING_DATASET\",  |  \"name\": \"AI307_DS.REGISTRY.DIAMONDS_PRICE_PRE...  |             |            |\n",
      "|  \"status\": \"ACTIVE\",                        |  \"status\": \"ACTIVE\",                               |             |            |\n",
      "|  \"version\": \"v2\"                            |  \"version\": \"WEAK_PYTHON_1\"                        |             |            |\n",
      "|}                                            |}                                                   |             |            |\n",
      "|{                                            |{                                                   |Downstream   |1           |\n",
      "|  \"createdOn\": \"2024-05-23T18:44:18Z\",       |  \"createdOn\": \"2024-06-14T01:37:23Z\",              |             |            |\n",
      "|  \"domain\": \"DATASET\",                       |  \"domain\": \"MODEL\",                                |             |            |\n",
      "|  \"name\": \"AI307_DS.DATA.TRAINING_DATASET\",  |  \"name\": \"AI307_DS.REGISTRY.DIAMONDS_PRICE_PRE...  |             |            |\n",
      "|  \"status\": \"ACTIVE\",                        |  \"status\": \"ACTIVE\",                               |             |            |\n",
      "|  \"version\": \"v2\"                            |  \"version\": \"\\\"2.0\\\"\"                              |             |            |\n",
      "|}                                            |}                                                   |             |            |\n",
      "-------------------------------------------------------------------------------------------------------------------------------\n",
      "\n"
     ]
    }
   ],
   "source": [
    "df = session.lineage.trace(\"AI307_DS.DATA.TRAINING_DATASET\", \"DATASET\",\n",
    "                           object_version='v2', direction=\"downstream\", distance=4)\n",
    "df.show()"
   ]
  },
  {
   "cell_type": "code",
   "execution_count": null,
   "metadata": {},
   "outputs": [],
   "source": [
    "render_graph(df)"
   ]
  }
 ],
 "metadata": {
  "kernelspec": {
   "display_name": "new_pkg_test",
   "language": "python",
   "name": "python3"
  },
  "language_info": {
   "codemirror_mode": {
    "name": "ipython",
    "version": 3
   },
   "file_extension": ".py",
   "mimetype": "text/x-python",
   "name": "python",
   "nbconvert_exporter": "python",
   "pygments_lexer": "ipython3",
   "version": "3.9.19"
  },
  "orig_nbformat": 4
 },
 "nbformat": 4,
 "nbformat_minor": 2
}
