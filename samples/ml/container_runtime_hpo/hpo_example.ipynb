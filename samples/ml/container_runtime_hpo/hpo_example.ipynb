{
 "cells": [
  {
   "cell_type": "markdown",
   "id": "58f917a3-caa8-4529-a5eb-e779346dd5bf",
   "metadata": {
    "collapsed": false,
    "name": "cell1"
   },
   "source": [
    "## Container Runtime HPO Example\n",
    "This example notebook demonstrates how to use the container runtime HPO API to train a simple XGBoost model with Bayesian optimization, random search, and grid search. It highlights both single-node and multi-node HPO—powered by the same API—with multi-node support enabled through an optional scale_cluster call. The notebook also shows how to retrieve and analyze HPO results via the API."
   ]
  },
  {
   "cell_type": "code",
   "execution_count": 1,
   "id": "d6c7491b-4b5f-4508-915a-c4df85c84fe8",
   "metadata": {
    "language": "python",
    "name": "cell2"
   },
   "outputs": [],
   "source": [
    "import xgboost as xgb\n",
    "from snowflake.ml.data.data_connector import DataConnector\n",
    "from snowflake.ml.modeling import tune\n",
    "from snowflake.ml.modeling.tune import get_tuner_context\n",
    "from sklearn import datasets\n",
    "from snowflake.ml.modeling.tune.search import BayesOpt, RandomSearch, GridSearch\n",
    "from sklearn.model_selection import train_test_split\n",
    "from sklearn.metrics import accuracy_score\n",
    "from snowflake.snowpark.context import get_active_session"
   ]
  },
  {
   "cell_type": "markdown",
   "id": "0cd6b014-666f-4c5f-9454-36094ff907cc",
   "metadata": {
    "collapsed": false,
    "name": "cell3"
   },
   "source": [
    "### Data Ingestion & Define Training Function"
   ]
  },
  {
   "cell_type": "code",
   "execution_count": null,
   "id": "88471178-1087-4ff7-9009-34c82860f132",
   "metadata": {
    "codeCollapsed": false,
    "language": "python",
    "name": "cell4"
   },
   "outputs": [],
   "source": [
    "######### STEP 0: FOLLOWING CODE SHOULD ALREADY BE AUTO-GENERATED IN SNOWFLAKE NOTEBOOK ##########\n",
    "\n",
    "session = get_active_session()\n",
    "    \n",
    "######### STEP 1: GENERATE ARTIFICIAL TRAINING DATA FOR ILLUSTRATION PURPOSES ##########\n",
    "X, y = datasets.load_digits(return_X_y=True, as_frame=True)\n",
    "X_train, X_test, y_train, y_test = train_test_split(\n",
    "    X, y, test_size=0.2, random_state=42\n",
    ")\n",
    "X_train = X_train.assign(target=y_train).reset_index(drop=True)\n",
    "X_test = X_test.assign(target=y_test).reset_index(drop=True)\n",
    "dataset_map = {\n",
    "    \"train\": DataConnector.from_dataframe(session.create_dataframe(X_train)),\n",
    "    \"test\": DataConnector.from_dataframe(session.create_dataframe(X_test)),\n",
    "}\n",
    "\n",
    "######### STEP 2: DEFINE TRAINING FUNCTION ##########\n",
    "def train_func():\n",
    "    tuner_context = get_tuner_context()\n",
    "    config = tuner_context.get_hyper_params()\n",
    "    dm = tuner_context.get_dataset_map()\n",
    "    train_df = dm[\"train\"].to_pandas()\n",
    "    test_df = dm[\"test\"].to_pandas()\n",
    "    train_labels = train_df['\"target\"']\n",
    "    train_features = train_df.drop(columns=['\"target\"'])\n",
    "    test_labels = test_df['\"target\"']\n",
    "    test_features = test_df.drop(columns=['\"target\"'])\n",
    "    model = xgb.XGBClassifier(\n",
    "        **{k: int(v) if k != \"learning_rate\" else v for k, v in config.items()},\n",
    "        random_state=42,\n",
    "    )\n",
    "    model.fit(train_features, train_labels)\n",
    "    accuracy = accuracy_score(\n",
    "        test_labels, model.predict(test_features)\n",
    "    )\n",
    "    tuner_context.report(metrics={\"accuracy\": accuracy}, model=model)"
   ]
  },
  {
   "cell_type": "markdown",
   "id": "d2a77c35-f894-4b14-a6a3-916f6e6837b3",
   "metadata": {
    "collapsed": false,
    "name": "cell16"
   },
   "source": [
    "### [OPTIONAL STEP] Scale Up Cluster To Enable Multi-Node HPO"
   ]
  },
  {
   "cell_type": "code",
   "execution_count": null,
   "id": "36f3a478-f9dd-4d4a-a681-bd7d22b27afe",
   "metadata": {
    "language": "python",
    "name": "cell17"
   },
   "outputs": [],
   "source": [
    "from snowflake.ml.runtime_cluster import scale_cluster\n",
    "\n",
    "scale_cluster(2) # scale up from single node to two nodes"
   ]
  },
  {
   "cell_type": "markdown",
   "id": "6ec2c335-52a8-403e-9226-edf40c70c660",
   "metadata": {
    "collapsed": false,
    "name": "cell5"
   },
   "source": [
    "### Bayesian Optimization Search"
   ]
  },
  {
   "cell_type": "code",
   "execution_count": null,
   "id": "091b516d-982e-498c-bed6-ce12d90f2c46",
   "metadata": {
    "language": "python",
    "name": "cell19"
   },
   "outputs": [],
   "source": [
    "######### STEP 3: START HPO RUN With Bayes Opt Search ##########\n",
    "tuner = tune.Tuner(\n",
    "    train_func=train_func,\n",
    "    search_space={\n",
    "        \"n_estimators\": tune.uniform(50, 200),\n",
    "        \"max_depth\": tune.uniform(3, 10),\n",
    "        \"learning_rate\": tune.uniform(0.01, 0.3),\n",
    "    },\n",
    "    tuner_config=tune.TunerConfig(\n",
    "        metric=\"accuracy\",\n",
    "        mode=\"max\",\n",
    "        search_alg=BayesOpt(),\n",
    "        num_trials=3, # Increase num_trials for broader exploration and potentially better model performance\n",
    "    ),\n",
    ")\n",
    "\n",
    "tuner_results = tuner.run(dataset_map=dataset_map)"
   ]
  },
  {
   "cell_type": "code",
   "execution_count": null,
   "id": "f35fe984-7a3a-4b99-a1db-0c150d82f5d1",
   "metadata": {
    "codeCollapsed": false,
    "language": "python",
    "name": "cell7"
   },
   "outputs": [],
   "source": [
    "######### STEP 4: EVALUATE THE HPO RUN RESULT ##########\n",
    "\n",
    "tuner_results.best_result"
   ]
  },
  {
   "cell_type": "code",
   "execution_count": null,
   "id": "e7245736-08b7-4c0e-88d3-c40f4dbfd81b",
   "metadata": {
    "codeCollapsed": false,
    "language": "python",
    "name": "cell9"
   },
   "outputs": [],
   "source": [
    "tuner_results.best_model"
   ]
  },
  {
   "cell_type": "markdown",
   "id": "931db453-efd3-4c81-b79f-417a42f2834b",
   "metadata": {
    "collapsed": false,
    "name": "cell10"
   },
   "source": [
    "### Random Search"
   ]
  },
  {
   "cell_type": "code",
   "execution_count": null,
   "id": "3cc0dbd9-dc21-49a6-8d34-f89761483eae",
   "metadata": {
    "language": "python",
    "name": "cell11"
   },
   "outputs": [],
   "source": [
    "######### START HPO RUN With Random Search ##########\n",
    "\n",
    "tuner = tune.Tuner(\n",
    "    train_func=train_func,\n",
    "    search_space={\n",
    "        \"n_estimators\": tune.uniform(50, 200),\n",
    "        \"max_depth\": tune.uniform(3, 10),\n",
    "        \"learning_rate\": tune.uniform(0.01, 0.3),\n",
    "    },\n",
    "    tuner_config=tune.TunerConfig(\n",
    "        metric=\"accuracy\",\n",
    "        mode=\"max\",\n",
    "        search_alg=RandomSearch(),\n",
    "        num_trials=3,  # Increase num_trials for broader exploration and potentially better model performance\n",
    "    ),\n",
    ")\n",
    "\n",
    "tuner_results = tuner.run(dataset_map=dataset_map)"
   ]
  },
  {
   "cell_type": "code",
   "execution_count": null,
   "id": "9dcd4bb3-5312-4be9-9e10-3cbb0fee146e",
   "metadata": {
    "codeCollapsed": false,
    "language": "python",
    "name": "cell12"
   },
   "outputs": [],
   "source": [
    "tuner_results.results"
   ]
  },
  {
   "cell_type": "markdown",
   "id": "8c47985e-ebfb-45da-a66b-846a547d5700",
   "metadata": {
    "collapsed": false,
    "name": "cell13"
   },
   "source": [
    "### Grid Search"
   ]
  },
  {
   "cell_type": "code",
   "execution_count": null,
   "id": "83b486e2-4068-4353-9f6d-f0ed3c334a91",
   "metadata": {
    "language": "python",
    "name": "cell14"
   },
   "outputs": [],
   "source": [
    "######### START HPO RUN With Grid Search ##########\n",
    "\n",
    "tuner = tune.Tuner(\n",
    "    train_func=train_func,\n",
    "    search_space = {\n",
    "        \"n_estimators\": [50, 51],\n",
    "        \"max_depth\": [4,5],\n",
    "        \"learning_rate\": [0.01, 0.03]\n",
    "    },\n",
    "    tuner_config=tune.TunerConfig(\n",
    "        metric=\"accuracy\",\n",
    "        mode=\"max\",\n",
    "        search_alg=GridSearch(),\n",
    "        max_concurrent_trials=2,  # (Optional) Maximum number of trials to run concurrently. If not set, defaults to the number of nodes in the cluster.\n",
    "        resource_per_trial={\"CPU\": 1},   # (Optional) Pre-configured for reliability; modification is rarely necessary.\n",
    "    ),\n",
    ")\n",
    "\n",
    "tuner_results = tuner.run(dataset_map=dataset_map)"
   ]
  },
  {
   "cell_type": "code",
   "execution_count": null,
   "id": "7adfe452-7865-42d8-8fde-7b025f6d9a68",
   "metadata": {
    "codeCollapsed": false,
    "language": "python",
    "name": "cell15"
   },
   "outputs": [],
   "source": [
    "# In this example, each parameter has 2 possible values, so the total number of unique combinations is 2 × 2 × 2 = 8.\n",
    "tuner_results.results"
   ]
  }
 ],
 "metadata": {
  "kernelspec": {
   "display_name": "ser_env",
   "language": "python",
   "name": "python3"
  },
  "language_info": {
   "codemirror_mode": {
    "name": "ipython",
    "version": 3
   },
   "file_extension": ".py",
   "mimetype": "text/x-python",
   "name": "python",
   "nbconvert_exporter": "python",
   "pygments_lexer": "ipython3",
   "version": "3.11.5"
  },
  "lastEditStatus": {
   "authorEmail": "kunle.li@snowflake.com",
   "authorId": "3862350591012",
   "authorName": "KLI",
   "lastEditTime": 1752185807138,
   "notebookId": "b3m3ta2fnit2z7tl5mkf",
   "sessionId": "ef1c1acc-3f26-44e3-99b4-89e755645374"
  }
 },
 "nbformat": 4,
 "nbformat_minor": 5
}
