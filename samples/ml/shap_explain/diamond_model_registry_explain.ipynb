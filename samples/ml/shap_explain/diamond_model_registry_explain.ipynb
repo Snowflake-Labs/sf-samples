{
 "cells": [
  {
   "cell_type": "markdown",
   "id": "3c103983",
   "metadata": {},
   "source": [
    "# Introduction\n",
    "\n",
    "A demo on explainable models in model registry, adapted from [Quickstart Guide](https://quickstarts.snowflake.com/guide/intro_to_machine_learning_with,_snowpark_ml_for_python/#5), where we trained a model to predict price of a diamond based on its size, color, cut."
   ]
  },
  {
   "cell_type": "markdown",
   "id": "43519846",
   "metadata": {},
   "source": [
    "## Setup Variables"
   ]
  },
  {
   "cell_type": "code",
   "execution_count": 2,
   "id": "eba704e1-63f1-4443-9c0b-ebc1842204e5",
   "metadata": {},
   "outputs": [
    {
     "name": "stderr",
     "output_type": "stream",
     "text": [
      "SnowflakeLoginOptions() is in private preview since 0.2.0. Do not use it in production. \n"
     ]
    }
   ],
   "source": [
    "from snowflake.snowpark import Session\n",
    "from snowflake.ml.utils.connection_params import SnowflakeLoginOptions\n",
    "\n",
    "session = Session.builder.configs({\n",
    "    **SnowflakeLoginOptions(connection_name=\"<connection_name>\"),\n",
    "    \"role\": \"<role>\",\n",
    "    \"database\": \"<database>\",\n",
    "    \"schema\": \"<schema>\",\n",
    "    \"warehouse\": \"<warehouse>\",\n",
    "}).create()"
   ]
  },
  {
   "cell_type": "code",
   "execution_count": 3,
   "id": "9c334c3c-b92b-4d19-829d-f1a57f11f32c",
   "metadata": {},
   "outputs": [],
   "source": [
    "TABLE = \"DIAMONDS_DATA\""
   ]
  },
  {
   "cell_type": "markdown",
   "id": "aab60ccd",
   "metadata": {},
   "source": [
    "## Getting the data"
   ]
  },
  {
   "cell_type": "code",
   "execution_count": 4,
   "id": "8f573163-9dde-4894-b72c-5d37b5766b1b",
   "metadata": {},
   "outputs": [],
   "source": [
    "train_df = session.table(TABLE)\n",
    "train_pdf = train_df.to_pandas()"
   ]
  },
  {
   "cell_type": "code",
   "execution_count": 5,
   "id": "ae4966be-0a30-4122-b068-967070b32c51",
   "metadata": {},
   "outputs": [],
   "source": [
    "CATEGORICAL_COLUMNS = [\"CUT\", \"COLOR\", \"CLARITY\"]\n",
    "NUMERICAL_COLUMNS = [\"CARAT\", \"DEPTH\", \"TABLE_PCT\", \"X\", \"Y\", \"Z\"]\n",
    "\n",
    "LABEL_COLUMNS = [\"PRICE\"]\n",
    "OUTPUT_COLUMNS = [\"PREDICTED_PRICE\"]\n",
    "\n",
    "FEATURES = CATEGORICAL_COLUMNS + NUMERICAL_COLUMNS"
   ]
  },
  {
   "cell_type": "code",
   "execution_count": 7,
   "id": "638090e5-ab36-454e-9b98-ea68036bfb72",
   "metadata": {},
   "outputs": [],
   "source": [
    "xs = train_pdf[FEATURES]\n",
    "ys = train_pdf[LABEL_COLUMNS]"
   ]
  },
  {
   "cell_type": "markdown",
   "id": "2d427e19",
   "metadata": {},
   "source": [
    "## Training"
   ]
  },
  {
   "cell_type": "code",
   "execution_count": 10,
   "id": "1026c9a0-7179-40ac-a305-b9de45540c1b",
   "metadata": {},
   "outputs": [
    {
     "name": "stdout",
     "output_type": "stream",
     "text": [
      "Learning rate set to 0.5\n",
      "0:\tlearn: 2382.0261721\ttotal: 61.4ms\tremaining: 553ms\n",
      "1:\tlearn: 1718.2563272\ttotal: 65.4ms\tremaining: 262ms\n",
      "2:\tlearn: 1491.7641987\ttotal: 69.4ms\tremaining: 162ms\n",
      "3:\tlearn: 1204.1808573\ttotal: 72.8ms\tremaining: 109ms\n",
      "4:\tlearn: 989.8381674\ttotal: 76.3ms\tremaining: 76.3ms\n",
      "5:\tlearn: 861.3793338\ttotal: 78.9ms\tremaining: 52.6ms\n",
      "6:\tlearn: 790.6427205\ttotal: 81.8ms\tremaining: 35ms\n",
      "7:\tlearn: 738.7260860\ttotal: 84.3ms\tremaining: 21.1ms\n",
      "8:\tlearn: 708.9761048\ttotal: 87.7ms\tremaining: 9.74ms\n",
      "9:\tlearn: 687.4288655\ttotal: 90.4ms\tremaining: 0us\n"
     ]
    },
    {
     "data": {
      "text/plain": [
       "<catboost.core.CatBoostRegressor at 0x12ff0aed0>"
      ]
     },
     "execution_count": 10,
     "metadata": {},
     "output_type": "execute_result"
    }
   ],
   "source": [
    "from catboost import CatBoostRegressor\n",
    "catboost_model = CatBoostRegressor(iterations=10, cat_features=CATEGORICAL_COLUMNS)\n",
    "\n",
    "catboost_model.fit(xs, ys)"
   ]
  },
  {
   "cell_type": "markdown",
   "id": "c581ab33",
   "metadata": {},
   "source": [
    "## Adding to Model Registry\n",
    "When using `log_model` set the `enable_explainability` option to `True`."
   ]
  },
  {
   "cell_type": "code",
   "execution_count": 11,
   "id": "e2f3c1e1-cdb1-405f-a640-11fc826d6c3e",
   "metadata": {},
   "outputs": [],
   "source": [
    "from snowflake.ml.registry import Registry\n",
    "\n",
    "reg = Registry(\n",
    "    session=session, \n",
    "    database_name=session.get_current_database(),\n",
    "    schema_name=session.get_current_schema()\n",
    ")"
   ]
  },
  {
   "cell_type": "code",
   "execution_count": 12,
   "id": "407acd02-2133-4185-b8ba-7c399b1c8456",
   "metadata": {},
   "outputs": [
    {
     "name": "stderr",
     "output_type": "stream",
     "text": [
      "/Users/rroy/miniconda3/envs/sfExperiments/lib/python3.11/contextlib.py:137: UserWarning: `relax_version` is not set and therefore defaulted to True. Dependency version constraints relaxed from ==x.y.z to >=x.y, <(x+1). To use specific dependency versions for compatibility, reproducibility, etc., set `options={'relax_version': False}` when logging the model.\n",
      "  return next(self.gen)\n",
      "/Users/rroy/miniconda3/envs/sfExperiments/lib/python3.11/site-packages/snowflake/ml/model/model_signature.py:69: UserWarning: The sample input has 53940 rows, thus a truncation happened before inferring signature. This might cause inaccurate signature inference. If that happens, consider specifying signature manually.\n",
      "  warnings.warn(\n"
     ]
    }
   ],
   "source": [
    "mv = reg.log_model(\n",
    "    catboost_model,\n",
    "    model_name=\"diamond_catboost_explain_enabled\",\n",
    "    version_name=\"explain_v0\",\n",
    "    conda_dependencies=[\"snowflake-ml-python\"],\n",
    "    sample_input_data = xs,\n",
    "    options={\"enable_explainability\": True}\n",
    ")"
   ]
  },
  {
   "cell_type": "markdown",
   "id": "d3e29fc6",
   "metadata": {},
   "source": [
    "New function available called `EXPLAIN` along with the inference methods."
   ]
  },
  {
   "cell_type": "code",
   "execution_count": 13,
   "id": "ffbdaac0-5314-4aef-b933-19a438809b4c",
   "metadata": {},
   "outputs": [
    {
     "data": {
      "text/plain": [
       "[{'name': 'EXPLAIN',\n",
       "  'target_method': 'explain',\n",
       "  'target_method_function_type': 'TABLE_FUNCTION',\n",
       "  'signature': ModelSignature(\n",
       "                      inputs=[\n",
       "                          FeatureSpec(dtype=DataType.STRING, name='CUT'),\n",
       "  \t\tFeatureSpec(dtype=DataType.STRING, name='COLOR'),\n",
       "  \t\tFeatureSpec(dtype=DataType.STRING, name='CLARITY'),\n",
       "  \t\tFeatureSpec(dtype=DataType.DOUBLE, name='CARAT'),\n",
       "  \t\tFeatureSpec(dtype=DataType.DOUBLE, name='DEPTH'),\n",
       "  \t\tFeatureSpec(dtype=DataType.DOUBLE, name='TABLE_PCT'),\n",
       "  \t\tFeatureSpec(dtype=DataType.DOUBLE, name='X'),\n",
       "  \t\tFeatureSpec(dtype=DataType.DOUBLE, name='Y'),\n",
       "  \t\tFeatureSpec(dtype=DataType.DOUBLE, name='Z')\n",
       "                      ],\n",
       "                      outputs=[\n",
       "                          FeatureSpec(dtype=DataType.DOUBLE, name='CUT_explanation'),\n",
       "  \t\tFeatureSpec(dtype=DataType.DOUBLE, name='COLOR_explanation'),\n",
       "  \t\tFeatureSpec(dtype=DataType.DOUBLE, name='CLARITY_explanation'),\n",
       "  \t\tFeatureSpec(dtype=DataType.DOUBLE, name='CARAT_explanation'),\n",
       "  \t\tFeatureSpec(dtype=DataType.DOUBLE, name='DEPTH_explanation'),\n",
       "  \t\tFeatureSpec(dtype=DataType.DOUBLE, name='TABLE_PCT_explanation'),\n",
       "  \t\tFeatureSpec(dtype=DataType.DOUBLE, name='X_explanation'),\n",
       "  \t\tFeatureSpec(dtype=DataType.DOUBLE, name='Y_explanation'),\n",
       "  \t\tFeatureSpec(dtype=DataType.DOUBLE, name='Z_explanation')\n",
       "                      ]\n",
       "                  )},\n",
       " {'name': 'PREDICT',\n",
       "  'target_method': 'predict',\n",
       "  'target_method_function_type': 'FUNCTION',\n",
       "  'signature': ModelSignature(\n",
       "                      inputs=[\n",
       "                          FeatureSpec(dtype=DataType.STRING, name='CUT'),\n",
       "  \t\tFeatureSpec(dtype=DataType.STRING, name='COLOR'),\n",
       "  \t\tFeatureSpec(dtype=DataType.STRING, name='CLARITY'),\n",
       "  \t\tFeatureSpec(dtype=DataType.DOUBLE, name='CARAT'),\n",
       "  \t\tFeatureSpec(dtype=DataType.DOUBLE, name='DEPTH'),\n",
       "  \t\tFeatureSpec(dtype=DataType.DOUBLE, name='TABLE_PCT'),\n",
       "  \t\tFeatureSpec(dtype=DataType.DOUBLE, name='X'),\n",
       "  \t\tFeatureSpec(dtype=DataType.DOUBLE, name='Y'),\n",
       "  \t\tFeatureSpec(dtype=DataType.DOUBLE, name='Z')\n",
       "                      ],\n",
       "                      outputs=[\n",
       "                          FeatureSpec(dtype=DataType.DOUBLE, name='output_feature_0')\n",
       "                      ]\n",
       "                  )}]"
      ]
     },
     "execution_count": 13,
     "metadata": {},
     "output_type": "execute_result"
    }
   ],
   "source": [
    "mv.show_functions()"
   ]
  },
  {
   "cell_type": "code",
   "execution_count": 14,
   "id": "9420ab45-ca32-48c1-af4c-65681c5fcc8a",
   "metadata": {},
   "outputs": [
    {
     "data": {
      "text/html": [
       "<div>\n",
       "<style scoped>\n",
       "    .dataframe tbody tr th:only-of-type {\n",
       "        vertical-align: middle;\n",
       "    }\n",
       "\n",
       "    .dataframe tbody tr th {\n",
       "        vertical-align: top;\n",
       "    }\n",
       "\n",
       "    .dataframe thead th {\n",
       "        text-align: right;\n",
       "    }\n",
       "</style>\n",
       "<table border=\"1\" class=\"dataframe\">\n",
       "  <thead>\n",
       "    <tr style=\"text-align: right;\">\n",
       "      <th></th>\n",
       "      <th>output_feature_0</th>\n",
       "    </tr>\n",
       "  </thead>\n",
       "  <tbody>\n",
       "    <tr>\n",
       "      <th>0</th>\n",
       "      <td>596.916301</td>\n",
       "    </tr>\n",
       "    <tr>\n",
       "      <th>1</th>\n",
       "      <td>638.708848</td>\n",
       "    </tr>\n",
       "    <tr>\n",
       "      <th>2</th>\n",
       "      <td>779.811544</td>\n",
       "    </tr>\n",
       "    <tr>\n",
       "      <th>3</th>\n",
       "      <td>555.369615</td>\n",
       "    </tr>\n",
       "    <tr>\n",
       "      <th>4</th>\n",
       "      <td>481.385219</td>\n",
       "    </tr>\n",
       "    <tr>\n",
       "      <th>...</th>\n",
       "      <td>...</td>\n",
       "    </tr>\n",
       "    <tr>\n",
       "      <th>53935</th>\n",
       "      <td>2973.209622</td>\n",
       "    </tr>\n",
       "    <tr>\n",
       "      <th>53936</th>\n",
       "      <td>2650.645147</td>\n",
       "    </tr>\n",
       "    <tr>\n",
       "      <th>53937</th>\n",
       "      <td>2602.661167</td>\n",
       "    </tr>\n",
       "    <tr>\n",
       "      <th>53938</th>\n",
       "      <td>2193.898369</td>\n",
       "    </tr>\n",
       "    <tr>\n",
       "      <th>53939</th>\n",
       "      <td>2694.075076</td>\n",
       "    </tr>\n",
       "  </tbody>\n",
       "</table>\n",
       "<p>53940 rows × 1 columns</p>\n",
       "</div>"
      ],
      "text/plain": [
       "       output_feature_0\n",
       "0            596.916301\n",
       "1            638.708848\n",
       "2            779.811544\n",
       "3            555.369615\n",
       "4            481.385219\n",
       "...                 ...\n",
       "53935       2973.209622\n",
       "53936       2650.645147\n",
       "53937       2602.661167\n",
       "53938       2193.898369\n",
       "53939       2694.075076\n",
       "\n",
       "[53940 rows x 1 columns]"
      ]
     },
     "execution_count": 14,
     "metadata": {},
     "output_type": "execute_result"
    }
   ],
   "source": [
    "mv.run(xs, function_name=\"predict\")"
   ]
  },
  {
   "cell_type": "markdown",
   "id": "ae4fae7d",
   "metadata": {},
   "source": [
    "## Calling `EXPLAIN`"
   ]
  },
  {
   "cell_type": "code",
   "execution_count": 15,
   "id": "0a5945b2-3c73-4786-99dc-d13be1662672",
   "metadata": {},
   "outputs": [
    {
     "data": {
      "text/html": [
       "<div>\n",
       "<style scoped>\n",
       "    .dataframe tbody tr th:only-of-type {\n",
       "        vertical-align: middle;\n",
       "    }\n",
       "\n",
       "    .dataframe tbody tr th {\n",
       "        vertical-align: top;\n",
       "    }\n",
       "\n",
       "    .dataframe thead th {\n",
       "        text-align: right;\n",
       "    }\n",
       "</style>\n",
       "<table border=\"1\" class=\"dataframe\">\n",
       "  <thead>\n",
       "    <tr style=\"text-align: right;\">\n",
       "      <th></th>\n",
       "      <th>CUT_explanation</th>\n",
       "      <th>COLOR_explanation</th>\n",
       "      <th>CLARITY_explanation</th>\n",
       "      <th>CARAT_explanation</th>\n",
       "      <th>DEPTH_explanation</th>\n",
       "      <th>TABLE_PCT_explanation</th>\n",
       "      <th>X_explanation</th>\n",
       "      <th>Y_explanation</th>\n",
       "      <th>Z_explanation</th>\n",
       "    </tr>\n",
       "  </thead>\n",
       "  <tbody>\n",
       "    <tr>\n",
       "      <th>0</th>\n",
       "      <td>0.0</td>\n",
       "      <td>166.760619</td>\n",
       "      <td>-449.627312</td>\n",
       "      <td>-1206.348313</td>\n",
       "      <td>1.619296</td>\n",
       "      <td>-18.104913</td>\n",
       "      <td>-802.440106</td>\n",
       "      <td>-292.247123</td>\n",
       "      <td>-735.327481</td>\n",
       "    </tr>\n",
       "    <tr>\n",
       "      <th>1</th>\n",
       "      <td>0.0</td>\n",
       "      <td>168.778358</td>\n",
       "      <td>-201.601291</td>\n",
       "      <td>-1338.039216</td>\n",
       "      <td>1.755842</td>\n",
       "      <td>10.650137</td>\n",
       "      <td>-789.192082</td>\n",
       "      <td>-384.523327</td>\n",
       "      <td>-761.751208</td>\n",
       "    </tr>\n",
       "    <tr>\n",
       "      <th>2</th>\n",
       "      <td>0.0</td>\n",
       "      <td>209.698547</td>\n",
       "      <td>249.776097</td>\n",
       "      <td>-1442.396141</td>\n",
       "      <td>1.755842</td>\n",
       "      <td>10.650137</td>\n",
       "      <td>-844.634118</td>\n",
       "      <td>-384.544114</td>\n",
       "      <td>-953.126340</td>\n",
       "    </tr>\n",
       "    <tr>\n",
       "      <th>3</th>\n",
       "      <td>0.0</td>\n",
       "      <td>-370.175535</td>\n",
       "      <td>134.006603</td>\n",
       "      <td>-1378.787863</td>\n",
       "      <td>1.755842</td>\n",
       "      <td>10.650137</td>\n",
       "      <td>-774.617378</td>\n",
       "      <td>-384.700362</td>\n",
       "      <td>-615.393463</td>\n",
       "    </tr>\n",
       "    <tr>\n",
       "      <th>4</th>\n",
       "      <td>0.0</td>\n",
       "      <td>-470.804986</td>\n",
       "      <td>-370.984831</td>\n",
       "      <td>-1077.890915</td>\n",
       "      <td>1.755842</td>\n",
       "      <td>10.650137</td>\n",
       "      <td>-786.953160</td>\n",
       "      <td>-169.379700</td>\n",
       "      <td>-587.638802</td>\n",
       "    </tr>\n",
       "    <tr>\n",
       "      <th>...</th>\n",
       "      <td>...</td>\n",
       "      <td>...</td>\n",
       "      <td>...</td>\n",
       "      <td>...</td>\n",
       "      <td>...</td>\n",
       "      <td>...</td>\n",
       "      <td>...</td>\n",
       "      <td>...</td>\n",
       "      <td>...</td>\n",
       "    </tr>\n",
       "    <tr>\n",
       "      <th>53935</th>\n",
       "      <td>0.0</td>\n",
       "      <td>330.942653</td>\n",
       "      <td>-271.085590</td>\n",
       "      <td>-1156.525957</td>\n",
       "      <td>4.640223</td>\n",
       "      <td>3.257916</td>\n",
       "      <td>857.326257</td>\n",
       "      <td>-470.480515</td>\n",
       "      <td>-257.497000</td>\n",
       "    </tr>\n",
       "    <tr>\n",
       "      <th>53936</th>\n",
       "      <td>0.0</td>\n",
       "      <td>330.942653</td>\n",
       "      <td>-271.085590</td>\n",
       "      <td>-343.077142</td>\n",
       "      <td>4.671432</td>\n",
       "      <td>-5.538360</td>\n",
       "      <td>-504.289171</td>\n",
       "      <td>-420.764317</td>\n",
       "      <td>-72.845993</td>\n",
       "    </tr>\n",
       "    <tr>\n",
       "      <th>53937</th>\n",
       "      <td>0.0</td>\n",
       "      <td>330.942653</td>\n",
       "      <td>-271.085590</td>\n",
       "      <td>-343.077142</td>\n",
       "      <td>4.640223</td>\n",
       "      <td>3.257916</td>\n",
       "      <td>-504.289171</td>\n",
       "      <td>-422.475924</td>\n",
       "      <td>-127.883434</td>\n",
       "    </tr>\n",
       "    <tr>\n",
       "      <th>53938</th>\n",
       "      <td>0.0</td>\n",
       "      <td>-255.983618</td>\n",
       "      <td>-665.091902</td>\n",
       "      <td>-940.822052</td>\n",
       "      <td>4.640223</td>\n",
       "      <td>3.257916</td>\n",
       "      <td>849.681084</td>\n",
       "      <td>-496.931863</td>\n",
       "      <td>-237.483054</td>\n",
       "    </tr>\n",
       "    <tr>\n",
       "      <th>53939</th>\n",
       "      <td>0.0</td>\n",
       "      <td>377.751561</td>\n",
       "      <td>-795.457401</td>\n",
       "      <td>-943.879723</td>\n",
       "      <td>4.671432</td>\n",
       "      <td>-5.538360</td>\n",
       "      <td>844.078233</td>\n",
       "      <td>-494.939151</td>\n",
       "      <td>-225.243149</td>\n",
       "    </tr>\n",
       "  </tbody>\n",
       "</table>\n",
       "<p>53940 rows × 9 columns</p>\n",
       "</div>"
      ],
      "text/plain": [
       "       CUT_explanation  COLOR_explanation  CLARITY_explanation  \\\n",
       "0                  0.0         166.760619          -449.627312   \n",
       "1                  0.0         168.778358          -201.601291   \n",
       "2                  0.0         209.698547           249.776097   \n",
       "3                  0.0        -370.175535           134.006603   \n",
       "4                  0.0        -470.804986          -370.984831   \n",
       "...                ...                ...                  ...   \n",
       "53935              0.0         330.942653          -271.085590   \n",
       "53936              0.0         330.942653          -271.085590   \n",
       "53937              0.0         330.942653          -271.085590   \n",
       "53938              0.0        -255.983618          -665.091902   \n",
       "53939              0.0         377.751561          -795.457401   \n",
       "\n",
       "       CARAT_explanation  DEPTH_explanation  TABLE_PCT_explanation  \\\n",
       "0           -1206.348313           1.619296             -18.104913   \n",
       "1           -1338.039216           1.755842              10.650137   \n",
       "2           -1442.396141           1.755842              10.650137   \n",
       "3           -1378.787863           1.755842              10.650137   \n",
       "4           -1077.890915           1.755842              10.650137   \n",
       "...                  ...                ...                    ...   \n",
       "53935       -1156.525957           4.640223               3.257916   \n",
       "53936        -343.077142           4.671432              -5.538360   \n",
       "53937        -343.077142           4.640223               3.257916   \n",
       "53938        -940.822052           4.640223               3.257916   \n",
       "53939        -943.879723           4.671432              -5.538360   \n",
       "\n",
       "       X_explanation  Y_explanation  Z_explanation  \n",
       "0        -802.440106    -292.247123    -735.327481  \n",
       "1        -789.192082    -384.523327    -761.751208  \n",
       "2        -844.634118    -384.544114    -953.126340  \n",
       "3        -774.617378    -384.700362    -615.393463  \n",
       "4        -786.953160    -169.379700    -587.638802  \n",
       "...              ...            ...            ...  \n",
       "53935     857.326257    -470.480515    -257.497000  \n",
       "53936    -504.289171    -420.764317     -72.845993  \n",
       "53937    -504.289171    -422.475924    -127.883434  \n",
       "53938     849.681084    -496.931863    -237.483054  \n",
       "53939     844.078233    -494.939151    -225.243149  \n",
       "\n",
       "[53940 rows x 9 columns]"
      ]
     },
     "execution_count": 15,
     "metadata": {},
     "output_type": "execute_result"
    }
   ],
   "source": [
    "mv.run(xs, function_name=\"explain\")"
   ]
  },
  {
   "cell_type": "code",
   "execution_count": null,
   "id": "d4c351b6-b3b8-4275-b9b0-067e0cacb24c",
   "metadata": {},
   "outputs": [],
   "source": []
  }
 ],
 "metadata": {
  "kernelspec": {
   "display_name": "demo3",
   "language": "python",
   "name": "python3"
  },
  "language_info": {
   "codemirror_mode": {
    "name": "ipython",
    "version": 3
   },
   "file_extension": ".py",
   "mimetype": "text/x-python",
   "name": "python",
   "nbconvert_exporter": "python",
   "pygments_lexer": "ipython3",
   "version": "3.10.8"
  }
 },
 "nbformat": 4,
 "nbformat_minor": 5
}
