{
  "cells": [
    {
      "cell_type": "markdown",
      "source": [
        "Customers who use Snowflake with AzureML and Sagemaker will have models registered in either cloud ML tool and prefer to deploy those models to Snowflake. Often it's the case that all (or most) of the inference data is in Snowflake and customers prefer the ease of use, performance and security of having the model deployed in Snowflake.\n",
        "\n",
        "For models registered in the AzureML model registry you can use the below code to access the model from the AzureML registry and push it to the Snowflake registry.\n",
        "\n",
        "Important Notes\n",
        "\n",
        "For both AzureML and Sagemaker deployment patterns users will need to make sure that they have properly installed all of the necessary libraries in their Python environments. For the required Snowflake packages this can usually be done with the instructions here: https://docs.snowflake.com/en/developer-guide/snowpark-ml/index#installing-snowpark-ml\n",
        "\n",
        "Additionally, when using log_model() to push the model into the Snowflake registry users may need to specific dependencies and versions. This can be done with an additional argument in the function. Please see the documentation here: https://docs.snowflake.com/en/developer-guide/snowpark-ml/reference/latest/api/registry/snowflake.ml.registry.Registry#snowflake.ml.registry.Registry\n",
        "\n",
        "Lastly, users will want to make sure that their model is supported by libraries that are included in the Snowflake conda channel. https://repo.anaconda.com/pkgs/snowflake/\n",
        "If the model is not supported then users will need to consider installing the libraries as 3rd party packages or using Snowpark Container Services to deploy their model as an application. https://docs.snowflake.com/en/developer-guide/snowpark-container-services/overvie\n"
      ],
      "metadata": {
        "nteract": {
          "transient": {
            "deleting": false
          }
        }
      }
    },
    {
      "cell_type": "code",
      "source": [
        "from azureml.core import Workspace, Dataset\n",
        "import numpy as np\n",
        "\n",
        "# Connect to the Workspace\n",
        "ws = Workspace.from_config()"
      ],
      "outputs": [],
      "execution_count": null,
      "metadata": {}
    },
    {
      "cell_type": "code",
      "source": [
        "# Access model using model name\n",
        "from azureml.core import Model\n",
        "model_path = Model.get_model_path(model_name = '<model name>', version = 1, _workspace= ws)\n",
        "model_path"
      ],
      "outputs": [],
      "execution_count": null,
      "metadata": {
        "jupyter": {
          "source_hidden": false,
          "outputs_hidden": false
        },
        "nteract": {
          "transient": {
            "deleting": false
          }
        }
      }
    },
    {
      "cell_type": "code",
      "source": [
        "# Load model\n",
        "from joblib import load\n",
        "aml_model = load(model_path + \"/model.pkl\")\n",
        "aml_model"
      ],
      "outputs": [],
      "execution_count": null,
      "metadata": {
        "jupyter": {
          "source_hidden": false,
          "outputs_hidden": false
        },
        "nteract": {
          "transient": {
            "deleting": false
          }
        }
      }
    },
    {
      "cell_type": "code",
      "source": [
        "\n",
        "# Look at model environment\n",
        "with open(model_path +  '/./python_env.yaml') as f:\n",
        "    print(f.read())\n",
        "\n",
        "# Look at model requirements\n",
        "with open(model_path +  '/./requirements.txt') as f:\n",
        "    print(f.read())"
      ],
      "outputs": [],
      "execution_count": null,
      "metadata": {
        "jupyter": {
          "source_hidden": false,
          "outputs_hidden": false
        },
        "nteract": {
          "transient": {
            "deleting": false
          }
        }
      }
    },
    {
      "cell_type": "code",
      "source": [
        "# connect to Snowflake with Snowpark\n",
        "import pandas as pd\n",
        "from snowflake.snowpark.session import Session\n",
        "from snowflake.snowpark.functions import *\n",
        "from snowflake.snowpark.types import *\n",
        "from snowflake.ml.registry import registry\n",
        "\n",
        "connection_parameters = {\n",
        "    \"account\": \"<locator>\", # e.g. xy12345.us-east-2.aws \n",
        "    \"user\": \"<username>\", \n",
        "    \"password\": \"<password>\",\n",
        "    \"role\": \"<role>\",\n",
        "    \"warehouse\": \"<vistual warehouse>\",\n",
        "    \"database\": \"<database>\",\n",
        "    \"schema\": \"<schema>\"\n",
        "    }\n",
        "session = Session.builder.configs(connection_parameters).create()"
      ],
      "outputs": [],
      "execution_count": null,
      "metadata": {
        "jupyter": {
          "source_hidden": false,
          "outputs_hidden": false
        },
        "nteract": {
          "transient": {
            "deleting": false
          }
        }
      }
    },
    {
      "cell_type": "code",
      "source": [
        "\n",
        "# connect to Snowpark registry and log model\n",
        "reg = registry.Registry(session=session)\n",
        "reg.log_model(aml_model, model_name='<name of model in Snowflake>', version_name='v1', sample_input_data=<sample dataframe>)\n",
        "\n",
        "# verify model deployment and view functions associated with the model\n",
        "mv = reg.get_model('<name of model in Snowflake>').version('v1')\n",
        "mv.show_functions()"
      ],
      "outputs": [],
      "execution_count": null,
      "metadata": {
        "jupyter": {
          "source_hidden": false,
          "outputs_hidden": false
        },
        "nteract": {
          "transient": {
            "deleting": false
          }
        }
      }
    }
  ],
  "metadata": {
    "kernelspec": {
      "display_name": "Python 3.10 - SDK v2",
      "language": "python",
      "name": "python310-sdkv2"
    },
    "language_info": {
      "codemirror_mode": {
        "name": "ipython",
        "version": 3
      },
      "file_extension": ".py",
      "mimetype": "text/x-python",
      "name": "python",
      "nbconvert_exporter": "python",
      "pygments_lexer": "ipython3",
      "version": "3.10.6"
    },
    "microsoft": {
      "ms_spell_check": {
        "ms_spell_check_language": "en"
      }
    },
    "nteract": {
      "version": "nteract-front-end@1.0.0"
    }
  },
  "nbformat": 4,
  "nbformat_minor": 2
}