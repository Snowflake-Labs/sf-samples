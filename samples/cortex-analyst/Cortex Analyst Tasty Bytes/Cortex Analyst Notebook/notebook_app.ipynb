{
 "metadata": {
  "kernelspec": {
   "display_name": "Streamlit Notebook",
   "name": "streamlit"
  }
 },
 "nbformat_minor": 5,
 "nbformat": 4,
 "cells": [
  {
   "cell_type": "markdown",
   "id": "6f3d9f58-4ff2-4ba9-9212-68d788cac33f",
   "metadata": {
    "name": "cell10",
    "collapsed": false
   },
   "source": "# Cortex Analyst"
  },
  {
   "cell_type": "code",
   "id": "3775908f-ca36-4846-8f38-5adca39217f2",
   "metadata": {
    "language": "python",
    "name": "cell1",
    "codeCollapsed": false
   },
   "source": "from snowflake.snowpark.context import get_active_session\nimport _snowflake\nimport json\n\nsession = get_active_session()\nDATABASE = \"TB_101\"\nSCHEMA = \"SEMANTIC_MODELS\"\nSTAGE = \"SEMANTIC_MODELS\"\nSEMANTIC_MODEL_FILENAME = \"sales_detail_semantic_model.yaml\"",
   "execution_count": null,
   "outputs": []
  },
  {
   "cell_type": "markdown",
   "id": "7988e572-c30a-4ac3-bf13-6fe3daeac8c0",
   "metadata": {
    "name": "cell13",
    "collapsed": false
   },
   "source": "## Make API call and examine results"
  },
  {
   "cell_type": "code",
   "id": "c695373e-ac74-4b62-a1f1-08206cbd5c81",
   "metadata": {
    "language": "python",
    "name": "cell3",
    "codeCollapsed": false
   },
   "source": "prompt = \"\"\"What food truck brand had the most total sales revenue?\"\"\"\nrequest_body = {\n        \"role\": \"user\",\n        \"content\": [{\"type\": \"text\", \"text\": prompt}],\n        \"semantic_model\": f\"@{STAGE}/{SEMANTIC_MODEL_FILENAME}\",\n    }\napi_response = _snowflake.send_snow_api_request(\n    \"POST\",\n    f\"/api/v2/databases/{DATABASE}/schemas/{SCHEMA}/copilots/-/chats/-/messages\",\n    {},\n    {},\n    request_body,\n    {},\n    30000,\n)\n\napi_response",
   "execution_count": null,
   "outputs": []
  },
  {
   "cell_type": "markdown",
   "id": "c33528a3-ccda-40dd-adf9-8e9cfe305f9d",
   "metadata": {
    "name": "cell16",
    "collapsed": false
   },
   "source": "## Examine Cortex Analyst API response"
  },
  {
   "cell_type": "code",
   "id": "d6276277-de9d-4ee7-a5dd-8fa433059300",
   "metadata": {
    "language": "python",
    "name": "cell4",
    "codeCollapsed": false,
    "collapsed": false
   },
   "outputs": [],
   "source": "content = json.loads(api_response['content'])\nanalyst_response = content['messages'][-1]\nanalyst_response",
   "execution_count": null
  },
  {
   "cell_type": "markdown",
   "id": "156a6fd3-c5e8-4aec-8975-1c4f9a51cd1e",
   "metadata": {
    "name": "cell19",
    "collapsed": false
   },
   "source": "## Extract SQL statement for the Cortex Analyst response and execute"
  },
  {
   "cell_type": "code",
   "id": "7519e9f7-bee6-41ad-9271-ee5dcb5d8de0",
   "metadata": {
    "language": "python",
    "name": "cell5",
    "codeCollapsed": false
   },
   "outputs": [],
   "source": "sql_statement = \"\"\nfor item in analyst_response['content']:\n    if item['type'] == 'sql':\n        sql_statement = item['statement']\n        if sql_statement[-1] == ';':\n            sql_statement = sql_statement[:-1]\nsql_statement",
   "execution_count": null
  },
  {
   "cell_type": "code",
   "id": "51770d43-cee5-46f2-8b5b-b5698d765c09",
   "metadata": {
    "language": "python",
    "name": "cell7",
    "codeCollapsed": false
   },
   "outputs": [],
   "source": "session.sql(sql_statement)",
   "execution_count": null
  }
 ]
}