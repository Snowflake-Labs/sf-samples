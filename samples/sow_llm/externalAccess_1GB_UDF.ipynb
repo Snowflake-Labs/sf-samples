{
 "cells": [
  {
   "cell_type": "markdown",
   "metadata": {},
   "source": [
    "## An first approach to downloading Transformer models\n",
    "  * may download model multiple times\n",
    "  * possibly can report back via internet during inference as an outbound connection is still permited (per External Access network rule)"
   ]
  },
  {
   "cell_type": "code",
   "execution_count": 1,
   "metadata": {},
   "outputs": [],
   "source": [
    "from snowflake.snowpark.session import Session\n",
    "import snowflake.connector\n",
    "import snowflake.snowpark.functions as F\n",
    "import os\n",
    "import json"
   ]
  },
  {
   "cell_type": "code",
   "execution_count": 2,
   "metadata": {},
   "outputs": [],
   "source": [
    "with open('../config.json') as f:\n",
    "    data = json.load(f)\n",
    "    USERNAME = data['user']\n",
    "    PASSWORD = data['password']\n",
    "    SF_ACCOUNT = data['account']\n",
    "    SF_ROLE = data['role']\n",
    "    SF_WH = data['warehouse']\n",
    "    SF_DB = data['database']\n",
    "    SF_SCHEMA = data['schema']\n",
    "\n",
    "connection_parameters = {\n",
    "    \"account\": SF_ACCOUNT,\n",
    "    \"user\": USERNAME,\n",
    "    \"password\": PASSWORD,\n",
    "    \"role\": SF_ROLE,\n",
    "    \"warehouse\": SF_WH,\n",
    "    \"database\": SF_DB,\n",
    "    \"schema\": SF_SCHEMA\n",
    "}\n",
    "\n",
    "session = Session.builder.configs(connection_parameters).create()\n",
    "\n",
    "con = snowflake.connector.connect(\n",
    "    user=USERNAME, #You can get it by executing in UI: desc user <username>; \n",
    "    # Or Snowflake APP UI --> \"HOME icon\" | Profile | Username\n",
    "    account=SF_ACCOUNT, #Add all of the account-name between https:// and snowflakecomputing.com\n",
    "    password=PASSWORD,\n",
    "    database=SF_DB,\n",
    "    warehouse=SF_WH,\n",
    "    role=SF_ROLE,\n",
    "    schema=SF_SCHEMA\n",
    ")\n",
    "\n",
    "cur = con.cursor()"
   ]
  },
  {
   "cell_type": "code",
   "execution_count": 3,
   "metadata": {},
   "outputs": [
    {
     "name": "stdout",
     "output_type": "stream",
     "text": [
      "------------------------------------------\n",
      "|\"CURRENT_ROLE()\"  |\"CURRENT_VERSION()\"  |\n",
      "------------------------------------------\n",
      "|ACCOUNTADMIN      |7.31.0               |\n",
      "------------------------------------------\n",
      "\n",
      "----------------------\n",
      "|\"WAREHOUSETYPE\"     |\n",
      "----------------------\n",
      "|SNOWPARK-OPTIMIZED  |\n",
      "----------------------\n",
      "\n"
     ]
    }
   ],
   "source": [
    "#sqlStatment = 'select current_account(), current_role(), current_user(), current_database(), current_schema(), current_warehouse(), current_version()'\n",
    "sqlStatment = 'select  current_role(),  current_version()'\n",
    "session.sql(sqlStatment).show()\n",
    "sqlStatment = f\"show warehouses like '{SF_WH}'\"\n",
    "session.sql(sqlStatment).collect()\n",
    "sqlStatment = 'SELECT \"type\" as warehouseType FROM table(result_scan(last_query_id()))'\n",
    "session.sql(sqlStatment).show()"
   ]
  },
  {
   "cell_type": "markdown",
   "metadata": {},
   "source": [
    "## Start Inference via External Access with Local LLM (within Snowpark)"
   ]
  },
  {
   "cell_type": "code",
   "execution_count": 4,
   "metadata": {},
   "outputs": [
    {
     "data": {
      "text/plain": [
       "<snowflake.connector.cursor.SnowflakeCursor at 0x7f99b8adbfd0>"
      ]
     },
     "execution_count": 4,
     "metadata": {},
     "output_type": "execute_result"
    }
   ],
   "source": [
    "sql_statement =  '''CREATE or REPLACE NETWORK RULE external_access_llm_rule\n",
    "MODE = EGRESS\n",
    "TYPE = HOST_PORT\n",
    "VALUE_LIST =( 'huggingface.co','cdn-lfs.huggingface.co', 'api-inference.huggingface.co')\n",
    "'''\n",
    "\n",
    "cur.execute(sql_statement)"
   ]
  },
  {
   "cell_type": "code",
   "execution_count": 5,
   "metadata": {},
   "outputs": [
    {
     "data": {
      "text/plain": [
       "<snowflake.connector.cursor.SnowflakeCursor at 0x7f99b8adbfd0>"
      ]
     },
     "execution_count": 5,
     "metadata": {},
     "output_type": "execute_result"
    }
   ],
   "source": [
    "sql_statement =   '''CREATE OR REPLACE EXTERNAL ACCESS INTEGRATION external_access_llm_integration\n",
    "ALLOWED_NETWORK_RULES = (external_access_llm_rule)\n",
    "ENABLED = true;\n",
    "'''\n",
    "\n",
    "cur.execute(sql_statement)"
   ]
  },
  {
   "cell_type": "code",
   "execution_count": 6,
   "metadata": {},
   "outputs": [
    {
     "data": {
      "text/plain": [
       "<snowflake.connector.cursor.SnowflakeCursor at 0x7f99b8adbfd0>"
      ]
     },
     "execution_count": 6,
     "metadata": {},
     "output_type": "execute_result"
    }
   ],
   "source": [
    "sql_statement =  '''CREATE OR REPLACE FUNCTION external_access_base_llm_infer(question VARCHAR)\n",
    "RETURNS VARIANT\n",
    "LANGUAGE PYTHON\n",
    "runtime_version='3.8'\n",
    "PACKAGES = ('transformers', 'pytorch', 'sentencepiece')\n",
    "EXTERNAL_ACCESS_INTEGRATIONS = (external_access_llm_integration)\n",
    "handler='base_llm'\n",
    "as\n",
    "$$\n",
    "import _snowflake\n",
    "import requests\n",
    "import json\n",
    "import os\n",
    "import torch\n",
    "os.environ['TRANSFORMERS_CACHE'] = '/tmp/'\n",
    "\n",
    "modelID = \"google/flan-t5-base\" # 945 MB\n",
    "\n",
    "from transformers import T5Tokenizer, T5ForConditionalGeneration\n",
    "\n",
    "def base_llm(input_text):\n",
    "  # model, tokenizer may be initialized several times\n",
    "  tokenizer = T5Tokenizer.from_pretrained(modelID)\n",
    "  model = T5ForConditionalGeneration.from_pretrained(modelID)\n",
    "  input_ids = tokenizer(input_text, return_tensors=\"pt\").input_ids\n",
    "  outputs = model.generate(input_ids ,max_length=50)\n",
    "\n",
    "  response = tokenizer.decode(outputs[0])\n",
    "  response = response.replace(tokenizer.pad_token, \"\").replace(tokenizer.eos_token, \"\")\n",
    "  return (response.strip().upper())\n",
    "\n",
    "$$;\n",
    "'''\n",
    "\n",
    "cur.execute(sql_statement)"
   ]
  },
  {
   "cell_type": "code",
   "execution_count": 7,
   "metadata": {},
   "outputs": [
    {
     "name": "stdout",
     "output_type": "stream",
     "text": [
      "---------------------------------------------------------------------------\n",
      "|\"INPUT\"                                         |\"LLM_RESULT\"            |\n",
      "---------------------------------------------------------------------------\n",
      "|translate English to French: What time is it??  |\"QUELLE TEMPS EST-CE?\"  |\n",
      "---------------------------------------------------------------------------\n",
      "\n"
     ]
    }
   ],
   "source": [
    "sqlStatment = f\"select 'translate English to French: What time is it??' as input, external_access_base_llm_infer( 'translate English to French: What time is it??' ) as llm_result\"\n",
    "session.sql(sqlStatment).show()"
   ]
  },
  {
   "cell_type": "code",
   "execution_count": 8,
   "metadata": {},
   "outputs": [
    {
     "name": "stdout",
     "output_type": "stream",
     "text": [
      "Nbr of prompts: 14\n"
     ]
    }
   ],
   "source": [
    "prompt_df = session.table(\"FLAN_PROMPT\")\n",
    "print(f\"Nbr of prompts: {prompt_df.count():,}\")\n",
    "#prompt_df.show(max_width=150)"
   ]
  },
  {
   "cell_type": "code",
   "execution_count": 9,
   "metadata": {},
   "outputs": [
    {
     "name": "stdout",
     "output_type": "stream",
     "text": [
      "---------------------------------------------------------------------------------------------------------------------------------------------------------------------------------------------------------------------------------------------------------------\n",
      "|\"PROMPT\"                                                                                                                                                |\"EXTERNAL_ACCESS_BASE_LLM_INFER(\"\"PROMPT\"\")\"                                                        |\n",
      "---------------------------------------------------------------------------------------------------------------------------------------------------------------------------------------------------------------------------------------------------------------\n",
      "|translate English to French: What time is it??                                                                                                          |\"QUELLE TEMPS EST-CE?\"                                                                              |\n",
      "|translate English to German: What is your name?                                                                                                         |\"WAS IST IHR NAME?\"                                                                                 |\n",
      "|Translate this English sentence to Spanish: Cat loves chicken pizza                                                                                     |\"EL RATO ENCANTA LA PIZZA DE CHILE\"                                                                 |\n",
      "|Alice made her friend, Xin, laugh when she told a funny joke.\\n\\nWho is she referring to?\\n\\n(A)Alice \\n(B)Xin                                          |\"ALICE\"                                                                                             |\n",
      "|Alice made her friend, Xin, laugh when she told a funny joke.\\n\\nWho laughed?\\n\\n(A)Alice \\n(B)Xin                                                      |\"ALICE\"                                                                                             |\n",
      "|Answer the following yes/no question by reasoning step by step. Can a dog drive a car?                                                                  |\"DOGS ARE NOT ALLOWED TO DRIVE CARS. THEREFORE, THE FINAL ANSWER IS NO.\"                            |\n",
      "|Please answer to the following question. Who is going to be the next Ballon d\\\\'or?                                                                     |\"S<UNK> RA SÁNCHEZ\"                                                                                 |\n",
      "|Translate to German:  My name is Arthur                                                                                                                 |\"ICH MUSS ARTHUR HEISSEN.\"                                                                          |\n",
      "|Q: Can Geoffrey Hinton have a conversation with George Washington? Give the rationale before answering.                                                 |\"GEORGE WASHINGTON WAS BORN IN 1789. GEOFFREY HINTON WAS BORN IN 1789. SO THE FINAL ANSWER IS NO.\"  |\n",
      "|Please answer the following question. What is the boiling point of Nitrogen?                                                                            |\"212 ° C\"                                                                                           |\n",
      "|Answer the following yes/no question. Can you write a whole Haiku in a single tweet?                                                                    |\"NO\"                                                                                                |\n",
      "|Q: ( False or not False or False ) is? A: Let\\\\'s think step by step                                                                                    |\"FALSE OR NOT FALSE OR FALSE IS A SATIRE OF THE TERM FALSE OR FALSE. SO THE ANSWER IS FALSE.\"       |\n",
      "|The square root of x is the cube root of y. What is y to the power of 2, if x = 4?                                                                      |\"X = 4 * 2 = 8 X = 16 Y = 16 TO THE POWER OF 2.\"                                                    |\n",
      "|Premise:  At my age you will probably have learnt one lesson. Hypothesis:  It\\\\'s not certain how many lessons you\\\\'ll learn by your thirties. Doe...  |\"IT IS NOT POSSIBLE TO TELL\"                                                                        |\n",
      "---------------------------------------------------------------------------------------------------------------------------------------------------------------------------------------------------------------------------------------------------------------\n",
      "\n"
     ]
    }
   ],
   "source": [
    "prompt_df.select(F.col(\"PROMPT\")).select(F.col(\"PROMPT\"), F.call_function(\"external_access_base_llm_infer\", F.col(\"PROMPT\"))).show(15, max_width=150)"
   ]
  },
  {
   "cell_type": "markdown",
   "metadata": {},
   "source": [
    "# Done - ZZZZZ"
   ]
  }
 ],
 "metadata": {
  "kernelspec": {
   "display_name": "Python 3 (ipykernel)",
   "language": "python",
   "name": "python3"
  },
  "language_info": {
   "codemirror_mode": {
    "name": "ipython",
    "version": 3
   },
   "file_extension": ".py",
   "mimetype": "text/x-python",
   "name": "python",
   "nbconvert_exporter": "python",
   "pygments_lexer": "ipython3",
   "version": "3.10.11"
  }
 },
 "nbformat": 4,
 "nbformat_minor": 4
}
