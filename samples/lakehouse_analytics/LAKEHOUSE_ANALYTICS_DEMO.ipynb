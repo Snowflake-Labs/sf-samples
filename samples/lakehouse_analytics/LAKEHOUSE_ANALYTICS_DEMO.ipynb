{
 "metadata": {
  "kernelspec": {
   "display_name": "Streamlit Notebook",
   "name": "streamlit"
  },
  "lastEditStatus": {
   "notebookId": "46yftaik2ansv7b5a35x",
   "authorId": "197899322529",
   "authorName": "VINOD",
   "authorEmail": "vino.duraisamy@snowflake.com",
   "sessionId": "825120dd-b0a0-489c-aa90-20bf240dc46a",
   "lastEditTime": 1757973500989
  }
 },
 "nbformat_minor": 5,
 "nbformat": 4,
 "cells": [
  {
   "cell_type": "markdown",
   "id": "bf895b7f-a3c0-474d-a547-70c4efc31bce",
   "metadata": {
    "name": "cell7",
    "collapsed": false
   },
   "source": "## Create External Volume"
  },
  {
   "cell_type": "code",
   "id": "4352fa88-085e-459a-bddb-8fe74a91602c",
   "metadata": {
    "language": "sql",
    "name": "cell8"
   },
   "outputs": [],
   "source": "CREATE OR REPLACE EXTERNAL VOLUME exvol_vino\n   STORAGE_LOCATIONS =\n      (\n         (\n            NAME = 'my-s3-us-west-2'\n            STORAGE_PROVIDER = 'S3'\n            STORAGE_BASE_URL = 's3://amazon-product-reviews-dataset/'\n            STORAGE_AWS_ROLE_ARN = ''\n            STORAGE_AWS_EXTERNAL_ID = 'iceberg_table_external_id'\n         )\n      )\n      ALLOW_WRITES = TRUE;",
   "execution_count": null
  },
  {
   "cell_type": "code",
   "id": "61b61de5-143c-45c4-82d7-11cd9ae46906",
   "metadata": {
    "language": "sql",
    "name": "cell9"
   },
   "outputs": [],
   "source": "DESC EXTERNAL VOLUME exvol_vino;",
   "execution_count": null
  },
  {
   "cell_type": "code",
   "id": "fef80e53-4509-4290-9890-f951ae156375",
   "metadata": {
    "language": "sql",
    "name": "cell10"
   },
   "outputs": [],
   "source": "SELECT SYSTEM$VERIFY_EXTERNAL_VOLUME('exvol_vino');",
   "execution_count": null
  },
  {
   "cell_type": "markdown",
   "id": "48d41a52-4b29-4e24-8ea9-63adf522dc54",
   "metadata": {
    "name": "cell20",
    "collapsed": false
   },
   "source": "## Create Catalog Integration"
  },
  {
   "cell_type": "code",
   "id": "bf0c35a5-e330-4de4-a152-9d9a249865e4",
   "metadata": {
    "language": "sql",
    "name": "cell14"
   },
   "outputs": [],
   "source": "CREATE OR REPLACE CATALOG INTEGRATION glue_rest_cat_int\n  CATALOG_SOURCE = ICEBERG_REST\n  TABLE_FORMAT = ICEBERG\n  CATALOG_NAMESPACE = 'product_reviews_db'\n  REST_CONFIG = (\n    CATALOG_URI = 'https://glue.us-west-2.amazonaws.com/iceberg'\n    CATALOG_API_TYPE = AWS_GLUE\n    CATALOG_NAME = '849350360261'\n  )\n  REST_AUTHENTICATION = (\n    TYPE = SIGV4\n    SIGV4_IAM_ROLE = ''\n    SIGV4_SIGNING_REGION = 'us-west-2'\n  )\n  ENABLED = TRUE;",
   "execution_count": null
  },
  {
   "cell_type": "code",
   "id": "8970b781-2129-4f44-b3f0-b31a06c2c52e",
   "metadata": {
    "language": "sql",
    "name": "cell13"
   },
   "outputs": [],
   "source": "DESCRIBE CATALOG INTEGRATION glue_rest_cat_int;",
   "execution_count": null
  },
  {
   "cell_type": "code",
   "id": "eacee4d1-ba0e-47d1-a3cf-c55d3540190e",
   "metadata": {
    "language": "sql",
    "name": "cell19"
   },
   "outputs": [],
   "source": "SELECT SYSTEM$VERIFY_CATALOG_INTEGRATION('glue_rest_cat_int');",
   "execution_count": null
  },
  {
   "cell_type": "markdown",
   "id": "b3d44ce1-8393-48de-8d99-99ee4b5edd83",
   "metadata": {
    "name": "cell21",
    "collapsed": false
   },
   "source": "## Create a Catalog Linked Database (CLD)"
  },
  {
   "cell_type": "code",
   "id": "b707608c-ca49-4695-87bf-543a4d6ef62f",
   "metadata": {
    "language": "sql",
    "name": "cell18"
   },
   "outputs": [],
   "source": "CREATE DATABASE cld_vino_prod\n  LINKED_CATALOG = (\n    CATALOG = 'glue_rest_cat_int',\n    NAMESPACE_MODE = FLATTEN_NESTED_NAMESPACE,\n    NAMESPACE_FLATTEN_DELIMITER = '-'\n    SYNC_INTERVAL_SECONDS = 60\n  )\n  EXTERNAL_VOLUME = 'exvol_vino';",
   "execution_count": null
  },
  {
   "cell_type": "code",
   "id": "ee9b4edb-d0fb-44b2-969e-97f1351e7ab0",
   "metadata": {
    "language": "sql",
    "name": "cell17"
   },
   "outputs": [],
   "source": "SELECT SYSTEM$CATALOG_LINK_STATUS('cld_vino_prod');",
   "execution_count": null
  },
  {
   "cell_type": "code",
   "id": "0f21fd79-8f63-4927-91d7-dc5ba4bc7c81",
   "metadata": {
    "language": "sql",
    "name": "cell16"
   },
   "outputs": [],
   "source": "USE DATABASE \"CLD_VINO_PROD\";\nUSE SCHEMA \"product_reviews_db\";",
   "execution_count": null
  },
  {
   "cell_type": "markdown",
   "id": "be87c2c9-0cd4-411e-91c0-2559e2adc9bb",
   "metadata": {
    "name": "cell22",
    "collapsed": false
   },
   "source": "## Query your Iceberg Tables from Snowflake (through CLD)"
  },
  {
   "cell_type": "code",
   "id": "045d0f03-8af6-4959-9243-578993ca21dc",
   "metadata": {
    "language": "sql",
    "name": "cell15",
    "codeCollapsed": false
   },
   "outputs": [],
   "source": "select *\nfrom \"product_description_2k\";",
   "execution_count": null
  },
  {
   "cell_type": "code",
   "id": "55cc3209-d3d7-4cdf-9819-74d0b9f6d970",
   "metadata": {
    "language": "sql",
    "name": "cell12"
   },
   "outputs": [],
   "source": "select *\nfrom \"product_reviews_100k\"\nlimit 100;",
   "execution_count": null
  },
  {
   "cell_type": "markdown",
   "id": "abdaeb34-fd04-47c4-be39-cf68e27c9cf9",
   "metadata": {
    "name": "cell23",
    "collapsed": false
   },
   "source": "## Average Product Ratings by Product Categories"
  },
  {
   "cell_type": "code",
   "id": "f809d94a-3d08-437b-bdbb-617beb3c0367",
   "metadata": {
    "language": "sql",
    "name": "cell1"
   },
   "outputs": [],
   "source": "select B.\"categories\", \n    count(*) as product_volume,\n    avg(\"overall\") as avg_rating\nfrom \"product_reviews_100k\" as A\njoin \"product_description_2k\" as B\non A.\"asin\" = B.\"asin\"\ngroup by B.\"categories\"\norder by product_volume desc;",
   "execution_count": null
  },
  {
   "cell_type": "markdown",
   "id": "be9b6729-9e76-4071-b303-945545a86573",
   "metadata": {
    "name": "cell24",
    "collapsed": false
   },
   "source": "## Product Satisfaction Levels by Category "
  },
  {
   "cell_type": "code",
   "id": "bff40ab8-c79c-4891-8f3f-8e35941ba345",
   "metadata": {
    "language": "sql",
    "name": "cell11",
    "codeCollapsed": false
   },
   "outputs": [],
   "source": "WITH category_satisfaction AS (\n  SELECT \n    p.\"categories\",\n    COUNT(r.\"reviewerID\") as \"total_reviews\",\n    AVG(CAST(r.\"overall\" AS FLOAT)) as \"avg_rating\",\n    COUNT(CASE WHEN CAST(r.\"overall\" AS FLOAT) >= 4.0 THEN 1 END) as \"positive_reviews\",\n    ROUND(\n      (COUNT(CASE WHEN CAST(r.\"overall\" AS FLOAT) >= 4.0 THEN 1 END) * 100.0) / \n      COUNT(r.\"reviewerID\"), 2\n    ) as \"satisfaction_percentage\"\n  FROM \"product_reviews_100k\" r\n  JOIN \"product_description_2k\" p ON r.\"asin\" = p.\"asin\"\n  WHERE p.\"categories\" IS NOT NULL \n    AND p.\"categories\" != ''\n    AND r.\"overall\" IS NOT NULL\n  GROUP BY p.\"categories\"\n  HAVING COUNT(r.\"reviewerID\") >= 10  -- Only categories with sufficient reviews\n)\nSELECT \n  \"categories\",\n  \"total_reviews\",\n  ROUND(\"avg_rating\", 2) as \"avg_rating\",\n  \"satisfaction_percentage\",\n  CASE \n    WHEN \"satisfaction_percentage\" >= 80 THEN 'Excellent'\n    WHEN \"satisfaction_percentage\" >= 70 THEN 'Good'\n    WHEN \"satisfaction_percentage\" >= 60 THEN 'Fair'\n    ELSE 'Needs Improvement'\n  END as \"satisfaction_level\"\nFROM category_satisfaction\nORDER BY \"avg_rating\" DESC, \"total_reviews\" DESC;",
   "execution_count": null
  },
  {
   "cell_type": "markdown",
   "id": "bb44c410-83ee-4d30-aa54-007fb2c7b00f",
   "metadata": {
    "name": "cell26",
    "collapsed": false
   },
   "source": "## Role Based Access Control: Row Access Policy"
  },
  {
   "cell_type": "code",
   "id": "b906e338-2177-4764-a8a3-1c6a99efb55c",
   "metadata": {
    "language": "sql",
    "name": "cell6"
   },
   "outputs": [],
   "source": "-- Create the sellers_book role\nCREATE ROLE sellers_book;\n\n-- Create the row-level access policy for books category access\nCREATE ROW ACCESS POLICY books_category_policy AS (categories STRING) RETURNS BOOLEAN ->\n  CASE \n    WHEN CURRENT_ROLE() = 'SELLERS_BOOK' THEN \n      categories LIKE '%books%' OR categories LIKE '%book%'\n    ELSE \n      FALSE\n  END;\n\n-- Apply the policy to the product_description_2k table\nALTER TABLE \"product_description_2k\" ADD ROW ACCESS POLICY books_category_policy ON (categories);\n\n-- Grant the necessary permissions to the sellers_book role\nGRANT USAGE ON DATABASE \"cld_vino_prod\" TO ROLE sellers_book;\nGRANT USAGE ON SCHEMA \"product_reviews_db\" TO ROLE sellers_book;\n\nGRANT ROLE sellers_book TO USER vinod;\nUSE ROLE sellers_book;",
   "execution_count": null
  },
  {
   "cell_type": "code",
   "id": "5fa09c62-377b-4377-a729-5e0cc931ad01",
   "metadata": {
    "language": "sql",
    "name": "cell28"
   },
   "outputs": [],
   "source": "select B.\"categories\", \n    count(*) as product_volume,\n    avg(\"overall\") as avg_rating\nfrom \"product_reviews_100k\" as A\njoin \"product_description_2k\" as B\non A.\"asin\" = B.\"asin\"\ngroup by B.\"categories\"\norder by product_volume desc;",
   "execution_count": null
  },
  {
   "cell_type": "markdown",
   "id": "fc59e21f-b606-474d-998a-6c9e32879f8a",
   "metadata": {
    "name": "cell27",
    "collapsed": false
   },
   "source": "## Setting up Snowflake Intelligence"
  },
  {
   "cell_type": "code",
   "id": "30de0431-939f-44bb-accb-20809f975538",
   "metadata": {
    "language": "sql",
    "name": "cell5"
   },
   "outputs": [],
   "source": "use role accountadmin;\n\nGRANT USAGE ON DATABASE cld_amazon_reviews TO ROLE ACCOUNTADMIN;\nGRANT USAGE ON SCHEMA cld_amazon_reviews.product_reviews_db TO ROLE ACCOUNTADMIN;\n\nGRANT CREATE AGENT ON SCHEMA cld_amazon_reviews.product_reviews_db TO ROLE ACCOUNTADMIN;\n\nalter user set default_role = ACCOUNTADMIN;\nalter user set default_warehouse = vino_m;\n\n\nGRANT USAGE ON DATABASE snowflake_intelligence TO ROLE ACCOUNTADMIN;\nGRANT USAGE ON SCHEMA snowflake_intelligence.agents TO ROLE ACCOUNTADMIN;\n\nGRANT CREATE AGENT ON SCHEMA snowflake_intelligence.agents TO ROLE ACCOUNTADMIN;\n\nalter user set default_role = ACCOUNTADMIN;\nalter user set default_warehouse = vino_m;",
   "execution_count": null
  }
 ]
}