{
 "cells": [
  {
   "cell_type": "markdown",
   "metadata": {},
   "source": [
    "\n",
    "# CortexRAG: End to End RAG with 3 lines of code"
   ]
  },
  {
   "cell_type": "markdown",
   "metadata": {},
   "source": [
    "The `SnowVectorDB` and `SnowRAG` utlities were designed to simplify the developer experience when building simple RAG pipelines in Snowflake.\n",
    "\n",
    "`SnowVectorDB` gives developers the ability to generate a Snowflake embeddings table directly from raw pdfs in 2 lines of code. Whether your pdf files are in a local directory or they're already loaded in a Snowflake Stage, this gives you the ability to automatically process the pdfs, generate their embeddings, create a new Snowflake embeddings table, and load the embeddings into the table as Snowflake Vector Data Types. \n",
    "\n",
    "`SnowRAG` allows developers to define a simple RAG pipeline in one line of code. Select the Snowflake embeddings table and the Snowflake Cortex model, and this module takes care of the rest. Under the hood SnowRAG uses Chain of Thought for response generation, but users have the flexbility to override that with custom prompts. \n",
    "\n",
    "Below we walk you through how to use `SnowVectorDB` in both operating modes - whether your data is stored in a local directory or in a Snowflake Stage. Then we show how simple it is to define a basic pipeline with `SnowRAG`."
   ]
  },
  {
   "cell_type": "markdown",
   "metadata": {},
   "source": [
    "#### Standard Snowflake Session Initialization"
   ]
  },
  {
   "cell_type": "code",
   "execution_count": 1,
   "metadata": {},
   "outputs": [],
   "source": [
    "from snowvecdb import SnowVectorDB\n",
    "from snowrag import SnowRAG\n",
    "from snowflake.snowpark import Session\n",
    "import os\n",
    "from dotenv import load_dotenv\n",
    "load_dotenv()\n",
    "\n",
    "connection_parameters = {\n",
    "    \n",
    "    \"account\": os.getenv('SNOWFLAKE_ACCOUNT'),\n",
    "    \"user\": os.getenv('SNOWFLAKE_USER'),\n",
    "    \"password\": os.getenv('SNOWFLAKE_PASSWORD'),\n",
    "    \"role\": os.getenv('SNOWFLAKE_ROLE'),\n",
    "    \"warehouse\": os.getenv('SNOWFLAKE_WAREHOUSE'),\n",
    "    \"database\": os.getenv('SNOWFLAKE_DATABASE'),\n",
    "    \"schema\": os.getenv('SNOWFLAKE_SCHEMA')}  \n",
    "\n",
    "session = Session.builder.configs(connection_parameters).create()"
   ]
  },
  {
   "cell_type": "markdown",
   "metadata": {},
   "source": [
    "# Embeddings Generation"
   ]
  },
  {
   "cell_type": "markdown",
   "metadata": {},
   "source": [
    "### Create Embeddings Table from local directory"
   ]
  },
  {
   "cell_type": "markdown",
   "metadata": {},
   "source": [
    "Update the path to point to your relevant directory"
   ]
  },
  {
   "cell_type": "code",
   "execution_count": 3,
   "metadata": {},
   "outputs": [
    {
     "name": "stdout",
     "output_type": "stream",
     "text": [
      "Loading source data...\n",
      "...data load complete.\n",
      "Creating embeddings table...\n",
      "Embeddings succesfully loaded in Snowflake table:ANNUAL_REPORT_EMBEDDINGS\n"
     ]
    }
   ],
   "source": [
    "SVDB = SnowVectorDB(snowflake_session=session) \n",
    "SVDB(\"ANNUAL_REPORT_EMBEDDINGS\",data_source_directory=\"YOUR_LOCAL_PDF_DIRECTORY/sample_documents\")"
   ]
  },
  {
   "cell_type": "markdown",
   "metadata": {},
   "source": [
    "### Create Embeddings Table from files in an existing stage"
   ]
  },
  {
   "cell_type": "code",
   "execution_count": 8,
   "metadata": {},
   "outputs": [
    {
     "name": "stdout",
     "output_type": "stream",
     "text": [
      "Creating embeddings table...\n",
      "Embeddings succesfully loaded in Snowflake table:ANNUAL_REPORT_EMBEDDINGS_STG\n"
     ]
    }
   ],
   "source": [
    "SVDB(\"ANNUAL_REPORT_EMBEDDINGS_STG\",stage=\"YOUR_CUSTOM_STAGE\")"
   ]
  },
  {
   "cell_type": "markdown",
   "metadata": {},
   "source": [
    "# Snowflake RAG"
   ]
  },
  {
   "cell_type": "markdown",
   "metadata": {},
   "source": [
    "### Initialize RAG Chat Bot"
   ]
  },
  {
   "cell_type": "code",
   "execution_count": 4,
   "metadata": {},
   "outputs": [],
   "source": [
    "rag = SnowRAG(embeddings_table=\"ANNUAL_REPORT_EMBEDDINGS\",lm_model=\"mixtral-8x7b\",snowflake_session=session)"
   ]
  },
  {
   "cell_type": "markdown",
   "metadata": {},
   "source": [
    "### Run the program"
   ]
  },
  {
   "cell_type": "code",
   "execution_count": 7,
   "metadata": {},
   "outputs": [
    {
     "data": {
      "text/plain": [
       "[' 1. Snowflake had 9,437 total customers as of January 31, 2024.\\n2. The fiscal year 2024 for Snowflake ended on January 31, 2024.\\n3. The total customer count includes adjustments for acquisitions, consolidations, spin-offs, and other market activity.\\n\\nSo, based on the provided information, Snowflake had 9,437 customers in fiscal year 2024.']"
      ]
     },
     "execution_count": 7,
     "metadata": {},
     "output_type": "execute_result"
    }
   ],
   "source": [
    "rag(\"How many customers did Snowflake have in fiscal year 2024?\")"
   ]
  }
 ],
 "metadata": {
  "kernelspec": {
   "display_name": "rag_env",
   "language": "python",
   "name": "python3"
  },
  "language_info": {
   "codemirror_mode": {
    "name": "ipython",
    "version": 3
   },
   "file_extension": ".py",
   "mimetype": "text/x-python",
   "name": "python",
   "nbconvert_exporter": "python",
   "pygments_lexer": "ipython3",
   "version": "3.10.13"
  }
 },
 "nbformat": 4,
 "nbformat_minor": 2
}
