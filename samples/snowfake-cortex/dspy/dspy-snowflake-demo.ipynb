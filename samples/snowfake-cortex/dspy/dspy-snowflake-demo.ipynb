{
 "cells": [
  {
   "cell_type": "markdown",
   "metadata": {},
   "source": [
    "# DSPY + Snowflake: Towards Secure and Future-Proof LLM Pipelines"
   ]
  },
  {
   "cell_type": "markdown",
   "metadata": {},
   "source": [
    "DSPy is an open source framework for declaritively building LLM pipelines and automatically optimizing prompts. Snowflake Cortex is a managed LLM service that allows users to leverage LLM's without taking data out of Snowflake. The combination of the two empowers users to write secure, future proof, and cost efficient pipelines.\n",
    "\n",
    "This notebook is based on the [DSPY tutorials](https://dspy-docs.vercel.app/docs/category/tutorials) and will walk you through how to use DSPy to do: \n",
    "* Basic RAG - Build a simple RAG program using the declaritive programming paradigm and Snowflake Cortex LLMs \n",
    "* End to End RAG in Snowflake - RAG example using a knowledge base and embeddings stored in Snowflake using the DSPy Snowflake Retriever\n",
    "* Multi Hop RAG - Build an architecture that can break down complex questions and ask follow ups\n",
    "* Pipeline Optimization - Automatically optimize Snowflake Cortex prompts to eliminate the need for manual prompt engineering"
   ]
  },
  {
   "cell_type": "markdown",
   "metadata": {},
   "source": [
    "# DSPY Setup"
   ]
  },
  {
   "cell_type": "markdown",
   "metadata": {},
   "source": [
    "If you don't already have dspy and the snowpark dependencies installed on your machine, you can install them with pip. The DSPy Snowflake integration will available starting with DSPy version 2.5.0, so in the meantime you can install from the latest source on github as follows:"
   ]
  },
  {
   "cell_type": "code",
   "execution_count": null,
   "metadata": {},
   "outputs": [],
   "source": [
    "!pip install git+https://github.com/stanfordnlp/dspy.git\n",
    "!pip install snowflake-snowpark-python"
   ]
  },
  {
   "cell_type": "markdown",
   "metadata": {},
   "source": [
    "The fundamental elements of a RAG architecture include:\n",
    "* Knowledge Base - A database with passages and embeddings of content that will be required to generate the desired response.\n",
    "* A Language Model (LM) - Given context from a particular knowledge base, a LM generates the response to the user's prompt.\n",
    "* Retriever - A mechanism for retrieving the relevant context required to generate a response to the user's prompt.\n",
    "\n"
   ]
  },
  {
   "cell_type": "markdown",
   "metadata": {},
   "source": [
    "To start, we will import the requirements for our program and load our Snowflake credentials."
   ]
  },
  {
   "cell_type": "code",
   "execution_count": 3,
   "metadata": {},
   "outputs": [],
   "source": [
    "import dspy\n",
    "from dspy.evaluate.evaluate import Evaluate\n",
    "from dspy.retrieve.snowflake_rm import SnowflakeRM\n",
    "from dspy.teleprompt import BootstrapFewShotWithRandomSearch\n",
    "\n",
    "from snowflake.snowpark import Session\n",
    "import os\n",
    "\n",
    "from dotenv import load_dotenv\n",
    "load_dotenv()\n",
    "\n",
    "connection_parameters = {\n",
    "    \n",
    "    \"account\": os.getenv('SNOWFLAKE_ACCOUNT'),\n",
    "    \"user\": os.getenv('SNOWFLAKE_USER'),\n",
    "    \"password\": os.getenv('SNOWFLAKE_PASSWORD'),\n",
    "    \"role\": os.getenv('SNOWFLAKE_ROLE'),\n",
    "    \"warehouse\": os.getenv('SNOWFLAKE_WAREHOUSE'),\n",
    "    \"database\": os.getenv('SNOWFLAKE_DATABASE'),\n",
    "    \"schema\": os.getenv('SNOWFLAKE_SCHEMA')}  \n"
   ]
  },
  {
   "cell_type": "markdown",
   "metadata": {},
   "source": [
    "Below we configure the basic program requirements:\n",
    "* Knowledge Base: Containing the Snowflake Annual Reports available from the investor relations page [here](https://investors.snowflake.com/financials/sec-filings/default.aspx)\n",
    "* LM: A Snowflake Cortex hosted Mixtral 8x7B model\n",
    "* Retriever: DSPy Snowflake Retriever to leverage embeddings in Snowflake table"
   ]
  },
  {
   "cell_type": "markdown",
   "metadata": {},
   "source": [
    "### Prepare the Embeddings"
   ]
  },
  {
   "cell_type": "markdown",
   "metadata": {},
   "source": [
    "If our embeddings are not yet stored in Snowflake, but we have the raw data in a local directory or a Snowflake stage, we can easily generate and load the embeddings into a new Snowflake table using the SnowVecDB utility, which you can find [here](https://github.com/Snowflake-Labs/sf-samples/tree/main/samples/snowfake-cortex/cortexRAG).\n",
    "\n",
    "Below we create a new `SEC_EMBEDDINGS` table using the annual reports that we've downloaded to a local directory. If your data is already in a Snowflake Stage, instead of using a local directory, you can point the helper module to generate the embeddings using your staged files, by using the `stage` argument in SVDB."
   ]
  },
  {
   "cell_type": "code",
   "execution_count": null,
   "metadata": {},
   "outputs": [],
   "source": [
    "from snowvecdb import SnowVectorDB\n",
    "snowpark =Session.builder.configs(connection_parameters).create()\n",
    "SVDB = SnowVectorDB(snowflake_session=snowpark,chunk_size=500,chunk_overlap=75)\n",
    "SVDB(vector_table_name=\"SEC_EMBEDDINGS\",data_source_directory=\"your_local_directory/snowflake_annual_reports/\")"
   ]
  },
  {
   "cell_type": "markdown",
   "metadata": {},
   "source": [
    "The SVDB utility creates the embeddings table with generic names for the columns containing the passage (CHUNK) and the related embeddings (CHUNK_VEC). By default, the snowflake retriever (`SnowflakeRM`) assume your embeddings table has these headers, but you can easily ovverride them with the `embeddings_field` and `embeddings_field_text` arguments."
   ]
  },
  {
   "cell_type": "markdown",
   "metadata": {},
   "source": [
    "### Configure Language + Retriever Models"
   ]
  },
  {
   "cell_type": "markdown",
   "metadata": {},
   "source": [
    "Once we have the knowledge base + embeddings ready, we can configure the Snowflake LM and RM in DSPy as follows:"
   ]
  },
  {
   "cell_type": "code",
   "execution_count": null,
   "metadata": {},
   "outputs": [],
   "source": [
    "# Snowflake Cortex Language Model Definition\n",
    "turbo = dspy.Snowflake(model=\"mixtral-8x7b\",credentials=connection_parameters)\n",
    "\n",
    "# Snowflake Retriever Model Definition\n",
    "snowflake_retriever = SnowflakeRM(\n",
    "  snowflake_table_name=\"SEC_EMBEDDINGS\",\n",
    "  snowflake_credentials=connection_parameters\n",
    ")\n",
    "\n",
    "# Configure which LM and RM to use in DSPy\n",
    "dspy.settings.configure(lm=turbo,rm=snowflake_retriever)"
   ]
  },
  {
   "cell_type": "markdown",
   "metadata": {},
   "source": [
    "With the above configuration, we ensure that future DSPy pipeline calls will use the Snowflake Cortex Mixtral model and the `SEC_EMBEDDINGS` table for context. "
   ]
  },
  {
   "cell_type": "markdown",
   "metadata": {},
   "source": [
    "# DSPy + Snowflake RAG Pipeline Definition"
   ]
  },
  {
   "cell_type": "markdown",
   "metadata": {},
   "source": [
    "Given a user's query, the most simple RAG architecture will \n",
    "1) Retrieve the K most relevant passages from our knowledge base for the user's query\n",
    "2) Generate a response to the query utilizing the the relevant passages retrieved in step 1.\n",
    "\n",
    "The building blocks of DSPy include:\n",
    "- DSPy Signatures to define the expected inputs and outputs of the program\n",
    "- DSPy Modules to define the core flow of your program"
   ]
  },
  {
   "cell_type": "code",
   "execution_count": 21,
   "metadata": {},
   "outputs": [],
   "source": [
    "class GenerateAnswer(dspy.Signature):\n",
    "    \"\"\"Answer questions with short factoid answers.\"\"\"\n",
    "\n",
    "    context = dspy.InputField(desc=\"may contain relevant facts\")\n",
    "    question = dspy.InputField()\n",
    "    answer = dspy.OutputField(desc=\"often between 1 and 10 words\")\n",
    "\n",
    "class RAG(dspy.Module):\n",
    "    def __init__(self, num_passages=5):\n",
    "        super().__init__()\n",
    "\n",
    "        self.retrieve = dspy.Retrieve(k=num_passages)\n",
    "        self.generate_answer = dspy.ChainOfThought(GenerateAnswer)\n",
    "    \n",
    "    def forward(self, question):\n",
    "        context = self.retrieve(question).passages\n",
    "        prediction = self.generate_answer(context=context, question=question)\n",
    "        return dspy.Prediction(context=context, answer=prediction.answer)\n"
   ]
  },
  {
   "cell_type": "markdown",
   "metadata": {},
   "source": [
    "Notice above that the implementation of our RAG pipeline is decoupled from our underlying data, from our language model, and from our prompt. `dspy.Retrieve` and `dspy.ChainOfThought` will use the user-configured retriever (`snowflake_retriever`) and the user-configured language model (`turbo`) when the RAG pipeline is called."
   ]
  },
  {
   "cell_type": "markdown",
   "metadata": {},
   "source": [
    "#### Test the DSPY + Snowflake Pipeline"
   ]
  },
  {
   "cell_type": "markdown",
   "metadata": {},
   "source": [
    "Above we update our DSPy settings to use the snowflake retriever so future calls to the same RAG pipeline will use the `SEC_EMBEDDINGS` table under the hood. "
   ]
  },
  {
   "cell_type": "code",
   "execution_count": 24,
   "metadata": {},
   "outputs": [
    {
     "data": {
      "text/plain": [
       "Prediction(\n",
       "    context=['to the 2020 ESPP.\\nWe intend to continue to make significant investments in research and development as we enhance our platform. We also intend to invest in our sales and marketing\\norganization to drive future revenue growth. As a result of the closing of our IPO, we have incurred and expect to continue to incur additional expenses as a result of operating as a\\npublic company, including costs to comply with the rules and regulations applicable to companies listed on a national securities exchange, costs related to compliance and reporting\\nobligations, and increased expenses for insurance, investor relations, and professional services.\\nKey Business Metrics\\nThree Months Ended\\nJanuary 31,\\n2021 October  31, 2020July 31,\\n2020April 30,\\n2020January 31,\\n2020October  31,\\n2019July 31,\\n2019April 30,\\n2019\\nProduct revenue (in millions) $ 178.3 $ 148.5 $ 125.2 $ 101.8 $ 82.4 $ 69.2 $ 57.8 $ 42.8 \\nJanuary 31,\\n2021 October  31, 2020July 31,\\n2020April 30,\\n2020January 31,\\n2020October  31,\\n2019July 31,\\n2019April 30,\\n2019\\nRemaining performance obligations (in millions)$ 1,332.8 $ 927.9 $ 688.2 $ 467.8 $ 426.3 $ 273.0 $ 221.1 $ 137.9 \\nTotal customers 4,139 3,554 3,117 2,720 2,392 1,934 1,547 1,194 \\nNet revenue retention rate 168 % 162 % 158 % 171 % 169 % 189 % 223 % 187 %\\nCustomers with trailing 12-month product revenue\\ngreater than $1 million 77 65 56 48 41 31 22 16 \\nDuring the three months ended July 31, 2019, we experienced a significant increase in our net revenue retention rate as a result of a large enterprise customer’s increased\\nconsumption of our platform.\\nHistorically, we have received a higher volume of orders from new and existing customers in the fourth fiscal quarter of each year as a result of industry buying patterns. As a\\nresult, our sequential growth in RPO has historically been highest in the fourth fiscal quarter of each fiscal year. In addition, we have experienced a significant increase in RPO each', \"Prior to the IPO, deferred offering costs, which consist of direct incremental legal, accounting, and consulting fees relating to the IPO, were capitalized in other assets on the\\nconsolidated balance sheets. These deferred offering costs, net of reimbursement received from the underwriters upon completion of the IPO, were not material.\\nPreferred Stock—In connection with the IPO, the Company’s amended and restated certificate of incorporation became effective, which authorized the issuance of 200,000,000\\nshares of undesignated preferred stock with a par value of $0.0001 per share and with rights and preferences, including voting rights, designated from time to time by the board of\\ndirectors.\\nCommon Stock and Elimination of Dual-Class Structure—The Company has two classes of common stock authorized: Class A common stock and Class B common stock. In\\nconnection with the IPO, the Company’s amended and restated certificate of incorporation authorized the issuance of 2,500,000,000 shares of Class A common stock and\\n355,000,000 shares of Class B common stock. On March 1, 2021, all 169,538,568 shares of the Company's then-outstanding Class B common stock, par value $0.0001 per share,\\nwere automatically converted into the same number of shares of Class A common stock, par value $0.0001 per share, pursuant to the terms of the Company’s amended and restated\\ncertificate of incorporation. No additional shares of Class B common stock will be issued following such conversion.5/14/24, 8:55 AM snow-20220131\\nhttps://www.sec.gov/Archives/edgar/data/1640147/000164014722000023/snow-20220131.htm 156/183905/14/24, 8:55 AM snow-20220131\\nhttps://www.sec.gov/Archives/edgar/data/1640147/000164014722000023/snow-20220131.htm 157/183Table of Contents\\nThe shares of Class A common stock and Class B common stock were identical prior to the conversion, except with respect to voting, converting, and transfer rights. Prior to\", 'our IPO do not contain the performance-based vesting condition described above.\\nWe will continue to use judgment in evaluating the assumptions related to our stock-based compensation on a prospective basis. As we continue to accumulate additional data\\nrelated to our common stock, we may have refinements to our estimates, which could materially impact our future stock-based compensation expense.\\nCommon Stock Valuations\\nPrior to our IPO, the fair value of the common stock underlying our stock-based awards had historically been determined by our board of directors, with input from\\nmanagement and corroboration from contemporaneous third-party valuations. We believed that our board of directors had the relevant experience and expertise to determine the fair\\nvalue of our common stock. Given the absence of a public trading market of our common stock, and in accordance with the American Institute of Certified Public Accountants\\nPractice Aid, Valuation of Privately-Held Company Equity Securities Issued as Compensation, our board of directors exercised reasonable judgment and considered numerous\\nobjective and subjective factors to determine the best estimate of the fair value of our common stock at each grant date. These factors included:\\n•contemporaneous valuations of our common stock performed by independent third-party specialists;5/14/24, 8:59 AM snow-20210131\\nhttps://www.sec.gov/Archives/edgar/data/1640147/000164014721000073/snow-20210131.htm 112/193•the prices, rights, preferences, and privileges of our convertible preferred stock relative to those of our common stock;\\n•the prices paid for common or convertible preferred stock sold to third-party investors by us and prices paid in secondary transactions for shares repurchased by us in\\narm’s-length transactions, including any tender offers;\\n675/14/24, 8:59 AM snow-20210131\\nhttps://www.sec.gov/Archives/edgar/data/1640147/000164014721000073/snow-20210131.htm 113/193Table of Contents', 'results of operations.\\n•The markets in which we operate are highly competitive, and if we do not compete effectively, our business, financial condition, and results of operations could be harmed.\\n•If we fail to innovate in response to changing customer needs, new technologies, or other market requirements, our business, financial condition, and results of operations\\ncould be harmed.\\n•If we or our third-party service providers experience an actual or perceived security breach or unauthorized parties otherwise obtain access to our customers’ data, our data,\\nor our platform, our platform may be perceived as not being secure, our reputation may be harmed, demand for our platform may be reduced, and we may incur significant\\nliabilities.\\n•We could suffer disruptions, outages, defects, and other performance and quality problems with our platform or with the public cloud and internet infrastructure on which it\\nrelies.\\n•We expect fluctuations in our financial results, making it difficult to project future results, and if we fail to meet the expectations of securities analysts or investors with\\nrespect to our results of operations, our stock price could decline.\\n•Failure to effectively develop and expand our sales and marketing capabilities could harm our ability to increase our customer base and achieve broader market acceptance\\nof our products and platform.\\n•Sales efforts to large customers involve risks that may not be present or that are present to a lesser extent with respect to sales to smaller organizations.\\n•Unfavorable conditions in our industry or the global economy, or reductions in cloud spending or our customers’ actual or anticipated consumption rates, could limit our\\nability to grow our business and negatively affect our results of operations.5/14/24, 8:53 AM snow-20230131\\nhttps://www.sec.gov/Archives/edgar/data/1640147/000164014723000030/snow-20230131.htm 7/19665/14/24, 8:53 AM snow-20230131', 'We may also encounter the following risks:\\n335/14/24, 8:55 AM snow-20240131\\nhttps://www.sec.gov/Archives/edgar/data/1640147/000164014724000101/snow-20240131.htm 51/217Table of Contents\\n•uncertainty regarding the validity, enforceability, and scope of protection for intellectual property rights in China and the practical difficulties of enforcing such rights;\\n•inability to secure our intellectual property and other proprietary information located in China from unauthorized access or theft;\\n•heightened risks of cyber incidents, which could lead to the unauthorized access to or exposure of customer data;\\n•inability to comply with extensive and evolving Chinese laws that are often ambiguous or inconsistently enforced;\\n•changes in tax regulations that may impact the economics of our China operating model;\\n•economic or political instability;\\n•a slowdown in China’s economy; and\\n•a government-controlled foreign exchange rate and limitations on the convertibility of the Chinese yuan to other currencies.\\nFurther, geopolitical and national security tensions between China and the United States or other countries could lead to further restrictions on our ability to operate in China,\\nincreased scrutiny of our business operations in China, or unwillingness of certain customers to do business with us, including the U.S. federal government.\\nDue to these and other risks, our operations in China may be more expensive or difficult than anticipated or they may fail, which could have an adverse effect on our business,\\nfinancial condition, results of operations, and growth prospects.\\nWe may require additional capital to support the growth of our business, and this capital might not be available on acceptable terms, if at all.\\nWe have funded our operations since inception primarily through equity financings, including our IPO, and payments received from our customers. We cannot be certain if our'],\n",
       "    answer='The 2021 fiscal year.'\n",
       ")"
      ]
     },
     "execution_count": 24,
     "metadata": {},
     "output_type": "execute_result"
    }
   ],
   "source": [
    "rag = RAG()\n",
    "rag(\"In waht fiscal year did Snowflake IPO?\")"
   ]
  },
  {
   "cell_type": "markdown",
   "metadata": {},
   "source": [
    "We can see that the pipeline returns a dspy.Predicition object that contains the relevant context that was retrieved from our knowledge base and the final answer generated by the language model using the Chain of Thought technique."
   ]
  },
  {
   "cell_type": "markdown",
   "metadata": {},
   "source": [
    "# LLM Performance Evaluation"
   ]
  },
  {
   "cell_type": "markdown",
   "metadata": {},
   "source": [
    "There a various ways to evaluate the performance of RAG systems. Fortunately with DSPy, evaluation metrics are easy to define. \n",
    "\n",
    "Below we'll demonstrate two different approaches:\n",
    "\n",
    "* Exact Answer Match: Using DSPy utils to evaluate whether the generated response is an exact match of the ground truth answer\n",
    "* Semantic Match: Using an LLM as a Judge to determine whether the answer is correct\n",
    "\n",
    "\n",
    "**Note: because these LLMs exhibit non-deterministic behavior, as you rerun the cells below your results may vary.**\n"
   ]
  },
  {
   "cell_type": "markdown",
   "metadata": {},
   "source": [
    "### Training Data Ingestion"
   ]
  },
  {
   "cell_type": "markdown",
   "metadata": {},
   "source": [
    "For evaluation purposes, we'll use a standard industry data set with labels, HotPotQA, so will switch to using an open source Wikipedia knowledge base and a ColbertV2 retriever. For more detail on this visit the docs [here](https://hotpotqa.github.io/wiki-readme.html)"
   ]
  },
  {
   "cell_type": "code",
   "execution_count": 28,
   "metadata": {},
   "outputs": [],
   "source": [
    "from dspy.datasets import HotPotQA\n",
    "\n",
    "# Load the dataset.\n",
    "dataset = HotPotQA(train_seed=1, train_size=50, eval_seed=1000, dev_size=50, test_size=0)\n",
    "\n",
    "# Tell DSPy that the 'question' field is the input. Any other fields are labels and/or metadata.\n",
    "trainset = [x.with_inputs('question') for x in dataset.train]\n",
    "devset = [x.with_inputs('question') for x in dataset.dev]\n",
    "\n",
    "colbertv2_wiki17_abstracts = dspy.ColBERTv2(url='http://20.102.90.50:2017/wiki17_abstracts')\n",
    "dspy.settings.configure(rm=colbertv2_wiki17_abstracts)"
   ]
  },
  {
   "cell_type": "markdown",
   "metadata": {},
   "source": [
    "### Exact Answer Evaluation"
   ]
  },
  {
   "cell_type": "markdown",
   "metadata": {},
   "source": [
    "The most stringent evaluation metric requires that our output exactly match the ground truth answer."
   ]
  },
  {
   "cell_type": "code",
   "execution_count": 26,
   "metadata": {},
   "outputs": [
    {
     "name": "stdout",
     "output_type": "stream",
     "text": [
      "  0%|          | 0/50 [00:00<?, ?it/s]"
     ]
    },
    {
     "name": "stdout",
     "output_type": "stream",
     "text": [
      "Average Metric: 12 / 50  (24.0): 100%|██████████| 50/50 [02:07<00:00,  2.56s/it]\n"
     ]
    },
    {
     "data": {
      "text/plain": [
       "24.0"
      ]
     },
     "execution_count": 26,
     "metadata": {},
     "output_type": "execute_result"
    }
   ],
   "source": [
    "def validate_exact_answer(example, pred, trace=None):\n",
    "    if not dspy.evaluate.answer_exact_match(example, pred): return False\n",
    "   \n",
    "    return True\n",
    "\n",
    "evaluate = Evaluate(devset=devset, num_threads=1, display_progress=True, display_table=0)\n",
    "evaluate(RAG(),validate_exact_answer)"
   ]
  },
  {
   "cell_type": "markdown",
   "metadata": {},
   "source": [
    "### Semantic Evaluation"
   ]
  },
  {
   "cell_type": "markdown",
   "metadata": {},
   "source": [
    "For some use cases, an exact match metric may be too restrictive. If we don't care about the exact language and simply want to evalute whether the generated response is factually correct, we can use another LLM in order to do so (sometimes known as the LLM as Judge approach).\n",
    "\n",
    "DSPy allows us to use arbitrary user defined methods for our evaluation metrics, so we're able to use another DSPy program to evaluate the peformance of our primary agent's predictions. Below is an example of how we can do this by defining a semantic similarity metric that uses a separate DSPy program for evaluation. We want an independent judge when evaluating performance, so we'll use the DSPy context manager to use a Reka Flash model for the assessment of our Mixtral 8x7B pipeline."
   ]
  },
  {
   "cell_type": "code",
   "execution_count": 30,
   "metadata": {},
   "outputs": [],
   "source": [
    "class Judge(dspy.Signature):\n",
    "    \"\"\"Judge if the predicted answer contains the ground truth answer.\"\"\"\n",
    "\n",
    "    ground_truth = dspy.InputField(desc=\"ground truth\")\n",
    "    prediction = dspy.InputField(desc=\"predicted answer\")\n",
    "    assessment_answer: bool = dspy.OutputField(desc=\"only True or False without any rationale\")\n",
    "\n",
    "reka = dspy.Snowflake(model=\"reka-flash\",credentials=connection_parameters)\n",
    "judge = dspy.ChainOfThought(Judge)\n",
    "\n",
    "def semantic_similarity(example, pred, trace=None):\n",
    "\n",
    "    with dspy.settings.context(lm=reka):\n",
    "    \n",
    "        equivalent = judge(ground_truth=example.answer, prediction=pred.answer)\n",
    "        \n",
    "    return True if \"true\" in equivalent.assessment_answer.lower() else False"
   ]
  },
  {
   "cell_type": "markdown",
   "metadata": {},
   "source": [
    "## Performance Comparison: Mixtral 8x7B vs. LLama3-70B"
   ]
  },
  {
   "cell_type": "markdown",
   "metadata": {},
   "source": [
    "Let's evaluate the performance of our zero shot pipeline using 2 different models -  Mixtral 8x7B vs. Llama3-70B"
   ]
  },
  {
   "cell_type": "markdown",
   "metadata": {},
   "source": [
    "### Mixtral 8x7b Performance"
   ]
  },
  {
   "cell_type": "code",
   "execution_count": 31,
   "metadata": {},
   "outputs": [
    {
     "name": "stdout",
     "output_type": "stream",
     "text": [
      "Average Metric: 40 / 50  (80.0): 100%|██████████| 50/50 [04:31<00:00,  5.43s/it]\n"
     ]
    },
    {
     "data": {
      "text/plain": [
       "80.0"
      ]
     },
     "execution_count": 31,
     "metadata": {},
     "output_type": "execute_result"
    }
   ],
   "source": [
    "evaluate(RAG(),semantic_similarity)"
   ]
  },
  {
   "cell_type": "markdown",
   "metadata": {},
   "source": [
    "Executing 5 evaluation runs returns an average accuracy of 75% for the baseline Mixtral 8x7B pipeline"
   ]
  },
  {
   "cell_type": "markdown",
   "metadata": {},
   "source": [
    "### LLama3-70B Performance"
   ]
  },
  {
   "cell_type": "markdown",
   "metadata": {},
   "source": [
    "To evaluate the performance of the Llama3-70B model, all we need to do is change the dspy context. We don't need to change anything about the RAG pipeline."
   ]
  },
  {
   "cell_type": "code",
   "execution_count": 32,
   "metadata": {},
   "outputs": [
    {
     "name": "stdout",
     "output_type": "stream",
     "text": [
      "Average Metric: 41 / 50  (82.0): 100%|██████████| 50/50 [04:21<00:00,  5.22s/it]\n",
      "82.0\n"
     ]
    }
   ],
   "source": [
    "llama_turbo = dspy.Snowflake(model=\"llama3-70b\",credentials=connection_parameters)\n",
    "with dspy.settings.context(lm=llama_turbo):\n",
    "\n",
    "    print(evaluate(RAG(),semantic_similarity))"
   ]
  },
  {
   "cell_type": "markdown",
   "metadata": {},
   "source": [
    "LLama3-70B outperforms our Mixtral 8x7B pipeline. Executing 5 evaluations runs yield an average score of 83%."
   ]
  },
  {
   "cell_type": "markdown",
   "metadata": {},
   "source": [
    " &nbsp;"
   ]
  },
  {
   "cell_type": "markdown",
   "metadata": {},
   "source": [
    "# Pipeline Optimization"
   ]
  },
  {
   "cell_type": "markdown",
   "metadata": {},
   "source": [
    "DSPy's built-in optimizers let us tune our LLM pipelines, automatically adjusting our prompts and LM weights to improve performance. Below we utilize the `BootstrapFewShowWithRandomSearch` optimizer to maximize our `semantic_similarity` metric.\n",
    "\n",
    "DSPy allows us to use a larger teacher model to train our pipeline. This allows us to take advantage of the performance of a larger model with the cost profile of a smaller model. Below we use a Mistral Large teacher to train our Mixtral 8x7B pipeline."
   ]
  },
  {
   "cell_type": "markdown",
   "metadata": {},
   "source": [
    "### Mixtral 8x7B - Optimized Peformance"
   ]
  },
  {
   "cell_type": "code",
   "execution_count": 34,
   "metadata": {},
   "outputs": [
    {
     "name": "stderr",
     "output_type": "stream",
     "text": [
      "Average Metric: 10 / 34  (29.4):  68%|██████▊   | 34/50 [00:35<00:15,  1.05it/s]\u001b[2m2024-06-02T19:36:55.137631Z\u001b[0m [\u001b[31m\u001b[1merror    \u001b[0m] \u001b[1mError for example in dev set: \t\t 1 values are expected.\u001b[0m [\u001b[0m\u001b[1m\u001b[34mdspy.evaluate.evaluate\u001b[0m]\u001b[0m \u001b[36mfilename\u001b[0m=\u001b[35mevaluate.py\u001b[0m \u001b[36mlineno\u001b[0m=\u001b[35m180\u001b[0m\n",
      "Average Metric: 17.0 / 50  (34.0): 100%|██████████| 50/50 [00:50<00:00,  1.01s/it]\n",
      "Average Metric: 25 / 50  (50.0): 100%|██████████| 50/50 [00:54<00:00,  1.09s/it]\n",
      " 12%|█▏        | 6/50 [00:56<06:55,  9.45s/it]\n",
      "Average Metric: 19 / 36  (52.8):  72%|███████▏  | 36/50 [00:36<00:12,  1.13it/s]\u001b[2m2024-06-02T19:39:39.132762Z\u001b[0m [\u001b[31m\u001b[1merror    \u001b[0m] \u001b[1mError for example in dev set: \t\t 1 values are expected.\u001b[0m [\u001b[0m\u001b[1m\u001b[34mdspy.evaluate.evaluate\u001b[0m]\u001b[0m \u001b[36mfilename\u001b[0m=\u001b[35mevaluate.py\u001b[0m \u001b[36mlineno\u001b[0m=\u001b[35m180\u001b[0m\n",
      "Average Metric: 29.0 / 50  (58.0): 100%|██████████| 50/50 [00:52<00:00,  1.05s/it]\n",
      " 10%|█         | 5/50 [00:45<06:46,  9.03s/it]\n",
      "Average Metric: 30 / 50  (60.0): 100%|██████████| 50/50 [00:54<00:00,  1.08s/it]\n",
      "  4%|▍         | 2/50 [00:18<07:24,  9.25s/it]\n",
      "Average Metric: 24 / 50  (48.0): 100%|██████████| 50/50 [00:53<00:00,  1.07s/it]\n",
      "  2%|▏         | 1/50 [00:08<06:50,  8.38s/it]\n",
      "Average Metric: 12 / 27  (44.4):  54%|█████▍    | 27/50 [00:30<00:22,  1.00it/s]\u001b[2m2024-06-02T19:43:24.266804Z\u001b[0m [\u001b[31m\u001b[1merror    \u001b[0m] \u001b[1mError for example in dev set: \t\t generator already executing\u001b[0m [\u001b[0m\u001b[1m\u001b[34mdspy.evaluate.evaluate\u001b[0m]\u001b[0m \u001b[36mfilename\u001b[0m=\u001b[35mevaluate.py\u001b[0m \u001b[36mlineno\u001b[0m=\u001b[35m180\u001b[0m\n",
      "Average Metric: 20.0 / 50  (40.0): 100%|██████████| 50/50 [00:54<00:00,  1.08s/it]\n",
      "  4%|▍         | 2/50 [00:18<07:26,  9.29s/it]\n",
      "  0%|          | 0/50 [00:00<?, ?it/s]\u001b[2m2024-06-02T19:44:07.508211Z\u001b[0m [\u001b[31m\u001b[1merror    \u001b[0m] \u001b[1mError for example in dev set: \t\t generator already executing\u001b[0m [\u001b[0m\u001b[1m\u001b[34mdspy.evaluate.evaluate\u001b[0m]\u001b[0m \u001b[36mfilename\u001b[0m=\u001b[35mevaluate.py\u001b[0m \u001b[36mlineno\u001b[0m=\u001b[35m180\u001b[0m\n",
      "Average Metric: 19.0 / 50  (38.0): 100%|██████████| 50/50 [00:54<00:00,  1.08s/it]\n",
      "  8%|▊         | 4/50 [00:38<07:19,  9.55s/it]\n",
      "Average Metric: 5 / 13  (38.5):  24%|██▍       | 12/50 [00:13<00:38,  1.03s/it]\u001b[2m2024-06-02T19:45:52.048889Z\u001b[0m [\u001b[31m\u001b[1merror    \u001b[0m] \u001b[1mError for example in dev set: \t\t 1 values are expected.\u001b[0m [\u001b[0m\u001b[1m\u001b[34mdspy.evaluate.evaluate\u001b[0m]\u001b[0m \u001b[36mfilename\u001b[0m=\u001b[35mevaluate.py\u001b[0m \u001b[36mlineno\u001b[0m=\u001b[35m180\u001b[0m\n",
      "Average Metric: 13.0 / 32  (40.6):  64%|██████▍   | 32/50 [00:34<00:16,  1.12it/s]\u001b[2m2024-06-02T19:46:13.954922Z\u001b[0m [\u001b[31m\u001b[1merror    \u001b[0m] \u001b[1mError for example in dev set: \t\t 1 values are expected.\u001b[0m [\u001b[0m\u001b[1m\u001b[34mdspy.evaluate.evaluate\u001b[0m]\u001b[0m \u001b[36mfilename\u001b[0m=\u001b[35mevaluate.py\u001b[0m \u001b[36mlineno\u001b[0m=\u001b[35m180\u001b[0m\n",
      "Average Metric: 22.0 / 50  (44.0): 100%|██████████| 50/50 [00:53<00:00,  1.08s/it]\n",
      "  6%|▌         | 3/50 [00:34<08:58, 11.45s/it]\n",
      "Average Metric: 31 / 50  (62.0): 100%|██████████| 50/50 [00:52<00:00,  1.05s/it]\n",
      "  2%|▏         | 1/50 [00:16<13:18, 16.30s/it]\n",
      "Average Metric: 11 / 23  (47.8):  46%|████▌     | 23/50 [00:26<00:28,  1.05s/it]\u001b[2m2024-06-02T19:48:41.506257Z\u001b[0m [\u001b[31m\u001b[1merror    \u001b[0m] \u001b[1mError for example in dev set: \t\t 1 values are expected.\u001b[0m [\u001b[0m\u001b[1m\u001b[34mdspy.evaluate.evaluate\u001b[0m]\u001b[0m \u001b[36mfilename\u001b[0m=\u001b[35mevaluate.py\u001b[0m \u001b[36mlineno\u001b[0m=\u001b[35m180\u001b[0m\n",
      "Average Metric: 16.0 / 35  (45.7):  70%|███████   | 35/50 [00:40<00:17,  1.17s/it]\u001b[2m2024-06-02T19:48:55.995792Z\u001b[0m [\u001b[31m\u001b[1merror    \u001b[0m] \u001b[1mError for example in dev set: \t\t 1 values are expected.\u001b[0m [\u001b[0m\u001b[1m\u001b[34mdspy.evaluate.evaluate\u001b[0m]\u001b[0m \u001b[36mfilename\u001b[0m=\u001b[35mevaluate.py\u001b[0m \u001b[36mlineno\u001b[0m=\u001b[35m180\u001b[0m\n",
      "Average Metric: 20.0 / 50  (40.0): 100%|██████████| 50/50 [00:55<00:00,  1.12s/it]\n",
      "  6%|▌         | 3/50 [00:35<09:23, 12.00s/it]\n",
      "  0%|          | 0/50 [00:00<?, ?it/s]\u001b[2m2024-06-02T19:49:50.972122Z\u001b[0m [\u001b[31m\u001b[1merror    \u001b[0m] \u001b[1mError for example in dev set: \t\t generator already executing\u001b[0m [\u001b[0m\u001b[1m\u001b[34mdspy.evaluate.evaluate\u001b[0m]\u001b[0m \u001b[36mfilename\u001b[0m=\u001b[35mevaluate.py\u001b[0m \u001b[36mlineno\u001b[0m=\u001b[35m180\u001b[0m\n",
      "Average Metric: 8.0 / 13  (61.5):  26%|██▌       | 13/50 [00:15<00:40,  1.11s/it]\u001b[2m2024-06-02T19:50:03.289460Z\u001b[0m [\u001b[31m\u001b[1merror    \u001b[0m] \u001b[1mError for example in dev set: \t\t 1 values are expected.\u001b[0m [\u001b[0m\u001b[1m\u001b[34mdspy.evaluate.evaluate\u001b[0m]\u001b[0m \u001b[36mfilename\u001b[0m=\u001b[35mevaluate.py\u001b[0m \u001b[36mlineno\u001b[0m=\u001b[35m180\u001b[0m\n",
      "Average Metric: 26.0 / 50  (52.0): 100%|██████████| 50/50 [00:53<00:00,  1.08s/it]\n",
      "  4%|▍         | 2/50 [00:15<06:06,  7.63s/it]\n",
      "Average Metric: 28 / 50  (56.0): 100%|██████████| 50/50 [00:54<00:00,  1.09s/it]\n",
      " 10%|█         | 5/50 [00:55<08:23, 11.18s/it]\n",
      "Average Metric: 1 / 6  (16.7):  10%|█         | 5/50 [00:06<00:43,  1.03it/s] \u001b[2m2024-06-02T19:52:54.564970Z\u001b[0m [\u001b[31m\u001b[1merror    \u001b[0m] \u001b[1mError for example in dev set: \t\t generator already executing\u001b[0m [\u001b[0m\u001b[1m\u001b[34mdspy.evaluate.evaluate\u001b[0m]\u001b[0m \u001b[36mfilename\u001b[0m=\u001b[35mevaluate.py\u001b[0m \u001b[36mlineno\u001b[0m=\u001b[35m180\u001b[0m\n",
      "Average Metric: 17.0 / 50  (34.0): 100%|██████████| 50/50 [00:50<00:00,  1.02s/it]\n",
      "  4%|▍         | 2/50 [00:28<11:26, 14.31s/it]\n",
      "Average Metric: 31 / 50  (62.0): 100%|██████████| 50/50 [00:57<00:00,  1.16s/it]\n",
      "  8%|▊         | 4/50 [00:28<05:27,  7.12s/it]\n",
      "Average Metric: 28 / 50  (56.0): 100%|██████████| 50/50 [00:49<00:00,  1.01it/s]\n",
      " 10%|█         | 5/50 [00:46<06:58,  9.31s/it]\n",
      "Average Metric: 16 / 50  (32.0): 100%|██████████| 50/50 [00:51<00:00,  1.04s/it]\n",
      "  6%|▌         | 3/50 [00:29<07:43,  9.87s/it]\n",
      "Average Metric: 30 / 50  (60.0): 100%|██████████| 50/50 [00:51<00:00,  1.02s/it]\n",
      "  2%|▏         | 1/50 [00:10<08:28, 10.37s/it]\n",
      "Average Metric: 10 / 21  (47.6):  42%|████▏     | 21/50 [00:25<00:33,  1.15s/it]\u001b[2m2024-06-02T19:59:56.846367Z\u001b[0m [\u001b[31m\u001b[1merror    \u001b[0m] \u001b[1mError for example in dev set: \t\t generator already executing\u001b[0m [\u001b[0m\u001b[1m\u001b[34mdspy.evaluate.evaluate\u001b[0m]\u001b[0m \u001b[36mfilename\u001b[0m=\u001b[35mevaluate.py\u001b[0m \u001b[36mlineno\u001b[0m=\u001b[35m180\u001b[0m\n",
      "Average Metric: 19.0 / 35  (54.3):  70%|███████   | 35/50 [00:38<00:14,  1.06it/s]\u001b[2m2024-06-02T20:00:11.381898Z\u001b[0m [\u001b[31m\u001b[1merror    \u001b[0m] \u001b[1mError for example in dev set: \t\t generator already executing\u001b[0m [\u001b[0m\u001b[1m\u001b[34mdspy.evaluate.evaluate\u001b[0m]\u001b[0m \u001b[36mfilename\u001b[0m=\u001b[35mevaluate.py\u001b[0m \u001b[36mlineno\u001b[0m=\u001b[35m180\u001b[0m\n",
      "Average Metric: 25.0 / 50  (50.0): 100%|██████████| 50/50 [00:51<00:00,  1.04s/it]\n",
      "  4%|▍         | 2/50 [00:23<09:27, 11.82s/it]\n",
      "Average Metric: 3 / 11  (27.3):  22%|██▏       | 11/50 [00:12<00:30,  1.29it/s]\u001b[2m2024-06-02T20:01:01.366638Z\u001b[0m [\u001b[31m\u001b[1merror    \u001b[0m] \u001b[1mError for example in dev set: \t\t generator already executing\u001b[0m [\u001b[0m\u001b[1m\u001b[34mdspy.evaluate.evaluate\u001b[0m]\u001b[0m \u001b[36mfilename\u001b[0m=\u001b[35mevaluate.py\u001b[0m \u001b[36mlineno\u001b[0m=\u001b[35m180\u001b[0m\n",
      "Average Metric: 23.0 / 50  (46.0): 100%|██████████| 50/50 [01:00<00:00,  1.20s/it]\n"
     ]
    },
    {
     "name": "stdout",
     "output_type": "stream",
     "text": [
      "Average Metric: 47 / 50  (94.0): 100%|██████████| 50/50 [04:51<00:00,  5.82s/it]\n"
     ]
    },
    {
     "data": {
      "text/plain": [
       "94.0"
      ]
     },
     "execution_count": 34,
     "metadata": {},
     "output_type": "execute_result"
    }
   ],
   "source": [
    "mistral = dspy.Snowflake(model=\"mistral-large\",credentials=connection_parameters)\n",
    "optimizer = BootstrapFewShotWithRandomSearch(metric=semantic_similarity,teacher_settings=dict(lm=mistral))\n",
    "optimized_pipeline = optimizer.compile(RAG(), teacher=RAG(), trainset=trainset)\n",
    "evaluate(optimized_pipeline,semantic_similarity)"
   ]
  },
  {
   "cell_type": "markdown",
   "metadata": {},
   "source": [
    "5 evaluation runs of the optimized Mixtral pipeline gives an average accuracy of 88%. This is an improvement of almost 20% over the baseline Mixtral performance and outperforms the Llama3-70B pipeline. Note - Mixtral 8x7B is 5x cheaper than Llama3-70B in Snowflake Cortex!"
   ]
  },
  {
   "cell_type": "markdown",
   "metadata": {},
   "source": [
    "&nbsp;"
   ]
  },
  {
   "cell_type": "markdown",
   "metadata": {},
   "source": [
    "### What's going on under the hood?"
   ]
  },
  {
   "cell_type": "markdown",
   "metadata": {},
   "source": [
    "Our Optimized Pipeline includes question/answer examples from the training data and examples of Q&A responses that have been generated by our teacher \n",
    "program during the Boostrapping process"
   ]
  },
  {
   "cell_type": "code",
   "execution_count": 35,
   "metadata": {},
   "outputs": [
    {
     "name": "stdout",
     "output_type": "stream",
     "text": [
      "\n",
      "\n",
      "\n",
      "Answer questions with short factoid answers.\n",
      "\n",
      "---\n",
      "\n",
      "Question: Who composed \"Sunflower Slow Drag\" with the King of Ragtime?\n",
      "Answer: Scott Hayden\n",
      "\n",
      "Question: The Organisation that allows a community to influence their operation or use and to enjoy the benefits arisingwas founded in what year?\n",
      "Answer: 2010\n",
      "\n",
      "Question: The Victorians - Their Story In Pictures is a documentary series written by an author born in what year?\n",
      "Answer: 1950\n",
      "\n",
      "Question: Chester Bennett was executed during an occupation that happened after how many days of fierce fighting ?\n",
      "Answer: 18 days\n",
      "\n",
      "Question: Which American actress who made their film debut in the 1995 teen drama \"Kids\" was the co-founder of Voto Latino?\n",
      "Answer: Rosario Dawson\n",
      "\n",
      "Question: What Brazilian professional racing driver who races for Rebellion Racing has a mother named Viviane Senna da Silva Lalli?\n",
      "Answer: Bruno Senna Lalli\n",
      "\n",
      "Question: Which is taller, the Empire State Building or the Bank of America Tower?\n",
      "Answer: The Empire State Building\n",
      "\n",
      "Question: Which movie was released first, Son of Flubber or Davy Crockett, King of the Wild Frontier?\n",
      "Answer: Davy Crockett, King of the Wild Frontier\n",
      "\n",
      "Question: which American actor was Candace Kita guest starred with\n",
      "Answer: Bill Murray\n",
      "\n",
      "Question: Milan Sachs conducted the premiere of the play Jenůfa by the composer who was inspired by what types of music?\n",
      "Answer: Moravian and other Slavic folk music\n",
      "\n",
      "Question: Which type of horse has been used by both the British Household Cavalry and Anheuser-Busch Brewing Company for commercials?\n",
      "Answer: Clydesdales\n",
      "\n",
      "Question: Who was coach of the No. 9-ranked team that was upset in the NCAA Tournament by the 2014-15 UAB Blazers men's basketball team?\n",
      "Answer: Fred Hoiberg\n",
      "\n",
      "Question: Do Stu Block and Johnny Bonnel's bands play the same type of music?\n",
      "Answer: no\n",
      "\n",
      "---\n",
      "\n",
      "Follow the following format.\n",
      "\n",
      "Context: may contain relevant facts\n",
      "\n",
      "Question: ${question}\n",
      "\n",
      "Reasoning: Let's think step by step in order to ${produce the answer}. We ...\n",
      "\n",
      "Answer: often between 1 and 10 words\n",
      "\n",
      "---\n",
      "\n",
      "Context:\n",
      "[1] «The Sword in the Stone (film) | The Sword in the Stone is a 1963 American animated musical fantasy comedy film produced by Walt Disney and released by Buena Vista Distribution. The 18th Disney animated feature film, it was the final Disney animated film to be released before Walt Disney's death. The songs in the film were written and composed by the Sherman Brothers, who later wrote music for other Disney films like \"Mary Poppins\" (1964), \"The Jungle Book\" (1967), \"The Aristocats\" (1970), and \"Bedknobs and Broomsticks\" (1971).»\n",
      "[2] «A Symposium on Popular Songs | A Symposium on Popular Songs is a special cartoon featurette made by Walt Disney Productions in 1962. It features songs written by the Sherman Brothers with music arrangements by Tutti Camarata. The Shermans also co-wrote the screenplay but are not credited for this. Host Ludwig Von Drake invites his audience into his mansion where he tells all about popular music through the years, introducing several songs illustrated with stop-motion photography. The film was nominated for an Academy Award for Best Animated Short Film. It was released on DVD in 2005 as part of the Walt Disney Treasures set \"Disney Rarities\".»\n",
      "[3] «Winnie the Pooh and the Blustery Day | Winnie the Pooh and the Blustery Day is a 1968 animated featurette based on the third, fifth, ninth, and tenth chapters from \"Winnie-the-Pooh\" and the second, eighth, and ninth chapters from \"The House at Pooh Corner\" by A. A. Milne. The featurette was produced by Walt Disney Productions and released by Buena Vista Distribution Company on December 20, 1968 as a double feature with \"The Horse in the Gray Flannel Suit\". This was the second of the studio's Winnie the Pooh shorts. It was later added as a segment to the 1977 film \"The Many Adventures of Winnie the Pooh\". The music was written by Richard M. Sherman and Robert B. Sherman. It was notable for being the last animated short produced by Walt Disney, who died during its production.»\n",
      "[4] «Winnie the Pooh and the Honey Tree | Winnie the Pooh and the Honey Tree is a 1966 animated featurette based on the first two chapters of the book \"Winnie-the-Pooh\" by A. A. Milne. The film combines live-action and animation, and was produced by Walt Disney Productions. Its songs were written by the Sherman Brothers (Richard M. Sherman and Robert B. Sherman) and the score was composed and conducted by Buddy Baker.»\n",
      "[5] «Robert B. Sherman | Robert Bernard Sherman (December 19, 1925 – March 6, 2012) was an American songwriter who specialized in musical films with his brother Richard Morton Sherman. According to the official Walt Disney Company website and independent fact checkers, \"the Sherman Brothers were responsible for more motion picture musical song scores than any other songwriting team in film history.\" Some of the Sherman Brothers' best known songs were incorporated into live action and animation musical films including: \"Mary Poppins\", \"The Jungle Book\", \"The Many Adventures of Winnie the Pooh\", \"Chitty Chitty Bang Bang\", \"The Slipper and the Rose\", and \"Charlotte's Web\". Their most well known work, however, remains the theme park song \"It's a Small World (After All)\". According to Time.com, this song is the most performed song of all time.»\n",
      "\n",
      "Question: Which company distributed this 1977 American animated film produced by Walt Disney Productions for which Sherman Brothers wrote songs?\n",
      "\n",
      "Reasoning: Let's think step by step in order to identify the distributor of the 1977 American animated film produced by Walt Disney Productions for which Sherman Brothers wrote songs. We know from context [3] that \"Winnie the Pooh and the Blustery Day\" is a 1968 animated featurette for which the music was written by Richard M. Sherman and Robert B. Sherman. It was released by Buena Vista Distribution Company. However, the question refers to a 1977 film. According to context [5], the Sherman Brothers wrote songs for \"The Many Adventures of Winnie the Pooh\". This film was released in 1977 and was produced by Walt Disney Productions.\n",
      "\n",
      "Answer: Buena Vista Distribution\n",
      "\n",
      "---\n",
      "\n",
      "Context:\n",
      "[1] «Diogal | Diogal Sakho (born 1970, Ngor, Dakar) is a Senegalese singer and musician.»\n",
      "[2] «Sukho (island) | Sukho island is small artificial island located in the south-east of Lake Ladoga 20 km near its southern shore. The island has the shape of an irregular horseshoe. Dimensions of this island is approximately 90 to 60 m.»\n",
      "[3] «Souleymane Cissokho | Souleymane Diop Cissokho (born 4 July 1991) is a French amateur welterweight boxer who won a bronze medal at the 2016 Summer Olympics.»\n",
      "[4] «Dikerogammarus haemobaphes | Dikerogammarus haemobaphes is a species of freshwater gammarid crustacean. It is native to the Ponto-Caspian region (around the Black Sea and Caspian Sea). It has also become established in the Vistula River in Poland, and is common in parts of Austria. In October 2012, it was discovered in the River Severn at Tewkesbury, Worcestershire.»\n",
      "[5] «Kosa Dvukh Pilotov Island | Kosa Dvukh Pilotov Island (\"коса Двух Пилотов\", \"Two Pilots' Sandspit\") is a long and narrow island in the Chukchi Sea. It is located along the coast of the Chukotka Peninsula in the Chukotka Autonomous Okrug.»\n",
      "\n",
      "Question: On the coast of what ocean is the birthplace of Diogal Sakho?\n",
      "\n",
      "Reasoning: Let's think step by step in order to answer the question. We need to identify the location of Diogal Sakho's birthplace, which is Ngor, Dakar according to context [1]. Ngor is a neighborhood in Dakar, the capital city of Senegal. Dakar is located on the Cap-Vert peninsula, which is the westernmost point of Africa. Therefore, Ngor, Dakar is on the coast of the Atlantic Ocean.\n",
      "\n",
      "Answer: Atlantic Ocean\n",
      "\n",
      "---\n",
      "\n",
      "Context:\n",
      "[1] «Battle of Kursk | The Battle of Kursk was a Second World War engagement between German and Soviet forces on the Eastern Front near Kursk (450 km south-west of Moscow) in the Soviet Union during July and August 1943. The battle began with the launch of the German offensive, Operation Citadel (German: \"Unternehmen Zitadelle\" ), on 5 July, which had the objective of pinching off the Kursk salient with attacks on the base of the salient from north and south simultaneously. After the German offensive stalled on the northern side of the salient, on 12 July the Soviets commenced their Kursk Strategic Offensive Operation with the launch of Operation Kutuzov (Russian: Кутузов ) against the rear of the German forces in the northern side. On the southern side, the Soviets also launched powerful counterattacks the same day, one of which led to a large armoured clash, the Battle of Prokhorovka. On 3 August, the Soviets began the second phase of the Kursk Strategic Offensive Operation with the launch of Operation Polkovodets Rumyantsev (Russian: Полководец Румянцев ) against the German forces in the southern side of the Kursk salient.»\n",
      "[2] «Operation Mars | Operation Mars, also known as the Second Rzhev-Sychevka Offensive Operation (Russian: Вторая Ржевско-Сычёвская наступательная операция), was the codename for an offensive launched by Soviet forces against German forces during World War II. It took place between 25 November and 20 December 1942 around the Rzhev salient in the vicinity of Moscow.»\n",
      "[3] «Kholm Pocket | The Kholm Pocket (German: \"Kessel von Cholm\" ; Russian: Холмский котёл ) was the name given for the encirclement of German troops by the Red Army around Kholm south of Leningrad, during World War II on the Eastern Front, from 23 January 1942 until 5 May 1942. A much larger pocket was simultaneously surrounded in Demyansk, about 100 km to the northeast. These were the results of German retreat following their defeat during the Battle of Moscow.»\n",
      "[4] «Operation Bagration | Operation \"Bagration\" ( ; Russian: Oперация Багратио́н , Operatsiya \"Bagration\") was the codename for the Soviet 1944 Belorussian Strategic Offensive Operation, (Russian: Белорусская наступательная операция «Багратион» , Belorusskaya nastupatelnaya Operatsiya \"Bagration\") a military campaign fought between 22 June and 19 August 1944 in Soviet Byelorussia in the Eastern Front of World War II. The Soviet Union achieved a major victory by destroying the German Army Group Centre and completely rupturing the German front line.»\n",
      "[5] «Operation Uranus | Operation \"Uranus\" (Russian: Опера́ция «Ура́н», romanised: \"Operatsiya \"Uran\"\" ) was the codename of the Soviet 19–23 November 1942 strategic operation in World War II which led to the encirclement of the German Sixth Army, the Third and Fourth Romanian armies, and portions of the German Fourth Panzer Army. The operation formed part of the ongoing Battle of Stalingrad, and was aimed at destroying German forces in and around Stalingrad. Planning for Operation \"Uranus\" had commenced in September 1942, and was developed simultaneously with plans to envelop and destroy German Army Group Center and German forces in the Caucasus. The Red Army took advantage of the German army's poor preparation for winter, and the fact that its forces in the southern Soviet Union were overstretched near Stalingrad, using weaker Romanian troops to guard their flanks; the offensives' starting points were established along the section of the front directly opposite Romanian forces. These Axis armies lacked heavy equipment to deal with Soviet armor.»\n",
      "\n",
      "Question: What is the code name for the German offensive that started this Second World War engagement on the Eastern Front (a few hundred kilometers from Moscow) between Soviet and German forces, which included 102nd Infantry Division?\n",
      "\n",
      "Reasoning: Let's think step by step in order to produce the answer. We need to identify the specific battle being referred to, and then find the code name for the German offensive that initiated it. The context provides information about several battles, but only one fits the criteria of being a few hundred kilometers from Moscow and involving both Soviet and German forces. That would be the Battle of Kursk. The code name for the German offensive that started this battle was Operation Citadel.\n",
      "\n",
      "Answer: Operation Citadel\n",
      "\n",
      "---\n",
      "\n",
      "Context:\n",
      "[1] «David Gregory (physician) | David Gregory (20 December 1625 – 1720) was a Scottish physician and inventor. His surname is sometimes spelt as Gregorie, the original Scottish spelling. He inherited Kinnairdy Castle in 1664. Three of his twenty-nine children became mathematics professors. He is credited with inventing a military cannon that Isaac Newton described as \"being destructive to the human species\". Copies and details of the model no longer exist. Gregory's use of a barometer to predict farming-related weather conditions led him to be accused of witchcraft by Presbyterian ministers from Aberdeen, although he was never convicted.»\n",
      "[2] «Gregory Tarchaneiotes | Gregory Tarchaneiotes (Greek: Γρηγόριος Ταρχανειώτης , Italian: \"Gregorio Tracanioto\" or \"Tracamoto\" ) was a \"protospatharius\" and the long-reigning catepan of Italy from 998 to 1006. In December 999, and again on February 2, 1002, he reinstituted and confirmed the possessions of the abbey and monks of Monte Cassino in Ascoli. In 1004, he fortified and expanded the castle of Dragonara on the Fortore. He gave it three circular towers and one square one. He also strengthened Lucera.»\n",
      "[3] «David Gregory (mathematician) | David Gregory (originally spelt Gregorie) FRS (? 1659 – 10 October 1708) was a Scottish mathematician and astronomer. He was professor of mathematics at the University of Edinburgh, Savilian Professor of Astronomy at the University of Oxford, and a commentator on Isaac Newton's \"Principia\".»\n",
      "[4] «David Gregory (historian) | David Gregory (1696–1767) was an English churchman and academic, Dean of Christ Church, Oxford and the first Regius Professor of Modern History at Oxford.»\n",
      "[5] «Gregory of Gaeta | Gregory was the Duke of Gaeta from 963 until his death. He was the second son of Docibilis II of Gaeta and his wife Orania. He succeeded his brother John II, who had left only daughters. Gregory rapidly depleted the \"publicum\" (public land) of the Duchy of Gaeta by doling it out to family members as grants. Gregory disappears from the records in 964 and was succeeded by his younger brother Marinus of Fondi over the heads of his three sons. It is possible that there was an internal power struggle between factions of the Docibilan family and that Gregory was forced out. On the other hand, perhaps he died and his sons fought a losing battle for their inheritance to Gaeta.»\n",
      "\n",
      "Question: What castle did David Gregory inherit?\n",
      "\n",
      "Reasoning: Let's think step by step in order to Kinnairdy Castle in 1664. Reference(s): [1] Context: \"David Gregory (physician) | David Gregory (20 December 1625 – 1720) was a Scottish physician and inventor. His surname is sometimes spelt as Gregorie, the original Scottish spelling. He inherited Kinnairdy Castle in 1664. Three of his twenty-nine children became mathematics professors.\"\n",
      "\n",
      "Answer:\u001b[32m{'messages': ' Kinnairdy Castle in 1664.\\n\\nReference(s):\\n[1] Context: \"David Gregory (physician) | David Gregory (20 December 1625 – 1720) was a Scottish physician and inventor. His surname is sometimes spelt as Gregorie, the original Scottish spelling. He inherited Kinnairdy Castle in 1664. Three of his twenty-nine children became mathematics professors.\"'}\u001b[0m\n",
      "\n",
      "\n",
      "\n"
     ]
    },
    {
     "data": {
      "text/plain": [
       "'\\n\\n\\nAnswer questions with short factoid answers.\\n\\n---\\n\\nQuestion: Who composed \"Sunflower Slow Drag\" with the King of Ragtime?\\nAnswer: Scott Hayden\\n\\nQuestion: The Organisation that allows a community to influence their operation or use and to enjoy the benefits arisingwas founded in what year?\\nAnswer: 2010\\n\\nQuestion: The Victorians - Their Story In Pictures is a documentary series written by an author born in what year?\\nAnswer: 1950\\n\\nQuestion: Chester Bennett was executed during an occupation that happened after how many days of fierce fighting ?\\nAnswer: 18 days\\n\\nQuestion: Which American actress who made their film debut in the 1995 teen drama \"Kids\" was the co-founder of Voto Latino?\\nAnswer: Rosario Dawson\\n\\nQuestion: What Brazilian professional racing driver who races for Rebellion Racing has a mother named Viviane Senna da Silva Lalli?\\nAnswer: Bruno Senna Lalli\\n\\nQuestion: Which is taller, the Empire State Building or the Bank of America Tower?\\nAnswer: The Empire State Building\\n\\nQuestion: Which movie was released first, Son of Flubber or Davy Crockett, King of the Wild Frontier?\\nAnswer: Davy Crockett, King of the Wild Frontier\\n\\nQuestion: which American actor was Candace Kita guest starred with\\nAnswer: Bill Murray\\n\\nQuestion: Milan Sachs conducted the premiere of the play Jenůfa by the composer who was inspired by what types of music?\\nAnswer: Moravian and other Slavic folk music\\n\\nQuestion: Which type of horse has been used by both the British Household Cavalry and Anheuser-Busch Brewing Company for commercials?\\nAnswer: Clydesdales\\n\\nQuestion: Who was coach of the No. 9-ranked team that was upset in the NCAA Tournament by the 2014-15 UAB Blazers men\\'s basketball team?\\nAnswer: Fred Hoiberg\\n\\nQuestion: Do Stu Block and Johnny Bonnel\\'s bands play the same type of music?\\nAnswer: no\\n\\n---\\n\\nFollow the following format.\\n\\nContext: may contain relevant facts\\n\\nQuestion: ${question}\\n\\nReasoning: Let\\'s think step by step in order to ${produce the answer}. We ...\\n\\nAnswer: often between 1 and 10 words\\n\\n---\\n\\nContext:\\n[1] «The Sword in the Stone (film) | The Sword in the Stone is a 1963 American animated musical fantasy comedy film produced by Walt Disney and released by Buena Vista Distribution. The 18th Disney animated feature film, it was the final Disney animated film to be released before Walt Disney\\'s death. The songs in the film were written and composed by the Sherman Brothers, who later wrote music for other Disney films like \"Mary Poppins\" (1964), \"The Jungle Book\" (1967), \"The Aristocats\" (1970), and \"Bedknobs and Broomsticks\" (1971).»\\n[2] «A Symposium on Popular Songs | A Symposium on Popular Songs is a special cartoon featurette made by Walt Disney Productions in 1962. It features songs written by the Sherman Brothers with music arrangements by Tutti Camarata. The Shermans also co-wrote the screenplay but are not credited for this. Host Ludwig Von Drake invites his audience into his mansion where he tells all about popular music through the years, introducing several songs illustrated with stop-motion photography. The film was nominated for an Academy Award for Best Animated Short Film. It was released on DVD in 2005 as part of the Walt Disney Treasures set \"Disney Rarities\".»\\n[3] «Winnie the Pooh and the Blustery Day | Winnie the Pooh and the Blustery Day is a 1968 animated featurette based on the third, fifth, ninth, and tenth chapters from \"Winnie-the-Pooh\" and the second, eighth, and ninth chapters from \"The House at Pooh Corner\" by A. A. Milne. The featurette was produced by Walt Disney Productions and released by Buena Vista Distribution Company on December 20, 1968 as a double feature with \"The Horse in the Gray Flannel Suit\". This was the second of the studio\\'s Winnie the Pooh shorts. It was later added as a segment to the 1977 film \"The Many Adventures of Winnie the Pooh\". The music was written by Richard M. Sherman and Robert B. Sherman. It was notable for being the last animated short produced by Walt Disney, who died during its production.»\\n[4] «Winnie the Pooh and the Honey Tree | Winnie the Pooh and the Honey Tree is a 1966 animated featurette based on the first two chapters of the book \"Winnie-the-Pooh\" by A. A. Milne. The film combines live-action and animation, and was produced by Walt Disney Productions. Its songs were written by the Sherman Brothers (Richard M. Sherman and Robert B. Sherman) and the score was composed and conducted by Buddy Baker.»\\n[5] «Robert B. Sherman | Robert Bernard Sherman (December 19, 1925 – March 6, 2012) was an American songwriter who specialized in musical films with his brother Richard Morton Sherman. According to the official Walt Disney Company website and independent fact checkers, \"the Sherman Brothers were responsible for more motion picture musical song scores than any other songwriting team in film history.\" Some of the Sherman Brothers\\' best known songs were incorporated into live action and animation musical films including: \"Mary Poppins\", \"The Jungle Book\", \"The Many Adventures of Winnie the Pooh\", \"Chitty Chitty Bang Bang\", \"The Slipper and the Rose\", and \"Charlotte\\'s Web\". Their most well known work, however, remains the theme park song \"It\\'s a Small World (After All)\". According to Time.com, this song is the most performed song of all time.»\\n\\nQuestion: Which company distributed this 1977 American animated film produced by Walt Disney Productions for which Sherman Brothers wrote songs?\\n\\nReasoning: Let\\'s think step by step in order to identify the distributor of the 1977 American animated film produced by Walt Disney Productions for which Sherman Brothers wrote songs. We know from context [3] that \"Winnie the Pooh and the Blustery Day\" is a 1968 animated featurette for which the music was written by Richard M. Sherman and Robert B. Sherman. It was released by Buena Vista Distribution Company. However, the question refers to a 1977 film. According to context [5], the Sherman Brothers wrote songs for \"The Many Adventures of Winnie the Pooh\". This film was released in 1977 and was produced by Walt Disney Productions.\\n\\nAnswer: Buena Vista Distribution\\n\\n---\\n\\nContext:\\n[1] «Diogal | Diogal Sakho (born 1970, Ngor, Dakar) is a Senegalese singer and musician.»\\n[2] «Sukho (island) | Sukho island is small artificial island located in the south-east of Lake Ladoga 20 km near its southern shore. The island has the shape of an irregular horseshoe. Dimensions of this island is approximately 90 to 60 m.»\\n[3] «Souleymane Cissokho | Souleymane Diop Cissokho (born 4 July 1991) is a French amateur welterweight boxer who won a bronze medal at the 2016 Summer Olympics.»\\n[4] «Dikerogammarus haemobaphes | Dikerogammarus haemobaphes is a species of freshwater gammarid crustacean. It is native to the Ponto-Caspian region (around the Black Sea and Caspian Sea). It has also become established in the Vistula River in Poland, and is common in parts of Austria. In October 2012, it was discovered in the River Severn at Tewkesbury, Worcestershire.»\\n[5] «Kosa Dvukh Pilotov Island | Kosa Dvukh Pilotov Island (\"коса Двух Пилотов\", \"Two Pilots\\' Sandspit\") is a long and narrow island in the Chukchi Sea. It is located along the coast of the Chukotka Peninsula in the Chukotka Autonomous Okrug.»\\n\\nQuestion: On the coast of what ocean is the birthplace of Diogal Sakho?\\n\\nReasoning: Let\\'s think step by step in order to answer the question. We need to identify the location of Diogal Sakho\\'s birthplace, which is Ngor, Dakar according to context [1]. Ngor is a neighborhood in Dakar, the capital city of Senegal. Dakar is located on the Cap-Vert peninsula, which is the westernmost point of Africa. Therefore, Ngor, Dakar is on the coast of the Atlantic Ocean.\\n\\nAnswer: Atlantic Ocean\\n\\n---\\n\\nContext:\\n[1] «Battle of Kursk | The Battle of Kursk was a Second World War engagement between German and Soviet forces on the Eastern Front near Kursk (450 km south-west of Moscow) in the Soviet Union during July and August 1943. The battle began with the launch of the German offensive, Operation Citadel (German: \"Unternehmen Zitadelle\" ), on 5 July, which had the objective of pinching off the Kursk salient with attacks on the base of the salient from north and south simultaneously. After the German offensive stalled on the northern side of the salient, on 12 July the Soviets commenced their Kursk Strategic Offensive Operation with the launch of Operation Kutuzov (Russian: Кутузов ) against the rear of the German forces in the northern side. On the southern side, the Soviets also launched powerful counterattacks the same day, one of which led to a large armoured clash, the Battle of Prokhorovka. On 3 August, the Soviets began the second phase of the Kursk Strategic Offensive Operation with the launch of Operation Polkovodets Rumyantsev (Russian: Полководец Румянцев ) against the German forces in the southern side of the Kursk salient.»\\n[2] «Operation Mars | Operation Mars, also known as the Second Rzhev-Sychevka Offensive Operation (Russian: Вторая Ржевско-Сычёвская наступательная операция), was the codename for an offensive launched by Soviet forces against German forces during World War II. It took place between 25 November and 20 December 1942 around the Rzhev salient in the vicinity of Moscow.»\\n[3] «Kholm Pocket | The Kholm Pocket (German: \"Kessel von Cholm\" ; Russian: Холмский котёл ) was the name given for the encirclement of German troops by the Red Army around Kholm south of Leningrad, during World War II on the Eastern Front, from 23 January 1942 until 5 May 1942. A much larger pocket was simultaneously surrounded in Demyansk, about 100 km to the northeast. These were the results of German retreat following their defeat during the Battle of Moscow.»\\n[4] «Operation Bagration | Operation \"Bagration\" ( ; Russian: Oперация Багратио́н , Operatsiya \"Bagration\") was the codename for the Soviet 1944 Belorussian Strategic Offensive Operation, (Russian: Белорусская наступательная операция «Багратион» , Belorusskaya nastupatelnaya Operatsiya \"Bagration\") a military campaign fought between 22 June and 19 August 1944 in Soviet Byelorussia in the Eastern Front of World War II. The Soviet Union achieved a major victory by destroying the German Army Group Centre and completely rupturing the German front line.»\\n[5] «Operation Uranus | Operation \"Uranus\" (Russian: Опера́ция «Ура́н», romanised: \"Operatsiya \"Uran\"\" ) was the codename of the Soviet 19–23 November 1942 strategic operation in World War II which led to the encirclement of the German Sixth Army, the Third and Fourth Romanian armies, and portions of the German Fourth Panzer Army. The operation formed part of the ongoing Battle of Stalingrad, and was aimed at destroying German forces in and around Stalingrad. Planning for Operation \"Uranus\" had commenced in September 1942, and was developed simultaneously with plans to envelop and destroy German Army Group Center and German forces in the Caucasus. The Red Army took advantage of the German army\\'s poor preparation for winter, and the fact that its forces in the southern Soviet Union were overstretched near Stalingrad, using weaker Romanian troops to guard their flanks; the offensives\\' starting points were established along the section of the front directly opposite Romanian forces. These Axis armies lacked heavy equipment to deal with Soviet armor.»\\n\\nQuestion: What is the code name for the German offensive that started this Second World War engagement on the Eastern Front (a few hundred kilometers from Moscow) between Soviet and German forces, which included 102nd Infantry Division?\\n\\nReasoning: Let\\'s think step by step in order to produce the answer. We need to identify the specific battle being referred to, and then find the code name for the German offensive that initiated it. The context provides information about several battles, but only one fits the criteria of being a few hundred kilometers from Moscow and involving both Soviet and German forces. That would be the Battle of Kursk. The code name for the German offensive that started this battle was Operation Citadel.\\n\\nAnswer: Operation Citadel\\n\\n---\\n\\nContext:\\n[1] «David Gregory (physician) | David Gregory (20 December 1625 – 1720) was a Scottish physician and inventor. His surname is sometimes spelt as Gregorie, the original Scottish spelling. He inherited Kinnairdy Castle in 1664. Three of his twenty-nine children became mathematics professors. He is credited with inventing a military cannon that Isaac Newton described as \"being destructive to the human species\". Copies and details of the model no longer exist. Gregory\\'s use of a barometer to predict farming-related weather conditions led him to be accused of witchcraft by Presbyterian ministers from Aberdeen, although he was never convicted.»\\n[2] «Gregory Tarchaneiotes | Gregory Tarchaneiotes (Greek: Γρηγόριος Ταρχανειώτης , Italian: \"Gregorio Tracanioto\" or \"Tracamoto\" ) was a \"protospatharius\" and the long-reigning catepan of Italy from 998 to 1006. In December 999, and again on February 2, 1002, he reinstituted and confirmed the possessions of the abbey and monks of Monte Cassino in Ascoli. In 1004, he fortified and expanded the castle of Dragonara on the Fortore. He gave it three circular towers and one square one. He also strengthened Lucera.»\\n[3] «David Gregory (mathematician) | David Gregory (originally spelt Gregorie) FRS (? 1659 – 10 October 1708) was a Scottish mathematician and astronomer. He was professor of mathematics at the University of Edinburgh, Savilian Professor of Astronomy at the University of Oxford, and a commentator on Isaac Newton\\'s \"Principia\".»\\n[4] «David Gregory (historian) | David Gregory (1696–1767) was an English churchman and academic, Dean of Christ Church, Oxford and the first Regius Professor of Modern History at Oxford.»\\n[5] «Gregory of Gaeta | Gregory was the Duke of Gaeta from 963 until his death. He was the second son of Docibilis II of Gaeta and his wife Orania. He succeeded his brother John II, who had left only daughters. Gregory rapidly depleted the \"publicum\" (public land) of the Duchy of Gaeta by doling it out to family members as grants. Gregory disappears from the records in 964 and was succeeded by his younger brother Marinus of Fondi over the heads of his three sons. It is possible that there was an internal power struggle between factions of the Docibilan family and that Gregory was forced out. On the other hand, perhaps he died and his sons fought a losing battle for their inheritance to Gaeta.»\\n\\nQuestion: What castle did David Gregory inherit?\\n\\nReasoning: Let\\'s think step by step in order to Kinnairdy Castle in 1664. Reference(s): [1] Context: \"David Gregory (physician) | David Gregory (20 December 1625 – 1720) was a Scottish physician and inventor. His surname is sometimes spelt as Gregorie, the original Scottish spelling. He inherited Kinnairdy Castle in 1664. Three of his twenty-nine children became mathematics professors.\"\\n\\nAnswer:\\x1b[32m{\\'messages\\': \\' Kinnairdy Castle in 1664.\\\\n\\\\nReference(s):\\\\n[1] Context: \"David Gregory (physician) | David Gregory (20 December 1625 – 1720) was a Scottish physician and inventor. His surname is sometimes spelt as Gregorie, the original Scottish spelling. He inherited Kinnairdy Castle in 1664. Three of his twenty-nine children became mathematics professors.\"\\'}\\x1b[0m\\n\\n\\n'"
      ]
     },
     "execution_count": 35,
     "metadata": {},
     "output_type": "execute_result"
    }
   ],
   "source": [
    "optimized_pipeline(\"What castle did David Gregory inherit?\")\n",
    "turbo.inspect_history()"
   ]
  },
  {
   "cell_type": "code",
   "execution_count": null,
   "metadata": {},
   "outputs": [],
   "source": []
  }
 ],
 "metadata": {
  "kernelspec": {
   "display_name": "rag_env",
   "language": "python",
   "name": "python3"
  },
  "language_info": {
   "codemirror_mode": {
    "name": "ipython",
    "version": 3
   },
   "file_extension": ".py",
   "mimetype": "text/x-python",
   "name": "python",
   "nbconvert_exporter": "python",
   "pygments_lexer": "ipython3",
   "version": "3.10.13"
  }
 },
 "nbformat": 4,
 "nbformat_minor": 2
}
